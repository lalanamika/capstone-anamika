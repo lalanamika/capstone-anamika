{
 "cells": [
  {
   "cell_type": "markdown",
   "metadata": {},
   "source": [
    "# Preliminary EDA for Capstone - Recipe Recommendation System - Dataset from Food.com"
   ]
  },
  {
   "cell_type": "markdown",
   "metadata": {},
   "source": [
    "# Table of Contents\n",
    "  - [Introduction](#introduction)\n",
    "    - [Dataset](#dataset)\n",
    "    - [Goals](#goals)\n",
    "  - [EDA](#eda)\n",
    "  - [Findings](#findings)\n",
    "  - [Concerns / Questions](#concerns-/-questions)\n"
   ]
  },
  {
   "cell_type": "markdown",
   "metadata": {},
   "source": [
    "## Introduction"
   ]
  },
  {
   "cell_type": "markdown",
   "metadata": {},
   "source": [
    "### Dataset"
   ]
  },
  {
   "cell_type": "markdown",
   "metadata": {},
   "source": [
    "\n",
    "In this notebook, we will be conducting an EDA for the data set downloaded from https://www.kaggle.com/datasets/irkaal/foodcom-recipes-and-reviews. (This has Id = 7 in my [Datasets Shortlist](https://docs.google.com/spreadsheets/d/1ldHpPRw_h2igZUgrDVV3-4N8vYuZXxyOC60sUJlbb7E/))\n",
    "\n",
    "The downloaded folder contains 4 files:  \n",
    "- recipes.csv\n",
    "- reviews.csv\n",
    "- recipes.parquet\n",
    "- reviews.parquet \n",
    "\n",
    "Kaggle.com has the following information on the dataset:\n",
    "\n",
    "*The recipes dataset contains 522,517 recipes from 312 different categories. This dataset provides information about each recipe like cooking times, servings, ingredients, nutrition, instructions, and more.*\n",
    "*The reviews dataset contains 1,401,982 reviews from 271,907 different users. This dataset provides information about the author, rating, review text, and more.*\n",
    "\n",
    "*Content*\n",
    "*The recipes dataset is provided in two different formats:*\n",
    "\n",
    "*recipes.parquet and reviews.parquet are recommended as they preserve the schema of the original data.*\n",
    "*recipes.csv is designed to be parsed in R while reviews.csv does not contain any list-columns so it can be easily parsed.*"
   ]
  },
  {
   "cell_type": "markdown",
   "metadata": {},
   "source": [
    "### Goals"
   ]
  },
  {
   "cell_type": "markdown",
   "metadata": {},
   "source": [
    "1. I intend to use Python and Pandas for my capstone, so we will investigate what R specific things are there in this dataset and see whether we can still use it with Pandas.\n",
    "2. Find out whether the dataset contains the following things:\n",
    "    1. Ingredient lists\n",
    "    2. Calorie info / Nutrition info\n",
    "    3. Serving size\n",
    "    4. Ratings\n",
    "    5. Recipe steps / instructions\n",
    "    6. Quantity of each ingredient\n",
    "3. See cleanliness of data in terms of missing values.\n",
    "4. Check the distribution of relevant variables.\n",
    "5. Create a data dictionary. [TODO]"
   ]
  },
  {
   "cell_type": "markdown",
   "metadata": {},
   "source": [
    "## EDA"
   ]
  },
  {
   "cell_type": "code",
   "execution_count": 1,
   "metadata": {},
   "outputs": [],
   "source": [
    "# import relevant libraries\n",
    "import numpy as np\n",
    "import pandas as pd\n",
    "import matplotlib.pyplot as plt"
   ]
  },
  {
   "cell_type": "code",
   "execution_count": 2,
   "metadata": {},
   "outputs": [
    {
     "data": {
      "text/plain": [
       "'pandas version: 2.1.4'"
      ]
     },
     "execution_count": 2,
     "metadata": {},
     "output_type": "execute_result"
    }
   ],
   "source": [
    "f\"pandas version: {pd.__version__}\""
   ]
  },
  {
   "cell_type": "code",
   "execution_count": 3,
   "metadata": {},
   "outputs": [
    {
     "data": {
      "text/plain": [
       "(522517, 28)"
      ]
     },
     "execution_count": 3,
     "metadata": {},
     "output_type": "execute_result"
    }
   ],
   "source": [
    "# Read recipes.csv into a DataFrame\n",
    "df_recipes = pd.read_csv('data/recipes.csv')\n",
    "df_recipes.shape"
   ]
  },
  {
   "cell_type": "markdown",
   "metadata": {},
   "source": [
    "The recipes DataFrame contains 522517 rows and 28 columns."
   ]
  },
  {
   "cell_type": "code",
   "execution_count": 4,
   "metadata": {},
   "outputs": [
    {
     "data": {
      "text/plain": [
       "Index(['RecipeId', 'Name', 'AuthorId', 'AuthorName', 'CookTime', 'PrepTime',\n",
       "       'TotalTime', 'DatePublished', 'Description', 'Images', 'RecipeCategory',\n",
       "       'Keywords', 'RecipeIngredientQuantities', 'RecipeIngredientParts',\n",
       "       'AggregatedRating', 'ReviewCount', 'Calories', 'FatContent',\n",
       "       'SaturatedFatContent', 'CholesterolContent', 'SodiumContent',\n",
       "       'CarbohydrateContent', 'FiberContent', 'SugarContent', 'ProteinContent',\n",
       "       'RecipeServings', 'RecipeYield', 'RecipeInstructions'],\n",
       "      dtype='object')"
      ]
     },
     "execution_count": 4,
     "metadata": {},
     "output_type": "execute_result"
    }
   ],
   "source": [
    "df_recipes.columns"
   ]
  },
  {
   "cell_type": "markdown",
   "metadata": {},
   "source": [
    "Column names:  \n",
    "      ['RecipeId', 'Name', 'AuthorId', 'AuthorName', 'CookTime', 'PrepTime',\n",
    "       'TotalTime', 'DatePublished', 'Description', 'Images', 'RecipeCategory',\n",
    "       'Keywords', 'RecipeIngredientQuantities', 'RecipeIngredientParts',\n",
    "       'AggregatedRating', 'ReviewCount', 'Calories', 'FatContent',\n",
    "       'SaturatedFatContent', 'CholesterolContent', 'SodiumContent',\n",
    "       'CarbohydrateContent', 'FiberContent', 'SugarContent', 'ProteinContent',\n",
    "       'RecipeServings', 'RecipeYield', 'RecipeInstructions']\n",
    "\n",
    "The following colums look relevant, we will keep an eye on them as we investigate further:\n",
    "\n",
    "'RecipeIngredientQuantities',  \n",
    "'RecipeIngredientParts',  \n",
    "'RecipeServings',  \n",
    "'RecipeInstructions',  \n",
    "'AggregatedRating',  \n",
    "'ReviewCount',  \n",
    "'Calories' and 8 different nutritional information.\n"
   ]
  },
  {
   "cell_type": "code",
   "execution_count": 5,
   "metadata": {},
   "outputs": [
    {
     "data": {
      "text/html": [
       "<div>\n",
       "<style scoped>\n",
       "    .dataframe tbody tr th:only-of-type {\n",
       "        vertical-align: middle;\n",
       "    }\n",
       "\n",
       "    .dataframe tbody tr th {\n",
       "        vertical-align: top;\n",
       "    }\n",
       "\n",
       "    .dataframe thead th {\n",
       "        text-align: right;\n",
       "    }\n",
       "</style>\n",
       "<table border=\"1\" class=\"dataframe\">\n",
       "  <thead>\n",
       "    <tr style=\"text-align: right;\">\n",
       "      <th></th>\n",
       "      <th>31913</th>\n",
       "    </tr>\n",
       "  </thead>\n",
       "  <tbody>\n",
       "    <tr>\n",
       "      <th>RecipeId</th>\n",
       "      <td>35547</td>\n",
       "    </tr>\n",
       "    <tr>\n",
       "      <th>Name</th>\n",
       "      <td>Spinach/Strawberry Salad</td>\n",
       "    </tr>\n",
       "    <tr>\n",
       "      <th>AuthorId</th>\n",
       "      <td>27416</td>\n",
       "    </tr>\n",
       "    <tr>\n",
       "      <th>AuthorName</th>\n",
       "      <td>William Uncle Bill</td>\n",
       "    </tr>\n",
       "    <tr>\n",
       "      <th>CookTime</th>\n",
       "      <td>PT7M</td>\n",
       "    </tr>\n",
       "    <tr>\n",
       "      <th>PrepTime</th>\n",
       "      <td>PT15M</td>\n",
       "    </tr>\n",
       "    <tr>\n",
       "      <th>TotalTime</th>\n",
       "      <td>PT22M</td>\n",
       "    </tr>\n",
       "    <tr>\n",
       "      <th>DatePublished</th>\n",
       "      <td>2002-07-29T19:44:00Z</td>\n",
       "    </tr>\n",
       "    <tr>\n",
       "      <th>Description</th>\n",
       "      <td>An absolutely delightful and tasty salad, espe...</td>\n",
       "    </tr>\n",
       "    <tr>\n",
       "      <th>Images</th>\n",
       "      <td>c(\"https://img.sndimg.com/food/image/upload/w_...</td>\n",
       "    </tr>\n",
       "    <tr>\n",
       "      <th>RecipeCategory</th>\n",
       "      <td>Strawberry</td>\n",
       "    </tr>\n",
       "    <tr>\n",
       "      <th>Keywords</th>\n",
       "      <td>c(\"Berries\", \"Fruit\", \"Vegetable\", \"Low Protei...</td>\n",
       "    </tr>\n",
       "    <tr>\n",
       "      <th>RecipeIngredientQuantities</th>\n",
       "      <td>c(\"8\", \"2\", \"1/2\", \"1/4\", \"1\", \"5\", \"2\", \"2\", ...</td>\n",
       "    </tr>\n",
       "    <tr>\n",
       "      <th>RecipeIngredientParts</th>\n",
       "      <td>c(\"fresh strawberries\", \"granulated sugar\", \"w...</td>\n",
       "    </tr>\n",
       "    <tr>\n",
       "      <th>AggregatedRating</th>\n",
       "      <td>5.0</td>\n",
       "    </tr>\n",
       "    <tr>\n",
       "      <th>ReviewCount</th>\n",
       "      <td>47.0</td>\n",
       "    </tr>\n",
       "    <tr>\n",
       "      <th>Calories</th>\n",
       "      <td>277.9</td>\n",
       "    </tr>\n",
       "    <tr>\n",
       "      <th>FatContent</th>\n",
       "      <td>17.7</td>\n",
       "    </tr>\n",
       "    <tr>\n",
       "      <th>SaturatedFatContent</th>\n",
       "      <td>2.0</td>\n",
       "    </tr>\n",
       "    <tr>\n",
       "      <th>CholesterolContent</th>\n",
       "      <td>0.0</td>\n",
       "    </tr>\n",
       "    <tr>\n",
       "      <th>SodiumContent</th>\n",
       "      <td>238.0</td>\n",
       "    </tr>\n",
       "    <tr>\n",
       "      <th>CarbohydrateContent</th>\n",
       "      <td>28.2</td>\n",
       "    </tr>\n",
       "    <tr>\n",
       "      <th>FiberContent</th>\n",
       "      <td>4.7</td>\n",
       "    </tr>\n",
       "    <tr>\n",
       "      <th>SugarContent</th>\n",
       "      <td>21.0</td>\n",
       "    </tr>\n",
       "    <tr>\n",
       "      <th>ProteinContent</th>\n",
       "      <td>5.4</td>\n",
       "    </tr>\n",
       "    <tr>\n",
       "      <th>RecipeServings</th>\n",
       "      <td>NaN</td>\n",
       "    </tr>\n",
       "    <tr>\n",
       "      <th>RecipeYield</th>\n",
       "      <td>NaN</td>\n",
       "    </tr>\n",
       "    <tr>\n",
       "      <th>RecipeInstructions</th>\n",
       "      <td>c(\"SALAD: Break off root ends and tough stems ...</td>\n",
       "    </tr>\n",
       "  </tbody>\n",
       "</table>\n",
       "</div>"
      ],
      "text/plain": [
       "                                                                        31913\n",
       "RecipeId                                                                35547\n",
       "Name                                                 Spinach/Strawberry Salad\n",
       "AuthorId                                                                27416\n",
       "AuthorName                                                 William Uncle Bill\n",
       "CookTime                                                                 PT7M\n",
       "PrepTime                                                                PT15M\n",
       "TotalTime                                                               PT22M\n",
       "DatePublished                                            2002-07-29T19:44:00Z\n",
       "Description                 An absolutely delightful and tasty salad, espe...\n",
       "Images                      c(\"https://img.sndimg.com/food/image/upload/w_...\n",
       "RecipeCategory                                                     Strawberry\n",
       "Keywords                    c(\"Berries\", \"Fruit\", \"Vegetable\", \"Low Protei...\n",
       "RecipeIngredientQuantities  c(\"8\", \"2\", \"1/2\", \"1/4\", \"1\", \"5\", \"2\", \"2\", ...\n",
       "RecipeIngredientParts       c(\"fresh strawberries\", \"granulated sugar\", \"w...\n",
       "AggregatedRating                                                          5.0\n",
       "ReviewCount                                                              47.0\n",
       "Calories                                                                277.9\n",
       "FatContent                                                               17.7\n",
       "SaturatedFatContent                                                       2.0\n",
       "CholesterolContent                                                        0.0\n",
       "SodiumContent                                                           238.0\n",
       "CarbohydrateContent                                                      28.2\n",
       "FiberContent                                                              4.7\n",
       "SugarContent                                                             21.0\n",
       "ProteinContent                                                            5.4\n",
       "RecipeServings                                                            NaN\n",
       "RecipeYield                                                               NaN\n",
       "RecipeInstructions          c(\"SALAD: Break off root ends and tough stems ..."
      ]
     },
     "execution_count": 5,
     "metadata": {},
     "output_type": "execute_result"
    }
   ],
   "source": [
    "# Sample 1 row from the dataset\n",
    "df_recipes.sample(1).T"
   ]
  },
  {
   "cell_type": "code",
   "execution_count": 7,
   "metadata": {},
   "outputs": [
    {
     "data": {
      "text/plain": [
       "RecipeId                      522517\n",
       "Name                          438188\n",
       "AuthorId                       57178\n",
       "AuthorName                     56793\n",
       "CookTime                         490\n",
       "PrepTime                         318\n",
       "TotalTime                       1240\n",
       "DatePublished                 245540\n",
       "Description                   492838\n",
       "Images                        165889\n",
       "RecipeCategory                   311\n",
       "Keywords                      216569\n",
       "RecipeIngredientQuantities    459571\n",
       "RecipeIngredientParts         497120\n",
       "AggregatedRating                   9\n",
       "ReviewCount                      420\n",
       "Calories                       30138\n",
       "FatContent                      4523\n",
       "SaturatedFatContent             2533\n",
       "CholesterolContent              9803\n",
       "SodiumContent                  40455\n",
       "CarbohydrateContent             8102\n",
       "FiberContent                    1067\n",
       "SugarContent                    6008\n",
       "ProteinContent                  2581\n",
       "RecipeServings                   171\n",
       "RecipeYield                    34043\n",
       "RecipeInstructions            519993\n",
       "dtype: int64"
      ]
     },
     "execution_count": 7,
     "metadata": {},
     "output_type": "execute_result"
    }
   ],
   "source": [
    "# Check the number of unique values for the columns\n",
    "df_recipes.nunique()"
   ]
  },
  {
   "cell_type": "markdown",
   "metadata": {},
   "source": [
    "**Note** Looking at the number of unique values per column, we can see that `AggregatedRating` has 9 unique values over the dataset."
   ]
  },
  {
   "cell_type": "markdown",
   "metadata": {},
   "source": [
    "Let's look at some recipes in detail to see how the values look."
   ]
  },
  {
   "cell_type": "code",
   "execution_count": 8,
   "metadata": {},
   "outputs": [
    {
     "data": {
      "text/plain": [
       "array(['Frozen Desserts', 'Chicken Breast', 'Beverages', 'Soy/Tofu',\n",
       "       'Vegetable', 'Pie', 'Chicken', 'Dessert', 'Southwestern U.S.',\n",
       "       'Sauces', 'Stew', 'Black Beans', '< 60 Mins', 'Lactose Free',\n",
       "       'Weeknight', 'Yeast Breads', 'Whole Chicken', 'High Protein',\n",
       "       'Cheesecake', 'Free Of...', 'High In...', 'Brazilian', 'Breakfast',\n",
       "       'Breads', 'Bar Cookie', 'Brown Rice', 'Oranges', 'Pork',\n",
       "       'Low Protein', 'Asian', 'Potato', 'Cheese', 'Halibut', 'Meat',\n",
       "       'Lamb/Sheep', 'Very Low Carbs', 'Spaghetti', 'Scones',\n",
       "       'Drop Cookies', 'Lunch/Snacks', 'Beans', 'Punch Beverage',\n",
       "       'Pineapple', 'Low Cholesterol', '< 30 Mins', 'Quick Breads',\n",
       "       'Sourdough Breads', 'Curries', 'Chicken Livers', 'Coconut',\n",
       "       'Savory Pies', 'Poultry', 'Steak', 'Healthy', 'Lobster', 'Rice',\n",
       "       'Apple', 'Broil/Grill', 'Spreads', 'Crab', 'Jellies', 'Pears',\n",
       "       'Chowders', 'Cauliflower', 'Candy', 'Chutneys', 'White Rice',\n",
       "       'Tex Mex', 'Bass', 'German', 'Fruit', 'European', 'Smoothies',\n",
       "       'Hungarian', 'Manicotti', 'Onions', 'New Zealand',\n",
       "       'Chicken Thigh & Leg', 'Indonesian', 'Greek', 'Corn', 'Lentil',\n",
       "       'Summer', 'Long Grain Rice', 'Southwest Asia (middle East)',\n",
       "       'Spanish', 'Dutch', 'Gelatin', 'Tuna', 'Citrus', 'Berries',\n",
       "       'Peppers', 'Salad Dressings', 'Clear Soup', 'Mexican',\n",
       "       'Raspberries', 'Crawfish', 'Beef Organ Meats', 'Strawberry',\n",
       "       'Shakes', 'Short Grain Rice', '< 15 Mins', 'One Dish Meal',\n",
       "       'Spicy', 'Thai', 'Cajun', 'Oven', 'Microwave', 'Russian', 'Melons',\n",
       "       'Swiss', 'Papaya', 'Veal', 'No Cook', '< 4 Hours', nan, 'Roast',\n",
       "       'Potluck', 'Orange Roughy', 'Canadian', 'Caribbean', 'Mussels',\n",
       "       'Medium Grain Rice', 'Japanese', 'Penne', 'Easy', 'Elk',\n",
       "       'Colombian', 'Gumbo', 'Roast Beef', 'Perch', 'Vietnamese',\n",
       "       'Rabbit', 'Christmas', 'Lebanese', 'Turkish', 'Kid Friendly',\n",
       "       'Vegan', 'For Large Groups', 'Whole Turkey', 'Chinese', 'Grains',\n",
       "       'Yam/Sweet Potato', 'Native American', 'Meatloaf', 'Winter',\n",
       "       'Trout', 'African', 'Ham', 'Goose', 'Pasta Shells', 'Stocks',\n",
       "       \"St. Patrick's Day\", 'Meatballs', 'Whole Duck', 'Scandinavian',\n",
       "       'Greens', 'Catfish', 'Dehydrator', 'Duck Breasts', 'Savory',\n",
       "       'Stir Fry', 'Polish', 'Spring', 'Deer', 'Wild Game', 'Pheasant',\n",
       "       'No Shell Fish', 'Collard Greens', 'Tilapia', 'Quail',\n",
       "       'Refrigerator', 'Canning', 'Moroccan', 'Pressure Cooker', 'Squid',\n",
       "       'Korean', 'Plums', 'Danish', 'Creole', 'Mahi Mahi', 'Tarts',\n",
       "       'Spinach', 'Hawaiian', 'Homeopathy/Remedies', 'Austrian',\n",
       "       'Thanksgiving', 'Moose', 'Bath/Beauty', 'Swedish', 'High Fiber',\n",
       "       'Kosher', 'Norwegian', 'Household Cleaner', 'Ethiopian', 'Belgian',\n",
       "       'Australian', 'Pennsylvania Dutch', 'Bear', 'Scottish', 'Tempeh',\n",
       "       'Cuban', 'Turkey Breasts', 'Cantonese', 'Tropical Fruits',\n",
       "       'Peanut Butter', 'Szechuan', 'Portuguese', 'Summer Dip',\n",
       "       'Costa Rican', 'Duck', 'Sweet', 'Nuts', 'Filipino', 'Welsh',\n",
       "       'Camping', 'Pot Pie', 'Polynesian', 'Mango', 'Cherries',\n",
       "       'Egyptian', 'Chard', 'Lime', 'Lemon', 'Brunch', 'Toddler Friendly',\n",
       "       'Kiwifruit', 'Whitefish', 'South American', 'Malaysian', 'Octopus',\n",
       "       'Nigerian', 'Mixer', 'Venezuelan', 'Halloween', 'Stove Top',\n",
       "       'Bread Machine', 'Georgian', 'South African', 'Finnish',\n",
       "       'Deep Fried', 'Beginner Cook', 'Steam', 'Small Appliance',\n",
       "       'Nepalese', 'Palestinian', 'Egg Free', 'Czech', 'Icelandic',\n",
       "       'Dairy Free Foods', 'Hunan', 'Avocado', 'Iraqi', 'Pakistani',\n",
       "       'Chocolate Chip Cookies', 'Chilean', 'Puerto Rican', 'Ecuadorean',\n",
       "       'Oysters', 'Inexpensive', 'Hanukkah', 'Breakfast Eggs',\n",
       "       'Cambodian', 'Honduran', 'Sudanese', 'Mongolian', 'Peruvian',\n",
       "       'Peanut Butter Pie', 'Ham And Bean Soup', 'Bread Pudding',\n",
       "       'Fish Tuna', 'Margarita', 'Bean Soup', 'Turkey Gravy',\n",
       "       'Spaghetti Sauce', 'Freezer', 'Lemon Cake', 'Buttermilk Biscuits',\n",
       "       'Black Bean Soup', 'Gluten Free Appetizers', 'Somalian',\n",
       "       'Ice Cream', 'Fish Salmon', 'Snacks Sweet', 'Main Dish Casseroles',\n",
       "       'Pot Roast', 'Potato Soup', 'Broccoli Soup', 'Apple Pie',\n",
       "       'Oatmeal', 'Soups Crock Pot', 'Roast Beef Crock Pot',\n",
       "       'From Scratch', 'Artichoke', 'Key Lime Pie', 'Chicken Crock Pot',\n",
       "       'Wheat Bread', 'Mushroom Soup', 'Indian', 'Breakfast Casseroles',\n",
       "       'Grapes', 'Macaroni And Cheese', 'Mashed Potatoes',\n",
       "       'Desserts Fruit', 'Birthday', 'Pumpkin', 'Baking', 'Beef Liver',\n",
       "       'Memorial Day', 'Guatemalan', 'Coconut Cream Pie', 'Labor Day'],\n",
       "      dtype=object)"
      ]
     },
     "execution_count": 8,
     "metadata": {},
     "output_type": "execute_result"
    }
   ],
   "source": [
    "# See the various categories\n",
    "df_recipes[\"RecipeCategory\"].unique()"
   ]
  },
  {
   "cell_type": "code",
   "execution_count": null,
   "metadata": {},
   "outputs": [],
   "source": [
    "sel = df_recipes['RecipeCategory'] == 'Chicken'\n",
    "df_recipes.loc[sel,:]"
   ]
  },
  {
   "cell_type": "code",
   "execution_count": null,
   "metadata": {},
   "outputs": [],
   "source": [
    "# chicken lasagna recipe id 112, gluten free chicken nuggets - 541328\n",
    "condition = df_recipes['RecipeId'] == 112\n",
    "df_recipes.loc[condition,:].T"
   ]
  },
  {
   "cell_type": "code",
   "execution_count": null,
   "metadata": {},
   "outputs": [],
   "source": [
    "# In ingredient quantities, there is no unit of ingredient\n",
    "df_recipes.loc[condition,['Description','RecipeIngredientQuantities','RecipeIngredientParts','RecipeInstructions']].values"
   ]
  },
  {
   "cell_type": "code",
   "execution_count": null,
   "metadata": {},
   "outputs": [],
   "source": [
    "# how about GF chicken nuggets\n",
    "condition = df_recipes['RecipeId'] == 541328\n",
    "df_recipes.loc[condition,['Description','RecipeIngredientQuantities','RecipeIngredientParts','RecipeInstructions']].values"
   ]
  },
  {
   "cell_type": "markdown",
   "metadata": {},
   "source": [
    "array([['Make and share this Gluten Free Chicken Nuggets recipe from Food.com.',  \n",
    "        'c(\"2\", \"2\", \"1/2\", \"1\", \"1\", \"1/2\", \"1/4\", \"1/2\")',  \n",
    "        'c(\"boneless skinless chicken\", \"onion powder\", \"garlic powder\", \"salt\", \"pepper\", \"mayonnaise\")',  \n",
    "        'c(\"Preheat oven to 400°.\", \"Cut chicken in nugget sized pieces.\", \"Add all dry ingredients into a large Ziploc bag and crush until smooth.\", \"Place mayonnaise (egg wash   could be used here as well) in a bowl.\", \"Dredge chicken through the mayonnaise until thinly coated and place into Ziploc.\", \"Shake coating over chicken and place on a   parchment lined cookie sheet.\", \"Bake until cooked through and golden brown, around 20 minutes.\")']],  \n",
    "      dtype=object)"
   ]
  },
  {
   "cell_type": "code",
   "execution_count": 12,
   "metadata": {},
   "outputs": [
    {
     "data": {
      "text/plain": [
       "array([[541328, 'Gluten Free Chicken Nuggets', 37092, 'Jenny', 'PT20M',\n",
       "        'PT10M', 'PT30M', '2020-12-07T19:03:00Z',\n",
       "        'Make and share this Gluten Free Chicken Nuggets recipe from Food.com.',\n",
       "        '\"https://img.sndimg.com/food/image/upload/w_555,h_416,c_fit,fl_progressive,q_95/v1/img/submissions/recipe/37092/HuafE1TnThqvJZN7xapK_114059F9-A4B2-45DF-A7AE-FE402E6F17DE.jpeg\"',\n",
       "        'Chicken',\n",
       "        'c(\"Poultry\", \"Meat\", \"Kid Friendly\", \"Free Of...\", \"< 30 Mins\", \"Easy\")',\n",
       "        'c(\"2\", \"2\", \"1/2\", \"1\", \"1\", \"1/2\", \"1/4\", \"1/2\")',\n",
       "        'c(\"boneless skinless chicken\", \"onion powder\", \"garlic powder\", \"salt\", \"pepper\", \"mayonnaise\")',\n",
       "        nan, nan, 399.9, 15.0, 2.3, 145.6, 686.8, 13.8, 1.3, 0.1, 50.2,\n",
       "        4.0, nan,\n",
       "        'c(\"Preheat oven to 400°.\", \"Cut chicken in nugget sized pieces.\", \"Add all dry ingredients into a large Ziploc bag and crush until smooth.\", \"Place mayonnaise (egg wash could be used here as well) in a bowl.\", \"Dredge chicken through the mayonnaise until thinly coated and place into Ziploc.\", \"Shake coating over chicken and place on a parchment lined cookie sheet.\", \"Bake until cooked through and golden brown, around 20 minutes.\")']],\n",
       "      dtype=object)"
      ]
     },
     "execution_count": 12,
     "metadata": {},
     "output_type": "execute_result"
    }
   ],
   "source": [
    "df_recipes.loc[condition,:].values"
   ]
  },
  {
   "cell_type": "markdown",
   "metadata": {},
   "source": [
    "**Note** \n",
    "`Description` contains superficial information and is not a necessary column for me.  \n",
    "`RecipeIngredientQuantities` - does not have units of measurement in it, and it is not present in any other column.\n"
   ]
  },
  {
   "cell_type": "markdown",
   "metadata": {},
   "source": [
    "Let's check for duplicates"
   ]
  },
  {
   "cell_type": "code",
   "execution_count": null,
   "metadata": {},
   "outputs": [],
   "source": [
    "# check for duplicates\n",
    "df_recipes.duplicated().sum()  # no duplicate rows"
   ]
  },
  {
   "cell_type": "markdown",
   "metadata": {},
   "source": [
    "There are no duplicate rows in the dataset."
   ]
  },
  {
   "cell_type": "markdown",
   "metadata": {},
   "source": [
    "Let's check for missing values"
   ]
  },
  {
   "cell_type": "code",
   "execution_count": 13,
   "metadata": {},
   "outputs": [
    {
     "data": {
      "text/plain": [
       "RecipeId                           0\n",
       "Name                               0\n",
       "AuthorId                           0\n",
       "AuthorName                         0\n",
       "CookTime                       82545\n",
       "PrepTime                           0\n",
       "TotalTime                          0\n",
       "DatePublished                      0\n",
       "Description                        5\n",
       "Images                             1\n",
       "RecipeCategory                   751\n",
       "Keywords                       17237\n",
       "RecipeIngredientQuantities         3\n",
       "RecipeIngredientParts              0\n",
       "AggregatedRating              253223\n",
       "ReviewCount                   247489\n",
       "Calories                           0\n",
       "FatContent                         0\n",
       "SaturatedFatContent                0\n",
       "CholesterolContent                 0\n",
       "SodiumContent                      0\n",
       "CarbohydrateContent                0\n",
       "FiberContent                       0\n",
       "SugarContent                       0\n",
       "ProteinContent                     0\n",
       "RecipeServings                182911\n",
       "RecipeYield                   348071\n",
       "RecipeInstructions                 0\n",
       "dtype: int64"
      ]
     },
     "execution_count": 13,
     "metadata": {},
     "output_type": "execute_result"
    }
   ],
   "source": [
    "df_recipes.isna().sum()"
   ]
  },
  {
   "cell_type": "markdown",
   "metadata": {},
   "source": [
    "Our columns of interest have many missing values, let's check the percentage of missing values."
   ]
  },
  {
   "cell_type": "code",
   "execution_count": 14,
   "metadata": {},
   "outputs": [
    {
     "data": {
      "text/plain": [
       "RecipeYield                   66.614292\n",
       "AggregatedRating              48.462155\n",
       "ReviewCount                   47.364775\n",
       "RecipeServings                35.005751\n",
       "CookTime                      15.797572\n",
       "Keywords                       3.298840\n",
       "RecipeCategory                 0.143727\n",
       "Description                    0.000957\n",
       "RecipeIngredientQuantities     0.000574\n",
       "Images                         0.000191\n",
       "SaturatedFatContent            0.000000\n",
       "FiberContent                   0.000000\n",
       "SugarContent                   0.000000\n",
       "CarbohydrateContent            0.000000\n",
       "SodiumContent                  0.000000\n",
       "ProteinContent                 0.000000\n",
       "CholesterolContent             0.000000\n",
       "RecipeId                       0.000000\n",
       "FatContent                     0.000000\n",
       "Calories                       0.000000\n",
       "Name                           0.000000\n",
       "RecipeIngredientParts          0.000000\n",
       "DatePublished                  0.000000\n",
       "TotalTime                      0.000000\n",
       "PrepTime                       0.000000\n",
       "AuthorName                     0.000000\n",
       "AuthorId                       0.000000\n",
       "RecipeInstructions             0.000000\n",
       "dtype: float64"
      ]
     },
     "execution_count": 14,
     "metadata": {},
     "output_type": "execute_result"
    }
   ],
   "source": [
    "# Percentage of missing values in each column\n",
    "(df_recipes.isna().sum()/df_recipes.shape[0]*100.0).sort_values(ascending=False)"
   ]
  },
  {
   "cell_type": "markdown",
   "metadata": {},
   "source": [
    "| Column Name      | % missing |\n",
    "|------------------|-----------|\n",
    "| AggregatedRating | 48.462155 |\n",
    "| ReviewCount      | 47.364775 |\n",
    "| RecipeServings   | 35.005751 |"
   ]
  },
  {
   "cell_type": "markdown",
   "metadata": {},
   "source": [
    "We will drop these rows and see how many rows we are left with."
   ]
  },
  {
   "cell_type": "code",
   "execution_count": 15,
   "metadata": {},
   "outputs": [],
   "source": [
    "df_new = df_recipes.dropna(subset=['AggregatedRating','RecipeServings','RecipeIngredientQuantities'])"
   ]
  },
  {
   "cell_type": "code",
   "execution_count": null,
   "metadata": {},
   "outputs": [],
   "source": [
    "df_new.shape"
   ]
  },
  {
   "cell_type": "code",
   "execution_count": null,
   "metadata": {},
   "outputs": [],
   "source": [
    "(df_new.isna().sum()/df_new.shape[0]*100.0).sort_values(ascending=False)"
   ]
  },
  {
   "cell_type": "markdown",
   "metadata": {},
   "source": [
    "**Note**  \n",
    "After dropping rows that have null values for relevant columns, the number of rows reduced from 522,517 to 172,369"
   ]
  },
  {
   "cell_type": "code",
   "execution_count": 16,
   "metadata": {},
   "outputs": [
    {
     "name": "stdout",
     "output_type": "stream",
     "text": [
      "<class 'pandas.core.frame.DataFrame'>\n",
      "Index: 172369 entries, 0 to 522431\n",
      "Data columns (total 28 columns):\n",
      " #   Column                      Non-Null Count   Dtype  \n",
      "---  ------                      --------------   -----  \n",
      " 0   RecipeId                    172369 non-null  int64  \n",
      " 1   Name                        172369 non-null  object \n",
      " 2   AuthorId                    172369 non-null  int64  \n",
      " 3   AuthorName                  172369 non-null  object \n",
      " 4   CookTime                    145515 non-null  object \n",
      " 5   PrepTime                    172369 non-null  object \n",
      " 6   TotalTime                   172369 non-null  object \n",
      " 7   DatePublished               172369 non-null  object \n",
      " 8   Description                 172366 non-null  object \n",
      " 9   Images                      172368 non-null  object \n",
      " 10  RecipeCategory              172214 non-null  object \n",
      " 11  Keywords                    168216 non-null  object \n",
      " 12  RecipeIngredientQuantities  172369 non-null  object \n",
      " 13  RecipeIngredientParts       172369 non-null  object \n",
      " 14  AggregatedRating            172369 non-null  float64\n",
      " 15  ReviewCount                 172369 non-null  float64\n",
      " 16  Calories                    172369 non-null  float64\n",
      " 17  FatContent                  172369 non-null  float64\n",
      " 18  SaturatedFatContent         172369 non-null  float64\n",
      " 19  CholesterolContent          172369 non-null  float64\n",
      " 20  SodiumContent               172369 non-null  float64\n",
      " 21  CarbohydrateContent         172369 non-null  float64\n",
      " 22  FiberContent                172369 non-null  float64\n",
      " 23  SugarContent                172369 non-null  float64\n",
      " 24  ProteinContent              172369 non-null  float64\n",
      " 25  RecipeServings              172369 non-null  float64\n",
      " 26  RecipeYield                 33616 non-null   object \n",
      " 27  RecipeInstructions          172369 non-null  object \n",
      "dtypes: float64(12), int64(2), object(14)\n",
      "memory usage: 38.1+ MB\n"
     ]
    }
   ],
   "source": [
    "df_new.info()"
   ]
  },
  {
   "cell_type": "code",
   "execution_count": 17,
   "metadata": {},
   "outputs": [
    {
     "data": {
      "text/plain": [
       "(array([1.0400e+03, 4.0000e+01, 1.3120e+03, 4.0900e+02, 0.0000e+00,\n",
       "        5.9470e+03, 2.5290e+03, 2.8030e+04, 2.2202e+04, 1.1086e+05]),\n",
       " array([1. , 1.4, 1.8, 2.2, 2.6, 3. , 3.4, 3.8, 4.2, 4.6, 5. ]),\n",
       " <BarContainer object of 10 artists>)"
      ]
     },
     "execution_count": 17,
     "metadata": {},
     "output_type": "execute_result"
    },
    {
     "data": {
      "image/png": "[encoded data removed]",
      "text/plain": [
       "<Figure size 640x480 with 1 Axes>"
      ]
     },
     "metadata": {},
     "output_type": "display_data"
    }
   ],
   "source": [
    "plt.hist(df_new.AggregatedRating)"
   ]
  },
  {
   "cell_type": "code",
   "execution_count": 18,
   "metadata": {},
   "outputs": [
    {
     "data": {
      "text/plain": [
       "3063.0"
      ]
     },
     "execution_count": 18,
     "metadata": {},
     "output_type": "execute_result"
    }
   ],
   "source": [
    "max(df_new.ReviewCount.values)"
   ]
  },
  {
   "cell_type": "code",
   "execution_count": 19,
   "metadata": {},
   "outputs": [
    {
     "data": {
      "text/plain": [
       "array([4.5, 3. , 1. , 5. , 4. , 2. , 3.5, 2.5, 1.5])"
      ]
     },
     "execution_count": 19,
     "metadata": {},
     "output_type": "execute_result"
    }
   ],
   "source": [
    "df_new.AggregatedRating.unique()"
   ]
  },
  {
   "cell_type": "code",
   "execution_count": 20,
   "metadata": {},
   "outputs": [
    {
     "data": {
      "text/plain": [
       "AggregatedRating\n",
       "5.0    0.643155\n",
       "4.0    0.162616\n",
       "4.5    0.128805\n",
       "3.0    0.034502\n",
       "3.5    0.014672\n",
       "2.0    0.007612\n",
       "1.0    0.006034\n",
       "2.5    0.002373\n",
       "1.5    0.000232\n",
       "Name: proportion, dtype: float64"
      ]
     },
     "execution_count": 20,
     "metadata": {},
     "output_type": "execute_result"
    }
   ],
   "source": [
    "df_new.AggregatedRating.value_counts(normalize=True)"
   ]
  },
  {
   "cell_type": "markdown",
   "metadata": {},
   "source": [
    "**Note**  \n",
    "64% of data set has 5.0 rating  \n",
    "16% has 4.0 rating  \n",
    "12% gas 4.5 rating  \n",
    "\n",
    "92% of data has rating of 4.0 or more"
   ]
  },
  {
   "cell_type": "code",
   "execution_count": 21,
   "metadata": {},
   "outputs": [
    {
     "data": {
      "text/html": [
       "<div>\n",
       "<style scoped>\n",
       "    .dataframe tbody tr th:only-of-type {\n",
       "        vertical-align: middle;\n",
       "    }\n",
       "\n",
       "    .dataframe tbody tr th {\n",
       "        vertical-align: top;\n",
       "    }\n",
       "\n",
       "    .dataframe thead th {\n",
       "        text-align: right;\n",
       "    }\n",
       "</style>\n",
       "<table border=\"1\" class=\"dataframe\">\n",
       "  <thead>\n",
       "    <tr style=\"text-align: right;\">\n",
       "      <th></th>\n",
       "      <th>count</th>\n",
       "      <th>mean</th>\n",
       "      <th>std</th>\n",
       "      <th>min</th>\n",
       "      <th>25%</th>\n",
       "      <th>50%</th>\n",
       "      <th>75%</th>\n",
       "      <th>max</th>\n",
       "    </tr>\n",
       "  </thead>\n",
       "  <tbody>\n",
       "    <tr>\n",
       "      <th>RecipeId</th>\n",
       "      <td>172369.0</td>\n",
       "      <td>2.240727e+05</td>\n",
       "      <td>1.419172e+05</td>\n",
       "      <td>38.0</td>\n",
       "      <td>102122.0</td>\n",
       "      <td>211865.0</td>\n",
       "      <td>336011.0</td>\n",
       "      <td>5.412980e+05</td>\n",
       "    </tr>\n",
       "    <tr>\n",
       "      <th>AuthorId</th>\n",
       "      <td>172369.0</td>\n",
       "      <td>7.308521e+06</td>\n",
       "      <td>1.154312e+08</td>\n",
       "      <td>27.0</td>\n",
       "      <td>57828.0</td>\n",
       "      <td>185105.0</td>\n",
       "      <td>411832.0</td>\n",
       "      <td>2.002849e+09</td>\n",
       "    </tr>\n",
       "    <tr>\n",
       "      <th>AggregatedRating</th>\n",
       "      <td>172369.0</td>\n",
       "      <td>4.628257e+00</td>\n",
       "      <td>6.405929e-01</td>\n",
       "      <td>1.0</td>\n",
       "      <td>4.5</td>\n",
       "      <td>5.0</td>\n",
       "      <td>5.0</td>\n",
       "      <td>5.000000e+00</td>\n",
       "    </tr>\n",
       "    <tr>\n",
       "      <th>ReviewCount</th>\n",
       "      <td>172369.0</td>\n",
       "      <td>5.153705e+00</td>\n",
       "      <td>2.096123e+01</td>\n",
       "      <td>1.0</td>\n",
       "      <td>1.0</td>\n",
       "      <td>2.0</td>\n",
       "      <td>4.0</td>\n",
       "      <td>3.063000e+03</td>\n",
       "    </tr>\n",
       "    <tr>\n",
       "      <th>Calories</th>\n",
       "      <td>172369.0</td>\n",
       "      <td>3.559746e+02</td>\n",
       "      <td>4.165958e+02</td>\n",
       "      <td>0.0</td>\n",
       "      <td>165.1</td>\n",
       "      <td>285.7</td>\n",
       "      <td>448.6</td>\n",
       "      <td>4.177020e+04</td>\n",
       "    </tr>\n",
       "    <tr>\n",
       "      <th>FatContent</th>\n",
       "      <td>172369.0</td>\n",
       "      <td>1.786116e+01</td>\n",
       "      <td>2.860264e+01</td>\n",
       "      <td>0.0</td>\n",
       "      <td>5.3</td>\n",
       "      <td>12.3</td>\n",
       "      <td>23.1</td>\n",
       "      <td>4.701100e+03</td>\n",
       "    </tr>\n",
       "    <tr>\n",
       "      <th>SaturatedFatContent</th>\n",
       "      <td>172369.0</td>\n",
       "      <td>6.851934e+00</td>\n",
       "      <td>1.101927e+01</td>\n",
       "      <td>0.0</td>\n",
       "      <td>1.3</td>\n",
       "      <td>4.1</td>\n",
       "      <td>9.1</td>\n",
       "      <td>9.921000e+02</td>\n",
       "    </tr>\n",
       "    <tr>\n",
       "      <th>CholesterolContent</th>\n",
       "      <td>172369.0</td>\n",
       "      <td>6.987791e+01</td>\n",
       "      <td>1.086189e+02</td>\n",
       "      <td>0.0</td>\n",
       "      <td>4.3</td>\n",
       "      <td>41.2</td>\n",
       "      <td>97.0</td>\n",
       "      <td>1.182380e+04</td>\n",
       "    </tr>\n",
       "    <tr>\n",
       "      <th>SodiumContent</th>\n",
       "      <td>172369.0</td>\n",
       "      <td>5.656291e+02</td>\n",
       "      <td>2.669656e+03</td>\n",
       "      <td>0.0</td>\n",
       "      <td>122.1</td>\n",
       "      <td>325.9</td>\n",
       "      <td>687.4</td>\n",
       "      <td>7.041296e+05</td>\n",
       "    </tr>\n",
       "    <tr>\n",
       "      <th>CarbohydrateContent</th>\n",
       "      <td>172369.0</td>\n",
       "      <td>3.310239e+01</td>\n",
       "      <td>5.055882e+01</td>\n",
       "      <td>0.0</td>\n",
       "      <td>11.5</td>\n",
       "      <td>25.3</td>\n",
       "      <td>43.6</td>\n",
       "      <td>9.023800e+03</td>\n",
       "    </tr>\n",
       "    <tr>\n",
       "      <th>FiberContent</th>\n",
       "      <td>172369.0</td>\n",
       "      <td>3.048597e+00</td>\n",
       "      <td>4.715710e+00</td>\n",
       "      <td>0.0</td>\n",
       "      <td>0.8</td>\n",
       "      <td>2.0</td>\n",
       "      <td>3.9</td>\n",
       "      <td>8.357000e+02</td>\n",
       "    </tr>\n",
       "    <tr>\n",
       "      <th>SugarContent</th>\n",
       "      <td>172369.0</td>\n",
       "      <td>1.236639e+01</td>\n",
       "      <td>3.459635e+01</td>\n",
       "      <td>0.0</td>\n",
       "      <td>2.2</td>\n",
       "      <td>5.5</td>\n",
       "      <td>14.1</td>\n",
       "      <td>7.565200e+03</td>\n",
       "    </tr>\n",
       "    <tr>\n",
       "      <th>ProteinContent</th>\n",
       "      <td>172369.0</td>\n",
       "      <td>1.580666e+01</td>\n",
       "      <td>2.208819e+01</td>\n",
       "      <td>0.0</td>\n",
       "      <td>3.5</td>\n",
       "      <td>8.8</td>\n",
       "      <td>24.4</td>\n",
       "      <td>3.270300e+03</td>\n",
       "    </tr>\n",
       "    <tr>\n",
       "      <th>RecipeServings</th>\n",
       "      <td>172369.0</td>\n",
       "      <td>8.550888e+00</td>\n",
       "      <td>1.384319e+02</td>\n",
       "      <td>1.0</td>\n",
       "      <td>4.0</td>\n",
       "      <td>6.0</td>\n",
       "      <td>8.0</td>\n",
       "      <td>3.276700e+04</td>\n",
       "    </tr>\n",
       "  </tbody>\n",
       "</table>\n",
       "</div>"
      ],
      "text/plain": [
       "                        count          mean           std   min       25%  \\\n",
       "RecipeId             172369.0  2.240727e+05  1.419172e+05  38.0  102122.0   \n",
       "AuthorId             172369.0  7.308521e+06  1.154312e+08  27.0   57828.0   \n",
       "AggregatedRating     172369.0  4.628257e+00  6.405929e-01   1.0       4.5   \n",
       "ReviewCount          172369.0  5.153705e+00  2.096123e+01   1.0       1.0   \n",
       "Calories             172369.0  3.559746e+02  4.165958e+02   0.0     165.1   \n",
       "FatContent           172369.0  1.786116e+01  2.860264e+01   0.0       5.3   \n",
       "SaturatedFatContent  172369.0  6.851934e+00  1.101927e+01   0.0       1.3   \n",
       "CholesterolContent   172369.0  6.987791e+01  1.086189e+02   0.0       4.3   \n",
       "SodiumContent        172369.0  5.656291e+02  2.669656e+03   0.0     122.1   \n",
       "CarbohydrateContent  172369.0  3.310239e+01  5.055882e+01   0.0      11.5   \n",
       "FiberContent         172369.0  3.048597e+00  4.715710e+00   0.0       0.8   \n",
       "SugarContent         172369.0  1.236639e+01  3.459635e+01   0.0       2.2   \n",
       "ProteinContent       172369.0  1.580666e+01  2.208819e+01   0.0       3.5   \n",
       "RecipeServings       172369.0  8.550888e+00  1.384319e+02   1.0       4.0   \n",
       "\n",
       "                          50%       75%           max  \n",
       "RecipeId             211865.0  336011.0  5.412980e+05  \n",
       "AuthorId             185105.0  411832.0  2.002849e+09  \n",
       "AggregatedRating          5.0       5.0  5.000000e+00  \n",
       "ReviewCount               2.0       4.0  3.063000e+03  \n",
       "Calories                285.7     448.6  4.177020e+04  \n",
       "FatContent               12.3      23.1  4.701100e+03  \n",
       "SaturatedFatContent       4.1       9.1  9.921000e+02  \n",
       "CholesterolContent       41.2      97.0  1.182380e+04  \n",
       "SodiumContent           325.9     687.4  7.041296e+05  \n",
       "CarbohydrateContent      25.3      43.6  9.023800e+03  \n",
       "FiberContent              2.0       3.9  8.357000e+02  \n",
       "SugarContent              5.5      14.1  7.565200e+03  \n",
       "ProteinContent            8.8      24.4  3.270300e+03  \n",
       "RecipeServings            6.0       8.0  3.276700e+04  "
      ]
     },
     "execution_count": 21,
     "metadata": {},
     "output_type": "execute_result"
    }
   ],
   "source": [
    "df_new.describe().T"
   ]
  },
  {
   "cell_type": "markdown",
   "metadata": {},
   "source": [
    "The dataset contains a reviews.csv also, but I don't think it will be used for my capstone because the recipes.csv has an aggregated rating and review count.  \n",
    "Let's look at the reviews.csv to see whether it has any relevant information."
   ]
  },
  {
   "cell_type": "code",
   "execution_count": 22,
   "metadata": {},
   "outputs": [
    {
     "data": {
      "text/plain": [
       "(1401982, 8)"
      ]
     },
     "execution_count": 22,
     "metadata": {},
     "output_type": "execute_result"
    }
   ],
   "source": [
    "# Load the dataset\n",
    "df_user = pd.read_csv(\"data/reviews.csv\")\n",
    "df_user.shape"
   ]
  },
  {
   "cell_type": "markdown",
   "metadata": {},
   "source": [
    "The reviews dataset has 1401982 rows and 8 columns."
   ]
  },
  {
   "cell_type": "code",
   "execution_count": 23,
   "metadata": {},
   "outputs": [
    {
     "data": {
      "text/plain": [
       "Index(['ReviewId', 'RecipeId', 'AuthorId', 'AuthorName', 'Rating', 'Review',\n",
       "       'DateSubmitted', 'DateModified'],\n",
       "      dtype='object')"
      ]
     },
     "execution_count": 23,
     "metadata": {},
     "output_type": "execute_result"
    }
   ],
   "source": [
    "df_user.columns"
   ]
  },
  {
   "cell_type": "markdown",
   "metadata": {},
   "source": [
    "Columns:  \n",
    "\n",
    "['ReviewId', 'RecipeId', 'AuthorId', 'AuthorName', 'Rating', 'Review', 'DateSubmitted', 'DateModified']"
   ]
  },
  {
   "cell_type": "markdown",
   "metadata": {},
   "source": [
    "Let's check for missing values."
   ]
  },
  {
   "cell_type": "code",
   "execution_count": 24,
   "metadata": {},
   "outputs": [
    {
     "data": {
      "text/plain": [
       "ReviewId           0\n",
       "RecipeId           0\n",
       "AuthorId           0\n",
       "AuthorName         0\n",
       "Rating             0\n",
       "Review           214\n",
       "DateSubmitted      0\n",
       "DateModified       0\n",
       "dtype: int64"
      ]
     },
     "execution_count": 24,
     "metadata": {},
     "output_type": "execute_result"
    }
   ],
   "source": [
    "df_user.isna().sum()"
   ]
  },
  {
   "cell_type": "markdown",
   "metadata": {},
   "source": [
    "214 rows do not have a `Review`, but all rows have `Rating`"
   ]
  },
  {
   "cell_type": "code",
   "execution_count": 25,
   "metadata": {},
   "outputs": [
    {
     "data": {
      "text/html": [
       "<div>\n",
       "<style scoped>\n",
       "    .dataframe tbody tr th:only-of-type {\n",
       "        vertical-align: middle;\n",
       "    }\n",
       "\n",
       "    .dataframe tbody tr th {\n",
       "        vertical-align: top;\n",
       "    }\n",
       "\n",
       "    .dataframe thead th {\n",
       "        text-align: right;\n",
       "    }\n",
       "</style>\n",
       "<table border=\"1\" class=\"dataframe\">\n",
       "  <thead>\n",
       "    <tr style=\"text-align: right;\">\n",
       "      <th></th>\n",
       "      <th>ReviewId</th>\n",
       "      <th>RecipeId</th>\n",
       "      <th>AuthorId</th>\n",
       "      <th>AuthorName</th>\n",
       "      <th>Rating</th>\n",
       "      <th>Review</th>\n",
       "      <th>DateSubmitted</th>\n",
       "      <th>DateModified</th>\n",
       "    </tr>\n",
       "  </thead>\n",
       "  <tbody>\n",
       "    <tr>\n",
       "      <th>711494</th>\n",
       "      <td>783716</td>\n",
       "      <td>54127</td>\n",
       "      <td>851405</td>\n",
       "      <td>Cooking Mom of 7</td>\n",
       "      <td>5</td>\n",
       "      <td>This is a great stock for us vegetarians or th...</td>\n",
       "      <td>2009-01-08T16:11:14Z</td>\n",
       "      <td>2009-01-08T16:11:14Z</td>\n",
       "    </tr>\n",
       "  </tbody>\n",
       "</table>\n",
       "</div>"
      ],
      "text/plain": [
       "        ReviewId  RecipeId  AuthorId        AuthorName  Rating  \\\n",
       "711494    783716     54127    851405  Cooking Mom of 7       5   \n",
       "\n",
       "                                                   Review  \\\n",
       "711494  This is a great stock for us vegetarians or th...   \n",
       "\n",
       "               DateSubmitted          DateModified  \n",
       "711494  2009-01-08T16:11:14Z  2009-01-08T16:11:14Z  "
      ]
     },
     "execution_count": 25,
     "metadata": {},
     "output_type": "execute_result"
    }
   ],
   "source": [
    "df_user.sample()"
   ]
  },
  {
   "cell_type": "markdown",
   "metadata": {},
   "source": [
    "At first glance this reviews.csv does not seem relevant to me, but we may revisit this decision later."
   ]
  },
  {
   "cell_type": "markdown",
   "metadata": {},
   "source": [
    "## Findings"
   ]
  },
  {
   "cell_type": "markdown",
   "metadata": {},
   "source": [
    "1. This dataset is for R according to the description, so the column values with arrays in them have a c() in it. Depending on the approach we take to handling recipe ingredients, this may not be a blocker to using Pandas.\n",
    "2. 92% of data has rating of 4.0 or more with the maximum rating being 5.0.\n",
    "3. `AggregatedRating` has 9 unique values [4.5, 3. , 1. , 5. , 4. , 2. , 3.5, 2.5, 1.5])\n",
    "4. `RecipeIngredientQuantities` - does not have units of measurement in it, and it is not present in any other column.\n",
    "5. After dropping rows that have null values for relevant columns, the number of rows reduced from 522,517 to 172,369.\n",
    "6. This is the only dataset I have found so far that has the serving size info in it.\n",
    "7. Summary for relevant information.\n",
    "\n",
    "|                               |     |\n",
    "|-------------------------------|-----|\n",
    "| Ingredient lists              | Yes |\n",
    "| Calorie info / Nutrition info | Yes |\n",
    "| Serving size                  | Yes |\n",
    "| Ratings                       | Yes |\n",
    "| Recipe steps / instructions   | Yes |\n",
    "| Quantity of each ingredient   | No  |\n"
   ]
  },
  {
   "cell_type": "markdown",
   "metadata": {},
   "source": [
    "## Concerns / Questions"
   ]
  },
  {
   "cell_type": "markdown",
   "metadata": {},
   "source": [
    "1. Quantity of each ingredient is not present.\n",
    "2. What are .parquet files? I am wondering whether it may have more information that could be relevant."
   ]
  }
 ],
 "metadata": {
  "kernelspec": {
   "display_name": "base",
   "language": "python",
   "name": "python3"
  },
  "language_info": {
   "codemirror_mode": {
    "name": "ipython",
    "version": 3
   },
   "file_extension": ".py",
   "mimetype": "text/x-python",
   "name": "python",
   "nbconvert_exporter": "python",
   "pygments_lexer": "ipython3",
   "version": "3.11.7"
  }
 },
 "nbformat": 4,
 "nbformat_minor": 2
}
