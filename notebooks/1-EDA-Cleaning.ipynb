{
 "cells": [
  {
   "cell_type": "markdown",
   "metadata": {},
   "source": [
    "# Cleaning the dataset from Epicurious.com for SmartRecipes (a recipe recommender)"
   ]
  },
  {
   "cell_type": "markdown",
   "metadata": {},
   "source": [
    "# Table of Contents\n",
    "- [Cleaning the dataset from Epicurious.com for the Recipe Recommendation System](#cleaning-the-dataset-from-epicurious.com-for-the-recipe-recommendation-system)\n",
    "  - [Introduction](#introduction)\n",
    "  - [Load the data](#load-the-data)\n",
    "  - [Data Dictionary](#data-dictionary)\n",
    "  - [Drop columns](#drop-columns)\n",
    "  - [Convert data types](#convert-data-types)\n",
    "  - [Check for null values](#check-for-null-values)\n",
    "  - [Check for duplicates](#check-for-duplicates)\n",
    "  - [Save the cleaned dataset](#save-the-cleaned-dataset)\n"
   ]
  },
  {
   "cell_type": "markdown",
   "metadata": {},
   "source": [
    "## Introduction"
   ]
  },
  {
   "cell_type": "markdown",
   "metadata": {},
   "source": [
    "We have decided to proceed with the dataset at https://www.kaggle.com/datasets/hugodarwood/epirecipes.\n",
    "\n",
    "The file of interest to us is `full_format_recipes.json`. \n",
    "\n",
    "In this notebook, we will clean the dataset:\n",
    "- remove columns that are not relevant to us\n",
    "- remove null and duplicate values\n",
    "\n",
    "Let's start by loading the dataset."
   ]
  },
  {
   "cell_type": "markdown",
   "metadata": {},
   "source": [
    "## Load the data"
   ]
  },
  {
   "cell_type": "code",
   "execution_count": 6,
   "metadata": {},
   "outputs": [],
   "source": [
    "# import relevant libraries\n",
    "import numpy as np\n",
    "import pandas as pd\n",
    "import matplotlib.pyplot as plt\n",
    "import seaborn as sns"
   ]
  },
  {
   "cell_type": "code",
   "execution_count": 7,
   "metadata": {},
   "outputs": [
    {
     "data": {
      "text/plain": [
       "(20130, 11)"
      ]
     },
     "execution_count": 7,
     "metadata": {},
     "output_type": "execute_result"
    }
   ],
   "source": [
    "df_json = pd.read_json('../data/raw/full_format_recipes.json')\n",
    "df_json.shape"
   ]
  },
  {
   "cell_type": "markdown",
   "metadata": {},
   "source": [
    "The dataset has 20130 rows and 11 columns"
   ]
  },
  {
   "cell_type": "code",
   "execution_count": 8,
   "metadata": {},
   "outputs": [
    {
     "data": {
      "text/html": [
       "<div>\n",
       "<style scoped>\n",
       "    .dataframe tbody tr th:only-of-type {\n",
       "        vertical-align: middle;\n",
       "    }\n",
       "\n",
       "    .dataframe tbody tr th {\n",
       "        vertical-align: top;\n",
       "    }\n",
       "\n",
       "    .dataframe thead th {\n",
       "        text-align: right;\n",
       "    }\n",
       "</style>\n",
       "<table border=\"1\" class=\"dataframe\">\n",
       "  <thead>\n",
       "    <tr style=\"text-align: right;\">\n",
       "      <th></th>\n",
       "      <th>directions</th>\n",
       "      <th>fat</th>\n",
       "      <th>date</th>\n",
       "      <th>categories</th>\n",
       "      <th>calories</th>\n",
       "      <th>desc</th>\n",
       "      <th>protein</th>\n",
       "      <th>rating</th>\n",
       "      <th>title</th>\n",
       "      <th>ingredients</th>\n",
       "      <th>sodium</th>\n",
       "    </tr>\n",
       "  </thead>\n",
       "  <tbody>\n",
       "    <tr>\n",
       "      <th>0</th>\n",
       "      <td>[1. Place the stock, lentils, celery, carrot, ...</td>\n",
       "      <td>7.0</td>\n",
       "      <td>2006-09-01 04:00:00+00:00</td>\n",
       "      <td>[Sandwich, Bean, Fruit, Tomato, turkey, Vegeta...</td>\n",
       "      <td>426.0</td>\n",
       "      <td>None</td>\n",
       "      <td>30.0</td>\n",
       "      <td>2.500</td>\n",
       "      <td>Lentil, Apple, and Turkey Wrap</td>\n",
       "      <td>[4 cups low-sodium vegetable or chicken stock,...</td>\n",
       "      <td>559.0</td>\n",
       "    </tr>\n",
       "    <tr>\n",
       "      <th>1</th>\n",
       "      <td>[Combine first 9 ingredients in heavy medium s...</td>\n",
       "      <td>23.0</td>\n",
       "      <td>2004-08-20 04:00:00+00:00</td>\n",
       "      <td>[Food Processor, Onion, Pork, Bake, Bastille D...</td>\n",
       "      <td>403.0</td>\n",
       "      <td>This uses the same ingredients found in boudin...</td>\n",
       "      <td>18.0</td>\n",
       "      <td>4.375</td>\n",
       "      <td>Boudin Blanc Terrine with Red Onion Confit</td>\n",
       "      <td>[1 1/2 cups whipping cream, 2 medium onions, c...</td>\n",
       "      <td>1439.0</td>\n",
       "    </tr>\n",
       "    <tr>\n",
       "      <th>2</th>\n",
       "      <td>[In a large heavy saucepan cook diced fennel a...</td>\n",
       "      <td>7.0</td>\n",
       "      <td>2004-08-20 04:00:00+00:00</td>\n",
       "      <td>[Soup/Stew, Dairy, Potato, Vegetable, Fennel, ...</td>\n",
       "      <td>165.0</td>\n",
       "      <td>None</td>\n",
       "      <td>6.0</td>\n",
       "      <td>3.750</td>\n",
       "      <td>Potato and Fennel Soup Hodge</td>\n",
       "      <td>[1 fennel bulb (sometimes called anise), stalk...</td>\n",
       "      <td>165.0</td>\n",
       "    </tr>\n",
       "    <tr>\n",
       "      <th>3</th>\n",
       "      <td>[Heat oil in heavy large skillet over medium-h...</td>\n",
       "      <td>NaN</td>\n",
       "      <td>2009-03-27 04:00:00+00:00</td>\n",
       "      <td>[Fish, Olive, Tomato, Sauté, Low Fat, Low Cal,...</td>\n",
       "      <td>NaN</td>\n",
       "      <td>The Sicilian-style tomato sauce has tons of Me...</td>\n",
       "      <td>NaN</td>\n",
       "      <td>5.000</td>\n",
       "      <td>Mahi-Mahi in Tomato Olive Sauce</td>\n",
       "      <td>[2 tablespoons extra-virgin olive oil, 1 cup c...</td>\n",
       "      <td>NaN</td>\n",
       "    </tr>\n",
       "    <tr>\n",
       "      <th>4</th>\n",
       "      <td>[Preheat oven to 350°F. Lightly grease 8x8x2-i...</td>\n",
       "      <td>32.0</td>\n",
       "      <td>2004-08-20 04:00:00+00:00</td>\n",
       "      <td>[Cheese, Dairy, Pasta, Vegetable, Side, Bake, ...</td>\n",
       "      <td>547.0</td>\n",
       "      <td>None</td>\n",
       "      <td>20.0</td>\n",
       "      <td>3.125</td>\n",
       "      <td>Spinach Noodle Casserole</td>\n",
       "      <td>[1 12-ounce package frozen spinach soufflé, th...</td>\n",
       "      <td>452.0</td>\n",
       "    </tr>\n",
       "  </tbody>\n",
       "</table>\n",
       "</div>"
      ],
      "text/plain": [
       "                                          directions   fat  \\\n",
       "0  [1. Place the stock, lentils, celery, carrot, ...   7.0   \n",
       "1  [Combine first 9 ingredients in heavy medium s...  23.0   \n",
       "2  [In a large heavy saucepan cook diced fennel a...   7.0   \n",
       "3  [Heat oil in heavy large skillet over medium-h...   NaN   \n",
       "4  [Preheat oven to 350°F. Lightly grease 8x8x2-i...  32.0   \n",
       "\n",
       "                       date  \\\n",
       "0 2006-09-01 04:00:00+00:00   \n",
       "1 2004-08-20 04:00:00+00:00   \n",
       "2 2004-08-20 04:00:00+00:00   \n",
       "3 2009-03-27 04:00:00+00:00   \n",
       "4 2004-08-20 04:00:00+00:00   \n",
       "\n",
       "                                          categories  calories  \\\n",
       "0  [Sandwich, Bean, Fruit, Tomato, turkey, Vegeta...     426.0   \n",
       "1  [Food Processor, Onion, Pork, Bake, Bastille D...     403.0   \n",
       "2  [Soup/Stew, Dairy, Potato, Vegetable, Fennel, ...     165.0   \n",
       "3  [Fish, Olive, Tomato, Sauté, Low Fat, Low Cal,...       NaN   \n",
       "4  [Cheese, Dairy, Pasta, Vegetable, Side, Bake, ...     547.0   \n",
       "\n",
       "                                                desc  protein  rating  \\\n",
       "0                                               None     30.0   2.500   \n",
       "1  This uses the same ingredients found in boudin...     18.0   4.375   \n",
       "2                                               None      6.0   3.750   \n",
       "3  The Sicilian-style tomato sauce has tons of Me...      NaN   5.000   \n",
       "4                                               None     20.0   3.125   \n",
       "\n",
       "                                         title  \\\n",
       "0              Lentil, Apple, and Turkey Wrap    \n",
       "1  Boudin Blanc Terrine with Red Onion Confit    \n",
       "2                Potato and Fennel Soup Hodge    \n",
       "3             Mahi-Mahi in Tomato Olive Sauce    \n",
       "4                    Spinach Noodle Casserole    \n",
       "\n",
       "                                         ingredients  sodium  \n",
       "0  [4 cups low-sodium vegetable or chicken stock,...   559.0  \n",
       "1  [1 1/2 cups whipping cream, 2 medium onions, c...  1439.0  \n",
       "2  [1 fennel bulb (sometimes called anise), stalk...   165.0  \n",
       "3  [2 tablespoons extra-virgin olive oil, 1 cup c...     NaN  \n",
       "4  [1 12-ounce package frozen spinach soufflé, th...   452.0  "
      ]
     },
     "execution_count": 8,
     "metadata": {},
     "output_type": "execute_result"
    }
   ],
   "source": [
    "df_json.head()"
   ]
  },
  {
   "cell_type": "markdown",
   "metadata": {},
   "source": [
    "## Data Dictionary"
   ]
  },
  {
   "cell_type": "markdown",
   "metadata": {},
   "source": [
    "| Column      | Non-Null Count | Dtype               | Description                                     |\n",
    "|-------------|----------------|---------------------|-------------------------------------------------|\n",
    "| ------      | -------------- | -----               | ------                                          |\n",
    "| title       | 15969 non-null | object              | Title of the recipe                             |\n",
    "| directions  | 15969 non-null | object              | Steps for the recipe                            |\n",
    "| ingredients | 15969 non-null | object              | Ingredients plus description of how to cut them |\n",
    "| categories  | 15969 non-null | object              | Array of categories                             |\n",
    "| calories    | 15969 non-null | float64             | Calories                                        |\n",
    "| rating      | 15969 non-null | float64             | Rating on a scale of 0 to 5                     |\n",
    "| desc        | 10636 non-null | object              | Extra tidbits about the recipe etc.             |\n",
    "| date        | 15969 non-null | datetime64[ns, UTC] | Date the recipe was created                     |\n",
    "| sodium      | 15967 non-null | float64             | Sodium content                                  |\n",
    "| fat         | 15901 non-null | float64             | Fat content                                     |\n",
    "| protein     | 15922 non-null | float64             | Protein content                                 |"
   ]
  },
  {
   "cell_type": "markdown",
   "metadata": {},
   "source": [
    "## Drop columns"
   ]
  },
  {
   "cell_type": "markdown",
   "metadata": {},
   "source": [
    "Columns that are relevant to us:\n",
    "\n",
    "`title`, `directions`, `ingredients`, `categories`, `calories`, `rating`\n",
    "\n",
    "We will drop the other columns"
   ]
  },
  {
   "cell_type": "code",
   "execution_count": 9,
   "metadata": {},
   "outputs": [],
   "source": [
    "cols_to_drop = [\"desc\",\n",
    "                \"date\",\n",
    "                \"sodium\",\n",
    "                \"fat\",\n",
    "                \"protein\"]\n",
    "\n",
    "df_small = df_json.drop(columns=cols_to_drop)"
   ]
  },
  {
   "cell_type": "code",
   "execution_count": 10,
   "metadata": {},
   "outputs": [
    {
     "data": {
      "text/plain": [
       "(20130, 6)"
      ]
     },
     "execution_count": 10,
     "metadata": {},
     "output_type": "execute_result"
    }
   ],
   "source": [
    "df_small.shape"
   ]
  },
  {
   "cell_type": "markdown",
   "metadata": {},
   "source": [
    "After dropping columns, we have 20130 rows and 6 columns."
   ]
  },
  {
   "cell_type": "code",
   "execution_count": 11,
   "metadata": {},
   "outputs": [
    {
     "name": "stdout",
     "output_type": "stream",
     "text": [
      "<class 'pandas.core.frame.DataFrame'>\n",
      "RangeIndex: 20130 entries, 0 to 20129\n",
      "Data columns (total 6 columns):\n",
      " #   Column       Non-Null Count  Dtype  \n",
      "---  ------       --------------  -----  \n",
      " 0   directions   20111 non-null  object \n",
      " 1   categories   20111 non-null  object \n",
      " 2   calories     15976 non-null  float64\n",
      " 3   rating       20100 non-null  float64\n",
      " 4   title        20111 non-null  object \n",
      " 5   ingredients  20111 non-null  object \n",
      "dtypes: float64(2), object(4)\n",
      "memory usage: 943.7+ KB\n"
     ]
    }
   ],
   "source": [
    "df_small.info()"
   ]
  },
  {
   "cell_type": "code",
   "execution_count": 12,
   "metadata": {},
   "outputs": [
    {
     "data": {
      "text/html": [
       "<div>\n",
       "<style scoped>\n",
       "    .dataframe tbody tr th:only-of-type {\n",
       "        vertical-align: middle;\n",
       "    }\n",
       "\n",
       "    .dataframe tbody tr th {\n",
       "        vertical-align: top;\n",
       "    }\n",
       "\n",
       "    .dataframe thead th {\n",
       "        text-align: right;\n",
       "    }\n",
       "</style>\n",
       "<table border=\"1\" class=\"dataframe\">\n",
       "  <thead>\n",
       "    <tr style=\"text-align: right;\">\n",
       "      <th></th>\n",
       "      <th>directions</th>\n",
       "      <th>categories</th>\n",
       "      <th>calories</th>\n",
       "      <th>rating</th>\n",
       "      <th>title</th>\n",
       "      <th>ingredients</th>\n",
       "    </tr>\n",
       "  </thead>\n",
       "  <tbody>\n",
       "    <tr>\n",
       "      <th>14154</th>\n",
       "      <td>[Preheat oven to 350°F. Sprinkle fish on both ...</td>\n",
       "      <td>[Fish, Tomato, Bake, Seafood, Snapper, Leek, F...</td>\n",
       "      <td>256.0</td>\n",
       "      <td>3.750</td>\n",
       "      <td>Red Snapper with Leeks and Tomatoes</td>\n",
       "      <td>[4 5- to 6-ounce red snapper fillets, 2 tables...</td>\n",
       "    </tr>\n",
       "    <tr>\n",
       "      <th>15356</th>\n",
       "      <td>[Combine buttermilk, hot sauce, and 2 tsp. sal...</td>\n",
       "      <td>[Sandwich, Chicken, Kid-Friendly, Lunch, Cabba...</td>\n",
       "      <td>2448.0</td>\n",
       "      <td>4.375</td>\n",
       "      <td>Crispy Chicken Sandwich with Buttermilk Slaw a...</td>\n",
       "      <td>[1 cup buttermilk, 1 tablespoon hot sauce (pre...</td>\n",
       "    </tr>\n",
       "    <tr>\n",
       "      <th>19051</th>\n",
       "      <td>[Heat oil in heavy large pot over medium-high ...</td>\n",
       "      <td>[Soup/Stew, Onion, Tomato, turkey, Sauté, Stew...</td>\n",
       "      <td>345.0</td>\n",
       "      <td>4.375</td>\n",
       "      <td>Turkey-Tomato Stew with Onions and Raisins</td>\n",
       "      <td>[6 tablespoons olive oil, 4 cups chopped onion...</td>\n",
       "    </tr>\n",
       "    <tr>\n",
       "      <th>7386</th>\n",
       "      <td>[Cook bacon in a 10-inch skillet over medium h...</td>\n",
       "      <td>[Salad, Tomato, Appetizer, Quick &amp; Easy, Dinne...</td>\n",
       "      <td>381.0</td>\n",
       "      <td>3.750</td>\n",
       "      <td>Beefsteak Tomato, Butterhead Lettuce, and Baco...</td>\n",
       "      <td>[6 bacon slices, chopped, 1/2 cup sour cream, ...</td>\n",
       "    </tr>\n",
       "    <tr>\n",
       "      <th>17059</th>\n",
       "      <td>[In a large saucepan combine the black beans w...</td>\n",
       "      <td>[Salad, Blender, Bean, Garlic, Side, Vegetaria...</td>\n",
       "      <td>519.0</td>\n",
       "      <td>3.125</td>\n",
       "      <td>Three-Bean Salad with Coriander Chili Dressing</td>\n",
       "      <td>[1 pound dried black beans, picked over, 1 pou...</td>\n",
       "    </tr>\n",
       "  </tbody>\n",
       "</table>\n",
       "</div>"
      ],
      "text/plain": [
       "                                              directions  \\\n",
       "14154  [Preheat oven to 350°F. Sprinkle fish on both ...   \n",
       "15356  [Combine buttermilk, hot sauce, and 2 tsp. sal...   \n",
       "19051  [Heat oil in heavy large pot over medium-high ...   \n",
       "7386   [Cook bacon in a 10-inch skillet over medium h...   \n",
       "17059  [In a large saucepan combine the black beans w...   \n",
       "\n",
       "                                              categories  calories  rating  \\\n",
       "14154  [Fish, Tomato, Bake, Seafood, Snapper, Leek, F...     256.0   3.750   \n",
       "15356  [Sandwich, Chicken, Kid-Friendly, Lunch, Cabba...    2448.0   4.375   \n",
       "19051  [Soup/Stew, Onion, Tomato, turkey, Sauté, Stew...     345.0   4.375   \n",
       "7386   [Salad, Tomato, Appetizer, Quick & Easy, Dinne...     381.0   3.750   \n",
       "17059  [Salad, Blender, Bean, Garlic, Side, Vegetaria...     519.0   3.125   \n",
       "\n",
       "                                                   title  \\\n",
       "14154               Red Snapper with Leeks and Tomatoes    \n",
       "15356  Crispy Chicken Sandwich with Buttermilk Slaw a...   \n",
       "19051        Turkey-Tomato Stew with Onions and Raisins    \n",
       "7386   Beefsteak Tomato, Butterhead Lettuce, and Baco...   \n",
       "17059    Three-Bean Salad with Coriander Chili Dressing    \n",
       "\n",
       "                                             ingredients  \n",
       "14154  [4 5- to 6-ounce red snapper fillets, 2 tables...  \n",
       "15356  [1 cup buttermilk, 1 tablespoon hot sauce (pre...  \n",
       "19051  [6 tablespoons olive oil, 4 cups chopped onion...  \n",
       "7386   [6 bacon slices, chopped, 1/2 cup sour cream, ...  \n",
       "17059  [1 pound dried black beans, picked over, 1 pou...  "
      ]
     },
     "execution_count": 12,
     "metadata": {},
     "output_type": "execute_result"
    }
   ],
   "source": [
    "df_small.sample(5)"
   ]
  },
  {
   "cell_type": "markdown",
   "metadata": {},
   "source": [
    "## Convert data types"
   ]
  },
  {
   "cell_type": "markdown",
   "metadata": {},
   "source": [
    "Some of the columns have lists in them, in order to use the CountVectorizer during preprocessing, we need these to be strings. \n",
    "\n",
    "We will convert the contents of the following columns from list to string:\n",
    "- `directions`\n",
    "- `categories`\n",
    "- `ingredients`"
   ]
  },
  {
   "cell_type": "code",
   "execution_count": 13,
   "metadata": {},
   "outputs": [
    {
     "name": "stdout",
     "output_type": "stream",
     "text": [
      "Directions contains entries of type: <class 'list'>\n",
      "Categories contains entries of type: <class 'list'>\n",
      "Title contains entries of type: <class 'str'>\n",
      "Ingredients contains entries of type: <class 'list'>\n"
     ]
    }
   ],
   "source": [
    "print(f\"Directions contains entries of type: {type(df_small['directions'][0])}\")\n",
    "print(f\"Categories contains entries of type: {type(df_small['categories'][0])}\")\n",
    "print(f\"Title contains entries of type: {type(df_small['title'][0])}\")\n",
    "print(f\"Ingredients contains entries of type: {type(df_small['ingredients'][0])}\")"
   ]
  },
  {
   "cell_type": "markdown",
   "metadata": {},
   "source": [
    "Let's convert these list types into strings"
   ]
  },
  {
   "cell_type": "code",
   "execution_count": 14,
   "metadata": {},
   "outputs": [],
   "source": [
    "df_small['directionsStr'] = df_small['directions'].astype(str)\n",
    "df_small['categoriesStr'] = df_small['categories'].astype(str)\n",
    "df_small['ingredientsStr'] = df_small['ingredients'].astype(str)\n"
   ]
  },
  {
   "cell_type": "code",
   "execution_count": 15,
   "metadata": {},
   "outputs": [
    {
     "name": "stdout",
     "output_type": "stream",
     "text": [
      "Directions contains entries of type: <class 'str'>\n",
      "Categories contains entries of type: <class 'str'>\n",
      "Title contains entries of type: <class 'str'>\n",
      "Ingredients contains entries of type: <class 'str'>\n"
     ]
    }
   ],
   "source": [
    "print(f\"Directions contains entries of type: {type(df_small['directionsStr'][0])}\")\n",
    "print(f\"Categories contains entries of type: {type(df_small['categoriesStr'][0])}\")\n",
    "print(f\"Title contains entries of type: {type(df_small['title'][0])}\")\n",
    "print(f\"Ingredients contains entries of type: {type(df_small['ingredientsStr'][0])}\")"
   ]
  },
  {
   "cell_type": "markdown",
   "metadata": {},
   "source": [
    "We also noticed an extra space at the end of the contents of `title`. Let's remove that."
   ]
  },
  {
   "cell_type": "code",
   "execution_count": 16,
   "metadata": {},
   "outputs": [
    {
     "data": {
      "text/plain": [
       "'Lentil, Apple, and Turkey Wrap '"
      ]
     },
     "execution_count": 16,
     "metadata": {},
     "output_type": "execute_result"
    }
   ],
   "source": [
    "df_small['title'][0]"
   ]
  },
  {
   "cell_type": "code",
   "execution_count": 17,
   "metadata": {},
   "outputs": [],
   "source": [
    "# Remove extra space from the end of the titles\n",
    "df_small['title'] = df_small['title'].str.strip()"
   ]
  },
  {
   "cell_type": "code",
   "execution_count": 18,
   "metadata": {},
   "outputs": [
    {
     "data": {
      "text/plain": [
       "'Lentil, Apple, and Turkey Wrap'"
      ]
     },
     "execution_count": 18,
     "metadata": {},
     "output_type": "execute_result"
    }
   ],
   "source": [
    "# verify that the space was removed\n",
    "df_small['title'][0]"
   ]
  },
  {
   "cell_type": "markdown",
   "metadata": {},
   "source": [
    "Now that we have verified that the conversions look good, we will drop the original columns."
   ]
  },
  {
   "cell_type": "code",
   "execution_count": 19,
   "metadata": {},
   "outputs": [],
   "source": [
    "# drop the original columns that contained list types\n",
    "df_small.drop(columns=['directions','categories','ingredients'], inplace=True)"
   ]
  },
  {
   "cell_type": "code",
   "execution_count": 20,
   "metadata": {},
   "outputs": [
    {
     "name": "stdout",
     "output_type": "stream",
     "text": [
      "<class 'pandas.core.frame.DataFrame'>\n",
      "RangeIndex: 20130 entries, 0 to 20129\n",
      "Data columns (total 6 columns):\n",
      " #   Column          Non-Null Count  Dtype  \n",
      "---  ------          --------------  -----  \n",
      " 0   calories        15976 non-null  float64\n",
      " 1   rating          20100 non-null  float64\n",
      " 2   title           20111 non-null  object \n",
      " 3   directionsStr   20130 non-null  object \n",
      " 4   categoriesStr   20130 non-null  object \n",
      " 5   ingredientsStr  20130 non-null  object \n",
      "dtypes: float64(2), object(4)\n",
      "memory usage: 943.7+ KB\n"
     ]
    }
   ],
   "source": [
    "df_small.info()"
   ]
  },
  {
   "cell_type": "markdown",
   "metadata": {},
   "source": [
    "## Check for null values"
   ]
  },
  {
   "cell_type": "code",
   "execution_count": 21,
   "metadata": {},
   "outputs": [
    {
     "data": {
      "text/plain": [
       "4203"
      ]
     },
     "execution_count": 21,
     "metadata": {},
     "output_type": "execute_result"
    }
   ],
   "source": [
    "df_small.isna().sum().sum()"
   ]
  },
  {
   "cell_type": "markdown",
   "metadata": {},
   "source": [
    "There are 4203 missing values."
   ]
  },
  {
   "cell_type": "code",
   "execution_count": 22,
   "metadata": {},
   "outputs": [
    {
     "data": {
      "text/plain": [
       "calories          4154\n",
       "rating              30\n",
       "title               19\n",
       "directionsStr        0\n",
       "categoriesStr        0\n",
       "ingredientsStr       0\n",
       "dtype: int64"
      ]
     },
     "execution_count": 22,
     "metadata": {},
     "output_type": "execute_result"
    }
   ],
   "source": [
    "df_small.isna().sum()"
   ]
  },
  {
   "cell_type": "markdown",
   "metadata": {},
   "source": [
    "Let's drop these rows that have null values"
   ]
  },
  {
   "cell_type": "code",
   "execution_count": 23,
   "metadata": {},
   "outputs": [],
   "source": [
    "df_small = df_small.dropna(axis=0)"
   ]
  },
  {
   "cell_type": "code",
   "execution_count": 24,
   "metadata": {},
   "outputs": [
    {
     "data": {
      "text/plain": [
       "calories          0\n",
       "rating            0\n",
       "title             0\n",
       "directionsStr     0\n",
       "categoriesStr     0\n",
       "ingredientsStr    0\n",
       "dtype: int64"
      ]
     },
     "execution_count": 24,
     "metadata": {},
     "output_type": "execute_result"
    }
   ],
   "source": [
    "df_small.isna().sum()"
   ]
  },
  {
   "cell_type": "code",
   "execution_count": 25,
   "metadata": {},
   "outputs": [
    {
     "data": {
      "text/plain": [
       "(15969, 6)"
      ]
     },
     "execution_count": 25,
     "metadata": {},
     "output_type": "execute_result"
    }
   ],
   "source": [
    "df_small.shape"
   ]
  },
  {
   "cell_type": "markdown",
   "metadata": {},
   "source": [
    "After dropping rows that have null values, we have 15969 rows and 6 columns."
   ]
  },
  {
   "cell_type": "markdown",
   "metadata": {},
   "source": [
    "## Check for duplicates"
   ]
  },
  {
   "cell_type": "code",
   "execution_count": 26,
   "metadata": {},
   "outputs": [
    {
     "data": {
      "text/plain": [
       "1443"
      ]
     },
     "execution_count": 26,
     "metadata": {},
     "output_type": "execute_result"
    }
   ],
   "source": [
    "df_small.duplicated().sum()"
   ]
  },
  {
   "cell_type": "markdown",
   "metadata": {},
   "source": [
    "There are 1443 duplicates, we will drop these rows."
   ]
  },
  {
   "cell_type": "code",
   "execution_count": 27,
   "metadata": {},
   "outputs": [],
   "source": [
    "df_small.drop_duplicates(keep='first', inplace=True)"
   ]
  },
  {
   "cell_type": "code",
   "execution_count": 28,
   "metadata": {},
   "outputs": [
    {
     "data": {
      "text/plain": [
       "0"
      ]
     },
     "execution_count": 28,
     "metadata": {},
     "output_type": "execute_result"
    }
   ],
   "source": [
    "df_small.duplicated().sum()"
   ]
  },
  {
   "cell_type": "code",
   "execution_count": 29,
   "metadata": {},
   "outputs": [
    {
     "data": {
      "text/plain": [
       "(14526, 6)"
      ]
     },
     "execution_count": 29,
     "metadata": {},
     "output_type": "execute_result"
    }
   ],
   "source": [
    "df_small.shape"
   ]
  },
  {
   "cell_type": "markdown",
   "metadata": {},
   "source": [
    "After dropping duplicates, we have 14526 rows and 6 columns"
   ]
  },
  {
   "cell_type": "code",
   "execution_count": 30,
   "metadata": {},
   "outputs": [
    {
     "data": {
      "text/html": [
       "<div>\n",
       "<style scoped>\n",
       "    .dataframe tbody tr th:only-of-type {\n",
       "        vertical-align: middle;\n",
       "    }\n",
       "\n",
       "    .dataframe tbody tr th {\n",
       "        vertical-align: top;\n",
       "    }\n",
       "\n",
       "    .dataframe thead th {\n",
       "        text-align: right;\n",
       "    }\n",
       "</style>\n",
       "<table border=\"1\" class=\"dataframe\">\n",
       "  <thead>\n",
       "    <tr style=\"text-align: right;\">\n",
       "      <th></th>\n",
       "      <th>calories</th>\n",
       "      <th>rating</th>\n",
       "      <th>title</th>\n",
       "      <th>directionsStr</th>\n",
       "      <th>categoriesStr</th>\n",
       "      <th>ingredientsStr</th>\n",
       "    </tr>\n",
       "  </thead>\n",
       "  <tbody>\n",
       "    <tr>\n",
       "      <th>14837</th>\n",
       "      <td>588.0</td>\n",
       "      <td>4.375</td>\n",
       "      <td>Blue Cheese Potato Gratin</td>\n",
       "      <td>['Preheat oven to 375°F.', 'Heat oil in a 12-i...</td>\n",
       "      <td>['Milk/Cream', 'Onion', 'Potato', 'Side', 'Bak...</td>\n",
       "      <td>['2 tablespoons olive oil', '1 pound onions (3...</td>\n",
       "    </tr>\n",
       "    <tr>\n",
       "      <th>10185</th>\n",
       "      <td>228.0</td>\n",
       "      <td>4.375</td>\n",
       "      <td>Lemon Meringue Pie with Hazelnut Shortbread Crust</td>\n",
       "      <td>['Grind nuts finely in processor. Add flour an...</td>\n",
       "      <td>['Dairy', 'Egg', 'Dessert', 'Bake', 'Lemon', '...</td>\n",
       "      <td>['1/3 cup hazelnuts, toasted, husked', '1 1/4 ...</td>\n",
       "    </tr>\n",
       "    <tr>\n",
       "      <th>3583</th>\n",
       "      <td>551.0</td>\n",
       "      <td>4.375</td>\n",
       "      <td>Ricotta and Spinach Tortelloni in Tomato Sauce</td>\n",
       "      <td>['Heat 3 tablespoons oil in large skillet over...</td>\n",
       "      <td>['Garlic', 'Leafy Green', 'Pasta', 'Tomato', '...</td>\n",
       "      <td>['5 tablespoons olive oil', '1 cup chopped oni...</td>\n",
       "    </tr>\n",
       "    <tr>\n",
       "      <th>6803</th>\n",
       "      <td>554.0</td>\n",
       "      <td>3.750</td>\n",
       "      <td>Crispy Noodle Cake with Shrimp and Snow Peas</td>\n",
       "      <td>['In a kettle of salted boiling water cook the...</td>\n",
       "      <td>['Wok', 'Ginger', 'Pasta', 'Shellfish', 'Stir-...</td>\n",
       "      <td>['3/4 pound fresh or dried thin Asian egg nood...</td>\n",
       "    </tr>\n",
       "    <tr>\n",
       "      <th>17726</th>\n",
       "      <td>208.0</td>\n",
       "      <td>5.000</td>\n",
       "      <td>Lychee Compote with Raspberries and Champagne ...</td>\n",
       "      <td>['Lightly oil a 9-inch square baking pan and l...</td>\n",
       "      <td>['Champagne', 'Berry', 'Fruit', 'Dessert', 'Co...</td>\n",
       "      <td>['1 cup sugar', '3 cups Champagne or other spa...</td>\n",
       "    </tr>\n",
       "  </tbody>\n",
       "</table>\n",
       "</div>"
      ],
      "text/plain": [
       "       calories  rating                                              title  \\\n",
       "14837     588.0   4.375                          Blue Cheese Potato Gratin   \n",
       "10185     228.0   4.375  Lemon Meringue Pie with Hazelnut Shortbread Crust   \n",
       "3583      551.0   4.375     Ricotta and Spinach Tortelloni in Tomato Sauce   \n",
       "6803      554.0   3.750       Crispy Noodle Cake with Shrimp and Snow Peas   \n",
       "17726     208.0   5.000  Lychee Compote with Raspberries and Champagne ...   \n",
       "\n",
       "                                           directionsStr  \\\n",
       "14837  ['Preheat oven to 375°F.', 'Heat oil in a 12-i...   \n",
       "10185  ['Grind nuts finely in processor. Add flour an...   \n",
       "3583   ['Heat 3 tablespoons oil in large skillet over...   \n",
       "6803   ['In a kettle of salted boiling water cook the...   \n",
       "17726  ['Lightly oil a 9-inch square baking pan and l...   \n",
       "\n",
       "                                           categoriesStr  \\\n",
       "14837  ['Milk/Cream', 'Onion', 'Potato', 'Side', 'Bak...   \n",
       "10185  ['Dairy', 'Egg', 'Dessert', 'Bake', 'Lemon', '...   \n",
       "3583   ['Garlic', 'Leafy Green', 'Pasta', 'Tomato', '...   \n",
       "6803   ['Wok', 'Ginger', 'Pasta', 'Shellfish', 'Stir-...   \n",
       "17726  ['Champagne', 'Berry', 'Fruit', 'Dessert', 'Co...   \n",
       "\n",
       "                                          ingredientsStr  \n",
       "14837  ['2 tablespoons olive oil', '1 pound onions (3...  \n",
       "10185  ['1/3 cup hazelnuts, toasted, husked', '1 1/4 ...  \n",
       "3583   ['5 tablespoons olive oil', '1 cup chopped oni...  \n",
       "6803   ['3/4 pound fresh or dried thin Asian egg nood...  \n",
       "17726  ['1 cup sugar', '3 cups Champagne or other spa...  "
      ]
     },
     "execution_count": 30,
     "metadata": {},
     "output_type": "execute_result"
    }
   ],
   "source": [
    "df_small.sample(5)"
   ]
  },
  {
   "cell_type": "markdown",
   "metadata": {},
   "source": [
    "## Save the cleaned dataset"
   ]
  },
  {
   "cell_type": "markdown",
   "metadata": {},
   "source": [
    "Let's save the cleaned dataset to a file called full_recipes_cleaned_2.csv"
   ]
  },
  {
   "cell_type": "code",
   "execution_count": 31,
   "metadata": {},
   "outputs": [],
   "source": [
    "df_small.to_csv(\"../data/interim/full_recipes_cleaned_2.csv\",index=True,index_label='recipeId')"
   ]
  }
 ],
 "metadata": {
  "kernelspec": {
   "display_name": "base",
   "language": "python",
   "name": "python3"
  },
  "language_info": {
   "codemirror_mode": {
    "name": "ipython",
    "version": 3
   },
   "file_extension": ".py",
   "mimetype": "text/x-python",
   "name": "python",
   "nbconvert_exporter": "python",
   "pygments_lexer": "ipython3",
   "version": "3.11.7"
  }
 },
 "nbformat": 4,
 "nbformat_minor": 2
}
