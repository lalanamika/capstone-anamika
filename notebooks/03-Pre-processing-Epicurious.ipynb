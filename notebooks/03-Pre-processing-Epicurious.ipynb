{
 "cells": [
  {
   "cell_type": "markdown",
   "metadata": {},
   "source": [
    "TODO: Add Title\n",
    "TODO: Add TOC\n",
    "TODO: Add Goals"
   ]
  },
  {
   "cell_type": "markdown",
   "metadata": {},
   "source": [
    "In this notebook, we will load the cleaned dataset created in the first notebook (full_format_recipes_cleaned.csv) and do preprocessing on the data to get it ready for modeling."
   ]
  },
  {
   "cell_type": "code",
   "execution_count": 1,
   "metadata": {},
   "outputs": [],
   "source": [
    "import numpy as np\n",
    "import pandas as pd\n",
    "import matplotlib.pyplot as plt\n",
    "import seaborn as sns\n",
    "import statsmodels.api as sm\n",
    "\n",
    "from sklearn.feature_extraction.text import CountVectorizer\n"
   ]
  },
  {
   "cell_type": "code",
   "execution_count": 2,
   "metadata": {},
   "outputs": [
    {
     "data": {
      "text/plain": [
       "'pandas version: 2.1.4'"
      ]
     },
     "execution_count": 2,
     "metadata": {},
     "output_type": "execute_result"
    }
   ],
   "source": [
    "f\"pandas version: {pd.__version__}\""
   ]
  },
  {
   "cell_type": "markdown",
   "metadata": {},
   "source": [
    "## Load the data"
   ]
  },
  {
   "cell_type": "code",
   "execution_count": 3,
   "metadata": {},
   "outputs": [
    {
     "data": {
      "text/plain": [
       "(14526, 7)"
      ]
     },
     "execution_count": 3,
     "metadata": {},
     "output_type": "execute_result"
    }
   ],
   "source": [
    "df = pd.read_csv('../data/interim/full_recipes_cleaned_2.csv')\n",
    "df.shape"
   ]
  },
  {
   "cell_type": "code",
   "execution_count": 4,
   "metadata": {},
   "outputs": [
    {
     "data": {
      "text/html": [
       "<div>\n",
       "<style scoped>\n",
       "    .dataframe tbody tr th:only-of-type {\n",
       "        vertical-align: middle;\n",
       "    }\n",
       "\n",
       "    .dataframe tbody tr th {\n",
       "        vertical-align: top;\n",
       "    }\n",
       "\n",
       "    .dataframe thead th {\n",
       "        text-align: right;\n",
       "    }\n",
       "</style>\n",
       "<table border=\"1\" class=\"dataframe\">\n",
       "  <thead>\n",
       "    <tr style=\"text-align: right;\">\n",
       "      <th></th>\n",
       "      <th>recipeId</th>\n",
       "      <th>calories</th>\n",
       "      <th>rating</th>\n",
       "      <th>title</th>\n",
       "      <th>directionsStr</th>\n",
       "      <th>categoriesStr</th>\n",
       "      <th>ingredientsStr</th>\n",
       "    </tr>\n",
       "  </thead>\n",
       "  <tbody>\n",
       "    <tr>\n",
       "      <th>0</th>\n",
       "      <td>0</td>\n",
       "      <td>426.0</td>\n",
       "      <td>2.500</td>\n",
       "      <td>Lentil, Apple, and Turkey Wrap</td>\n",
       "      <td>['1. Place the stock, lentils, celery, carrot,...</td>\n",
       "      <td>['Sandwich', 'Bean', 'Fruit', 'Tomato', 'turke...</td>\n",
       "      <td>['4 cups low-sodium vegetable or chicken stock...</td>\n",
       "    </tr>\n",
       "    <tr>\n",
       "      <th>1</th>\n",
       "      <td>1</td>\n",
       "      <td>403.0</td>\n",
       "      <td>4.375</td>\n",
       "      <td>Boudin Blanc Terrine with Red Onion Confit</td>\n",
       "      <td>['Combine first 9 ingredients in heavy medium ...</td>\n",
       "      <td>['Food Processor', 'Onion', 'Pork', 'Bake', 'B...</td>\n",
       "      <td>['1 1/2 cups whipping cream', '2 medium onions...</td>\n",
       "    </tr>\n",
       "    <tr>\n",
       "      <th>2</th>\n",
       "      <td>2</td>\n",
       "      <td>165.0</td>\n",
       "      <td>3.750</td>\n",
       "      <td>Potato and Fennel Soup Hodge</td>\n",
       "      <td>['In a large heavy saucepan cook diced fennel ...</td>\n",
       "      <td>['Soup/Stew', 'Dairy', 'Potato', 'Vegetable', ...</td>\n",
       "      <td>['1 fennel bulb (sometimes called anise), stal...</td>\n",
       "    </tr>\n",
       "    <tr>\n",
       "      <th>3</th>\n",
       "      <td>4</td>\n",
       "      <td>547.0</td>\n",
       "      <td>3.125</td>\n",
       "      <td>Spinach Noodle Casserole</td>\n",
       "      <td>['Preheat oven to 350°F. Lightly grease 8x8x2-...</td>\n",
       "      <td>['Cheese', 'Dairy', 'Pasta', 'Vegetable', 'Sid...</td>\n",
       "      <td>['1 12-ounce package frozen spinach soufflé, t...</td>\n",
       "    </tr>\n",
       "    <tr>\n",
       "      <th>4</th>\n",
       "      <td>5</td>\n",
       "      <td>948.0</td>\n",
       "      <td>4.375</td>\n",
       "      <td>The Best Blts</td>\n",
       "      <td>['Mix basil, mayonnaise and butter in processo...</td>\n",
       "      <td>['Sandwich', 'Food Processor', 'Tomato', 'Kid-...</td>\n",
       "      <td>['2 1/2 cups (lightly packed) fresh basil leav...</td>\n",
       "    </tr>\n",
       "  </tbody>\n",
       "</table>\n",
       "</div>"
      ],
      "text/plain": [
       "   recipeId  calories  rating                                       title  \\\n",
       "0         0     426.0   2.500              Lentil, Apple, and Turkey Wrap   \n",
       "1         1     403.0   4.375  Boudin Blanc Terrine with Red Onion Confit   \n",
       "2         2     165.0   3.750                Potato and Fennel Soup Hodge   \n",
       "3         4     547.0   3.125                    Spinach Noodle Casserole   \n",
       "4         5     948.0   4.375                               The Best Blts   \n",
       "\n",
       "                                       directionsStr  \\\n",
       "0  ['1. Place the stock, lentils, celery, carrot,...   \n",
       "1  ['Combine first 9 ingredients in heavy medium ...   \n",
       "2  ['In a large heavy saucepan cook diced fennel ...   \n",
       "3  ['Preheat oven to 350°F. Lightly grease 8x8x2-...   \n",
       "4  ['Mix basil, mayonnaise and butter in processo...   \n",
       "\n",
       "                                       categoriesStr  \\\n",
       "0  ['Sandwich', 'Bean', 'Fruit', 'Tomato', 'turke...   \n",
       "1  ['Food Processor', 'Onion', 'Pork', 'Bake', 'B...   \n",
       "2  ['Soup/Stew', 'Dairy', 'Potato', 'Vegetable', ...   \n",
       "3  ['Cheese', 'Dairy', 'Pasta', 'Vegetable', 'Sid...   \n",
       "4  ['Sandwich', 'Food Processor', 'Tomato', 'Kid-...   \n",
       "\n",
       "                                      ingredientsStr  \n",
       "0  ['4 cups low-sodium vegetable or chicken stock...  \n",
       "1  ['1 1/2 cups whipping cream', '2 medium onions...  \n",
       "2  ['1 fennel bulb (sometimes called anise), stal...  \n",
       "3  ['1 12-ounce package frozen spinach soufflé, t...  \n",
       "4  ['2 1/2 cups (lightly packed) fresh basil leav...  "
      ]
     },
     "execution_count": 4,
     "metadata": {},
     "output_type": "execute_result"
    }
   ],
   "source": [
    "df.head()"
   ]
  },
  {
   "cell_type": "code",
   "execution_count": 5,
   "metadata": {},
   "outputs": [
    {
     "data": {
      "text/html": [
       "<div>\n",
       "<style scoped>\n",
       "    .dataframe tbody tr th:only-of-type {\n",
       "        vertical-align: middle;\n",
       "    }\n",
       "\n",
       "    .dataframe tbody tr th {\n",
       "        vertical-align: top;\n",
       "    }\n",
       "\n",
       "    .dataframe thead th {\n",
       "        text-align: right;\n",
       "    }\n",
       "</style>\n",
       "<table border=\"1\" class=\"dataframe\">\n",
       "  <thead>\n",
       "    <tr style=\"text-align: right;\">\n",
       "      <th></th>\n",
       "      <th>calories</th>\n",
       "      <th>rating</th>\n",
       "      <th>title</th>\n",
       "      <th>directionsStr</th>\n",
       "      <th>categoriesStr</th>\n",
       "      <th>ingredientsStr</th>\n",
       "    </tr>\n",
       "    <tr>\n",
       "      <th>recipeId</th>\n",
       "      <th></th>\n",
       "      <th></th>\n",
       "      <th></th>\n",
       "      <th></th>\n",
       "      <th></th>\n",
       "      <th></th>\n",
       "    </tr>\n",
       "  </thead>\n",
       "  <tbody>\n",
       "    <tr>\n",
       "      <th>0</th>\n",
       "      <td>426.0</td>\n",
       "      <td>2.500</td>\n",
       "      <td>Lentil, Apple, and Turkey Wrap</td>\n",
       "      <td>['1. Place the stock, lentils, celery, carrot,...</td>\n",
       "      <td>['Sandwich', 'Bean', 'Fruit', 'Tomato', 'turke...</td>\n",
       "      <td>['4 cups low-sodium vegetable or chicken stock...</td>\n",
       "    </tr>\n",
       "    <tr>\n",
       "      <th>1</th>\n",
       "      <td>403.0</td>\n",
       "      <td>4.375</td>\n",
       "      <td>Boudin Blanc Terrine with Red Onion Confit</td>\n",
       "      <td>['Combine first 9 ingredients in heavy medium ...</td>\n",
       "      <td>['Food Processor', 'Onion', 'Pork', 'Bake', 'B...</td>\n",
       "      <td>['1 1/2 cups whipping cream', '2 medium onions...</td>\n",
       "    </tr>\n",
       "    <tr>\n",
       "      <th>2</th>\n",
       "      <td>165.0</td>\n",
       "      <td>3.750</td>\n",
       "      <td>Potato and Fennel Soup Hodge</td>\n",
       "      <td>['In a large heavy saucepan cook diced fennel ...</td>\n",
       "      <td>['Soup/Stew', 'Dairy', 'Potato', 'Vegetable', ...</td>\n",
       "      <td>['1 fennel bulb (sometimes called anise), stal...</td>\n",
       "    </tr>\n",
       "    <tr>\n",
       "      <th>4</th>\n",
       "      <td>547.0</td>\n",
       "      <td>3.125</td>\n",
       "      <td>Spinach Noodle Casserole</td>\n",
       "      <td>['Preheat oven to 350°F. Lightly grease 8x8x2-...</td>\n",
       "      <td>['Cheese', 'Dairy', 'Pasta', 'Vegetable', 'Sid...</td>\n",
       "      <td>['1 12-ounce package frozen spinach soufflé, t...</td>\n",
       "    </tr>\n",
       "    <tr>\n",
       "      <th>5</th>\n",
       "      <td>948.0</td>\n",
       "      <td>4.375</td>\n",
       "      <td>The Best Blts</td>\n",
       "      <td>['Mix basil, mayonnaise and butter in processo...</td>\n",
       "      <td>['Sandwich', 'Food Processor', 'Tomato', 'Kid-...</td>\n",
       "      <td>['2 1/2 cups (lightly packed) fresh basil leav...</td>\n",
       "    </tr>\n",
       "    <tr>\n",
       "      <th>...</th>\n",
       "      <td>...</td>\n",
       "      <td>...</td>\n",
       "      <td>...</td>\n",
       "      <td>...</td>\n",
       "      <td>...</td>\n",
       "      <td>...</td>\n",
       "    </tr>\n",
       "    <tr>\n",
       "      <th>20125</th>\n",
       "      <td>28.0</td>\n",
       "      <td>3.125</td>\n",
       "      <td>Parmesan Puffs</td>\n",
       "      <td>['Beat whites in a bowl with an electric mixer...</td>\n",
       "      <td>['Mixer', 'Cheese', 'Egg', 'Fry', 'Cocktail Pa...</td>\n",
       "      <td>['2 large egg whites', '3 oz Parmigiano-Reggia...</td>\n",
       "    </tr>\n",
       "    <tr>\n",
       "      <th>20126</th>\n",
       "      <td>671.0</td>\n",
       "      <td>4.375</td>\n",
       "      <td>Artichoke and Parmesan Risotto</td>\n",
       "      <td>['Bring broth to simmer in saucepan.Remove fro...</td>\n",
       "      <td>['Side', 'Kid-Friendly', 'High Fiber', 'Dinner...</td>\n",
       "      <td>['5 1/2 cups (or more) low-salt chicken broth'...</td>\n",
       "    </tr>\n",
       "    <tr>\n",
       "      <th>20127</th>\n",
       "      <td>563.0</td>\n",
       "      <td>4.375</td>\n",
       "      <td>Turkey Cream Puff Pie</td>\n",
       "      <td>['Using a sharp knife, cut a shallow X in bott...</td>\n",
       "      <td>['Onion', 'Poultry', 'turkey', 'Vegetable', 'B...</td>\n",
       "      <td>['1 small tomato', '1 small onion, finely chop...</td>\n",
       "    </tr>\n",
       "    <tr>\n",
       "      <th>20128</th>\n",
       "      <td>631.0</td>\n",
       "      <td>4.375</td>\n",
       "      <td>Snapper on Angel Hair with Citrus Cream</td>\n",
       "      <td>['Heat 2 tablespoons oil in heavy medium skill...</td>\n",
       "      <td>['Milk/Cream', 'Citrus', 'Dairy', 'Fish', 'Gar...</td>\n",
       "      <td>['4 tablespoons olive oil', '4 shallots, thinl...</td>\n",
       "    </tr>\n",
       "    <tr>\n",
       "      <th>20129</th>\n",
       "      <td>560.0</td>\n",
       "      <td>4.375</td>\n",
       "      <td>Baked Ham with Marmalade-Horseradish Glaze</td>\n",
       "      <td>['Position rack in bottom third of oven and pr...</td>\n",
       "      <td>['Pork', 'Bake', 'Roast', 'Christmas', 'Ham', ...</td>\n",
       "      <td>['1 18-pound fully cooked bone-in smoked ham, ...</td>\n",
       "    </tr>\n",
       "  </tbody>\n",
       "</table>\n",
       "<p>14526 rows × 6 columns</p>\n",
       "</div>"
      ],
      "text/plain": [
       "          calories  rating                                       title  \\\n",
       "recipeId                                                                 \n",
       "0            426.0   2.500              Lentil, Apple, and Turkey Wrap   \n",
       "1            403.0   4.375  Boudin Blanc Terrine with Red Onion Confit   \n",
       "2            165.0   3.750                Potato and Fennel Soup Hodge   \n",
       "4            547.0   3.125                    Spinach Noodle Casserole   \n",
       "5            948.0   4.375                               The Best Blts   \n",
       "...            ...     ...                                         ...   \n",
       "20125         28.0   3.125                              Parmesan Puffs   \n",
       "20126        671.0   4.375              Artichoke and Parmesan Risotto   \n",
       "20127        563.0   4.375                       Turkey Cream Puff Pie   \n",
       "20128        631.0   4.375     Snapper on Angel Hair with Citrus Cream   \n",
       "20129        560.0   4.375  Baked Ham with Marmalade-Horseradish Glaze   \n",
       "\n",
       "                                              directionsStr  \\\n",
       "recipeId                                                      \n",
       "0         ['1. Place the stock, lentils, celery, carrot,...   \n",
       "1         ['Combine first 9 ingredients in heavy medium ...   \n",
       "2         ['In a large heavy saucepan cook diced fennel ...   \n",
       "4         ['Preheat oven to 350°F. Lightly grease 8x8x2-...   \n",
       "5         ['Mix basil, mayonnaise and butter in processo...   \n",
       "...                                                     ...   \n",
       "20125     ['Beat whites in a bowl with an electric mixer...   \n",
       "20126     ['Bring broth to simmer in saucepan.Remove fro...   \n",
       "20127     ['Using a sharp knife, cut a shallow X in bott...   \n",
       "20128     ['Heat 2 tablespoons oil in heavy medium skill...   \n",
       "20129     ['Position rack in bottom third of oven and pr...   \n",
       "\n",
       "                                              categoriesStr  \\\n",
       "recipeId                                                      \n",
       "0         ['Sandwich', 'Bean', 'Fruit', 'Tomato', 'turke...   \n",
       "1         ['Food Processor', 'Onion', 'Pork', 'Bake', 'B...   \n",
       "2         ['Soup/Stew', 'Dairy', 'Potato', 'Vegetable', ...   \n",
       "4         ['Cheese', 'Dairy', 'Pasta', 'Vegetable', 'Sid...   \n",
       "5         ['Sandwich', 'Food Processor', 'Tomato', 'Kid-...   \n",
       "...                                                     ...   \n",
       "20125     ['Mixer', 'Cheese', 'Egg', 'Fry', 'Cocktail Pa...   \n",
       "20126     ['Side', 'Kid-Friendly', 'High Fiber', 'Dinner...   \n",
       "20127     ['Onion', 'Poultry', 'turkey', 'Vegetable', 'B...   \n",
       "20128     ['Milk/Cream', 'Citrus', 'Dairy', 'Fish', 'Gar...   \n",
       "20129     ['Pork', 'Bake', 'Roast', 'Christmas', 'Ham', ...   \n",
       "\n",
       "                                             ingredientsStr  \n",
       "recipeId                                                     \n",
       "0         ['4 cups low-sodium vegetable or chicken stock...  \n",
       "1         ['1 1/2 cups whipping cream', '2 medium onions...  \n",
       "2         ['1 fennel bulb (sometimes called anise), stal...  \n",
       "4         ['1 12-ounce package frozen spinach soufflé, t...  \n",
       "5         ['2 1/2 cups (lightly packed) fresh basil leav...  \n",
       "...                                                     ...  \n",
       "20125     ['2 large egg whites', '3 oz Parmigiano-Reggia...  \n",
       "20126     ['5 1/2 cups (or more) low-salt chicken broth'...  \n",
       "20127     ['1 small tomato', '1 small onion, finely chop...  \n",
       "20128     ['4 tablespoons olive oil', '4 shallots, thinl...  \n",
       "20129     ['1 18-pound fully cooked bone-in smoked ham, ...  \n",
       "\n",
       "[14526 rows x 6 columns]"
      ]
     },
     "execution_count": 5,
     "metadata": {},
     "output_type": "execute_result"
    }
   ],
   "source": [
    "df.set_index('recipeId')"
   ]
  },
  {
   "cell_type": "code",
   "execution_count": 6,
   "metadata": {},
   "outputs": [
    {
     "name": "stdout",
     "output_type": "stream",
     "text": [
      "Null values: 0\n",
      "Duplicated rows: 0\n"
     ]
    }
   ],
   "source": [
    "# confirm that there are no null values or duplicated values\n",
    "print(f\"Null values: {df.isna().sum().sum()}\")\n",
    "print(f\"Duplicated rows: {df.duplicated().sum()}\")"
   ]
  },
  {
   "cell_type": "code",
   "execution_count": 39,
   "metadata": {},
   "outputs": [],
   "source": [
    "measurements = set(line.strip() for line in open('..\\..\\Capstone\\measurement_list.txt'))\n",
    "extra_adjectives = set(line.strip() for line in open('..\\..\\Capstone\\extra_adjectives_list.txt'))\n",
    "extra_words = set(line.strip() for line in open('..\\..\\Capstone\\extra_words_list.txt'))"
   ]
  },
  {
   "cell_type": "code",
   "execution_count": 40,
   "metadata": {},
   "outputs": [
    {
     "data": {
      "text/plain": [
       "['whipping',\n",
       " 'cream',\n",
       " 'onions',\n",
       " 'salt',\n",
       " 'bay',\n",
       " 'leaves',\n",
       " 'cloves',\n",
       " 'garlic',\n",
       " 'clove',\n",
       " 'pepper',\n",
       " 'nutmeg',\n",
       " 'thyme',\n",
       " 'shallots',\n",
       " 'butter',\n",
       " 'boneless',\n",
       " 'center',\n",
       " 'pork',\n",
       " 'loin',\n",
       " 'sinew',\n",
       " 'cut',\n",
       " 'chunks',\n",
       " 'chilled',\n",
       " 'eggs',\n",
       " 'purpose',\n",
       " 'flour',\n",
       " 'tawny',\n",
       " 'port',\n",
       " 'currants',\n",
       " 'lettuce',\n",
       " 'leaves',\n",
       " 'peppercorns',\n",
       " 'fresh',\n",
       " 'parsley',\n",
       " 'bay',\n",
       " 'leaves',\n",
       " 'french',\n",
       " 'bread',\n",
       " 'baguette',\n",
       " 'slices',\n",
       " 'olive',\n",
       " 'oil',\n",
       " 'red',\n",
       " 'onions',\n",
       " 'halved',\n",
       " 'currants',\n",
       " 'red',\n",
       " 'wine',\n",
       " 'vinegar',\n",
       " 'canned',\n",
       " 'chicken',\n",
       " 'broth',\n",
       " 'fresh',\n",
       " 'thyme',\n",
       " 'sugar']"
      ]
     },
     "execution_count": 40,
     "metadata": {},
     "output_type": "execute_result"
    }
   ],
   "source": [
    "from sklearn.feature_extraction._stop_words import ENGLISH_STOP_WORDS\n",
    "\n",
    "\"\"\"\n",
    "# one hundred least useful tokens\n",
    "useless = list(coefs.abs().sort_values()[:100].index)\n",
    "\",\".join(useless)\n",
    "\n",
    "my_stops = set(ENGLISH_STOP_WORDS) | set(useless)\n",
    "print(len(my_stops))\n",
    "print(\",\".join(my_stops))\n",
    "\"\"\"\n",
    "my_stops = set(ENGLISH_STOP_WORDS) | measurements | extra_adjectives | extra_words\n",
    "\n",
    "def my_tokenizer(text):\n",
    "    # convert to lowercase\n",
    "    text = text.lower()\n",
    "    # break into characters and weed out punctuation etc.  (include space!)\n",
    "    chars = list(char for char in text if char in \"abcdefghijklmnopqrstuvwxyz \")\n",
    "    # make back into a single string\n",
    "    text = \"\".join(chars)\n",
    "    # break into words and weed out stop words and short words < 3 characters\n",
    "    text = list(word for word in text.split() if word not in my_stops and len(word) >=3)\n",
    "    return text\n",
    "\n",
    "my_tokenizer(df['ingredientsStr'][1])"
   ]
  },
  {
   "cell_type": "code",
   "execution_count": 41,
   "metadata": {},
   "outputs": [
    {
     "name": "stderr",
     "output_type": "stream",
     "text": [
      "c:\\Users\\anami\\anaconda3\\Lib\\site-packages\\sklearn\\feature_extraction\\text.py:528: UserWarning: The parameter 'token_pattern' will not be used since 'tokenizer' is not None'\n",
      "  warnings.warn(\n"
     ]
    }
   ],
   "source": [
    "vect = CountVectorizer(tokenizer=my_tokenizer,\n",
    "                       min_df=5)\n",
    "vect.fit(df['ingredientsStr'])\n",
    "vocab = vect.get_feature_names_out()\n",
    "text_transformed = vect.transform(df['ingredientsStr'])"
   ]
  },
  {
   "cell_type": "code",
   "execution_count": 42,
   "metadata": {},
   "outputs": [
    {
     "data": {
      "text/plain": [
       "2168"
      ]
     },
     "execution_count": 42,
     "metadata": {},
     "output_type": "execute_result"
    }
   ],
   "source": [
    "len(vocab)"
   ]
  },
  {
   "cell_type": "code",
   "execution_count": 43,
   "metadata": {},
   "outputs": [
    {
     "data": {
      "text/plain": [
       "numpy.ndarray"
      ]
     },
     "execution_count": 43,
     "metadata": {},
     "output_type": "execute_result"
    }
   ],
   "source": [
    "type(vocab)"
   ]
  },
  {
   "cell_type": "code",
   "execution_count": 35,
   "metadata": {},
   "outputs": [],
   "source": [
    "#vocab.tofile(\"vocab\",sep=\" \", format=\"%s\")"
   ]
  },
  {
   "cell_type": "code",
   "execution_count": 52,
   "metadata": {},
   "outputs": [],
   "source": [
    "vect2 = CountVectorizer(stop_words=\"english\")\n",
    "vect2.fit(df['categoriesStr'])\n",
    "vocab_categories = vect2.get_feature_names_out()\n",
    "text_transformed_2 = vect2.transform(df['categoriesStr'])"
   ]
  },
  {
   "cell_type": "code",
   "execution_count": 53,
   "metadata": {},
   "outputs": [
    {
     "data": {
      "text/plain": [
       "701"
      ]
     },
     "execution_count": 53,
     "metadata": {},
     "output_type": "execute_result"
    }
   ],
   "source": [
    "len(vocab_categories)"
   ]
  },
  {
   "cell_type": "code",
   "execution_count": 54,
   "metadata": {},
   "outputs": [
    {
     "data": {
      "text/plain": [
       "array(['22', '30', 'added', 'advance', 'alabama', 'alaska', 'alcoholic',\n",
       "       'almond', 'amaretto', 'anchovy', 'angeles', 'anise', 'anniversary',\n",
       "       'anthony', 'aperitif', 'app', 'appetizer', 'apple', 'appétit',\n",
       "       'apricot', 'arizona', 'armagnac', 'artichoke', 'arugula', 'asian',\n",
       "       'asparagus', 'aspen', 'atlanta', 'australia', 'avocado',\n",
       "       'backyard', 'bacon', 'bake', 'banana', 'barbecue', 'barley',\n",
       "       'basil', 'bass', 'bastille', 'bbq', 'beach', 'bean', 'beef',\n",
       "       'beer', 'beet', 'bell', 'berry', 'beverly', 'birthday', 'biscuit',\n",
       "       'bitters', 'blackberry', 'blender', 'blue', 'blueberry', 'boil',\n",
       "       'boiler', 'bok', 'bon', 'boston', 'bourbon', 'bourdain', 'bowl',\n",
       "       'braise', 'bran', 'brandy', 'bread', 'breadcrumbs', 'breakfast',\n",
       "       'brie', 'brine', 'brisket', 'broccoli', 'broil', 'brooklyn',\n",
       "       'brown', 'brownie', 'brunch', 'brussel', 'buffalo', 'buffet',\n",
       "       'bulgaria', 'bulgur', 'burrito', 'butter', 'buttermilk',\n",
       "       'butternut', 'butterscotch', 'cabbage', 'cacao', 'cake',\n",
       "       'cakeweek', 'cal', 'california', 'calvados', 'cambridge',\n",
       "       'campari', 'canada', 'candy', 'cantaloupe', 'capers', 'caramel',\n",
       "       'caraway', 'carb', 'cardamom', 'carolina', 'carrot', 'cashew',\n",
       "       'casserole', 'cauliflower', 'caviar', 'celery', 'chambord',\n",
       "       'champagne', 'chard', 'chartreuse', 'cheddar', 'cheese', 'cherry',\n",
       "       'chestnut', 'chicago', 'chicken', 'chickpea', 'chile', 'chili',\n",
       "       'chill', 'chive', 'chocolate', 'cholesterol', 'chop', 'choy',\n",
       "       'christmas', 'cilantro', 'cinco', 'cinnamon', 'citrus', 'city',\n",
       "       'clam', 'clove', 'cobbler', 'cocktail', 'coconut', 'cod', 'coffee',\n",
       "       'cognac', 'collard', 'colorado', 'columbus', 'condiment',\n",
       "       'connecticut', 'conscious', 'cook', 'cookbook', 'cookbooks',\n",
       "       'cooker', 'cookie', 'cookies', 'coriander', 'corn', 'cornmeal',\n",
       "       'costa', 'cottage', 'couscous', 'cr', 'crab', 'cranberry', 'cream',\n",
       "       'critic', 'crumble', 'créme', 'crêpe', 'cuba', 'cucumber', 'cumin',\n",
       "       'cupcake', 'currant', 'curry', 'custard', 'dairy', 'dallas',\n",
       "       'date', 'day', 'days', 'deep', 'denver', 'derby', 'dessert',\n",
       "       'digestif', 'dill', 'diner', 'dinner', 'dip', 'diwali',\n",
       "       'dominican', 'dorie', 'double', 'dough', 'dressing', 'dried',\n",
       "       'drink', 'drinks', 'duck', 'easter', 'easy', 'eau', 'edible',\n",
       "       'egg', 'eggplant', 'emeril', 'endive', 'engagement', 'england',\n",
       "       'entertaining', 'epi', 'escarole', 'eve', 'fall', 'family', 'fat',\n",
       "       'father', 'fennel', 'feta', 'fiber', 'fig', 'fish', 'flaming',\n",
       "       'flat', 'florida', 'fontina', 'food', 'fortified', 'fourth',\n",
       "       'france', 'francisco', 'frangelico', 'free', 'freeze', 'freezer',\n",
       "       'friendly', 'friendsgiving', 'fritter', 'frozen', 'fruit', 'fry',\n",
       "       'game', 'garden', 'garlic', 'georgia', 'germany', 'gift', 'gin',\n",
       "       'ginger', 'gluten', 'goat', 'goin', 'goose', 'gouda', 'gourmet',\n",
       "       'graduation', 'grains', 'granola', 'grape', 'grapefruit', 'grappa',\n",
       "       'gras', 'gratin', 'green', 'greens', 'greenspan', 'grill',\n",
       "       'grinder', 'groceries', 'ground', 'guam', 'guava', 'haiti',\n",
       "       'halibut', 'halloween', 'ham', 'hamburger', 'hanukkah',\n",
       "       'harpercollins', 'hashanah', 'hawaii', 'hazelnut', 'healdsburg',\n",
       "       'healthy', 'herb', 'high', 'hills', 'hollywood', 'hominy', 'honey',\n",
       "       'honeydew', 'hors', 'horseradish', 'hot', 'house', 'houston',\n",
       "       'hummus', 'ice', 'iced', 'idaho', 'illinois', 'improved',\n",
       "       'indiana', 'ingredient', 'ireland', 'island', 'israel', 'italy',\n",
       "       'jack', 'jalapeño', 'jam', 'japan', 'jelly', 'jersey', 'jerusalem',\n",
       "       'juice', 'juicer', 'july', 'jícama', 'kahlúa', 'kale', 'kansas',\n",
       "       'kentucky', 'kid', 'kidney', 'kippur', 'kirsch', 'kitchen', 'kiwi',\n",
       "       'kosher', 'kumquat', 'kwanzaa', 'labor', 'lagasse', 'lamb',\n",
       "       'lancaster', 'lasagna', 'leafy', 'leek', 'leftovers', 'legume',\n",
       "       'lemon', 'lemongrass', 'lentil', 'lettuce', 'like', 'lima', 'lime',\n",
       "       'lingonberry', 'liqueur', 'lobster', 'london', 'long', 'los',\n",
       "       'louis', 'louisiana', 'louisville', 'loves', 'low', 'lunar',\n",
       "       'lunch', 'lychee', 'macadamia', 'macaroni', 'machine', 'maine',\n",
       "       'maker', 'mandoline', 'mango', 'maple', 'mardi', 'margarita',\n",
       "       'marinade', 'marinate', 'marsala', 'marscarpone', 'marshmallow',\n",
       "       'martini', 'maryland', 'masa', 'massachusetts', 'mayo',\n",
       "       'mayonnaise', 'meal', 'meals', 'meat', 'meatball', 'meatloaf',\n",
       "       'melon', 'meringue', 'mesa', 'mexico', 'mezcal', 'miami',\n",
       "       'michigan', 'microwave', 'midori', 'milk', 'minneapolis',\n",
       "       'minnesota', 'mint', 'minute', 'missouri', 'mixer', 'molasses',\n",
       "       'monica', 'monterey', 'mortar', 'mother', 'mozzarella', 'muffin',\n",
       "       'mushroom', 'mussel', 'mustard', 'nancy', 'nebraska', 'nectarine',\n",
       "       'new', 'night', 'nog', 'non', 'noodle', 'north', 'nut', 'nutmeg',\n",
       "       'oat', 'oatmeal', 'octopus', 'oeuvre', 'ohio', 'oil', 'oklahoma',\n",
       "       'okra', 'oktoberfest', 'olive', 'olympics', 'omelet', 'onion',\n",
       "       'orange', 'oregano', 'oregon', 'organic', 'orleans', 'orzo',\n",
       "       'oscars', 'oyster', 'pacific', 'paleo', 'palisades', 'pan',\n",
       "       'pancake', 'papaya', 'paprika', 'parade', 'paris', 'parmesan',\n",
       "       'parsley', 'parsnip', 'party', 'pasadena', 'passion', 'passover',\n",
       "       'pasta', 'pastry', 'patrick', 'pea', 'peach', 'peanut', 'pear',\n",
       "       'pecan', 'pennsylvania', 'pepper', 'pernod', 'persian',\n",
       "       'persimmon', 'peru', 'pescatarian', 'pestle', 'philippines',\n",
       "       'phyllo', 'pickles', 'picnic', 'pie', 'pine', 'pineapple',\n",
       "       'pistachio', 'pittsburgh', 'pizza', 'plantain', 'plum', 'poach',\n",
       "       'poblano', 'poker', 'pomegranate', 'poppy', 'pork', 'port',\n",
       "       'portland', 'pot', 'potato', 'potluck', 'poultry', 'prep',\n",
       "       'pressure', 'problem', 'processor', 'prosciutto', 'providence',\n",
       "       'prune', 'puff', 'pumpkin', 'punch', 'purim', 'quail', 'quiche',\n",
       "       'quick', 'quince', 'quinoa', 'rabbit', 'rabe', 'rack', 'radicchio',\n",
       "       'radish', 'raisin', 'ramadan', 'ramekin', 'raspberry', 'raw',\n",
       "       'recipes', 'red', 'republic', 'required', 'reunion', 'rhode',\n",
       "       'rhubarb', 'rib', 'rice', 'ricotta', 'roast', 'root', 'rosemary',\n",
       "       'rosh', 'rub', 'rum', 'rutabaga', 'rye', 'saffron', 'sage', 'sake',\n",
       "       'salad', 'salmon', 'salsa', 'san', 'sandwich', 'sangria', 'santa',\n",
       "       'sardine', 'sauce', 'sausage', 'sauté', 'scallion', 'scallop',\n",
       "       'school', 'scotch', 'seafood', 'seattle', 'sec', 'seed', 'self',\n",
       "       'semolina', 'sesame', 'shallot', 'shank', 'shavuot', 'shellfish',\n",
       "       'sherry', 'shower', 'shrimp', 'silverton', 'simmer', 'skewer',\n",
       "       'slow', 'smoker', 'smoothie', 'snack', 'snap', 'snapper', 'sodium',\n",
       "       'sorbet', 'soufflé', 'soup', 'sour', 'sourdough', 'south', 'soy',\n",
       "       'spain', 'sparkling', 'spice', 'spinach', 'spirit', 'spread',\n",
       "       'spring', 'spritzer', 'sprout', 'squash', 'squid', 'st', 'steak',\n",
       "       'steam', 'stew', 'stir', 'stock', 'strawberry', 'stuffing',\n",
       "       'sugar', 'sukkot', 'summer', 'super', 'suzanne', 'sweet', 'swiss',\n",
       "       'switzerland', 'swordfish', 'syrup', 'taco', 'tailgating',\n",
       "       'tamarind', 'tangerine', 'tapioca', 'tarragon', 'tart', 'tea',\n",
       "       'tenderloin', 'tennessee', 'tequila', 'tested', 'texas',\n",
       "       'thanksgiving', 'theory', 'thermometer', 'thyme', 'tilapia', 'tit',\n",
       "       'tofu', 'tomatillo', 'tomato', 'tortillas', 'tree', 'triple',\n",
       "       'tropical', 'trout', 'tuna', 'turkey', 'turnip', 'ushg', 'utah',\n",
       "       'valentine', 'vanilla', 'veal', 'vegan', 'vegetable', 'vegetarian',\n",
       "       'venison', 'vermont', 'vermouth', 'vie', 'vinegar', 'virginia',\n",
       "       'vodka', 'walnut', 'wasabi', 'washington', 'wasteless',\n",
       "       'watercress', 'watermelon', 'wedding', 'week', 'weelicious',\n",
       "       'west', 'westwood', 'wheat', 'whiskey', 'white', 'wild', 'windsor',\n",
       "       'wine', 'winter', 'wisconsin', 'wok', 'yam', 'year', 'yellow',\n",
       "       'yogurt', 'yom', 'yonkers', 'york', 'yuca', 'zucchini'],\n",
       "      dtype=object)"
      ]
     },
     "execution_count": 54,
     "metadata": {},
     "output_type": "execute_result"
    }
   ],
   "source": [
    "vocab_categories"
   ]
  },
  {
   "cell_type": "code",
   "execution_count": 44,
   "metadata": {},
   "outputs": [
    {
     "name": "stderr",
     "output_type": "stream",
     "text": [
      "c:\\Users\\anami\\anaconda3\\Lib\\site-packages\\sklearn\\feature_extraction\\text.py:528: UserWarning: The parameter 'token_pattern' will not be used since 'tokenizer' is not None'\n",
      "  warnings.warn(\n"
     ]
    }
   ],
   "source": [
    "from sklearn.feature_extraction.text import TfidfVectorizer, CountVectorizer\n",
    "\n",
    "# vectorizer = TfidfVectorizer(stop_words = \"english\", min_df=2)\n",
    "# vectorizer = TfidfVectorizer(stop_words = \"english\")\n",
    "# vectorizer = CountVectorizer(stop_words = \"english\")\n",
    "vectorizer = CountVectorizer(tokenizer=my_tokenizer,\n",
    "                       min_df=5)\n",
    "\n",
    "TF_IDF_matrix = vectorizer.fit_transform(df['ingredientsStr'])"
   ]
  },
  {
   "cell_type": "code",
   "execution_count": 45,
   "metadata": {},
   "outputs": [
    {
     "data": {
      "text/plain": [
       "(14526, 2168)"
      ]
     },
     "execution_count": 45,
     "metadata": {},
     "output_type": "execute_result"
    }
   ],
   "source": [
    "TF_IDF_matrix.shape"
   ]
  },
  {
   "cell_type": "code",
   "execution_count": 46,
   "metadata": {},
   "outputs": [
    {
     "data": {
      "text/plain": [
       "<14526x2168 sparse matrix of type '<class 'numpy.int64'>'\n",
       "\twith 344380 stored elements in Compressed Sparse Row format>"
      ]
     },
     "execution_count": 46,
     "metadata": {},
     "output_type": "execute_result"
    }
   ],
   "source": [
    "TF_IDF_matrix"
   ]
  },
  {
   "cell_type": "code",
   "execution_count": 47,
   "metadata": {},
   "outputs": [
    {
     "data": {
      "text/html": [
       "<div>\n",
       "<style scoped>\n",
       "    .dataframe tbody tr th:only-of-type {\n",
       "        vertical-align: middle;\n",
       "    }\n",
       "\n",
       "    .dataframe tbody tr th {\n",
       "        vertical-align: top;\n",
       "    }\n",
       "\n",
       "    .dataframe thead th {\n",
       "        text-align: right;\n",
       "    }\n",
       "</style>\n",
       "<table border=\"1\" class=\"dataframe\">\n",
       "  <thead>\n",
       "    <tr style=\"text-align: right;\">\n",
       "      <th></th>\n",
       "      <th>recipeId</th>\n",
       "      <th>calories</th>\n",
       "      <th>rating</th>\n",
       "      <th>title</th>\n",
       "      <th>directionsStr</th>\n",
       "      <th>categoriesStr</th>\n",
       "      <th>ingredientsStr</th>\n",
       "    </tr>\n",
       "  </thead>\n",
       "  <tbody>\n",
       "    <tr>\n",
       "      <th>4918</th>\n",
       "      <td>6368</td>\n",
       "      <td>1842.0</td>\n",
       "      <td>5.000</td>\n",
       "      <td>Chicken Parmesan</td>\n",
       "      <td>['Place breadcrumbs and flour in 2 separate sh...</td>\n",
       "      <td>['Chicken', 'Tomato', 'Broil', 'Kid-Friendly',...</td>\n",
       "      <td>['2 cups fine dry breadcrumbs', '1 cup all-pur...</td>\n",
       "    </tr>\n",
       "    <tr>\n",
       "      <th>7482</th>\n",
       "      <td>9873</td>\n",
       "      <td>3392.0</td>\n",
       "      <td>3.750</td>\n",
       "      <td>Chicken Parmesan Heros</td>\n",
       "      <td>['Heat olive oil in a 4- to 5-quart heavy sauc...</td>\n",
       "      <td>['Sandwich', 'Cheese', 'Chicken', 'Poultry', '...</td>\n",
       "      <td>['3 tablespoons olive oil', '1 small onion, fi...</td>\n",
       "    </tr>\n",
       "    <tr>\n",
       "      <th>9982</th>\n",
       "      <td>13372</td>\n",
       "      <td>610.0</td>\n",
       "      <td>4.375</td>\n",
       "      <td>New Chicken Parmesan</td>\n",
       "      <td>['Preheat oven to 500° F. Whisk first 3 ingred...</td>\n",
       "      <td>['Chicken', 'Tomato', 'Roast', 'Kid-Friendly',...</td>\n",
       "      <td>['1/3 cup extra-virgin olive oil', '2 large ga...</td>\n",
       "    </tr>\n",
       "    <tr>\n",
       "      <th>12825</th>\n",
       "      <td>17557</td>\n",
       "      <td>917.0</td>\n",
       "      <td>5.000</td>\n",
       "      <td>Quick Baked Chicken Parmesan</td>\n",
       "      <td>['Arrange racks in top and bottom of oven and ...</td>\n",
       "      <td>['22-Minute Meals', 'Chicken', 'Parmesan', 'To...</td>\n",
       "      <td>['2 large eggs', '1 1/2 cups breadcrumbs or pa...</td>\n",
       "    </tr>\n",
       "  </tbody>\n",
       "</table>\n",
       "</div>"
      ],
      "text/plain": [
       "       recipeId  calories  rating                         title  \\\n",
       "4918       6368    1842.0   5.000              Chicken Parmesan   \n",
       "7482       9873    3392.0   3.750        Chicken Parmesan Heros   \n",
       "9982      13372     610.0   4.375          New Chicken Parmesan   \n",
       "12825     17557     917.0   5.000  Quick Baked Chicken Parmesan   \n",
       "\n",
       "                                           directionsStr  \\\n",
       "4918   ['Place breadcrumbs and flour in 2 separate sh...   \n",
       "7482   ['Heat olive oil in a 4- to 5-quart heavy sauc...   \n",
       "9982   ['Preheat oven to 500° F. Whisk first 3 ingred...   \n",
       "12825  ['Arrange racks in top and bottom of oven and ...   \n",
       "\n",
       "                                           categoriesStr  \\\n",
       "4918   ['Chicken', 'Tomato', 'Broil', 'Kid-Friendly',...   \n",
       "7482   ['Sandwich', 'Cheese', 'Chicken', 'Poultry', '...   \n",
       "9982   ['Chicken', 'Tomato', 'Roast', 'Kid-Friendly',...   \n",
       "12825  ['22-Minute Meals', 'Chicken', 'Parmesan', 'To...   \n",
       "\n",
       "                                          ingredientsStr  \n",
       "4918   ['2 cups fine dry breadcrumbs', '1 cup all-pur...  \n",
       "7482   ['3 tablespoons olive oil', '1 small onion, fi...  \n",
       "9982   ['1/3 cup extra-virgin olive oil', '2 large ga...  \n",
       "12825  ['2 large eggs', '1 1/2 cups breadcrumbs or pa...  "
      ]
     },
     "execution_count": 47,
     "metadata": {},
     "output_type": "execute_result"
    }
   ],
   "source": [
    "# Artichoke and Parmesan Risotto\n",
    "df[df['title'].str.contains('Chicken Parmesan', na=False)]"
   ]
  },
  {
   "cell_type": "code",
   "execution_count": 48,
   "metadata": {},
   "outputs": [
    {
     "data": {
      "text/html": [
       "<div>\n",
       "<style scoped>\n",
       "    .dataframe tbody tr th:only-of-type {\n",
       "        vertical-align: middle;\n",
       "    }\n",
       "\n",
       "    .dataframe tbody tr th {\n",
       "        vertical-align: top;\n",
       "    }\n",
       "\n",
       "    .dataframe thead th {\n",
       "        text-align: right;\n",
       "    }\n",
       "</style>\n",
       "<table border=\"1\" class=\"dataframe\">\n",
       "  <thead>\n",
       "    <tr style=\"text-align: right;\">\n",
       "      <th></th>\n",
       "      <th>recipeId</th>\n",
       "      <th>calories</th>\n",
       "      <th>rating</th>\n",
       "      <th>title</th>\n",
       "      <th>directionsStr</th>\n",
       "      <th>categoriesStr</th>\n",
       "      <th>ingredientsStr</th>\n",
       "    </tr>\n",
       "  </thead>\n",
       "  <tbody>\n",
       "    <tr>\n",
       "      <th>25</th>\n",
       "      <td>35</td>\n",
       "      <td>625.0</td>\n",
       "      <td>3.750</td>\n",
       "      <td>Aztec Chicken</td>\n",
       "      <td>['Melt 2 tablespoons butter with vegetable oil...</td>\n",
       "      <td>['Chicken', 'Olive', 'Onion', 'Sauté', 'Dinner...</td>\n",
       "      <td>['6 tablespoons (3/4 stick) chilled butter', '...</td>\n",
       "    </tr>\n",
       "    <tr>\n",
       "      <th>37</th>\n",
       "      <td>53</td>\n",
       "      <td>1203.0</td>\n",
       "      <td>5.000</td>\n",
       "      <td>Pancetta Roast Chicken with Walnut Stuffing</td>\n",
       "      <td>['Preheat oven to 400°F. Melt 1/4 cup butter i...</td>\n",
       "      <td>['Chicken', 'Roast', 'High Fiber', 'Dinner', '...</td>\n",
       "      <td>['8 tablespoons (1 stick) butter, divided', 'C...</td>\n",
       "    </tr>\n",
       "    <tr>\n",
       "      <th>61</th>\n",
       "      <td>80</td>\n",
       "      <td>1172.0</td>\n",
       "      <td>4.375</td>\n",
       "      <td>Braised Chicken and Rice with Orange, Saffron,...</td>\n",
       "      <td>['Rinse the rice in a sieve under cold running...</td>\n",
       "      <td>['Chicken', 'Citrus', 'Fruit', 'Nut', 'Poultry...</td>\n",
       "      <td>['1 1/2 cups brown basmati rice', '1/4 cup oli...</td>\n",
       "    </tr>\n",
       "    <tr>\n",
       "      <th>63</th>\n",
       "      <td>82</td>\n",
       "      <td>682.0</td>\n",
       "      <td>4.375</td>\n",
       "      <td>Chicken in Green Pumpkin-Seed Sauce</td>\n",
       "      <td>['Bring all ingredients to boil in large pot. ...</td>\n",
       "      <td>['Chicken', 'Low/No Sugar', 'Cinco de Mayo', '...</td>\n",
       "      <td>['5 cups water', '6 chicken thighs with skin a...</td>\n",
       "    </tr>\n",
       "    <tr>\n",
       "      <th>67</th>\n",
       "      <td>87</td>\n",
       "      <td>1143.0</td>\n",
       "      <td>0.000</td>\n",
       "      <td>Roast Chicken With Sorghum and Squash</td>\n",
       "      <td>['Bring 5 cups water to a boil in a medium pot...</td>\n",
       "      <td>['Bon Appétit', 'Dinner', 'Chicken', 'Grains',...</td>\n",
       "      <td>['Kosher salt', '1 cup sorghum', '1/2 large bu...</td>\n",
       "    </tr>\n",
       "    <tr>\n",
       "      <th>...</th>\n",
       "      <td>...</td>\n",
       "      <td>...</td>\n",
       "      <td>...</td>\n",
       "      <td>...</td>\n",
       "      <td>...</td>\n",
       "      <td>...</td>\n",
       "      <td>...</td>\n",
       "    </tr>\n",
       "    <tr>\n",
       "      <th>14445</th>\n",
       "      <td>20007</td>\n",
       "      <td>936.0</td>\n",
       "      <td>4.375</td>\n",
       "      <td>Braised Chicken with Smoked Ham, Chestnuts, an...</td>\n",
       "      <td>['Bring water to a simmer in a small saucepan,...</td>\n",
       "      <td>['Chicken', 'Ginger', 'Braise', 'Marinate', 'D...</td>\n",
       "      <td>['2 3/4 cups water', '12 dried Chinese black m...</td>\n",
       "    </tr>\n",
       "    <tr>\n",
       "      <th>14473</th>\n",
       "      <td>20050</td>\n",
       "      <td>356.0</td>\n",
       "      <td>3.750</td>\n",
       "      <td>Hot Chicken Salad</td>\n",
       "      <td>['1. Preheat the oven to 375°F. Spray a 13-by-...</td>\n",
       "      <td>['Cheese', 'Chicken', 'Nut', 'Poultry', 'Bake'...</td>\n",
       "      <td>['2 cups cooked chicken breast meat, cubed (Yo...</td>\n",
       "    </tr>\n",
       "    <tr>\n",
       "      <th>14475</th>\n",
       "      <td>20052</td>\n",
       "      <td>878.0</td>\n",
       "      <td>4.375</td>\n",
       "      <td>Chicken Tetrazzini</td>\n",
       "      <td>['Bring chicken bones, broth, carrot, onion, c...</td>\n",
       "      <td>['Chicken', 'Mushroom', 'Pasta', 'Bake', 'Supe...</td>\n",
       "      <td>['1 to 1 1/2 pound chicken bones (from 2 cooke...</td>\n",
       "    </tr>\n",
       "    <tr>\n",
       "      <th>14497</th>\n",
       "      <td>20091</td>\n",
       "      <td>1096.0</td>\n",
       "      <td>3.750</td>\n",
       "      <td>Chicken with Raisins and Lemon</td>\n",
       "      <td>['Arrange chicken in single layer in large Dut...</td>\n",
       "      <td>['Chicken', 'Potato', 'Poultry', 'Lemon', 'Rai...</td>\n",
       "      <td>['1 3 1/2-pound chicken, cut into 8 pieces', '...</td>\n",
       "    </tr>\n",
       "    <tr>\n",
       "      <th>14518</th>\n",
       "      <td>20121</td>\n",
       "      <td>1086.0</td>\n",
       "      <td>5.000</td>\n",
       "      <td>Crispy Salt and Pepper Chicken with Caramelize...</td>\n",
       "      <td>['1. Preheat the oven to 400°F. Spray a baking...</td>\n",
       "      <td>['Chicken', 'Poultry', 'Bake', 'Passover', 'Fe...</td>\n",
       "      <td>['Cooking spray', 'One 3 1/2-pound chicken, cu...</td>\n",
       "    </tr>\n",
       "  </tbody>\n",
       "</table>\n",
       "<p>919 rows × 7 columns</p>\n",
       "</div>"
      ],
      "text/plain": [
       "       recipeId  calories  rating  \\\n",
       "25           35     625.0   3.750   \n",
       "37           53    1203.0   5.000   \n",
       "61           80    1172.0   4.375   \n",
       "63           82     682.0   4.375   \n",
       "67           87    1143.0   0.000   \n",
       "...         ...       ...     ...   \n",
       "14445     20007     936.0   4.375   \n",
       "14473     20050     356.0   3.750   \n",
       "14475     20052     878.0   4.375   \n",
       "14497     20091    1096.0   3.750   \n",
       "14518     20121    1086.0   5.000   \n",
       "\n",
       "                                                   title  \\\n",
       "25                                         Aztec Chicken   \n",
       "37           Pancetta Roast Chicken with Walnut Stuffing   \n",
       "61     Braised Chicken and Rice with Orange, Saffron,...   \n",
       "63                   Chicken in Green Pumpkin-Seed Sauce   \n",
       "67                 Roast Chicken With Sorghum and Squash   \n",
       "...                                                  ...   \n",
       "14445  Braised Chicken with Smoked Ham, Chestnuts, an...   \n",
       "14473                                  Hot Chicken Salad   \n",
       "14475                                 Chicken Tetrazzini   \n",
       "14497                     Chicken with Raisins and Lemon   \n",
       "14518  Crispy Salt and Pepper Chicken with Caramelize...   \n",
       "\n",
       "                                           directionsStr  \\\n",
       "25     ['Melt 2 tablespoons butter with vegetable oil...   \n",
       "37     ['Preheat oven to 400°F. Melt 1/4 cup butter i...   \n",
       "61     ['Rinse the rice in a sieve under cold running...   \n",
       "63     ['Bring all ingredients to boil in large pot. ...   \n",
       "67     ['Bring 5 cups water to a boil in a medium pot...   \n",
       "...                                                  ...   \n",
       "14445  ['Bring water to a simmer in a small saucepan,...   \n",
       "14473  ['1. Preheat the oven to 375°F. Spray a 13-by-...   \n",
       "14475  ['Bring chicken bones, broth, carrot, onion, c...   \n",
       "14497  ['Arrange chicken in single layer in large Dut...   \n",
       "14518  ['1. Preheat the oven to 400°F. Spray a baking...   \n",
       "\n",
       "                                           categoriesStr  \\\n",
       "25     ['Chicken', 'Olive', 'Onion', 'Sauté', 'Dinner...   \n",
       "37     ['Chicken', 'Roast', 'High Fiber', 'Dinner', '...   \n",
       "61     ['Chicken', 'Citrus', 'Fruit', 'Nut', 'Poultry...   \n",
       "63     ['Chicken', 'Low/No Sugar', 'Cinco de Mayo', '...   \n",
       "67     ['Bon Appétit', 'Dinner', 'Chicken', 'Grains',...   \n",
       "...                                                  ...   \n",
       "14445  ['Chicken', 'Ginger', 'Braise', 'Marinate', 'D...   \n",
       "14473  ['Cheese', 'Chicken', 'Nut', 'Poultry', 'Bake'...   \n",
       "14475  ['Chicken', 'Mushroom', 'Pasta', 'Bake', 'Supe...   \n",
       "14497  ['Chicken', 'Potato', 'Poultry', 'Lemon', 'Rai...   \n",
       "14518  ['Chicken', 'Poultry', 'Bake', 'Passover', 'Fe...   \n",
       "\n",
       "                                          ingredientsStr  \n",
       "25     ['6 tablespoons (3/4 stick) chilled butter', '...  \n",
       "37     ['8 tablespoons (1 stick) butter, divided', 'C...  \n",
       "61     ['1 1/2 cups brown basmati rice', '1/4 cup oli...  \n",
       "63     ['5 cups water', '6 chicken thighs with skin a...  \n",
       "67     ['Kosher salt', '1 cup sorghum', '1/2 large bu...  \n",
       "...                                                  ...  \n",
       "14445  ['2 3/4 cups water', '12 dried Chinese black m...  \n",
       "14473  ['2 cups cooked chicken breast meat, cubed (Yo...  \n",
       "14475  ['1 to 1 1/2 pound chicken bones (from 2 cooke...  \n",
       "14497  ['1 3 1/2-pound chicken, cut into 8 pieces', '...  \n",
       "14518  ['Cooking spray', 'One 3 1/2-pound chicken, cu...  \n",
       "\n",
       "[919 rows x 7 columns]"
      ]
     },
     "execution_count": 48,
     "metadata": {},
     "output_type": "execute_result"
    }
   ],
   "source": [
    "df[df['title'].str.contains('Chicken', na=False)]"
   ]
  },
  {
   "cell_type": "code",
   "execution_count": 49,
   "metadata": {},
   "outputs": [
    {
     "data": {
      "text/plain": [
       "matrix([[0, 0, 0, ..., 0, 0, 0]], dtype=int64)"
      ]
     },
     "execution_count": 49,
     "metadata": {},
     "output_type": "execute_result"
    }
   ],
   "source": [
    "TF_IDF_matrix[(df['title'] == 'Chicken Parmesan').values].todense().squeeze()"
   ]
  },
  {
   "cell_type": "code",
   "execution_count": 50,
   "metadata": {},
   "outputs": [
    {
     "name": "stdout",
     "output_type": "stream",
     "text": [
      "Similarity: [[0.34776522]]\n"
     ]
    }
   ],
   "source": [
    "from sklearn.metrics.pairwise import cosine_similarity\n",
    "\n",
    "recipe_1 = TF_IDF_matrix[(df['title'] == 'Chicken Parmesan').values,]\n",
    "recipe_2 = TF_IDF_matrix[(df['title'] == 'Chicken Parmesan Heros').values,]\n",
    "\n",
    "print(\"Similarity:\", cosine_similarity(recipe_1, recipe_2)) # Notice the result is a 2D 1X1 array, so to grab\n",
    "                                                          # the number we will need to index"
   ]
  },
  {
   "cell_type": "code",
   "execution_count": 51,
   "metadata": {},
   "outputs": [
    {
     "name": "stdout",
     "output_type": "stream",
     "text": [
      "Similarity: [[0.20628425]]\n"
     ]
    }
   ],
   "source": [
    "recipe_3 = TF_IDF_matrix[(df['title'] == 'Artichoke and Parmesan Risotto').values,]\n",
    "print(\"Similarity:\", cosine_similarity(recipe_1, recipe_3))"
   ]
  },
  {
   "cell_type": "markdown",
   "metadata": {},
   "source": [
    "TODO - Ana - Look at the actual recipes and see whether the similarity makes sense"
   ]
  },
  {
   "cell_type": "code",
   "execution_count": 52,
   "metadata": {},
   "outputs": [],
   "source": [
    "from sklearn.metrics.pairwise import cosine_similarity\n",
    "similarities = cosine_similarity(TF_IDF_matrix, dense_output=False)"
   ]
  },
  {
   "cell_type": "code",
   "execution_count": 53,
   "metadata": {},
   "outputs": [
    {
     "data": {
      "text/plain": [
       "(14526, 14526)"
      ]
     },
     "execution_count": 53,
     "metadata": {},
     "output_type": "execute_result"
    }
   ],
   "source": [
    "# Check the shape\n",
    "# rows and columns should be equal, and the number of movies we started with (rows)\n",
    "similarities.shape"
   ]
  },
  {
   "cell_type": "code",
   "execution_count": 54,
   "metadata": {},
   "outputs": [
    {
     "data": {
      "text/html": [
       "<div>\n",
       "<style scoped>\n",
       "    .dataframe tbody tr th:only-of-type {\n",
       "        vertical-align: middle;\n",
       "    }\n",
       "\n",
       "    .dataframe tbody tr th {\n",
       "        vertical-align: top;\n",
       "    }\n",
       "\n",
       "    .dataframe thead th {\n",
       "        text-align: right;\n",
       "    }\n",
       "</style>\n",
       "<table border=\"1\" class=\"dataframe\">\n",
       "  <thead>\n",
       "    <tr style=\"text-align: right;\">\n",
       "      <th></th>\n",
       "      <th>recipeId</th>\n",
       "      <th>calories</th>\n",
       "      <th>rating</th>\n",
       "      <th>title</th>\n",
       "      <th>directionsStr</th>\n",
       "      <th>categoriesStr</th>\n",
       "      <th>ingredientsStr</th>\n",
       "    </tr>\n",
       "  </thead>\n",
       "  <tbody>\n",
       "    <tr>\n",
       "      <th>4918</th>\n",
       "      <td>6368</td>\n",
       "      <td>1842.0</td>\n",
       "      <td>5.0</td>\n",
       "      <td>Chicken Parmesan</td>\n",
       "      <td>['Place breadcrumbs and flour in 2 separate sh...</td>\n",
       "      <td>['Chicken', 'Tomato', 'Broil', 'Kid-Friendly',...</td>\n",
       "      <td>['2 cups fine dry breadcrumbs', '1 cup all-pur...</td>\n",
       "    </tr>\n",
       "  </tbody>\n",
       "</table>\n",
       "</div>"
      ],
      "text/plain": [
       "      recipeId  calories  rating             title  \\\n",
       "4918      6368    1842.0     5.0  Chicken Parmesan   \n",
       "\n",
       "                                          directionsStr  \\\n",
       "4918  ['Place breadcrumbs and flour in 2 separate sh...   \n",
       "\n",
       "                                          categoriesStr  \\\n",
       "4918  ['Chicken', 'Tomato', 'Broil', 'Kid-Friendly',...   \n",
       "\n",
       "                                         ingredientsStr  \n",
       "4918  ['2 cups fine dry breadcrumbs', '1 cup all-pur...  "
      ]
     },
     "execution_count": 54,
     "metadata": {},
     "output_type": "execute_result"
    }
   ],
   "source": [
    "# Test with a sample recipe\n",
    "df[df['title'] == 'Chicken Parmesan']\n",
    "# print(df.loc[df['recipeId'] == 6368, ['title']].values[0])"
   ]
  },
  {
   "cell_type": "code",
   "execution_count": 55,
   "metadata": {},
   "outputs": [],
   "source": [
    "# Get the column based upon the index\n",
    "recipe_index = df[df['title'] == 'Chicken Parmesan'].index\n",
    "\n",
    "# Create a dataframe with the movie titles\n",
    "sim_df = pd.DataFrame({'recipe': df['title'],\n",
    "                       'similarity': np.array(similarities[recipe_index, :].todense()).squeeze()})"
   ]
  },
  {
   "cell_type": "code",
   "execution_count": 56,
   "metadata": {},
   "outputs": [
    {
     "data": {
      "text/html": [
       "<div>\n",
       "<style scoped>\n",
       "    .dataframe tbody tr th:only-of-type {\n",
       "        vertical-align: middle;\n",
       "    }\n",
       "\n",
       "    .dataframe tbody tr th {\n",
       "        vertical-align: top;\n",
       "    }\n",
       "\n",
       "    .dataframe thead th {\n",
       "        text-align: right;\n",
       "    }\n",
       "</style>\n",
       "<table border=\"1\" class=\"dataframe\">\n",
       "  <thead>\n",
       "    <tr style=\"text-align: right;\">\n",
       "      <th></th>\n",
       "      <th>recipe</th>\n",
       "      <th>similarity</th>\n",
       "    </tr>\n",
       "  </thead>\n",
       "  <tbody>\n",
       "    <tr>\n",
       "      <th>4918</th>\n",
       "      <td>Chicken Parmesan</td>\n",
       "      <td>1.000000</td>\n",
       "    </tr>\n",
       "    <tr>\n",
       "      <th>12825</th>\n",
       "      <td>Quick Baked Chicken Parmesan</td>\n",
       "      <td>0.553191</td>\n",
       "    </tr>\n",
       "    <tr>\n",
       "      <th>6860</th>\n",
       "      <td>Chicken and Dumplings with Mushrooms</td>\n",
       "      <td>0.522931</td>\n",
       "    </tr>\n",
       "    <tr>\n",
       "      <th>11718</th>\n",
       "      <td>Fried Chicken Biscuits</td>\n",
       "      <td>0.520939</td>\n",
       "    </tr>\n",
       "    <tr>\n",
       "      <th>13533</th>\n",
       "      <td>Fusilli with Shrimp and Paneed Chicken</td>\n",
       "      <td>0.517769</td>\n",
       "    </tr>\n",
       "    <tr>\n",
       "      <th>1937</th>\n",
       "      <td>East-West Barbecued Chicken</td>\n",
       "      <td>0.506168</td>\n",
       "    </tr>\n",
       "    <tr>\n",
       "      <th>8877</th>\n",
       "      <td>Pepper, Rosemary, and Cheese Bread</td>\n",
       "      <td>0.505992</td>\n",
       "    </tr>\n",
       "    <tr>\n",
       "      <th>7471</th>\n",
       "      <td>Fried Chicken Thighs with Cheesy Grits</td>\n",
       "      <td>0.503038</td>\n",
       "    </tr>\n",
       "    <tr>\n",
       "      <th>4490</th>\n",
       "      <td>Parmesan Muffins</td>\n",
       "      <td>0.501956</td>\n",
       "    </tr>\n",
       "    <tr>\n",
       "      <th>14180</th>\n",
       "      <td>BA's Best Eggplant Parmesan</td>\n",
       "      <td>0.500428</td>\n",
       "    </tr>\n",
       "  </tbody>\n",
       "</table>\n",
       "</div>"
      ],
      "text/plain": [
       "                                       recipe  similarity\n",
       "4918                         Chicken Parmesan    1.000000\n",
       "12825            Quick Baked Chicken Parmesan    0.553191\n",
       "6860     Chicken and Dumplings with Mushrooms    0.522931\n",
       "11718                  Fried Chicken Biscuits    0.520939\n",
       "13533  Fusilli with Shrimp and Paneed Chicken    0.517769\n",
       "1937              East-West Barbecued Chicken    0.506168\n",
       "8877       Pepper, Rosemary, and Cheese Bread    0.505992\n",
       "7471   Fried Chicken Thighs with Cheesy Grits    0.503038\n",
       "4490                         Parmesan Muffins    0.501956\n",
       "14180             BA's Best Eggplant Parmesan    0.500428"
      ]
     },
     "execution_count": 56,
     "metadata": {},
     "output_type": "execute_result"
    }
   ],
   "source": [
    "# Return the top 10 most similar recipes\n",
    "sim_df.sort_values(by='similarity', ascending=False).head(10)"
   ]
  },
  {
   "cell_type": "markdown",
   "metadata": {},
   "source": [
    "With TFIDF Vectorizer:\n",
    "\n",
    "| recipe |                                       similarity |          |\n",
    "|-------:|-------------------------------------------------:|----------|\n",
    "|   4918 |                                 Chicken Parmesan | 1.000000 |\n",
    "|  11718 |                           Fried Chicken Biscuits | 0.424981 |\n",
    "|  12825 |                     Quick Baked Chicken Parmesan | 0.424046 |\n",
    "|   1165 |                          Mozzarella Pesto Spread | 0.412968 |\n",
    "|   9877 |         Rigatoni with Cheese and Italian Sausage | 0.360720 |\n",
    "|  14180 |                      BA's Best Eggplant Parmesan | 0.356189 |\n",
    "|   5786 |                         Horseradish-Yogurt Sauce | 0.351933 |\n",
    "|   3927 | Chunky Two-Cheese Potatoes with Garlic and Pesto | 0.333565 |\n",
    "|  13533 |           Fusilli with Shrimp and Paneed Chicken | 0.331478 |\n",
    "|   3123 |    Spicy Lamb Pizza With Parsley–Red Onion Salad | 0.328433 |"
   ]
  },
  {
   "cell_type": "markdown",
   "metadata": {},
   "source": [
    "Results with CountVectorizer seem better:\n",
    "\n",
    "|       |                                            recipe | similarity |\n",
    "|------:|--------------------------------------------------:|------------|\n",
    "|  4918 |                                  Chicken Parmesan |   1.000000 |\n",
    "| 13533 |            Fusilli with Shrimp and Paneed Chicken |   0.587137 |\n",
    "| 12480 |                          Spicy Oven-Fried Chicken |   0.574641 |\n",
    "| 11718 |                            Fried Chicken Biscuits |   0.559149 |\n",
    "| 14180 |                       BA's Best Eggplant Parmesan |   0.557207 |\n",
    "|  7749 |            Lamb and Eggplant Casserole (Moussaka) |   0.556499 |\n",
    "| 11245 |                                             Pinon |   0.548443 |\n",
    "|  9785 | Breaded Skinless Fish Fillets with Red Pepper ... |   0.540222 |\n",
    "|  6860 |              Chicken and Dumplings with Mushrooms |   0.539425 |\n",
    "| 11336 | Crispy Chicken Sandwich with Buttermilk Slaw a... |   0.539164 |"
   ]
  },
  {
   "cell_type": "markdown",
   "metadata": {},
   "source": [
    "TODO: Ana check these results - something does not make sense, should I try with CountVectorizer? Still getting some weird results like Pinon."
   ]
  },
  {
   "cell_type": "markdown",
   "metadata": {},
   "source": [
    "Tried with custom tokenizer that removed most measurements and adjectives - TODO see if there is a library for this e.g. https://stackoverflow.com/questions/33587667/extracting-all-nouns-from-a-text-file-using-nltk\n",
    "\n",
    "The results are better now:\n",
    "|   |       |                                 recipe | similarity |\n",
    "|---|------:|---------------------------------------:|------------|\n",
    "|   |  4918 |                       Chicken Parmesan |   1.000000 |\n",
    "|   | 12825 |           Quick Baked Chicken Parmesan |   0.553191 |\n",
    "|   |  6860 |   Chicken and Dumplings with Mushrooms |   0.522931 |\n",
    "|   | 11718 |                 Fried Chicken Biscuits |   0.520939 |\n",
    "|   | 13533 | Fusilli with Shrimp and Paneed Chicken |   0.517769 |\n",
    "|   |  1937 |            East-West Barbecued Chicken |   0.506168 |\n",
    "|   |  8877 |     Pepper, Rosemary, and Cheese Bread |   0.505992 |\n",
    "|   |  7471 | Fried Chicken Thighs with Cheesy Grits |   0.503038 |\n",
    "|   |  4490 |                       Parmesan Muffins |   0.501956 |\n",
    "|   | 14180 |            BA's Best Eggplant Parmesan |   0.500428 |"
   ]
  },
  {
   "cell_type": "code",
   "execution_count": 91,
   "metadata": {},
   "outputs": [
    {
     "data": {
      "text/plain": [
       "array([['Chicken Parmesan',\n",
       "        '[\\'2 cups fine dry breadcrumbs\\', \\'1 cup all-purpose flour\\', \\'4 large eggs\\', \\'1 cup whole milk\\', \\'8 small skinless, boneless chicken thighs, pounded to 1/2\" thickness\\', \\'Kosher salt, freshly ground pepper\\', \\'N/A freshly ground pepper\\', \\'8 tablespoons olive oil\\', \\'8 tablespoons prepared sun-dried tomato pesto\\', \\'1 pound fresh mozzarella, cut into 8 slices\\', \\'1/2 teaspoon crushed red pepper flakes\\', \\'4 cups prepared marinara sauce, warmed\\', \\'Finely grated Parmesan (for serving)\\']'],\n",
       "       ['Pinon',\n",
       "        \"['1 medium onion', '1/2 small green bell pepper', '1/2 small red bell pepper', 'a 14- to 16-ounce can whole tomatoes', '1/3 cup drained pimiento-stuffed green olives', '1 pound ground beef chuck', '1/4 teaspoon salt', '1/4 teaspoon freshly ground black pepper', '1/2 cup tomato sauce', '2 tablespoons raisins', '1 tablespoon cider vinegar', '2 bay leaves', '1/4 teaspoon ground achiote (optional)', '6 semi-ripe (yellow with some spots) plantains', '1/3 to 1/2 cup olive or canola oil', '2 large eggs', '2 tablespoons water', '1/4 cup freshly grated Parmesan']\"],\n",
       "       ['Fried Chicken Biscuits',\n",
       "        '[\\'1 cup buttermilk\\', \\'1 tablespoon hot sauce\\', \\'1/2 teaspoon kosher salt\\', \\'1/4 teaspoon freshly ground black pepper\\', \\'1/4 teaspoon cayenne pepper\\', \\'4 skinless, boneless chicken cutlets (about 1 1/2 pounds total), pounded to 1/4\" thickness\\', \\'1/2 cup (1 stick) unsalted butter, room temperature\\', \\'1/4 cup honey\\', \\'1/2 teaspoon kosher salt, plus more\\', \\'Vegetable oil (for frying; about 2 1/2 cups)\\', \\'2 cups panko (Japanese breadcrumbs)\\', \\'Freshly ground black pepper\\', \\'4 Pies-N-Thighs Biscuits\\', \\'Hot sauce (for serving)\\']']],\n",
       "      dtype=object)"
      ]
     },
     "execution_count": 91,
     "metadata": {},
     "output_type": "execute_result"
    }
   ],
   "source": [
    "selector = (df['title'] == 'Chicken Parmesan') | (df['title'] == 'Fried Chicken Biscuits') | (df['title'] == 'Pinon')\n",
    "df.loc[selector,['title', 'ingredientsStr']].values"
   ]
  },
  {
   "cell_type": "markdown",
   "metadata": {},
   "source": [
    "[['Chicken Parmesan',\n",
    "         breadcrumbs\\flour\\eggs\\'milk\\'chicken thighs, \\'Kosher salt, freshly ground pepper\\'olive oil\\'tomato pesto\\', mozzarella, red pepper flakes\\'marinara sauce, warmed\\', \\'Finely grated Parmesan (for serving)\\']'],\n",
    "       ['Fried Chicken Biscuits',\n",
    "        buttermilk\\', \\'1 tablespoon hot sauce\\', \\'1/2 teaspoon kosher salt\\', \\'1/4 teaspoon freshly ground black pepper\\', \\'1/4 teaspoon cayenne pepper\\', \\'4 skinless, boneless chicken cutlets (about 1 1/2 pounds total), pounded to 1/4\" thickness\\', \\'1/2 cup (1 stick) unsalted butter, room temperature\\', \\'1/4 cup honey\\', \\'1/2 teaspoon kosher salt, plus more\\', \\'Vegetable oil (for frying; about 2 1/2 cups)\\', \\'2 cups panko (Japanese breadcrumbs)\\', \\'Freshly ground black pepper\\', \\'4 Pies-N-Thighs Biscuits\\', \\'Hot sauce (for serving)\\']']],\n",
    "      dtype=object)"
   ]
  },
  {
   "cell_type": "code",
   "execution_count": 57,
   "metadata": {},
   "outputs": [
    {
     "data": {
      "text/html": [
       "<div>\n",
       "<style scoped>\n",
       "    .dataframe tbody tr th:only-of-type {\n",
       "        vertical-align: middle;\n",
       "    }\n",
       "\n",
       "    .dataframe tbody tr th {\n",
       "        vertical-align: top;\n",
       "    }\n",
       "\n",
       "    .dataframe thead th {\n",
       "        text-align: right;\n",
       "    }\n",
       "</style>\n",
       "<table border=\"1\" class=\"dataframe\">\n",
       "  <thead>\n",
       "    <tr style=\"text-align: right;\">\n",
       "      <th></th>\n",
       "      <th>recipe</th>\n",
       "      <th>similarity</th>\n",
       "    </tr>\n",
       "  </thead>\n",
       "  <tbody>\n",
       "    <tr>\n",
       "      <th>14522</th>\n",
       "      <td>Artichoke and Parmesan Risotto</td>\n",
       "      <td>1.000000</td>\n",
       "    </tr>\n",
       "    <tr>\n",
       "      <th>6459</th>\n",
       "      <td>Asparagus Risotto</td>\n",
       "      <td>0.757240</td>\n",
       "    </tr>\n",
       "    <tr>\n",
       "      <th>10936</th>\n",
       "      <td>Risotto with Squash and Pancetta</td>\n",
       "      <td>0.700301</td>\n",
       "    </tr>\n",
       "    <tr>\n",
       "      <th>5060</th>\n",
       "      <td>Shrimp Risotto with Baby Spinach and Basil</td>\n",
       "      <td>0.699400</td>\n",
       "    </tr>\n",
       "    <tr>\n",
       "      <th>4857</th>\n",
       "      <td>Radicchio Risotto</td>\n",
       "      <td>0.659966</td>\n",
       "    </tr>\n",
       "    <tr>\n",
       "      <th>10112</th>\n",
       "      <td>Porcini Mushroom Risotto</td>\n",
       "      <td>0.646762</td>\n",
       "    </tr>\n",
       "    <tr>\n",
       "      <th>11204</th>\n",
       "      <td>Asparagus and Leek Risotto with Prosciutto</td>\n",
       "      <td>0.625779</td>\n",
       "    </tr>\n",
       "    <tr>\n",
       "      <th>5028</th>\n",
       "      <td>Celery Root Risotto and Pesto</td>\n",
       "      <td>0.625463</td>\n",
       "    </tr>\n",
       "    <tr>\n",
       "      <th>11013</th>\n",
       "      <td>Spinach Risotto</td>\n",
       "      <td>0.625463</td>\n",
       "    </tr>\n",
       "    <tr>\n",
       "      <th>8493</th>\n",
       "      <td>Butternut Squash, Rosemary, and Blue Cheese Ri...</td>\n",
       "      <td>0.625000</td>\n",
       "    </tr>\n",
       "  </tbody>\n",
       "</table>\n",
       "</div>"
      ],
      "text/plain": [
       "                                                  recipe  similarity\n",
       "14522                     Artichoke and Parmesan Risotto    1.000000\n",
       "6459                                   Asparagus Risotto    0.757240\n",
       "10936                   Risotto with Squash and Pancetta    0.700301\n",
       "5060          Shrimp Risotto with Baby Spinach and Basil    0.699400\n",
       "4857                                   Radicchio Risotto    0.659966\n",
       "10112                           Porcini Mushroom Risotto    0.646762\n",
       "11204         Asparagus and Leek Risotto with Prosciutto    0.625779\n",
       "5028                       Celery Root Risotto and Pesto    0.625463\n",
       "11013                                    Spinach Risotto    0.625463\n",
       "8493   Butternut Squash, Rosemary, and Blue Cheese Ri...    0.625000"
      ]
     },
     "execution_count": 57,
     "metadata": {},
     "output_type": "execute_result"
    }
   ],
   "source": [
    "# Check for Aritchoke\n",
    "# Get the column based upon the index\n",
    "recipe_index_2 = df[df['title'] == 'Artichoke and Parmesan Risotto'].index\n",
    "\n",
    "# Create a dataframe with the movie titles\n",
    "sim_df_2 = pd.DataFrame({'recipe': df['title'],\n",
    "                       'similarity': np.array(similarities[recipe_index_2, :].todense()).squeeze()})\n",
    "\n",
    "# Return the top 10 most similar recipes\n",
    "sim_df_2.sort_values(by='similarity', ascending=False).head(10)"
   ]
  },
  {
   "cell_type": "code",
   "execution_count": 36,
   "metadata": {},
   "outputs": [
    {
     "name": "stdout",
     "output_type": "stream",
     "text": [
      "['lines', 'string', 'words']\n"
     ]
    }
   ],
   "source": [
    "import nltk\n",
    "\n",
    "lines = 'lines is some string of words'\n",
    "# function to test if something is a noun\n",
    "is_noun = lambda pos: pos[:2] == 'NN'\n",
    "# do the nlp stuff\n",
    "tokenized = nltk.word_tokenize(lines)\n",
    "nouns = [word for (word, pos) in nltk.pos_tag(tokenized) if is_noun(pos)]\n",
    "\n",
    "print(nouns)"
   ]
  }
 ],
 "metadata": {
  "kernelspec": {
   "display_name": "base",
   "language": "python",
   "name": "python3"
  },
  "language_info": {
   "codemirror_mode": {
    "name": "ipython",
    "version": 3
   },
   "file_extension": ".py",
   "mimetype": "text/x-python",
   "name": "python",
   "nbconvert_exporter": "python",
   "pygments_lexer": "ipython3",
   "version": "3.11.7"
  }
 },
 "nbformat": 4,
 "nbformat_minor": 2
}
