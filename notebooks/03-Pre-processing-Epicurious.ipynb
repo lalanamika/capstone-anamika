{
 "cells": [
  {
   "cell_type": "markdown",
   "metadata": {},
   "source": [
    "TODO: Add Title\n",
    "TODO: Add TOC\n",
    "TODO: Add Goals"
   ]
  },
  {
   "cell_type": "markdown",
   "metadata": {},
   "source": [
    "In this notebook, we will load the cleaned dataset created in the first notebook (full_format_recipes_cleaned.csv) and do preprocessing on the data to get it ready for modeling."
   ]
  },
  {
   "cell_type": "code",
   "execution_count": 81,
   "metadata": {},
   "outputs": [],
   "source": [
    "import numpy as np\n",
    "import pandas as pd\n",
    "import matplotlib.pyplot as plt\n",
    "import seaborn as sns\n",
    "import statsmodels.api as sm\n",
    "\n",
    "from sklearn.feature_extraction.text import CountVectorizer\n"
   ]
  },
  {
   "cell_type": "code",
   "execution_count": 82,
   "metadata": {},
   "outputs": [
    {
     "data": {
      "text/plain": [
       "'pandas version: 2.1.4'"
      ]
     },
     "execution_count": 82,
     "metadata": {},
     "output_type": "execute_result"
    }
   ],
   "source": [
    "f\"pandas version: {pd.__version__}\""
   ]
  },
  {
   "cell_type": "markdown",
   "metadata": {},
   "source": [
    "## Load the cleaned data"
   ]
  },
  {
   "cell_type": "code",
   "execution_count": 83,
   "metadata": {},
   "outputs": [
    {
     "data": {
      "text/plain": [
       "(14526, 7)"
      ]
     },
     "execution_count": 83,
     "metadata": {},
     "output_type": "execute_result"
    }
   ],
   "source": [
    "df = pd.read_csv('../data/interim/full_recipes_cleaned_2.csv')\n",
    "df.shape"
   ]
  },
  {
   "cell_type": "code",
   "execution_count": 84,
   "metadata": {},
   "outputs": [
    {
     "data": {
      "text/html": [
       "<div>\n",
       "<style scoped>\n",
       "    .dataframe tbody tr th:only-of-type {\n",
       "        vertical-align: middle;\n",
       "    }\n",
       "\n",
       "    .dataframe tbody tr th {\n",
       "        vertical-align: top;\n",
       "    }\n",
       "\n",
       "    .dataframe thead th {\n",
       "        text-align: right;\n",
       "    }\n",
       "</style>\n",
       "<table border=\"1\" class=\"dataframe\">\n",
       "  <thead>\n",
       "    <tr style=\"text-align: right;\">\n",
       "      <th></th>\n",
       "      <th>recipeId</th>\n",
       "      <th>calories</th>\n",
       "      <th>rating</th>\n",
       "      <th>title</th>\n",
       "      <th>directionsStr</th>\n",
       "      <th>categoriesStr</th>\n",
       "      <th>ingredientsStr</th>\n",
       "    </tr>\n",
       "  </thead>\n",
       "  <tbody>\n",
       "    <tr>\n",
       "      <th>0</th>\n",
       "      <td>0</td>\n",
       "      <td>426.0</td>\n",
       "      <td>2.500</td>\n",
       "      <td>Lentil, Apple, and Turkey Wrap</td>\n",
       "      <td>['1. Place the stock, lentils, celery, carrot,...</td>\n",
       "      <td>['Sandwich', 'Bean', 'Fruit', 'Tomato', 'turke...</td>\n",
       "      <td>['4 cups low-sodium vegetable or chicken stock...</td>\n",
       "    </tr>\n",
       "    <tr>\n",
       "      <th>1</th>\n",
       "      <td>1</td>\n",
       "      <td>403.0</td>\n",
       "      <td>4.375</td>\n",
       "      <td>Boudin Blanc Terrine with Red Onion Confit</td>\n",
       "      <td>['Combine first 9 ingredients in heavy medium ...</td>\n",
       "      <td>['Food Processor', 'Onion', 'Pork', 'Bake', 'B...</td>\n",
       "      <td>['1 1/2 cups whipping cream', '2 medium onions...</td>\n",
       "    </tr>\n",
       "    <tr>\n",
       "      <th>2</th>\n",
       "      <td>2</td>\n",
       "      <td>165.0</td>\n",
       "      <td>3.750</td>\n",
       "      <td>Potato and Fennel Soup Hodge</td>\n",
       "      <td>['In a large heavy saucepan cook diced fennel ...</td>\n",
       "      <td>['Soup/Stew', 'Dairy', 'Potato', 'Vegetable', ...</td>\n",
       "      <td>['1 fennel bulb (sometimes called anise), stal...</td>\n",
       "    </tr>\n",
       "    <tr>\n",
       "      <th>3</th>\n",
       "      <td>4</td>\n",
       "      <td>547.0</td>\n",
       "      <td>3.125</td>\n",
       "      <td>Spinach Noodle Casserole</td>\n",
       "      <td>['Preheat oven to 350°F. Lightly grease 8x8x2-...</td>\n",
       "      <td>['Cheese', 'Dairy', 'Pasta', 'Vegetable', 'Sid...</td>\n",
       "      <td>['1 12-ounce package frozen spinach soufflé, t...</td>\n",
       "    </tr>\n",
       "    <tr>\n",
       "      <th>4</th>\n",
       "      <td>5</td>\n",
       "      <td>948.0</td>\n",
       "      <td>4.375</td>\n",
       "      <td>The Best Blts</td>\n",
       "      <td>['Mix basil, mayonnaise and butter in processo...</td>\n",
       "      <td>['Sandwich', 'Food Processor', 'Tomato', 'Kid-...</td>\n",
       "      <td>['2 1/2 cups (lightly packed) fresh basil leav...</td>\n",
       "    </tr>\n",
       "  </tbody>\n",
       "</table>\n",
       "</div>"
      ],
      "text/plain": [
       "   recipeId  calories  rating                                       title  \\\n",
       "0         0     426.0   2.500              Lentil, Apple, and Turkey Wrap   \n",
       "1         1     403.0   4.375  Boudin Blanc Terrine with Red Onion Confit   \n",
       "2         2     165.0   3.750                Potato and Fennel Soup Hodge   \n",
       "3         4     547.0   3.125                    Spinach Noodle Casserole   \n",
       "4         5     948.0   4.375                               The Best Blts   \n",
       "\n",
       "                                       directionsStr  \\\n",
       "0  ['1. Place the stock, lentils, celery, carrot,...   \n",
       "1  ['Combine first 9 ingredients in heavy medium ...   \n",
       "2  ['In a large heavy saucepan cook diced fennel ...   \n",
       "3  ['Preheat oven to 350°F. Lightly grease 8x8x2-...   \n",
       "4  ['Mix basil, mayonnaise and butter in processo...   \n",
       "\n",
       "                                       categoriesStr  \\\n",
       "0  ['Sandwich', 'Bean', 'Fruit', 'Tomato', 'turke...   \n",
       "1  ['Food Processor', 'Onion', 'Pork', 'Bake', 'B...   \n",
       "2  ['Soup/Stew', 'Dairy', 'Potato', 'Vegetable', ...   \n",
       "3  ['Cheese', 'Dairy', 'Pasta', 'Vegetable', 'Sid...   \n",
       "4  ['Sandwich', 'Food Processor', 'Tomato', 'Kid-...   \n",
       "\n",
       "                                      ingredientsStr  \n",
       "0  ['4 cups low-sodium vegetable or chicken stock...  \n",
       "1  ['1 1/2 cups whipping cream', '2 medium onions...  \n",
       "2  ['1 fennel bulb (sometimes called anise), stal...  \n",
       "3  ['1 12-ounce package frozen spinach soufflé, t...  \n",
       "4  ['2 1/2 cups (lightly packed) fresh basil leav...  "
      ]
     },
     "execution_count": 84,
     "metadata": {},
     "output_type": "execute_result"
    }
   ],
   "source": [
    "df.head()"
   ]
  },
  {
   "cell_type": "code",
   "execution_count": 85,
   "metadata": {},
   "outputs": [
    {
     "data": {
      "text/html": [
       "<div>\n",
       "<style scoped>\n",
       "    .dataframe tbody tr th:only-of-type {\n",
       "        vertical-align: middle;\n",
       "    }\n",
       "\n",
       "    .dataframe tbody tr th {\n",
       "        vertical-align: top;\n",
       "    }\n",
       "\n",
       "    .dataframe thead th {\n",
       "        text-align: right;\n",
       "    }\n",
       "</style>\n",
       "<table border=\"1\" class=\"dataframe\">\n",
       "  <thead>\n",
       "    <tr style=\"text-align: right;\">\n",
       "      <th></th>\n",
       "      <th>calories</th>\n",
       "      <th>rating</th>\n",
       "      <th>title</th>\n",
       "      <th>directionsStr</th>\n",
       "      <th>categoriesStr</th>\n",
       "      <th>ingredientsStr</th>\n",
       "    </tr>\n",
       "    <tr>\n",
       "      <th>recipeId</th>\n",
       "      <th></th>\n",
       "      <th></th>\n",
       "      <th></th>\n",
       "      <th></th>\n",
       "      <th></th>\n",
       "      <th></th>\n",
       "    </tr>\n",
       "  </thead>\n",
       "  <tbody>\n",
       "    <tr>\n",
       "      <th>0</th>\n",
       "      <td>426.0</td>\n",
       "      <td>2.500</td>\n",
       "      <td>Lentil, Apple, and Turkey Wrap</td>\n",
       "      <td>['1. Place the stock, lentils, celery, carrot,...</td>\n",
       "      <td>['Sandwich', 'Bean', 'Fruit', 'Tomato', 'turke...</td>\n",
       "      <td>['4 cups low-sodium vegetable or chicken stock...</td>\n",
       "    </tr>\n",
       "    <tr>\n",
       "      <th>1</th>\n",
       "      <td>403.0</td>\n",
       "      <td>4.375</td>\n",
       "      <td>Boudin Blanc Terrine with Red Onion Confit</td>\n",
       "      <td>['Combine first 9 ingredients in heavy medium ...</td>\n",
       "      <td>['Food Processor', 'Onion', 'Pork', 'Bake', 'B...</td>\n",
       "      <td>['1 1/2 cups whipping cream', '2 medium onions...</td>\n",
       "    </tr>\n",
       "    <tr>\n",
       "      <th>2</th>\n",
       "      <td>165.0</td>\n",
       "      <td>3.750</td>\n",
       "      <td>Potato and Fennel Soup Hodge</td>\n",
       "      <td>['In a large heavy saucepan cook diced fennel ...</td>\n",
       "      <td>['Soup/Stew', 'Dairy', 'Potato', 'Vegetable', ...</td>\n",
       "      <td>['1 fennel bulb (sometimes called anise), stal...</td>\n",
       "    </tr>\n",
       "    <tr>\n",
       "      <th>4</th>\n",
       "      <td>547.0</td>\n",
       "      <td>3.125</td>\n",
       "      <td>Spinach Noodle Casserole</td>\n",
       "      <td>['Preheat oven to 350°F. Lightly grease 8x8x2-...</td>\n",
       "      <td>['Cheese', 'Dairy', 'Pasta', 'Vegetable', 'Sid...</td>\n",
       "      <td>['1 12-ounce package frozen spinach soufflé, t...</td>\n",
       "    </tr>\n",
       "    <tr>\n",
       "      <th>5</th>\n",
       "      <td>948.0</td>\n",
       "      <td>4.375</td>\n",
       "      <td>The Best Blts</td>\n",
       "      <td>['Mix basil, mayonnaise and butter in processo...</td>\n",
       "      <td>['Sandwich', 'Food Processor', 'Tomato', 'Kid-...</td>\n",
       "      <td>['2 1/2 cups (lightly packed) fresh basil leav...</td>\n",
       "    </tr>\n",
       "    <tr>\n",
       "      <th>...</th>\n",
       "      <td>...</td>\n",
       "      <td>...</td>\n",
       "      <td>...</td>\n",
       "      <td>...</td>\n",
       "      <td>...</td>\n",
       "      <td>...</td>\n",
       "    </tr>\n",
       "    <tr>\n",
       "      <th>20125</th>\n",
       "      <td>28.0</td>\n",
       "      <td>3.125</td>\n",
       "      <td>Parmesan Puffs</td>\n",
       "      <td>['Beat whites in a bowl with an electric mixer...</td>\n",
       "      <td>['Mixer', 'Cheese', 'Egg', 'Fry', 'Cocktail Pa...</td>\n",
       "      <td>['2 large egg whites', '3 oz Parmigiano-Reggia...</td>\n",
       "    </tr>\n",
       "    <tr>\n",
       "      <th>20126</th>\n",
       "      <td>671.0</td>\n",
       "      <td>4.375</td>\n",
       "      <td>Artichoke and Parmesan Risotto</td>\n",
       "      <td>['Bring broth to simmer in saucepan.Remove fro...</td>\n",
       "      <td>['Side', 'Kid-Friendly', 'High Fiber', 'Dinner...</td>\n",
       "      <td>['5 1/2 cups (or more) low-salt chicken broth'...</td>\n",
       "    </tr>\n",
       "    <tr>\n",
       "      <th>20127</th>\n",
       "      <td>563.0</td>\n",
       "      <td>4.375</td>\n",
       "      <td>Turkey Cream Puff Pie</td>\n",
       "      <td>['Using a sharp knife, cut a shallow X in bott...</td>\n",
       "      <td>['Onion', 'Poultry', 'turkey', 'Vegetable', 'B...</td>\n",
       "      <td>['1 small tomato', '1 small onion, finely chop...</td>\n",
       "    </tr>\n",
       "    <tr>\n",
       "      <th>20128</th>\n",
       "      <td>631.0</td>\n",
       "      <td>4.375</td>\n",
       "      <td>Snapper on Angel Hair with Citrus Cream</td>\n",
       "      <td>['Heat 2 tablespoons oil in heavy medium skill...</td>\n",
       "      <td>['Milk/Cream', 'Citrus', 'Dairy', 'Fish', 'Gar...</td>\n",
       "      <td>['4 tablespoons olive oil', '4 shallots, thinl...</td>\n",
       "    </tr>\n",
       "    <tr>\n",
       "      <th>20129</th>\n",
       "      <td>560.0</td>\n",
       "      <td>4.375</td>\n",
       "      <td>Baked Ham with Marmalade-Horseradish Glaze</td>\n",
       "      <td>['Position rack in bottom third of oven and pr...</td>\n",
       "      <td>['Pork', 'Bake', 'Roast', 'Christmas', 'Ham', ...</td>\n",
       "      <td>['1 18-pound fully cooked bone-in smoked ham, ...</td>\n",
       "    </tr>\n",
       "  </tbody>\n",
       "</table>\n",
       "<p>14526 rows × 6 columns</p>\n",
       "</div>"
      ],
      "text/plain": [
       "          calories  rating                                       title  \\\n",
       "recipeId                                                                 \n",
       "0            426.0   2.500              Lentil, Apple, and Turkey Wrap   \n",
       "1            403.0   4.375  Boudin Blanc Terrine with Red Onion Confit   \n",
       "2            165.0   3.750                Potato and Fennel Soup Hodge   \n",
       "4            547.0   3.125                    Spinach Noodle Casserole   \n",
       "5            948.0   4.375                               The Best Blts   \n",
       "...            ...     ...                                         ...   \n",
       "20125         28.0   3.125                              Parmesan Puffs   \n",
       "20126        671.0   4.375              Artichoke and Parmesan Risotto   \n",
       "20127        563.0   4.375                       Turkey Cream Puff Pie   \n",
       "20128        631.0   4.375     Snapper on Angel Hair with Citrus Cream   \n",
       "20129        560.0   4.375  Baked Ham with Marmalade-Horseradish Glaze   \n",
       "\n",
       "                                              directionsStr  \\\n",
       "recipeId                                                      \n",
       "0         ['1. Place the stock, lentils, celery, carrot,...   \n",
       "1         ['Combine first 9 ingredients in heavy medium ...   \n",
       "2         ['In a large heavy saucepan cook diced fennel ...   \n",
       "4         ['Preheat oven to 350°F. Lightly grease 8x8x2-...   \n",
       "5         ['Mix basil, mayonnaise and butter in processo...   \n",
       "...                                                     ...   \n",
       "20125     ['Beat whites in a bowl with an electric mixer...   \n",
       "20126     ['Bring broth to simmer in saucepan.Remove fro...   \n",
       "20127     ['Using a sharp knife, cut a shallow X in bott...   \n",
       "20128     ['Heat 2 tablespoons oil in heavy medium skill...   \n",
       "20129     ['Position rack in bottom third of oven and pr...   \n",
       "\n",
       "                                              categoriesStr  \\\n",
       "recipeId                                                      \n",
       "0         ['Sandwich', 'Bean', 'Fruit', 'Tomato', 'turke...   \n",
       "1         ['Food Processor', 'Onion', 'Pork', 'Bake', 'B...   \n",
       "2         ['Soup/Stew', 'Dairy', 'Potato', 'Vegetable', ...   \n",
       "4         ['Cheese', 'Dairy', 'Pasta', 'Vegetable', 'Sid...   \n",
       "5         ['Sandwich', 'Food Processor', 'Tomato', 'Kid-...   \n",
       "...                                                     ...   \n",
       "20125     ['Mixer', 'Cheese', 'Egg', 'Fry', 'Cocktail Pa...   \n",
       "20126     ['Side', 'Kid-Friendly', 'High Fiber', 'Dinner...   \n",
       "20127     ['Onion', 'Poultry', 'turkey', 'Vegetable', 'B...   \n",
       "20128     ['Milk/Cream', 'Citrus', 'Dairy', 'Fish', 'Gar...   \n",
       "20129     ['Pork', 'Bake', 'Roast', 'Christmas', 'Ham', ...   \n",
       "\n",
       "                                             ingredientsStr  \n",
       "recipeId                                                     \n",
       "0         ['4 cups low-sodium vegetable or chicken stock...  \n",
       "1         ['1 1/2 cups whipping cream', '2 medium onions...  \n",
       "2         ['1 fennel bulb (sometimes called anise), stal...  \n",
       "4         ['1 12-ounce package frozen spinach soufflé, t...  \n",
       "5         ['2 1/2 cups (lightly packed) fresh basil leav...  \n",
       "...                                                     ...  \n",
       "20125     ['2 large egg whites', '3 oz Parmigiano-Reggia...  \n",
       "20126     ['5 1/2 cups (or more) low-salt chicken broth'...  \n",
       "20127     ['1 small tomato', '1 small onion, finely chop...  \n",
       "20128     ['4 tablespoons olive oil', '4 shallots, thinl...  \n",
       "20129     ['1 18-pound fully cooked bone-in smoked ham, ...  \n",
       "\n",
       "[14526 rows x 6 columns]"
      ]
     },
     "execution_count": 85,
     "metadata": {},
     "output_type": "execute_result"
    }
   ],
   "source": [
    "df.set_index('recipeId')"
   ]
  },
  {
   "cell_type": "code",
   "execution_count": 86,
   "metadata": {},
   "outputs": [
    {
     "name": "stdout",
     "output_type": "stream",
     "text": [
      "Null values: 0\n",
      "Duplicated rows: 0\n"
     ]
    }
   ],
   "source": [
    "# confirm that there are no null values or duplicated values\n",
    "print(f\"Null values: {df.isna().sum().sum()}\")\n",
    "print(f\"Duplicated rows: {df.duplicated().sum()}\")"
   ]
  },
  {
   "cell_type": "markdown",
   "metadata": {},
   "source": [
    "## Vectorize"
   ]
  },
  {
   "cell_type": "markdown",
   "metadata": {},
   "source": [
    "### Define a custom tokenizer"
   ]
  },
  {
   "cell_type": "code",
   "execution_count": 87,
   "metadata": {},
   "outputs": [],
   "source": [
    "# Remove units of measurements such as teaspoons, cups, ounces etc. Full list at https://en.wikibooks.org/wiki/Cookbook:Units_of_measurement\n",
    "measurements = set(line.strip() for line in open('../data/interim/measurement_list.txt'))\n",
    "\n",
    "# Remove extra adjectives like 'baked', 'thawed', 'cleaned' etc.\n",
    "extra_adjectives = set(line.strip() for line in open('../data/interim/extra_adjectives_list.txt'))\n",
    "\n",
    "# Remove some extra words like 'assorted', 'approximately' etc. QUESTION: Is there a smart way to remove the top 100 such words?\n",
    "extra_words = set(line.strip() for line in open('../data/interim/extra_words_list.txt'))"
   ]
  },
  {
   "cell_type": "code",
   "execution_count": 88,
   "metadata": {},
   "outputs": [
    {
     "data": {
      "text/plain": [
       "['whipping',\n",
       " 'cream',\n",
       " 'onions',\n",
       " 'salt',\n",
       " 'bay',\n",
       " 'leaves',\n",
       " 'cloves',\n",
       " 'garlic',\n",
       " 'clove',\n",
       " 'pepper',\n",
       " 'nutmeg',\n",
       " 'thyme',\n",
       " 'shallots',\n",
       " 'boneless',\n",
       " 'center',\n",
       " 'pork',\n",
       " 'loin',\n",
       " 'sinew',\n",
       " 'chunks',\n",
       " 'chilled',\n",
       " 'eggs',\n",
       " 'purpose',\n",
       " 'flour',\n",
       " 'tawny',\n",
       " 'port',\n",
       " 'currants',\n",
       " 'lettuce',\n",
       " 'leaves',\n",
       " 'peppercorns',\n",
       " 'parsley',\n",
       " 'bay',\n",
       " 'leaves',\n",
       " 'french',\n",
       " 'bread',\n",
       " 'baguette',\n",
       " 'slices',\n",
       " 'olive',\n",
       " 'red',\n",
       " 'onions',\n",
       " 'halved',\n",
       " 'currants',\n",
       " 'red',\n",
       " 'wine',\n",
       " 'vinegar',\n",
       " 'canned',\n",
       " 'chicken',\n",
       " 'broth',\n",
       " 'thyme',\n",
       " 'sugar']"
      ]
     },
     "execution_count": 88,
     "metadata": {},
     "output_type": "execute_result"
    }
   ],
   "source": [
    "from sklearn.feature_extraction._stop_words import ENGLISH_STOP_WORDS\n",
    "\n",
    "\"\"\"\n",
    "custom tokenizer examples are in 0604_nlp_part2a_beta and 0531_text_vect_redux and 0531_Text_Data\n",
    "\"\"\"\n",
    "my_stops = set(ENGLISH_STOP_WORDS) | measurements | extra_adjectives | extra_words\n",
    "\n",
    "def my_tokenizer(text):\n",
    "    # convert to lowercase\n",
    "    text = text.lower()\n",
    "    # break into characters and weed out punctuation etc.  (include space!)\n",
    "    chars = list(char for char in text if char in \"abcdefghijklmnopqrstuvwxyz \")\n",
    "    # make back into a single string\n",
    "    text = \"\".join(chars)\n",
    "    # break into words and weed out stop words and short words < 3 characters\n",
    "    text = list(word for word in text.split() if word not in my_stops and len(word) >=3)\n",
    "    return text\n",
    "\n",
    "my_tokenizer(df['ingredientsStr'][1])"
   ]
  },
  {
   "cell_type": "markdown",
   "metadata": {},
   "source": [
    "### Vectoize ingredientsStr using the custom tokenizer"
   ]
  },
  {
   "cell_type": "code",
   "execution_count": 89,
   "metadata": {},
   "outputs": [
    {
     "name": "stderr",
     "output_type": "stream",
     "text": [
      "c:\\Users\\anami\\anaconda3\\Lib\\site-packages\\sklearn\\feature_extraction\\text.py:528: UserWarning: The parameter 'token_pattern' will not be used since 'tokenizer' is not None'\n",
      "  warnings.warn(\n"
     ]
    }
   ],
   "source": [
    "from sklearn.feature_extraction.text import CountVectorizer\n",
    "\n",
    "vectorizer = CountVectorizer(tokenizer=my_tokenizer,\n",
    "                       min_df=5)\n",
    "ingredients_matrix = vectorizer.fit_transform(df['ingredientsStr'])\n",
    "\n",
    "#bigram_series = pd.Series([\"chicken breast\", \"boneless chicken\", \"chicken stock\",\n",
    "#                           \"egg yolks\", \"chicken thighs\", \"cocoa powder\",\n",
    "#                           \"cilantro leaves\", \"boneless pork\", \"sundried tomatoes\"])\n",
    "\n",
    "# join this with the ingredientsStr series\n",
    "# custom_vocab = pd.concat([df['ingredientsStr'],bigram_series], ignore_index=True)\n",
    "# specifying bigrams made matters worse, so I will add only the most sensible bigrams manually\n",
    "# I inspected the results using the code snippet labeled - checking word / bigram frequency\n",
    "\n",
    "# ingredients_matrix = vectorizer.fit_transform(custom_vocab)\n",
    "# vectorizer.fit(df['ingredientsStr'])\n",
    "# ingredients_matrix = vectorizer.transform(df['ingredientsStr'])"
   ]
  },
  {
   "cell_type": "code",
   "execution_count": 90,
   "metadata": {},
   "outputs": [
    {
     "data": {
      "text/plain": [
       "2158"
      ]
     },
     "execution_count": 90,
     "metadata": {},
     "output_type": "execute_result"
    }
   ],
   "source": [
    "vocab = vectorizer.get_feature_names_out()\n",
    "len(vocab)"
   ]
  },
  {
   "cell_type": "code",
   "execution_count": 91,
   "metadata": {},
   "outputs": [],
   "source": [
    "# checking word / bigram frequency - used when ngrams was specified in the CountVectorizer\n",
    "# sum_words = ingredients_matrix.sum(axis = 0)\n",
    "# words_freq = [(word, sum_words[0, i]) for word, i in vectorizer.vocabulary_.items()]\n",
    "# words_freq = sorted(words_freq, key = lambda x: x[1], reverse = True)\n",
    "# words_freq = sorted(words_freq, key = lambda x: x[1])\n",
    "# words_freq[1000:1500]"
   ]
  },
  {
   "cell_type": "code",
   "execution_count": 92,
   "metadata": {},
   "outputs": [
    {
     "data": {
      "text/plain": [
       "(14526, 2158)"
      ]
     },
     "execution_count": 92,
     "metadata": {},
     "output_type": "execute_result"
    }
   ],
   "source": [
    "ingredients_matrix.shape"
   ]
  },
  {
   "cell_type": "code",
   "execution_count": 93,
   "metadata": {},
   "outputs": [
    {
     "data": {
      "text/plain": [
       "<14526x2158 sparse matrix of type '<class 'numpy.int64'>'\n",
       "\twith 301451 stored elements in Compressed Sparse Row format>"
      ]
     },
     "execution_count": 93,
     "metadata": {},
     "output_type": "execute_result"
    }
   ],
   "source": [
    "ingredients_matrix"
   ]
  },
  {
   "cell_type": "code",
   "execution_count": 94,
   "metadata": {},
   "outputs": [
    {
     "data": {
      "text/html": [
       "<div>\n",
       "<style scoped>\n",
       "    .dataframe tbody tr th:only-of-type {\n",
       "        vertical-align: middle;\n",
       "    }\n",
       "\n",
       "    .dataframe tbody tr th {\n",
       "        vertical-align: top;\n",
       "    }\n",
       "\n",
       "    .dataframe thead th {\n",
       "        text-align: right;\n",
       "    }\n",
       "</style>\n",
       "<table border=\"1\" class=\"dataframe\">\n",
       "  <thead>\n",
       "    <tr style=\"text-align: right;\">\n",
       "      <th></th>\n",
       "      <th>recipeId</th>\n",
       "      <th>calories</th>\n",
       "      <th>rating</th>\n",
       "      <th>title</th>\n",
       "      <th>directionsStr</th>\n",
       "      <th>categoriesStr</th>\n",
       "      <th>ingredientsStr</th>\n",
       "    </tr>\n",
       "  </thead>\n",
       "  <tbody>\n",
       "    <tr>\n",
       "      <th>4918</th>\n",
       "      <td>6368</td>\n",
       "      <td>1842.0</td>\n",
       "      <td>5.000</td>\n",
       "      <td>Chicken Parmesan</td>\n",
       "      <td>['Place breadcrumbs and flour in 2 separate sh...</td>\n",
       "      <td>['Chicken', 'Tomato', 'Broil', 'Kid-Friendly',...</td>\n",
       "      <td>['2 cups fine dry breadcrumbs', '1 cup all-pur...</td>\n",
       "    </tr>\n",
       "    <tr>\n",
       "      <th>7482</th>\n",
       "      <td>9873</td>\n",
       "      <td>3392.0</td>\n",
       "      <td>3.750</td>\n",
       "      <td>Chicken Parmesan Heros</td>\n",
       "      <td>['Heat olive oil in a 4- to 5-quart heavy sauc...</td>\n",
       "      <td>['Sandwich', 'Cheese', 'Chicken', 'Poultry', '...</td>\n",
       "      <td>['3 tablespoons olive oil', '1 small onion, fi...</td>\n",
       "    </tr>\n",
       "    <tr>\n",
       "      <th>9982</th>\n",
       "      <td>13372</td>\n",
       "      <td>610.0</td>\n",
       "      <td>4.375</td>\n",
       "      <td>New Chicken Parmesan</td>\n",
       "      <td>['Preheat oven to 500° F. Whisk first 3 ingred...</td>\n",
       "      <td>['Chicken', 'Tomato', 'Roast', 'Kid-Friendly',...</td>\n",
       "      <td>['1/3 cup extra-virgin olive oil', '2 large ga...</td>\n",
       "    </tr>\n",
       "    <tr>\n",
       "      <th>12825</th>\n",
       "      <td>17557</td>\n",
       "      <td>917.0</td>\n",
       "      <td>5.000</td>\n",
       "      <td>Quick Baked Chicken Parmesan</td>\n",
       "      <td>['Arrange racks in top and bottom of oven and ...</td>\n",
       "      <td>['22-Minute Meals', 'Chicken', 'Parmesan', 'To...</td>\n",
       "      <td>['2 large eggs', '1 1/2 cups breadcrumbs or pa...</td>\n",
       "    </tr>\n",
       "  </tbody>\n",
       "</table>\n",
       "</div>"
      ],
      "text/plain": [
       "       recipeId  calories  rating                         title  \\\n",
       "4918       6368    1842.0   5.000              Chicken Parmesan   \n",
       "7482       9873    3392.0   3.750        Chicken Parmesan Heros   \n",
       "9982      13372     610.0   4.375          New Chicken Parmesan   \n",
       "12825     17557     917.0   5.000  Quick Baked Chicken Parmesan   \n",
       "\n",
       "                                           directionsStr  \\\n",
       "4918   ['Place breadcrumbs and flour in 2 separate sh...   \n",
       "7482   ['Heat olive oil in a 4- to 5-quart heavy sauc...   \n",
       "9982   ['Preheat oven to 500° F. Whisk first 3 ingred...   \n",
       "12825  ['Arrange racks in top and bottom of oven and ...   \n",
       "\n",
       "                                           categoriesStr  \\\n",
       "4918   ['Chicken', 'Tomato', 'Broil', 'Kid-Friendly',...   \n",
       "7482   ['Sandwich', 'Cheese', 'Chicken', 'Poultry', '...   \n",
       "9982   ['Chicken', 'Tomato', 'Roast', 'Kid-Friendly',...   \n",
       "12825  ['22-Minute Meals', 'Chicken', 'Parmesan', 'To...   \n",
       "\n",
       "                                          ingredientsStr  \n",
       "4918   ['2 cups fine dry breadcrumbs', '1 cup all-pur...  \n",
       "7482   ['3 tablespoons olive oil', '1 small onion, fi...  \n",
       "9982   ['1/3 cup extra-virgin olive oil', '2 large ga...  \n",
       "12825  ['2 large eggs', '1 1/2 cups breadcrumbs or pa...  "
      ]
     },
     "execution_count": 94,
     "metadata": {},
     "output_type": "execute_result"
    }
   ],
   "source": [
    "# 'Artichoke and Parmesan Risotto' and 'Chicken Parmesan' are two recipes we will use to test for now\n",
    "df[df['title'].str.contains('Chicken Parmesan', na=False)]"
   ]
  },
  {
   "cell_type": "code",
   "execution_count": 95,
   "metadata": {},
   "outputs": [
    {
     "data": {
      "text/html": [
       "<div>\n",
       "<style scoped>\n",
       "    .dataframe tbody tr th:only-of-type {\n",
       "        vertical-align: middle;\n",
       "    }\n",
       "\n",
       "    .dataframe tbody tr th {\n",
       "        vertical-align: top;\n",
       "    }\n",
       "\n",
       "    .dataframe thead th {\n",
       "        text-align: right;\n",
       "    }\n",
       "</style>\n",
       "<table border=\"1\" class=\"dataframe\">\n",
       "  <thead>\n",
       "    <tr style=\"text-align: right;\">\n",
       "      <th></th>\n",
       "      <th>recipeId</th>\n",
       "      <th>calories</th>\n",
       "      <th>rating</th>\n",
       "      <th>title</th>\n",
       "      <th>directionsStr</th>\n",
       "      <th>categoriesStr</th>\n",
       "      <th>ingredientsStr</th>\n",
       "    </tr>\n",
       "  </thead>\n",
       "  <tbody>\n",
       "    <tr>\n",
       "      <th>25</th>\n",
       "      <td>35</td>\n",
       "      <td>625.0</td>\n",
       "      <td>3.750</td>\n",
       "      <td>Aztec Chicken</td>\n",
       "      <td>['Melt 2 tablespoons butter with vegetable oil...</td>\n",
       "      <td>['Chicken', 'Olive', 'Onion', 'Sauté', 'Dinner...</td>\n",
       "      <td>['6 tablespoons (3/4 stick) chilled butter', '...</td>\n",
       "    </tr>\n",
       "    <tr>\n",
       "      <th>37</th>\n",
       "      <td>53</td>\n",
       "      <td>1203.0</td>\n",
       "      <td>5.000</td>\n",
       "      <td>Pancetta Roast Chicken with Walnut Stuffing</td>\n",
       "      <td>['Preheat oven to 400°F. Melt 1/4 cup butter i...</td>\n",
       "      <td>['Chicken', 'Roast', 'High Fiber', 'Dinner', '...</td>\n",
       "      <td>['8 tablespoons (1 stick) butter, divided', 'C...</td>\n",
       "    </tr>\n",
       "    <tr>\n",
       "      <th>61</th>\n",
       "      <td>80</td>\n",
       "      <td>1172.0</td>\n",
       "      <td>4.375</td>\n",
       "      <td>Braised Chicken and Rice with Orange, Saffron,...</td>\n",
       "      <td>['Rinse the rice in a sieve under cold running...</td>\n",
       "      <td>['Chicken', 'Citrus', 'Fruit', 'Nut', 'Poultry...</td>\n",
       "      <td>['1 1/2 cups brown basmati rice', '1/4 cup oli...</td>\n",
       "    </tr>\n",
       "    <tr>\n",
       "      <th>63</th>\n",
       "      <td>82</td>\n",
       "      <td>682.0</td>\n",
       "      <td>4.375</td>\n",
       "      <td>Chicken in Green Pumpkin-Seed Sauce</td>\n",
       "      <td>['Bring all ingredients to boil in large pot. ...</td>\n",
       "      <td>['Chicken', 'Low/No Sugar', 'Cinco de Mayo', '...</td>\n",
       "      <td>['5 cups water', '6 chicken thighs with skin a...</td>\n",
       "    </tr>\n",
       "    <tr>\n",
       "      <th>67</th>\n",
       "      <td>87</td>\n",
       "      <td>1143.0</td>\n",
       "      <td>0.000</td>\n",
       "      <td>Roast Chicken With Sorghum and Squash</td>\n",
       "      <td>['Bring 5 cups water to a boil in a medium pot...</td>\n",
       "      <td>['Bon Appétit', 'Dinner', 'Chicken', 'Grains',...</td>\n",
       "      <td>['Kosher salt', '1 cup sorghum', '1/2 large bu...</td>\n",
       "    </tr>\n",
       "    <tr>\n",
       "      <th>...</th>\n",
       "      <td>...</td>\n",
       "      <td>...</td>\n",
       "      <td>...</td>\n",
       "      <td>...</td>\n",
       "      <td>...</td>\n",
       "      <td>...</td>\n",
       "      <td>...</td>\n",
       "    </tr>\n",
       "    <tr>\n",
       "      <th>14445</th>\n",
       "      <td>20007</td>\n",
       "      <td>936.0</td>\n",
       "      <td>4.375</td>\n",
       "      <td>Braised Chicken with Smoked Ham, Chestnuts, an...</td>\n",
       "      <td>['Bring water to a simmer in a small saucepan,...</td>\n",
       "      <td>['Chicken', 'Ginger', 'Braise', 'Marinate', 'D...</td>\n",
       "      <td>['2 3/4 cups water', '12 dried Chinese black m...</td>\n",
       "    </tr>\n",
       "    <tr>\n",
       "      <th>14473</th>\n",
       "      <td>20050</td>\n",
       "      <td>356.0</td>\n",
       "      <td>3.750</td>\n",
       "      <td>Hot Chicken Salad</td>\n",
       "      <td>['1. Preheat the oven to 375°F. Spray a 13-by-...</td>\n",
       "      <td>['Cheese', 'Chicken', 'Nut', 'Poultry', 'Bake'...</td>\n",
       "      <td>['2 cups cooked chicken breast meat, cubed (Yo...</td>\n",
       "    </tr>\n",
       "    <tr>\n",
       "      <th>14475</th>\n",
       "      <td>20052</td>\n",
       "      <td>878.0</td>\n",
       "      <td>4.375</td>\n",
       "      <td>Chicken Tetrazzini</td>\n",
       "      <td>['Bring chicken bones, broth, carrot, onion, c...</td>\n",
       "      <td>['Chicken', 'Mushroom', 'Pasta', 'Bake', 'Supe...</td>\n",
       "      <td>['1 to 1 1/2 pound chicken bones (from 2 cooke...</td>\n",
       "    </tr>\n",
       "    <tr>\n",
       "      <th>14497</th>\n",
       "      <td>20091</td>\n",
       "      <td>1096.0</td>\n",
       "      <td>3.750</td>\n",
       "      <td>Chicken with Raisins and Lemon</td>\n",
       "      <td>['Arrange chicken in single layer in large Dut...</td>\n",
       "      <td>['Chicken', 'Potato', 'Poultry', 'Lemon', 'Rai...</td>\n",
       "      <td>['1 3 1/2-pound chicken, cut into 8 pieces', '...</td>\n",
       "    </tr>\n",
       "    <tr>\n",
       "      <th>14518</th>\n",
       "      <td>20121</td>\n",
       "      <td>1086.0</td>\n",
       "      <td>5.000</td>\n",
       "      <td>Crispy Salt and Pepper Chicken with Caramelize...</td>\n",
       "      <td>['1. Preheat the oven to 400°F. Spray a baking...</td>\n",
       "      <td>['Chicken', 'Poultry', 'Bake', 'Passover', 'Fe...</td>\n",
       "      <td>['Cooking spray', 'One 3 1/2-pound chicken, cu...</td>\n",
       "    </tr>\n",
       "  </tbody>\n",
       "</table>\n",
       "<p>919 rows × 7 columns</p>\n",
       "</div>"
      ],
      "text/plain": [
       "       recipeId  calories  rating  \\\n",
       "25           35     625.0   3.750   \n",
       "37           53    1203.0   5.000   \n",
       "61           80    1172.0   4.375   \n",
       "63           82     682.0   4.375   \n",
       "67           87    1143.0   0.000   \n",
       "...         ...       ...     ...   \n",
       "14445     20007     936.0   4.375   \n",
       "14473     20050     356.0   3.750   \n",
       "14475     20052     878.0   4.375   \n",
       "14497     20091    1096.0   3.750   \n",
       "14518     20121    1086.0   5.000   \n",
       "\n",
       "                                                   title  \\\n",
       "25                                         Aztec Chicken   \n",
       "37           Pancetta Roast Chicken with Walnut Stuffing   \n",
       "61     Braised Chicken and Rice with Orange, Saffron,...   \n",
       "63                   Chicken in Green Pumpkin-Seed Sauce   \n",
       "67                 Roast Chicken With Sorghum and Squash   \n",
       "...                                                  ...   \n",
       "14445  Braised Chicken with Smoked Ham, Chestnuts, an...   \n",
       "14473                                  Hot Chicken Salad   \n",
       "14475                                 Chicken Tetrazzini   \n",
       "14497                     Chicken with Raisins and Lemon   \n",
       "14518  Crispy Salt and Pepper Chicken with Caramelize...   \n",
       "\n",
       "                                           directionsStr  \\\n",
       "25     ['Melt 2 tablespoons butter with vegetable oil...   \n",
       "37     ['Preheat oven to 400°F. Melt 1/4 cup butter i...   \n",
       "61     ['Rinse the rice in a sieve under cold running...   \n",
       "63     ['Bring all ingredients to boil in large pot. ...   \n",
       "67     ['Bring 5 cups water to a boil in a medium pot...   \n",
       "...                                                  ...   \n",
       "14445  ['Bring water to a simmer in a small saucepan,...   \n",
       "14473  ['1. Preheat the oven to 375°F. Spray a 13-by-...   \n",
       "14475  ['Bring chicken bones, broth, carrot, onion, c...   \n",
       "14497  ['Arrange chicken in single layer in large Dut...   \n",
       "14518  ['1. Preheat the oven to 400°F. Spray a baking...   \n",
       "\n",
       "                                           categoriesStr  \\\n",
       "25     ['Chicken', 'Olive', 'Onion', 'Sauté', 'Dinner...   \n",
       "37     ['Chicken', 'Roast', 'High Fiber', 'Dinner', '...   \n",
       "61     ['Chicken', 'Citrus', 'Fruit', 'Nut', 'Poultry...   \n",
       "63     ['Chicken', 'Low/No Sugar', 'Cinco de Mayo', '...   \n",
       "67     ['Bon Appétit', 'Dinner', 'Chicken', 'Grains',...   \n",
       "...                                                  ...   \n",
       "14445  ['Chicken', 'Ginger', 'Braise', 'Marinate', 'D...   \n",
       "14473  ['Cheese', 'Chicken', 'Nut', 'Poultry', 'Bake'...   \n",
       "14475  ['Chicken', 'Mushroom', 'Pasta', 'Bake', 'Supe...   \n",
       "14497  ['Chicken', 'Potato', 'Poultry', 'Lemon', 'Rai...   \n",
       "14518  ['Chicken', 'Poultry', 'Bake', 'Passover', 'Fe...   \n",
       "\n",
       "                                          ingredientsStr  \n",
       "25     ['6 tablespoons (3/4 stick) chilled butter', '...  \n",
       "37     ['8 tablespoons (1 stick) butter, divided', 'C...  \n",
       "61     ['1 1/2 cups brown basmati rice', '1/4 cup oli...  \n",
       "63     ['5 cups water', '6 chicken thighs with skin a...  \n",
       "67     ['Kosher salt', '1 cup sorghum', '1/2 large bu...  \n",
       "...                                                  ...  \n",
       "14445  ['2 3/4 cups water', '12 dried Chinese black m...  \n",
       "14473  ['2 cups cooked chicken breast meat, cubed (Yo...  \n",
       "14475  ['1 to 1 1/2 pound chicken bones (from 2 cooke...  \n",
       "14497  ['1 3 1/2-pound chicken, cut into 8 pieces', '...  \n",
       "14518  ['Cooking spray', 'One 3 1/2-pound chicken, cu...  \n",
       "\n",
       "[919 rows x 7 columns]"
      ]
     },
     "execution_count": 95,
     "metadata": {},
     "output_type": "execute_result"
    }
   ],
   "source": [
    "df[df['title'].str.contains('Chicken', na=False)]"
   ]
  },
  {
   "cell_type": "markdown",
   "metadata": {},
   "source": [
    "## Method 1 : Similarity matrix"
   ]
  },
  {
   "cell_type": "markdown",
   "metadata": {},
   "source": [
    "Got these steps from the Notebook for the upcoming Recommendation Systems class."
   ]
  },
  {
   "cell_type": "code",
   "execution_count": 96,
   "metadata": {},
   "outputs": [
    {
     "data": {
      "text/plain": [
       "matrix([[0, 0, 0, ..., 0, 0, 0]], dtype=int64)"
      ]
     },
     "execution_count": 96,
     "metadata": {},
     "output_type": "execute_result"
    }
   ],
   "source": [
    "ingredients_matrix[(df['title'] == 'Chicken Parmesan').values].todense().squeeze()"
   ]
  },
  {
   "cell_type": "code",
   "execution_count": 97,
   "metadata": {},
   "outputs": [
    {
     "name": "stdout",
     "output_type": "stream",
     "text": [
      "Similarity: [[0.29230094]]\n"
     ]
    }
   ],
   "source": [
    "from sklearn.metrics.pairwise import cosine_similarity\n",
    "\n",
    "recipe_1 = ingredients_matrix[(df['title'] == 'Chicken Parmesan').values,]\n",
    "recipe_2 = ingredients_matrix[(df['title'] == 'Chicken Parmesan Heros').values,]\n",
    "\n",
    "print(\"Similarity:\", cosine_similarity(recipe_1, recipe_2)) # Notice the result is a 2D 1X1 array, so to grab\n",
    "                                                          # the number we will need to index"
   ]
  },
  {
   "cell_type": "markdown",
   "metadata": {},
   "source": [
    "Using cosine_similarity, 'Chicken Parmesan' and 'Chicken Parmesan Heros' recipes are 34% similar."
   ]
  },
  {
   "cell_type": "code",
   "execution_count": 98,
   "metadata": {},
   "outputs": [
    {
     "name": "stdout",
     "output_type": "stream",
     "text": [
      "Similarity: [[0.16302783]]\n"
     ]
    }
   ],
   "source": [
    "recipe_3 = ingredients_matrix[(df['title'] == 'Artichoke and Parmesan Risotto').values,]\n",
    "print(\"Similarity:\", cosine_similarity(recipe_1, recipe_3))"
   ]
  },
  {
   "cell_type": "markdown",
   "metadata": {},
   "source": [
    "Using cosine_similarity, 'Chicken Parmesan' and 'Artichoke and Parmesan Risotto' recipes are 20% similar."
   ]
  },
  {
   "cell_type": "markdown",
   "metadata": {},
   "source": [
    "Looking at the actual recipes in the dataset this output makes sense."
   ]
  },
  {
   "cell_type": "markdown",
   "metadata": {},
   "source": [
    "Let's create a similarity matrix by doing cosine_similarity on the entire ingredients sparse matrix."
   ]
  },
  {
   "cell_type": "code",
   "execution_count": 99,
   "metadata": {},
   "outputs": [],
   "source": [
    "from sklearn.metrics.pairwise import cosine_similarity\n",
    "similarities = cosine_similarity(ingredients_matrix, dense_output=False)"
   ]
  },
  {
   "cell_type": "code",
   "execution_count": 100,
   "metadata": {},
   "outputs": [
    {
     "data": {
      "text/plain": [
       "(14526, 14526)"
      ]
     },
     "execution_count": 100,
     "metadata": {},
     "output_type": "execute_result"
    }
   ],
   "source": [
    "# Check the shape\n",
    "# rows and columns should be equal, and the number of movies we started with (rows)\n",
    "similarities.shape"
   ]
  },
  {
   "cell_type": "code",
   "execution_count": 101,
   "metadata": {},
   "outputs": [
    {
     "data": {
      "text/html": [
       "<div>\n",
       "<style scoped>\n",
       "    .dataframe tbody tr th:only-of-type {\n",
       "        vertical-align: middle;\n",
       "    }\n",
       "\n",
       "    .dataframe tbody tr th {\n",
       "        vertical-align: top;\n",
       "    }\n",
       "\n",
       "    .dataframe thead th {\n",
       "        text-align: right;\n",
       "    }\n",
       "</style>\n",
       "<table border=\"1\" class=\"dataframe\">\n",
       "  <thead>\n",
       "    <tr style=\"text-align: right;\">\n",
       "      <th></th>\n",
       "      <th>recipeId</th>\n",
       "      <th>calories</th>\n",
       "      <th>rating</th>\n",
       "      <th>title</th>\n",
       "      <th>directionsStr</th>\n",
       "      <th>categoriesStr</th>\n",
       "      <th>ingredientsStr</th>\n",
       "    </tr>\n",
       "  </thead>\n",
       "  <tbody>\n",
       "    <tr>\n",
       "      <th>4918</th>\n",
       "      <td>6368</td>\n",
       "      <td>1842.0</td>\n",
       "      <td>5.0</td>\n",
       "      <td>Chicken Parmesan</td>\n",
       "      <td>['Place breadcrumbs and flour in 2 separate sh...</td>\n",
       "      <td>['Chicken', 'Tomato', 'Broil', 'Kid-Friendly',...</td>\n",
       "      <td>['2 cups fine dry breadcrumbs', '1 cup all-pur...</td>\n",
       "    </tr>\n",
       "  </tbody>\n",
       "</table>\n",
       "</div>"
      ],
      "text/plain": [
       "      recipeId  calories  rating             title  \\\n",
       "4918      6368    1842.0     5.0  Chicken Parmesan   \n",
       "\n",
       "                                          directionsStr  \\\n",
       "4918  ['Place breadcrumbs and flour in 2 separate sh...   \n",
       "\n",
       "                                          categoriesStr  \\\n",
       "4918  ['Chicken', 'Tomato', 'Broil', 'Kid-Friendly',...   \n",
       "\n",
       "                                         ingredientsStr  \n",
       "4918  ['2 cups fine dry breadcrumbs', '1 cup all-pur...  "
      ]
     },
     "execution_count": 101,
     "metadata": {},
     "output_type": "execute_result"
    }
   ],
   "source": [
    "# Test with a sample recipe\n",
    "df[df['title'] == 'Chicken Parmesan']"
   ]
  },
  {
   "cell_type": "code",
   "execution_count": 102,
   "metadata": {},
   "outputs": [],
   "source": [
    "# Get the column based upon the index\n",
    "recipe_index = df[df['title'] == 'Chicken Parmesan'].index\n",
    "\n",
    "# Create a dataframe with the movie titles\n",
    "sim_df = pd.DataFrame({'recipe': df['title'],\n",
    "                       'similarity': np.array(similarities[recipe_index, :].todense()).squeeze()})"
   ]
  },
  {
   "cell_type": "code",
   "execution_count": 103,
   "metadata": {},
   "outputs": [
    {
     "data": {
      "text/html": [
       "<div>\n",
       "<style scoped>\n",
       "    .dataframe tbody tr th:only-of-type {\n",
       "        vertical-align: middle;\n",
       "    }\n",
       "\n",
       "    .dataframe tbody tr th {\n",
       "        vertical-align: top;\n",
       "    }\n",
       "\n",
       "    .dataframe thead th {\n",
       "        text-align: right;\n",
       "    }\n",
       "</style>\n",
       "<table border=\"1\" class=\"dataframe\">\n",
       "  <thead>\n",
       "    <tr style=\"text-align: right;\">\n",
       "      <th></th>\n",
       "      <th>recipe</th>\n",
       "      <th>similarity</th>\n",
       "    </tr>\n",
       "  </thead>\n",
       "  <tbody>\n",
       "    <tr>\n",
       "      <th>4918</th>\n",
       "      <td>Chicken Parmesan</td>\n",
       "      <td>1.000000</td>\n",
       "    </tr>\n",
       "    <tr>\n",
       "      <th>12825</th>\n",
       "      <td>Quick Baked Chicken Parmesan</td>\n",
       "      <td>0.576624</td>\n",
       "    </tr>\n",
       "    <tr>\n",
       "      <th>11718</th>\n",
       "      <td>Fried Chicken Biscuits</td>\n",
       "      <td>0.562117</td>\n",
       "    </tr>\n",
       "    <tr>\n",
       "      <th>7471</th>\n",
       "      <td>Fried Chicken Thighs with Cheesy Grits</td>\n",
       "      <td>0.536461</td>\n",
       "    </tr>\n",
       "    <tr>\n",
       "      <th>6860</th>\n",
       "      <td>Chicken and Dumplings with Mushrooms</td>\n",
       "      <td>0.529840</td>\n",
       "    </tr>\n",
       "    <tr>\n",
       "      <th>5405</th>\n",
       "      <td>Spanish-Style Fried Chicken With Grilled Avocado</td>\n",
       "      <td>0.518811</td>\n",
       "    </tr>\n",
       "    <tr>\n",
       "      <th>7475</th>\n",
       "      <td>3-Ingredient Shakshuka</td>\n",
       "      <td>0.518751</td>\n",
       "    </tr>\n",
       "    <tr>\n",
       "      <th>13533</th>\n",
       "      <td>Fusilli with Shrimp and Paneed Chicken</td>\n",
       "      <td>0.508426</td>\n",
       "    </tr>\n",
       "    <tr>\n",
       "      <th>5786</th>\n",
       "      <td>Horseradish-Yogurt Sauce</td>\n",
       "      <td>0.503220</td>\n",
       "    </tr>\n",
       "    <tr>\n",
       "      <th>7749</th>\n",
       "      <td>Lamb and Eggplant Casserole (Moussaka)</td>\n",
       "      <td>0.496373</td>\n",
       "    </tr>\n",
       "  </tbody>\n",
       "</table>\n",
       "</div>"
      ],
      "text/plain": [
       "                                                 recipe  similarity\n",
       "4918                                   Chicken Parmesan    1.000000\n",
       "12825                      Quick Baked Chicken Parmesan    0.576624\n",
       "11718                            Fried Chicken Biscuits    0.562117\n",
       "7471             Fried Chicken Thighs with Cheesy Grits    0.536461\n",
       "6860               Chicken and Dumplings with Mushrooms    0.529840\n",
       "5405   Spanish-Style Fried Chicken With Grilled Avocado    0.518811\n",
       "7475                             3-Ingredient Shakshuka    0.518751\n",
       "13533            Fusilli with Shrimp and Paneed Chicken    0.508426\n",
       "5786                           Horseradish-Yogurt Sauce    0.503220\n",
       "7749             Lamb and Eggplant Casserole (Moussaka)    0.496373"
      ]
     },
     "execution_count": 103,
     "metadata": {},
     "output_type": "execute_result"
    }
   ],
   "source": [
    "# Return the top 10 most similar recipes\n",
    "sim_df.sort_values(by='similarity', ascending=False).head(10)"
   ]
  },
  {
   "cell_type": "markdown",
   "metadata": {},
   "source": [
    "With TFIDF Vectorizer:\n",
    "\n",
    "| recipe |                                       similarity |          |\n",
    "|-------:|-------------------------------------------------:|----------|\n",
    "|   4918 |                                 Chicken Parmesan | 1.000000 |\n",
    "|  11718 |                           Fried Chicken Biscuits | 0.424981 |\n",
    "|  12825 |                     Quick Baked Chicken Parmesan | 0.424046 |\n",
    "|   1165 |                          Mozzarella Pesto Spread | 0.412968 |\n",
    "|   9877 |         Rigatoni with Cheese and Italian Sausage | 0.360720 |\n",
    "|  14180 |                      BA's Best Eggplant Parmesan | 0.356189 |\n",
    "|   5786 |                         Horseradish-Yogurt Sauce | 0.351933 |\n",
    "|   3927 | Chunky Two-Cheese Potatoes with Garlic and Pesto | 0.333565 |\n",
    "|  13533 |           Fusilli with Shrimp and Paneed Chicken | 0.331478 |\n",
    "|   3123 |    Spicy Lamb Pizza With Parsley–Red Onion Salad | 0.328433 |"
   ]
  },
  {
   "cell_type": "markdown",
   "metadata": {},
   "source": [
    "Results with CountVectorizer seem better:\n",
    "\n",
    "|       |                                            recipe | similarity |\n",
    "|------:|--------------------------------------------------:|------------|\n",
    "|  4918 |                                  Chicken Parmesan |   1.000000 |\n",
    "| 13533 |            Fusilli with Shrimp and Paneed Chicken |   0.587137 |\n",
    "| 12480 |                          Spicy Oven-Fried Chicken |   0.574641 |\n",
    "| 11718 |                            Fried Chicken Biscuits |   0.559149 |\n",
    "| 14180 |                       BA's Best Eggplant Parmesan |   0.557207 |\n",
    "|  7749 |            Lamb and Eggplant Casserole (Moussaka) |   0.556499 |\n",
    "| 11245 |                                             Pinon |   0.548443 |\n",
    "|  9785 | Breaded Skinless Fish Fillets with Red Pepper ... |   0.540222 |\n",
    "|  6860 |              Chicken and Dumplings with Mushrooms |   0.539425 |\n",
    "| 11336 | Crispy Chicken Sandwich with Buttermilk Slaw a... |   0.539164 |"
   ]
  },
  {
   "cell_type": "markdown",
   "metadata": {},
   "source": [
    "TODO: Ana check these results - something does not make sense, should I try with CountVectorizer? Still getting some weird results like Pinon."
   ]
  },
  {
   "cell_type": "markdown",
   "metadata": {},
   "source": [
    "Tried with custom tokenizer that removed most measurements and adjectives - TODO see if there is a library for this e.g. https://stackoverflow.com/questions/33587667/extracting-all-nouns-from-a-text-file-using-nltk\n",
    "\n",
    "The results are better now:\n",
    "|   |       |                                 recipe | similarity |\n",
    "|---|------:|---------------------------------------:|------------|\n",
    "|   |  4918 |                       Chicken Parmesan |   1.000000 |\n",
    "|   | 12825 |           Quick Baked Chicken Parmesan |   0.553191 |\n",
    "|   |  6860 |   Chicken and Dumplings with Mushrooms |   0.522931 |\n",
    "|   | 11718 |                 Fried Chicken Biscuits |   0.520939 |\n",
    "|   | 13533 | Fusilli with Shrimp and Paneed Chicken |   0.517769 |\n",
    "|   |  1937 |            East-West Barbecued Chicken |   0.506168 |\n",
    "|   |  8877 |     Pepper, Rosemary, and Cheese Bread |   0.505992 |\n",
    "|   |  7471 | Fried Chicken Thighs with Cheesy Grits |   0.503038 |\n",
    "|   |  4490 |                       Parmesan Muffins |   0.501956 |\n",
    "|   | 14180 |            BA's Best Eggplant Parmesan |   0.500428 |"
   ]
  },
  {
   "cell_type": "code",
   "execution_count": 104,
   "metadata": {},
   "outputs": [
    {
     "data": {
      "text/plain": [
       "array([['Chicken Parmesan',\n",
       "        '[\\'2 cups fine dry breadcrumbs\\', \\'1 cup all-purpose flour\\', \\'4 large eggs\\', \\'1 cup whole milk\\', \\'8 small skinless, boneless chicken thighs, pounded to 1/2\" thickness\\', \\'Kosher salt, freshly ground pepper\\', \\'N/A freshly ground pepper\\', \\'8 tablespoons olive oil\\', \\'8 tablespoons prepared sun-dried tomato pesto\\', \\'1 pound fresh mozzarella, cut into 8 slices\\', \\'1/2 teaspoon crushed red pepper flakes\\', \\'4 cups prepared marinara sauce, warmed\\', \\'Finely grated Parmesan (for serving)\\']'],\n",
       "       ['Pinon',\n",
       "        \"['1 medium onion', '1/2 small green bell pepper', '1/2 small red bell pepper', 'a 14- to 16-ounce can whole tomatoes', '1/3 cup drained pimiento-stuffed green olives', '1 pound ground beef chuck', '1/4 teaspoon salt', '1/4 teaspoon freshly ground black pepper', '1/2 cup tomato sauce', '2 tablespoons raisins', '1 tablespoon cider vinegar', '2 bay leaves', '1/4 teaspoon ground achiote (optional)', '6 semi-ripe (yellow with some spots) plantains', '1/3 to 1/2 cup olive or canola oil', '2 large eggs', '2 tablespoons water', '1/4 cup freshly grated Parmesan']\"],\n",
       "       ['Fried Chicken Biscuits',\n",
       "        '[\\'1 cup buttermilk\\', \\'1 tablespoon hot sauce\\', \\'1/2 teaspoon kosher salt\\', \\'1/4 teaspoon freshly ground black pepper\\', \\'1/4 teaspoon cayenne pepper\\', \\'4 skinless, boneless chicken cutlets (about 1 1/2 pounds total), pounded to 1/4\" thickness\\', \\'1/2 cup (1 stick) unsalted butter, room temperature\\', \\'1/4 cup honey\\', \\'1/2 teaspoon kosher salt, plus more\\', \\'Vegetable oil (for frying; about 2 1/2 cups)\\', \\'2 cups panko (Japanese breadcrumbs)\\', \\'Freshly ground black pepper\\', \\'4 Pies-N-Thighs Biscuits\\', \\'Hot sauce (for serving)\\']']],\n",
       "      dtype=object)"
      ]
     },
     "execution_count": 104,
     "metadata": {},
     "output_type": "execute_result"
    }
   ],
   "source": [
    "selector = (df['title'] == 'Chicken Parmesan') | (df['title'] == 'Fried Chicken Biscuits') | (df['title'] == 'Pinon')\n",
    "df.loc[selector,['title', 'ingredientsStr']].values"
   ]
  },
  {
   "cell_type": "code",
   "execution_count": 105,
   "metadata": {},
   "outputs": [
    {
     "data": {
      "text/html": [
       "<div>\n",
       "<style scoped>\n",
       "    .dataframe tbody tr th:only-of-type {\n",
       "        vertical-align: middle;\n",
       "    }\n",
       "\n",
       "    .dataframe tbody tr th {\n",
       "        vertical-align: top;\n",
       "    }\n",
       "\n",
       "    .dataframe thead th {\n",
       "        text-align: right;\n",
       "    }\n",
       "</style>\n",
       "<table border=\"1\" class=\"dataframe\">\n",
       "  <thead>\n",
       "    <tr style=\"text-align: right;\">\n",
       "      <th></th>\n",
       "      <th>recipe</th>\n",
       "      <th>similarity</th>\n",
       "    </tr>\n",
       "  </thead>\n",
       "  <tbody>\n",
       "    <tr>\n",
       "      <th>14522</th>\n",
       "      <td>Artichoke and Parmesan Risotto</td>\n",
       "      <td>1.000000</td>\n",
       "    </tr>\n",
       "    <tr>\n",
       "      <th>6459</th>\n",
       "      <td>Asparagus Risotto</td>\n",
       "      <td>0.717137</td>\n",
       "    </tr>\n",
       "    <tr>\n",
       "      <th>5060</th>\n",
       "      <td>Shrimp Risotto with Baby Spinach and Basil</td>\n",
       "      <td>0.683130</td>\n",
       "    </tr>\n",
       "    <tr>\n",
       "      <th>12142</th>\n",
       "      <td>Mock Risotto</td>\n",
       "      <td>0.644658</td>\n",
       "    </tr>\n",
       "    <tr>\n",
       "      <th>10936</th>\n",
       "      <td>Risotto with Squash and Pancetta</td>\n",
       "      <td>0.641533</td>\n",
       "    </tr>\n",
       "    <tr>\n",
       "      <th>11060</th>\n",
       "      <td>Risotto Primavera</td>\n",
       "      <td>0.634335</td>\n",
       "    </tr>\n",
       "    <tr>\n",
       "      <th>8493</th>\n",
       "      <td>Butternut Squash, Rosemary, and Blue Cheese Ri...</td>\n",
       "      <td>0.628971</td>\n",
       "    </tr>\n",
       "    <tr>\n",
       "      <th>8366</th>\n",
       "      <td>Fontina Risotto Cakes with Fresh Chives</td>\n",
       "      <td>0.599145</td>\n",
       "    </tr>\n",
       "    <tr>\n",
       "      <th>11013</th>\n",
       "      <td>Spinach Risotto</td>\n",
       "      <td>0.597614</td>\n",
       "    </tr>\n",
       "    <tr>\n",
       "      <th>800</th>\n",
       "      <td>Asparagus Risotto</td>\n",
       "      <td>0.587975</td>\n",
       "    </tr>\n",
       "  </tbody>\n",
       "</table>\n",
       "</div>"
      ],
      "text/plain": [
       "                                                  recipe  similarity\n",
       "14522                     Artichoke and Parmesan Risotto    1.000000\n",
       "6459                                   Asparagus Risotto    0.717137\n",
       "5060          Shrimp Risotto with Baby Spinach and Basil    0.683130\n",
       "12142                                       Mock Risotto    0.644658\n",
       "10936                   Risotto with Squash and Pancetta    0.641533\n",
       "11060                                  Risotto Primavera    0.634335\n",
       "8493   Butternut Squash, Rosemary, and Blue Cheese Ri...    0.628971\n",
       "8366             Fontina Risotto Cakes with Fresh Chives    0.599145\n",
       "11013                                    Spinach Risotto    0.597614\n",
       "800                                    Asparagus Risotto    0.587975"
      ]
     },
     "execution_count": 105,
     "metadata": {},
     "output_type": "execute_result"
    }
   ],
   "source": [
    "# Check for Aritchoke\n",
    "# Get the column based upon the index\n",
    "recipe_index_2 = df[df['title'] == 'Artichoke and Parmesan Risotto'].index\n",
    "\n",
    "# Create a dataframe with the movie titles\n",
    "sim_df_2 = pd.DataFrame({'recipe': df['title'],\n",
    "                       'similarity': np.array(similarities[recipe_index_2, :].todense()).squeeze()})\n",
    "\n",
    "# Return the top 10 most similar recipes\n",
    "sim_df_2.sort_values(by='similarity', ascending=False).head(10)"
   ]
  },
  {
   "cell_type": "markdown",
   "metadata": {},
   "source": [
    "Results look satisfactory."
   ]
  },
  {
   "cell_type": "markdown",
   "metadata": {},
   "source": [
    "## Method 2 : Using NearestNeighbors"
   ]
  },
  {
   "cell_type": "code",
   "execution_count": null,
   "metadata": {},
   "outputs": [],
   "source": [
    "# Adding a function to print the list of ingredients given a recipe title\n",
    "def printIngredients(recipeName):\n",
    "    sel = df['title'] == recipeName\n",
    "    print(recipeName)\n",
    "    print(df.loc[sel, ['ingredientsStr']].values)\n"
   ]
  },
  {
   "cell_type": "code",
   "execution_count": 106,
   "metadata": {},
   "outputs": [
    {
     "data": {
      "text/html": [
       "<style>#sk-container-id-4 {color: black;background-color: white;}#sk-container-id-4 pre{padding: 0;}#sk-container-id-4 div.sk-toggleable {background-color: white;}#sk-container-id-4 label.sk-toggleable__label {cursor: pointer;display: block;width: 100%;margin-bottom: 0;padding: 0.3em;box-sizing: border-box;text-align: center;}#sk-container-id-4 label.sk-toggleable__label-arrow:before {content: \"▸\";float: left;margin-right: 0.25em;color: #696969;}#sk-container-id-4 label.sk-toggleable__label-arrow:hover:before {color: black;}#sk-container-id-4 div.sk-estimator:hover label.sk-toggleable__label-arrow:before {color: black;}#sk-container-id-4 div.sk-toggleable__content {max-height: 0;max-width: 0;overflow: hidden;text-align: left;background-color: #f0f8ff;}#sk-container-id-4 div.sk-toggleable__content pre {margin: 0.2em;color: black;border-radius: 0.25em;background-color: #f0f8ff;}#sk-container-id-4 input.sk-toggleable__control:checked~div.sk-toggleable__content {max-height: 200px;max-width: 100%;overflow: auto;}#sk-container-id-4 input.sk-toggleable__control:checked~label.sk-toggleable__label-arrow:before {content: \"▾\";}#sk-container-id-4 div.sk-estimator input.sk-toggleable__control:checked~label.sk-toggleable__label {background-color: #d4ebff;}#sk-container-id-4 div.sk-label input.sk-toggleable__control:checked~label.sk-toggleable__label {background-color: #d4ebff;}#sk-container-id-4 input.sk-hidden--visually {border: 0;clip: rect(1px 1px 1px 1px);clip: rect(1px, 1px, 1px, 1px);height: 1px;margin: -1px;overflow: hidden;padding: 0;position: absolute;width: 1px;}#sk-container-id-4 div.sk-estimator {font-family: monospace;background-color: #f0f8ff;border: 1px dotted black;border-radius: 0.25em;box-sizing: border-box;margin-bottom: 0.5em;}#sk-container-id-4 div.sk-estimator:hover {background-color: #d4ebff;}#sk-container-id-4 div.sk-parallel-item::after {content: \"\";width: 100%;border-bottom: 1px solid gray;flex-grow: 1;}#sk-container-id-4 div.sk-label:hover label.sk-toggleable__label {background-color: #d4ebff;}#sk-container-id-4 div.sk-serial::before {content: \"\";position: absolute;border-left: 1px solid gray;box-sizing: border-box;top: 0;bottom: 0;left: 50%;z-index: 0;}#sk-container-id-4 div.sk-serial {display: flex;flex-direction: column;align-items: center;background-color: white;padding-right: 0.2em;padding-left: 0.2em;position: relative;}#sk-container-id-4 div.sk-item {position: relative;z-index: 1;}#sk-container-id-4 div.sk-parallel {display: flex;align-items: stretch;justify-content: center;background-color: white;position: relative;}#sk-container-id-4 div.sk-item::before, #sk-container-id-4 div.sk-parallel-item::before {content: \"\";position: absolute;border-left: 1px solid gray;box-sizing: border-box;top: 0;bottom: 0;left: 50%;z-index: -1;}#sk-container-id-4 div.sk-parallel-item {display: flex;flex-direction: column;z-index: 1;position: relative;background-color: white;}#sk-container-id-4 div.sk-parallel-item:first-child::after {align-self: flex-end;width: 50%;}#sk-container-id-4 div.sk-parallel-item:last-child::after {align-self: flex-start;width: 50%;}#sk-container-id-4 div.sk-parallel-item:only-child::after {width: 0;}#sk-container-id-4 div.sk-dashed-wrapped {border: 1px dashed gray;margin: 0 0.4em 0.5em 0.4em;box-sizing: border-box;padding-bottom: 0.4em;background-color: white;}#sk-container-id-4 div.sk-label label {font-family: monospace;font-weight: bold;display: inline-block;line-height: 1.2em;}#sk-container-id-4 div.sk-label-container {text-align: center;}#sk-container-id-4 div.sk-container {/* jupyter's `normalize.less` sets `[hidden] { display: none; }` but bootstrap.min.css set `[hidden] { display: none !important; }` so we also need the `!important` here to be able to override the default hidden behavior on the sphinx rendered scikit-learn.org. See: https://github.com/scikit-learn/scikit-learn/issues/21755 */display: inline-block !important;position: relative;}#sk-container-id-4 div.sk-text-repr-fallback {display: none;}</style><div id=\"sk-container-id-4\" class=\"sk-top-container\"><div class=\"sk-text-repr-fallback\"><pre>NearestNeighbors(metric=&#x27;cosine&#x27;, n_neighbors=11)</pre><b>In a Jupyter environment, please rerun this cell to show the HTML representation or trust the notebook. <br />On GitHub, the HTML representation is unable to render, please try loading this page with nbviewer.org.</b></div><div class=\"sk-container\" hidden><div class=\"sk-item\"><div class=\"sk-estimator sk-toggleable\"><input class=\"sk-toggleable__control sk-hidden--visually\" id=\"sk-estimator-id-4\" type=\"checkbox\" checked><label for=\"sk-estimator-id-4\" class=\"sk-toggleable__label sk-toggleable__label-arrow\">NearestNeighbors</label><div class=\"sk-toggleable__content\"><pre>NearestNeighbors(metric=&#x27;cosine&#x27;, n_neighbors=11)</pre></div></div></div></div></div>"
      ],
      "text/plain": [
       "NearestNeighbors(metric='cosine', n_neighbors=11)"
      ]
     },
     "execution_count": 106,
     "metadata": {},
     "output_type": "execute_result"
    }
   ],
   "source": [
    "from sklearn.neighbors import NearestNeighbors\n",
    "\n",
    "model = NearestNeighbors(n_neighbors=11, metric='cosine')\n",
    "model.fit(ingredients_matrix)\n"
   ]
  },
  {
   "cell_type": "markdown",
   "metadata": {},
   "source": [
    "### Matching on \"Exact Recipe Title\" as Input"
   ]
  },
  {
   "cell_type": "code",
   "execution_count": 107,
   "metadata": {},
   "outputs": [],
   "source": [
    "recipe_index = df[df['title'] == 'Chicken Parmesan'].index\n",
    "\n",
    "# Run the text input of ingredients through the tokenizer and pass the params into the function below\n",
    "distances, indices = model.kneighbors(ingredients_matrix[recipe_index])"
   ]
  },
  {
   "cell_type": "code",
   "execution_count": 108,
   "metadata": {},
   "outputs": [
    {
     "name": "stdout",
     "output_type": "stream",
     "text": [
      "[title    Chicken Parmesan\n",
      "Name: 4918, dtype: object, title    Quick Baked Chicken Parmesan\n",
      "Name: 12825, dtype: object, title    Fried Chicken Biscuits\n",
      "Name: 11718, dtype: object, title    Fried Chicken Thighs with Cheesy Grits\n",
      "Name: 7471, dtype: object, title    Chicken and Dumplings with Mushrooms\n",
      "Name: 6860, dtype: object, title    Spanish-Style Fried Chicken With Grilled Avocado\n",
      "Name: 5405, dtype: object, title    3-Ingredient Shakshuka\n",
      "Name: 7475, dtype: object, title    Fusilli with Shrimp and Paneed Chicken\n",
      "Name: 13533, dtype: object, title    Horseradish-Yogurt Sauce\n",
      "Name: 5786, dtype: object, title    Lamb and Eggplant Casserole (Moussaka)\n",
      "Name: 7749, dtype: object, title    Spicy Oven-Fried Chicken\n",
      "Name: 12480, dtype: object]\n"
     ]
    }
   ],
   "source": [
    "# recipe_title = df.loc[4918, ['title']]\n",
    "recipe_titles = []\n",
    "for id in indices[0]:\n",
    "    recipe_titles.append(df.loc[id, ['title']])\n",
    "print(recipe_titles)"
   ]
  },
  {
   "cell_type": "code",
   "execution_count": 109,
   "metadata": {},
   "outputs": [
    {
     "name": "stdout",
     "output_type": "stream",
     "text": [
      "[title    Artichoke and Parmesan Risotto\n",
      "Name: 14522, dtype: object, title    Asparagus Risotto\n",
      "Name: 6459, dtype: object, title    Shrimp Risotto with Baby Spinach and Basil\n",
      "Name: 5060, dtype: object, title    Mock Risotto\n",
      "Name: 12142, dtype: object, title    Risotto with Squash and Pancetta\n",
      "Name: 10936, dtype: object, title    Risotto Primavera\n",
      "Name: 11060, dtype: object, title    Butternut Squash, Rosemary, and Blue Cheese Ri...\n",
      "Name: 8493, dtype: object, title    Fontina Risotto Cakes with Fresh Chives\n",
      "Name: 8366, dtype: object, title    Spinach Risotto\n",
      "Name: 11013, dtype: object, title    Porcini Mushroom Risotto\n",
      "Name: 10112, dtype: object, title    Asparagus Risotto\n",
      "Name: 800, dtype: object]\n"
     ]
    }
   ],
   "source": [
    "recipe_index_2 = df[df['title'] == 'Artichoke and Parmesan Risotto'].index\n",
    "\n",
    "distances2, indices2 = model.kneighbors(ingredients_matrix[recipe_index_2])\n",
    "recipe_titles2 = []\n",
    "for id2 in indices2[0]:\n",
    "    recipe_titles2.append(df.loc[id2, ['title']])\n",
    "print(recipe_titles2)"
   ]
  },
  {
   "cell_type": "markdown",
   "metadata": {},
   "source": [
    "Results seem to be going in the right direction."
   ]
  },
  {
   "cell_type": "markdown",
   "metadata": {},
   "source": [
    "### Matching on a \"list of ingredients\" as Input"
   ]
  },
  {
   "cell_type": "code",
   "execution_count": 119,
   "metadata": {},
   "outputs": [
    {
     "name": "stdout",
     "output_type": "stream",
     "text": [
      "\n",
      " Input ingredients: Chicken, Parmesan, Breadcrumbs\n",
      "\n",
      " Result\n",
      "Parmesan Chicken with Mixed Baby Greens  :  0.484  :  4.375\n",
      "Parmesan Polenta  :  0.5  :  4.375\n",
      "Chicken Soup  :  0.592  :  3.75\n",
      "Fettucine with Chicken and Bell Pepper Cream Sauce  :  0.607  :  4.375\n",
      "Quick Baked Chicken Parmesan  :  0.62  :  5.0\n",
      "Parmesan-Crusted Lemon Chicken  :  0.622  :  3.75\n",
      "Risotto with Squash and Pancetta  :  0.622  :  4.375\n",
      "Breaded Chicken Cutlets with Chunky Vegetable Sauce  :  0.625  :  3.75\n",
      "Fontina Risotto Cakes with Fresh Chives  :  0.63  :  4.375\n",
      "Easy Arancini  :  0.63  :  4.375\n",
      "Chicken Schnitzel with Anchovy-Chive Butter Sauce  :  0.631  :  3.75\n",
      "\n",
      " Input ingredients: Artichoke Pesto\n",
      "\n",
      " Result\n",
      "Rack of Lamb with Pesto Crumbs  :  0.75  :  4.375\n",
      "Mozzarella Pesto Spread  :  0.75  :  3.75\n",
      "Pesto Pizza with Crabmeat and Artichoke Hearts  :  0.757  :  4.375\n",
      "Burgers with Artichokes, Gorgonzola, and Tomatoes  :  0.761  :  3.75\n",
      "Artichoke Hearts with Garlic, Olive Oil and Parsley  :  0.764  :  3.125\n",
      "Roast Turkey with Pesto-Rice Stuffing  :  0.764  :  5.0\n",
      "3-Ingredient Mussels With White Wine and Pesto  :  0.776  :  0.0\n",
      "Grilled Fontina with Artichokes and Mushrooms  :  0.787  :  3.125\n",
      "Parmesan-Crusted Chicken Breasts  :  0.787  :  3.75\n",
      "Broiled Spiced Lamb with Gingered Mint Pesto  :  0.796  :  4.375\n",
      "Hot Artichoke and Tarragon Dip  :  0.796  :  3.75\n",
      "\n",
      " Input ingredients: Chicken thighs, potatoes\n",
      "\n",
      " Result\n",
      "Cane Vinegar Chicken with Pearl Onions, Orange & Spinach  :  0.49  :  4.375\n",
      "Roasted Chicken, Ramps, and Potatoes  :  0.5  :  4.375\n",
      "Chicken Vegetable Soup with Lime and Cilantro  :  0.547  :  3.75\n",
      "Horseradish Mashed Potatoes  :  0.553  :  3.75\n",
      "Maple-Barbecued Chicken  :  0.564  :  4.375\n",
      "Roast Chicken with Pesto and Potatoes  :  0.567  :  4.375\n",
      "Grilled Chicken Moroccan Style  :  0.571  :  4.375\n",
      "Lemon-Oregano Chicken  :  0.58  :  4.375\n",
      "Chicken with Baby Onions  :  0.592  :  3.75\n",
      "Chicken Soup  :  0.592  :  3.75\n",
      "Chicken with Prosciutto, Rosemary, and White Wine  :  0.592  :  3.75\n",
      "\n",
      " Input ingredients: Chicken thighs, potato\n",
      "\n",
      " Result\n",
      "Cane Vinegar Chicken with Pearl Onions, Orange & Spinach  :  0.49  :  4.375\n",
      "Maple-Barbecued Chicken  :  0.564  :  4.375\n",
      "Grilled Chicken Moroccan Style  :  0.571  :  4.375\n",
      "Chicken and Corn Chowder with Thyme  :  0.578  :  3.75\n",
      "Lemon-Oregano Chicken  :  0.58  :  4.375\n",
      "Chicken Soup  :  0.592  :  3.75\n",
      "Chicken with Baby Onions  :  0.592  :  3.75\n",
      "Chicken with Prosciutto, Rosemary, and White Wine  :  0.592  :  3.75\n",
      "Chicken and Artichoke Fricassée with Morel Mushrooms  :  0.598  :  4.375\n",
      "Chicken Vegetable Soup with Ginger  :  0.61  :  3.75\n",
      "Chicken Thighs with Creole Mustard-Orange Sauce  :  0.622  :  4.375\n",
      "\n",
      " Input ingredients: Okra\n",
      "\n",
      " Result\n",
      "Sauteed Okra with Tomato and Corn  :  0.646  :  4.375\n",
      "Okra with Scallion, Lime, and Ginger  :  0.684  :  3.75\n",
      "Chicken, Sausage, and Okra Gumbo  :  0.702  :  2.5\n",
      "Okra Beignets with Cilantro Sour Cream Sauce  :  0.72  :  3.75\n",
      "Broiled Tomato, Corn, and Okra  :  0.723  :  4.375\n",
      "Stewed Corn and Tomatoes with Okra  :  0.757  :  4.375\n",
      "Creole Chicken and Okra Gumbo  :  0.787  :  3.75\n",
      "Succotash  :  0.8  :  4.375\n",
      "Catfish and Okra with Pecan Butter Sauce  :  0.817  :  4.375\n",
      "Crisp Okra in Yogurt Sauce  :  0.82  :  0.0\n",
      "Chive Shortcakes with Smoky Corn and Okra Stew  :  0.82  :  3.125\n",
      "\n",
      " Input ingredients: Bhindi\n",
      "\n",
      " Result\n",
      "Sour Cream Chocolate Cake  :  1.0  :  3.75\n",
      "Zucchini-Blossom Quesadillas  :  1.0  :  3.75\n",
      "Summer Seafood Stew  :  1.0  :  4.375\n",
      "Baked Sea Bass with Walnut-Breadcrumb Crust and Lemon-Dill Sauce  :  1.0  :  4.375\n",
      "Maple-Walnut Espresso Torte  :  1.0  :  3.75\n",
      "Turkey Cheddar Sandwiches with Honey Mustard  :  1.0  :  3.75\n",
      "Poached Eggs in Pipérade  :  1.0  :  4.375\n",
      "Farfalle with Tomatoes and Feta Cheese  :  1.0  :  4.375\n",
      "Potato, Cucumber and Dill Salad  :  1.0  :  4.375\n",
      "Chocolate and Mixed Nut Tart in Cookie Crust  :  1.0  :  4.375\n",
      "Scallop Potatoes with Gouda and Fennel  :  1.0  :  4.375\n"
     ]
    }
   ],
   "source": [
    "# Using various ingredient lists to test the results\n",
    "\n",
    "ingInputList = [\n",
    "    \"Chicken, Parmesan, Breadcrumbs\",  # something familiar\n",
    "    \"Artichoke Pesto\",\n",
    "    \"Chicken thighs, potatoes\",  # compare results of potatoes vs potato\n",
    "    \"Chicken thighs, potato\",\n",
    "    \"Okra\",  # single ingredient\n",
    "    \"Bhindi\",  # unknown ingredient - does not exist in the vocabulary\n",
    "]\n",
    "\n",
    "for ingInput in ingInputList:\n",
    "    print(f\"\\n Input ingredients: {ingInput}\")\n",
    "    # Convert the string to a series\n",
    "    ingInputSeries = pd.Series(ingInput)\n",
    "\n",
    "    # Let's try to use the vectorizer on this\n",
    "    ingTransformed = vectorizer.transform(ingInputSeries)\n",
    "\n",
    "    # pass this to NearestNeighbors trained model\n",
    "    distOfRes, indicesOfRes = model.kneighbors(ingTransformed)\n",
    "\n",
    "    # print the output\n",
    "    print(\"\\n Result\")\n",
    "\n",
    "    for i in range(0, 11):  # TODO: 11 should be made configurable and match the n-neighbors number\n",
    "        name = df.loc[indicesOfRes[0][i], ['title']].values[0]\n",
    "        distance = (distOfRes[0][i]).round(3)\n",
    "        rating = df.loc[indicesOfRes[0][i], ['rating']].values[0]\n",
    "\n",
    "        # print(f\"{name}  :  {distance}\")\n",
    "        print(f\"{name}  :  {distance}  :  {rating}\")\n"
   ]
  },
  {
   "cell_type": "markdown",
   "metadata": {},
   "source": [
    "Stored the results in https://docs.google.com/spreadsheets/d/1hkekdJCZBJqC5hkHKQFFM8sBONUf3CIsv9ekPxqa1AQ/edit?gid=0#gid=0 for easier readability"
   ]
  },
  {
   "cell_type": "markdown",
   "metadata": {},
   "source": [
    "Results are in the right direction, but:  \n",
    "- we need to do more tokenization or handle plurals in some way.\n",
    "- maybe add phrases like 'chicken thighs' 'egg yolks' to tokenizer in some way.."
   ]
  },
  {
   "cell_type": "markdown",
   "metadata": {},
   "source": [
    "### Matching on \"exclude list of ingredients\" as Input"
   ]
  },
  {
   "cell_type": "code",
   "execution_count": 133,
   "metadata": {},
   "outputs": [
    {
     "name": "stdout",
     "output_type": "stream",
     "text": [
      "\n",
      " Input ingredients: Chicken, Parmesan, Breadcrumbs\n",
      "\n",
      " Result\n",
      "Double-Chocolate Almond Brownies  :  1.0  :  3.75\n",
      "Sauteed Radishes and Sugar Snap Peas with Dill  :  1.0  :  3.75\n",
      "Mom's Noodle Kugel  :  1.0  :  3.125\n",
      "Spicy Tomato Chutney  :  1.0  :  4.375\n",
      "Pomegranate Molasses-Glazed Carrots  :  1.0  :  4.375\n",
      "Coconut Pineapple Cake  :  1.0  :  3.75\n",
      "Dried Apple and Cheddar Strudel  :  1.0  :  3.75\n",
      "Sweet-Potato Coconut Purée  :  1.0  :  4.375\n",
      "Spiced Brown Butter Linzer Cookies  :  1.0  :  0.0\n",
      "Fruit Salad with Ginger Syrup  :  1.0  :  4.375\n",
      "Skillet Polenta with Tomatoes and Gorgonzola  :  1.0  :  4.375\n",
      "Double-Chocolate Almond Brownies\n",
      "[[\"['1/3 cup sliced almonds (about 1 ounce)', '1/4 cup all-purpose flour', '1/2 teaspoon baking powder', '2 ounces unsweetened chocolate', '1/2 stick (1/4 cup) unsalted butter', '1/2 cup sugar', '1/2 teaspoon vanilla', '1 large egg', '1/3 cup semisweet chocolate chips']\"]]\n",
      "Sauteed Radishes and Sugar Snap Peas with Dill\n",
      "[[\"['1 tablespoon butter', '1 tablespoon olive oil', '1/2 cup thinly sliced shallots', '12 ounces sugar snap peas, trimmed, strings removed', '2 cups thinly sliced radishes (about 1 large bunch)', '1/4 cup orange juice', '1 teaspoon dill seeds', '1 tablespoon chopped fresh dill']\"]]\n",
      "Mom's Noodle Kugel\n",
      "[[\"['Water', '1 teaspoon salt', '1 1/2 cup wide noodles', '1 egg', '3 tablespoons sugar', '1 tablespoon butter or margarine', '1/4 teaspoon cinnamon', '1/2 cup raisins', '1/8 teaspoon salt', '1 1/8 cups cottage cheese (optional)', '3/8 cup sour cream (optional)']\"]]\n",
      "Spicy Tomato Chutney\n",
      "[[\"['1 pound vine-ripened tomatoes', '1 red bell pepper', '1/2 cup red-wine vinegar', '3/4 cup cider vinegar', '3/4 cup sugar', '1 teaspoon salt', '2 teaspoons mustard seeds', '1/2 teaspoon freshly ground black pepper', '1/2 teaspoon dried hot red pepper flakes', '3/4 cup chopped scallion greens']\"]]\n",
      "Pomegranate Molasses-Glazed Carrots\n",
      "[['[\\'2 pounds carrots (any color), halved lengthwise if large, cut crosswise into 2\"-2 1/2\" pieces\\', \\'2 tablespoons olive oil\\', \\'Kosher salt and freshly ground black pepper\\', \\'1 tablespoon honey\\', \\'1 tablespoon pomegranate molasses\\']']]\n",
      "Coconut Pineapple Cake\n",
      "[[\"['1 cup cake flour (not self-rising)', '1/2 teaspoon salt', '6 large eggs at room temperature', '1 cup sugar', '2 teaspoons vanilla', '3/4 stick (6 tablespoons) unsalted butter, melted and cooled', '1 (20-ounce) can crushed pineapple, including juice', '2 tablespoons sugar', '1 tablespoon cornstarch', '1 teaspoon fresh lemon juice', '2/3 cup water', '1/4 cup sugar', '3 tablespoons light rum', 'Coconut buttercream', '3 1/2 cups fresh coconut shavings (see how to crack and shave fresh coconut ) or 2 2/3 cups sweetened flaked coconut (7-oz package)']\"]]\n",
      "Dried Apple and Cheddar Strudel\n",
      "[[\"['3/4 pound dried apples', '3 cups apple cider', '1 1/2 cups grated Cheddar (about 6 ounces)', '1/4 cup dried cranberries (available at specialty foods shops and some supermarkets) or raisins', '4 tablespoons sugar', '2 1/2 teaspoons cinnamon', '1/4 teaspoon allspice', '10 teaspoons fine dry bread crumbs', '5 tablespoons unsalted butter, melted', 'six 18- by 14-inch sheets of phyllo, stacked between 2 sheets of wax paper and covered with a dampened kitchen towel']\"]]\n",
      "Sweet-Potato Coconut Purée\n",
      "[[\"['6 pounds medium sweet potatoes', '1 cup well-stirred canned unsweetened coconut milk', '3 tablespoons packed dark brown sugar, or to taste']\"]]\n",
      "Spiced Brown Butter Linzer Cookies\n",
      "[['[\\'1 1/2 cups (3 sticks) unsalted butter\\', \\'3/4 teaspoon kosher salt\\', \\'1/2 teaspoon baking powder\\', \\'1/2 teaspoon ground cardamom\\', \\'1/4 teaspoon ground cloves\\', \\'1/4 teaspoon finely ground black pepper\\', \\'3 3/4 cups all-purpose flour, plus more\\', \\'1 1/2 cups granulated sugar\\', \\'2 teaspoons finely grated lemon zest\\', \\'1 vanilla bean, split lengthwise\\', \\'1 large egg, room temperature\\', \\'2 large egg yolks, room temperature\\', \\'Powdered sugar (for dusting)\\', \\'1/2 cup red currant jelly\\', \\'A 3 x 1 1/2\" cookie cutter or other similarly sized shape and 1\" and 1 1/2\" cookie cutters\\']']]\n",
      "Fruit Salad with Ginger Syrup\n",
      "[[\"['3 cups water', '2 cups sugar', '2 cups thinly sliced fresh ginger (1/2 lb; from a 10-inch piece), left unpeeled', '4 cups (1-inch pieces) summer fruit (such as mixed berries, melons, peaches, and/or nectarines)', '3 tablespoons small mint leaves']\"]]\n",
      "Skillet Polenta with Tomatoes and Gorgonzola\n",
      "[[\"['2 tablespoons extra-virgin olive oil', '4 cups water', '1 1/3 cups yellow cornmeal', '1 1/4 teaspoons salt', '1/2 cup slivered fresh basil leaves', '2 cups halved cherry tomatoes', '2 garlic cloves, minced', '1 cup crumbled Gorgonzola cheese (about 4 ounces)', '1 cup shredded mozzarella cheese (about 4 ounces)']\"]]\n"
     ]
    }
   ],
   "source": [
    "ingInputList = [\n",
    "    \"Chicken, Parmesan, Breadcrumbs\",  # something familiar\n",
    "]\n",
    "\n",
    "for ingInput in ingInputList:\n",
    "    print(f\"\\n Input ingredients: {ingInput}\")\n",
    "    # Convert the string to a series\n",
    "    ingInputSeries = pd.Series(ingInput)\n",
    "\n",
    "    # Let's try to use the vectorizer on this\n",
    "    ingTransformed = (vectorizer.transform(ingInputSeries)) * -1\n",
    "\n",
    "\n",
    "    # pass this to NearestNeighbors trained model\n",
    "    distOfRes, indicesOfRes = model.kneighbors(ingTransformed)\n",
    "\n",
    "    # print the output\n",
    "    print(\"\\n Result\")\n",
    "\n",
    "    for i in range(0, 11):  # TODO: 11 should be made configurable and match the n-neighbors number\n",
    "        name = df.loc[indicesOfRes[0][i], ['title']].values[0]\n",
    "        distance = (distOfRes[0][i]).round(3)\n",
    "        rating = df.loc[indicesOfRes[0][i], ['rating']].values[0]\n",
    "\n",
    "        # print(f\"{name}  :  {distance}\")\n",
    "        print(f\"{name}  :  {distance}  :  {rating}\")\n",
    "\n",
    "    # print ingredient lists to verify\n",
    "    # for i in range(0, 11):  # TODO: 11 should be made configurable and match the n-neighbors number\n",
    "    #     name = df.loc[indicesOfRes[0][i], ['title']].values[0]\n",
    "    #     printIngredients(name)"
   ]
  },
  {
   "cell_type": "markdown",
   "metadata": {},
   "source": [
    "This worked but one recipe had bread crumbs instead of breadcrumbs and that made it through in the output."
   ]
  },
  {
   "cell_type": "markdown",
   "metadata": {},
   "source": [
    "### Matching on 'include ingredients' + 'exclude ingredients' as input"
   ]
  },
  {
   "cell_type": "code",
   "execution_count": 134,
   "metadata": {},
   "outputs": [
    {
     "name": "stdout",
     "output_type": "stream",
     "text": [
      "\n",
      " Result\n",
      "Sauteed Okra with Tomato and Corn  :  0.646  :  4.375\n",
      "Okra with Scallion, Lime, and Ginger  :  0.684  :  3.75\n",
      "Chicken, Sausage, and Okra Gumbo  :  0.702  :  2.5\n",
      "Okra Beignets with Cilantro Sour Cream Sauce  :  0.72  :  3.75\n",
      "Broiled Tomato, Corn, and Okra  :  0.723  :  4.375\n",
      "Stewed Corn and Tomatoes with Okra  :  0.757  :  4.375\n",
      "Creole Chicken and Okra Gumbo  :  0.787  :  3.75\n",
      "Succotash  :  0.8  :  4.375\n",
      "Catfish and Okra with Pecan Butter Sauce  :  0.817  :  4.375\n",
      "Crisp Okra in Yogurt Sauce  :  0.82  :  0.0\n",
      "Chive Shortcakes with Smoky Corn and Okra Stew  :  0.82  :  3.125\n"
     ]
    }
   ],
   "source": [
    "yes_ing_series = pd.Series(\"Okra\")\n",
    "no_ing_series = pd.Series(\"Tomato\")\n",
    "\n",
    "yes_ing_tx = vectorizer.transform(yes_ing_series)\n",
    "no_ing_tx = (vectorizer.transform(no_ing_series)) * -1\n",
    "\n",
    "distOfRes, indicesOfRes = model.kneighbors(yes_ing_tx)\n",
    "\n",
    "# print the output\n",
    "print(\"\\n Result\")\n",
    "\n",
    "for i in range(0, 11):  # TODO: 11 should be made configurable and match the n-neighbors number\n",
    "    name = df.loc[indicesOfRes[0][i], ['title']].values[0]\n",
    "    distance = (distOfRes[0][i]).round(3)\n",
    "    rating = df.loc[indicesOfRes[0][i], ['rating']].values[0]\n",
    "\n",
    "    # print(f\"{name}  :  {distance}\")\n",
    "    print(f\"{name}  :  {distance}  :  {rating}\")\n",
    "\n"
   ]
  },
  {
   "cell_type": "code",
   "execution_count": 137,
   "metadata": {},
   "outputs": [
    {
     "name": "stdout",
     "output_type": "stream",
     "text": [
      "(1, 2158)\n",
      "(1, 2158)\n",
      "<class 'scipy.sparse._csr.csr_matrix'>\n",
      "(1, 2158)\n"
     ]
    }
   ],
   "source": [
    "print(yes_ing_tx.shape)\n",
    "print(no_ing_tx.shape)\n",
    "print(type(yes_ing_tx))\n",
    "\n",
    "updated_ing_tx = yes_ing_tx + no_ing_tx\n",
    "\n",
    "print(updated_ing_tx.shape)"
   ]
  },
  {
   "cell_type": "code",
   "execution_count": 140,
   "metadata": {},
   "outputs": [
    {
     "name": "stdout",
     "output_type": "stream",
     "text": [
      "\n",
      " Result\n",
      "Okra with Scallion, Lime, and Ginger  :  0.817  :  3.75\n",
      "Chicken, Sausage, and Okra Gumbo  :  0.828  :  2.5\n",
      "Broiled Tomato, Corn, and Okra  :  0.84  :  4.375\n",
      "Stewed Corn and Tomatoes with Okra  :  0.86  :  4.375\n",
      "Creole Chicken and Okra Gumbo  :  0.877  :  3.75\n",
      "Succotash  :  0.885  :  4.375\n",
      "Catfish and Okra with Pecan Butter Sauce  :  0.895  :  4.375\n",
      "Chive Shortcakes with Smoky Corn and Okra Stew  :  0.896  :  3.125\n",
      "Crisp Okra in Yogurt Sauce  :  0.896  :  0.0\n",
      "Corn and Okra Stew  :  0.904  :  3.75\n",
      "Spicy Gumbo-Laya  :  0.908  :  4.375\n"
     ]
    }
   ],
   "source": [
    "yes_ing_series = pd.Series(\"Okra\")\n",
    "no_ing_series = pd.Series(\"Tomato Cilantro\")\n",
    "\n",
    "yes_ing_tx = vectorizer.transform(yes_ing_series)\n",
    "no_ing_tx = (vectorizer.transform(no_ing_series)) * -1\n",
    "\n",
    "updated_ing_tx = yes_ing_tx + no_ing_tx\n",
    "\n",
    "distOfRes, indicesOfRes = model.kneighbors(updated_ing_tx)\n",
    "\n",
    "# print the output\n",
    "print(\"\\n Result\")\n",
    "\n",
    "for i in range(0, 11):  # TODO: 11 should be made configurable and match the n-neighbors number\n",
    "    name = df.loc[indicesOfRes[0][i], ['title']].values[0]\n",
    "    distance = (distOfRes[0][i]).round(3)\n",
    "    rating = df.loc[indicesOfRes[0][i], ['rating']].values[0]\n",
    "\n",
    "    # print(f\"{name}  :  {distance}\")\n",
    "    print(f\"{name}  :  {distance}  :  {rating}\")"
   ]
  },
  {
   "cell_type": "markdown",
   "metadata": {},
   "source": [
    "Seems to be working, although I am concerned about the similarity values (it keeps getting larger as I exclude ingredients.)  \n",
    "Results stored in https://docs.google.com/spreadsheets/d/1hkekdJCZBJqC5hkHKQFFM8sBONUf3CIsv9ekPxqa1AQ/edit?gid=0#gid=0"
   ]
  },
  {
   "cell_type": "markdown",
   "metadata": {},
   "source": [
    "## Trying NearestNeighbors on categoriesStr"
   ]
  },
  {
   "cell_type": "markdown",
   "metadata": {},
   "source": [
    "### Vectorize categoriesStr using the default tokenizer"
   ]
  },
  {
   "cell_type": "code",
   "execution_count": 121,
   "metadata": {},
   "outputs": [],
   "source": [
    "# NOTE Using default tokenizer here\n",
    "vect2 = CountVectorizer(stop_words=\"english\")\n",
    "vect2.fit(df['categoriesStr'])\n",
    "vocab_categories = vect2.get_feature_names_out()\n",
    "categories_matrix = vect2.transform(df['categoriesStr'])"
   ]
  },
  {
   "cell_type": "code",
   "execution_count": 122,
   "metadata": {},
   "outputs": [
    {
     "data": {
      "text/plain": [
       "701"
      ]
     },
     "execution_count": 122,
     "metadata": {},
     "output_type": "execute_result"
    }
   ],
   "source": [
    "len(vocab_categories)"
   ]
  },
  {
   "cell_type": "code",
   "execution_count": null,
   "metadata": {},
   "outputs": [],
   "source": [
    "vocab_categories"
   ]
  },
  {
   "cell_type": "code",
   "execution_count": 124,
   "metadata": {},
   "outputs": [
    {
     "data": {
      "text/plain": [
       "dict"
      ]
     },
     "execution_count": 124,
     "metadata": {},
     "output_type": "execute_result"
    }
   ],
   "source": [
    "type(vect2.vocabulary_)"
   ]
  },
  {
   "cell_type": "code",
   "execution_count": null,
   "metadata": {},
   "outputs": [
    {
     "data": {
      "text/plain": [
       "(14526, 701)"
      ]
     },
     "metadata": {},
     "output_type": "display_data"
    }
   ],
   "source": [
    "categories_matrix.shape"
   ]
  },
  {
   "cell_type": "code",
   "execution_count": 125,
   "metadata": {},
   "outputs": [
    {
     "data": {
      "text/plain": [
       "[('free', 23228),\n",
       " ('bon', 6823),\n",
       " ('appétit', 6816),\n",
       " ('peanut', 6289),\n",
       " ('soy', 6237),\n",
       " ('nut', 6109),\n",
       " ('tree', 5180),\n",
       " ('gourmet', 5143),\n",
       " ('vegetarian', 4971),\n",
       " ('kosher', 4552),\n",
       " ('pescatarian', 4430),\n",
       " ('sugar', 4164),\n",
       " ('quick', 3823),\n",
       " ('easy', 3782),\n",
       " ('wheat', 3545),\n",
       " ('gluten', 3521),\n",
       " ('bake', 3489),\n",
       " ('dairy', 3379),\n",
       " ('summer', 3034),\n",
       " ('friendly', 2947),\n",
       " ('dessert', 2939),\n",
       " ('winter', 2365),\n",
       " ('cream', 2332),\n",
       " ('fall', 2294),\n",
       " ('added', 2186),\n",
       " ('fruit', 2088),\n",
       " ('cheese', 1834),\n",
       " ('dinner', 1798),\n",
       " ('onion', 1741),\n",
       " ('low', 1731),\n",
       " ('conscious', 1714),\n",
       " ('kidney', 1677),\n",
       " ('vegetable', 1665),\n",
       " ('sauté', 1586),\n",
       " ('party', 1584),\n",
       " ('milk', 1583),\n",
       " ('tomato', 1581),\n",
       " ('pepper', 1495),\n",
       " ('egg', 1342),\n",
       " ('herb', 1271),\n",
       " ('kid', 1270),\n",
       " ('vegan', 1241),\n",
       " ('spring', 1229),\n",
       " ('salad', 1221),\n",
       " ('garlic', 1213),\n",
       " ('healthy', 1209),\n",
       " ('chill', 1162),\n",
       " ('cocktail', 1122),\n",
       " ('grill', 1115),\n",
       " ('thanksgiving', 1082),\n",
       " ('potato', 1055),\n",
       " ('stew', 1013),\n",
       " ('appetizer', 1009),\n",
       " ('chicken', 997),\n",
       " ('christmas', 973),\n",
       " ('roast', 943),\n",
       " ('pork', 936),\n",
       " ('lemon', 928),\n",
       " ('green', 905),\n",
       " ('lunch', 898),\n",
       " ('soup', 874),\n",
       " ('sauce', 867),\n",
       " ('cook', 865),\n",
       " ('wine', 845),\n",
       " ('ginger', 833),\n",
       " ('drink', 828),\n",
       " ('beef', 802),\n",
       " ('alcoholic', 771),\n",
       " ('barbecue', 766),\n",
       " ('pasta', 753),\n",
       " ('food', 739),\n",
       " ('processor', 737),\n",
       " ('fry', 725),\n",
       " ('fish', 677),\n",
       " ('condiment', 669),\n",
       " ('leafy', 666),\n",
       " ('orange', 665),\n",
       " ('mushroom', 652),\n",
       " ('citrus', 642),\n",
       " ('chocolate', 638),\n",
       " ('brunch', 622),\n",
       " ('simmer', 618),\n",
       " ('backyard', 617),\n",
       " ('bbq', 617),\n",
       " ('spread', 616),\n",
       " ('bean', 609),\n",
       " ('day', 599),\n",
       " ('cake', 588),\n",
       " ('juice', 577),\n",
       " ('high', 572),\n",
       " ('fiber', 572),\n",
       " ('fat', 555),\n",
       " ('bell', 543),\n",
       " ('paleo', 527),\n",
       " ('breakfast', 519),\n",
       " ('cal', 519),\n",
       " ('spice', 516),\n",
       " ('apple', 514),\n",
       " ('carrot', 514),\n",
       " ('mixer', 508)]"
      ]
     },
     "execution_count": 125,
     "metadata": {},
     "output_type": "execute_result"
    }
   ],
   "source": [
    "# Most common categories\n",
    "\n",
    "sum_cat_words = categories_matrix.sum(axis = 0)\n",
    "words_freq_cat = [(word, sum_cat_words[0, i]) for word, i in vect2.vocabulary_.items()]\n",
    "words_freq_cat = sorted(words_freq_cat, key = lambda x: x[1], reverse = True)\n",
    "words_freq_cat[0:100]"
   ]
  },
  {
   "cell_type": "code",
   "execution_count": 127,
   "metadata": {},
   "outputs": [
    {
     "name": "stdout",
     "output_type": "stream",
     "text": [
      "[title    Chicken Parmesan\n",
      "Name: 4918, dtype: object, title    New Chicken Parmesan\n",
      "Name: 9982, dtype: object, title    Chicken Schnitzel with Chile Cherry Tomatoes a...\n",
      "Name: 7219, dtype: object, title    Chorizo Bolognese with Buffalo Mozzarella\n",
      "Name: 6822, dtype: object, title    Broiled Chicken, Romaine, and Tomato Bruschetta\n",
      "Name: 4994, dtype: object, title    Green Mountain Maple Barbecued Chicken\n",
      "Name: 292, dtype: object, title    Baked Beans with Slab Bacon and Breadcrumbs\n",
      "Name: 139, dtype: object, title    Turkey Burritos with Salsa and Cilantro\n",
      "Name: 2568, dtype: object, title    Eggplant Parmesan With Fresh Mozzarella\n",
      "Name: 10016, dtype: object, title    Lemon Chicken Cutlets\n",
      "Name: 4441, dtype: object, title    Fried-Egg Caesar with Sun-Dried Tomatoes and P...\n",
      "Name: 9787, dtype: object]\n"
     ]
    }
   ],
   "source": [
    "model_cat = NearestNeighbors(n_neighbors=11, metric='cosine')\n",
    "model_cat.fit(categories_matrix)\n",
    "distances_cat1, indices_cat1 = model_cat.kneighbors(categories_matrix[recipe_index])\n",
    "recipe_cat_titles1 = []\n",
    "for idc1 in indices_cat1[0]:\n",
    "    recipe_cat_titles1.append(df.loc[idc1, ['title']])\n",
    "print(recipe_cat_titles1)\n"
   ]
  },
  {
   "cell_type": "code",
   "execution_count": 131,
   "metadata": {},
   "outputs": [
    {
     "name": "stdout",
     "output_type": "stream",
     "text": [
      "\n",
      " Result\n",
      "Sour Cream Chocolate Cake  :  1.0\n",
      "Zucchini-Blossom Quesadillas  :  1.0\n",
      "Summer Seafood Stew  :  1.0\n",
      "Baked Sea Bass with Walnut-Breadcrumb Crust and Lemon-Dill Sauce  :  1.0\n",
      "Maple-Walnut Espresso Torte  :  1.0\n",
      "Turkey Cheddar Sandwiches with Honey Mustard  :  1.0\n",
      "Poached Eggs in Pipérade  :  1.0\n",
      "Farfalle with Tomatoes and Feta Cheese  :  1.0\n",
      "Potato, Cucumber and Dill Salad  :  1.0\n",
      "Chocolate and Mixed Nut Tart in Cookie Crust  :  1.0\n",
      "Scallop Potatoes with Gouda and Fennel  :  1.0\n"
     ]
    }
   ],
   "source": [
    "# THIS IS NOT WORKING PROPERLY\n",
    "catInput = \"vegeterian\"\n",
    "catInputSeries = pd.Series(catInput)\n",
    "catInputTransformed = vect2.transform(catInputSeries)\n",
    "dcat, icat = model_cat.kneighbors(catInputTransformed)\n",
    "# print the output\n",
    "print(\"\\n Result\")\n",
    "\n",
    "for i in range(0, 11):  # TODO: 11 should be made configurable and match the n-neighbors number\n",
    "    namecat = df.loc[icat[0][i], ['title']].values[0]\n",
    "    distancecat = (dcat[0][i]).round(3)\n",
    "    ratingcat = df.loc[icat[0][i], ['categoriesStr']].values[0]\n",
    "\n",
    "    print(f\"{namecat}  :  {distancecat}\")\n",
    "    # print(f\"{namecat}  :  {distancecat}  :  {ratingcat}\")"
   ]
  },
  {
   "cell_type": "code",
   "execution_count": 37,
   "metadata": {},
   "outputs": [
    {
     "name": "stdout",
     "output_type": "stream",
     "text": [
      "[title    Artichoke and Parmesan Risotto\n",
      "Name: 14522, dtype: object, title    Poached Salmon with Artichoke Confit\n",
      "Name: 1848, dtype: object, title    Roast Chicken with Rosemary, Lemon, and Honey\n",
      "Name: 11438, dtype: object, title    Potato Salad with 7-Minute Eggs and Mustard Vi...\n",
      "Name: 11357, dtype: object, title    Roast Chicken With Harissa And Schmaltz\n",
      "Name: 12453, dtype: object, title    Slow-Roasted Char with Fennel Salad\n",
      "Name: 1021, dtype: object, title    Beans with Kale and Portuguese Sausage\n",
      "Name: 13014, dtype: object, title    Pot-Roasted Artichokes With White Wine and Capers\n",
      "Name: 7465, dtype: object, title    Roasted Asparagus and Baby Artichokes with Lem...\n",
      "Name: 6549, dtype: object, title    Dai Due's Master Brined Chicken\n",
      "Name: 5189, dtype: object, title    Milk Pudding with Rose Water Caramel and Figs\n",
      "Name: 2105, dtype: object]\n"
     ]
    }
   ],
   "source": [
    "distances_cat2, indices_cat2 = model_cat.kneighbors(categories_matrix[recipe_index_2])\n",
    "recipe_cat_titles2 = []\n",
    "for idc2 in indices_cat2[0]:\n",
    "    recipe_cat_titles2.append(df.loc[idc2, ['title']])\n",
    "print(recipe_cat_titles2)"
   ]
  },
  {
   "cell_type": "markdown",
   "metadata": {},
   "source": [
    "## TODO List"
   ]
  },
  {
   "cell_type": "code",
   "execution_count": 38,
   "metadata": {},
   "outputs": [
    {
     "name": "stdout",
     "output_type": "stream",
     "text": [
      "['lines', 'string', 'words']\n"
     ]
    }
   ],
   "source": [
    "import nltk\n",
    "\n",
    "lines = 'lines is some string of words'\n",
    "# function to test if something is a noun\n",
    "is_noun = lambda pos: pos[:2] == 'NN'\n",
    "# do the nlp stuff\n",
    "tokenized = nltk.word_tokenize(lines)\n",
    "nouns = [word for (word, pos) in nltk.pos_tag(tokenized) if is_noun(pos)]\n",
    "\n",
    "print(nouns)"
   ]
  },
  {
   "cell_type": "markdown",
   "metadata": {},
   "source": [
    "## TODO LIST\n",
    "\n",
    "- Fuzzy Matching and StreamLit tutorial\n",
    "- My input can be a list of ingredients, or a full recipe name, test fuzzy matcher. How to make this work for an ingredient list instead of recipe name\n",
    "- How to use categories for pulling out vegeterian recipes - try a query to see how many recipes have this category in them\n",
    "- Also ask about tokenization\n",
    "- QUESTION - Can I use categories to pick vegeterian recipes too? From categories, how to tokenize ONLY specific ones like 'vegeterian', 'pescatarian', 'wheat', 'gluten' ?\n",
    "- Should I create a column with number of ingredients?\n",
    "- Interesting article about tokenization - https://www.kaggle.com/code/shivanirana63/beginner-s-guide-to-word-tokenization\n",
    "- When similarity is the same how to rank the recipe? \n"
   ]
  },
  {
   "cell_type": "code",
   "execution_count": 40,
   "metadata": {},
   "outputs": [],
   "source": [
    "# fuzzy matching, let's put recipe names in a list\n",
    "recipeNames = list(df['title'])"
   ]
  },
  {
   "cell_type": "code",
   "execution_count": 41,
   "metadata": {},
   "outputs": [],
   "source": [
    "# %pip install joblib"
   ]
  },
  {
   "cell_type": "markdown",
   "metadata": {},
   "source": [
    "## For StreamLit"
   ]
  },
  {
   "cell_type": "code",
   "execution_count": 42,
   "metadata": {},
   "outputs": [
    {
     "data": {
      "text/plain": [
       "['model_joblib.pkl']"
      ]
     },
     "execution_count": 42,
     "metadata": {},
     "output_type": "execute_result"
    }
   ],
   "source": [
    "# https://stackoverflow.com/questions/10592605/save-classifier-to-disk-in-scikit-learn\n",
    "\n",
    "\"\"\"\n",
    "import pickle\n",
    "# now you can save it to a file\n",
    "with open('model1.pkl', 'wb') as f:\n",
    "    pickle.dump(model, f)\n",
    "\"\"\"\n",
    "import joblib\n",
    "# now you can save it to a file\n",
    "joblib.dump(model, 'model_joblib.pkl')"
   ]
  },
  {
   "cell_type": "code",
   "execution_count": 43,
   "metadata": {},
   "outputs": [
    {
     "data": {
      "text/plain": [
       "['ing_mat.pkl']"
      ]
     },
     "execution_count": 43,
     "metadata": {},
     "output_type": "execute_result"
    }
   ],
   "source": [
    "joblib.dump(ingredients_matrix, 'ing_mat.pkl')"
   ]
  }
 ],
 "metadata": {
  "kernelspec": {
   "display_name": "base",
   "language": "python",
   "name": "python3"
  },
  "language_info": {
   "codemirror_mode": {
    "name": "ipython",
    "version": 3
   },
   "file_extension": ".py",
   "mimetype": "text/x-python",
   "name": "python",
   "nbconvert_exporter": "python",
   "pygments_lexer": "ipython3",
   "version": "3.11.7"
  }
 },
 "nbformat": 4,
 "nbformat_minor": 2
}
