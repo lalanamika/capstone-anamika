{
 "cells": [
  {
   "cell_type": "markdown",
   "id": "bd52d6bd",
   "metadata": {},
   "source": [
    "# Preliminary EDA for Recipe Recommendation System - dataset from Epicurious.com"
   ]
  },
  {
   "cell_type": "markdown",
   "id": "212cb4df",
   "metadata": {},
   "source": [
    "# Table of Contents\n",
    "- [Preliminary EDA for Recipe Recommendation System - dataset from Epicurious.com](#preliminary-eda-for-recipe-recommendation-system---dataset-from-epicurious.com)\n",
    "  - [Introduction](#introduction)\n",
    "    - [Dataset](#dataset)\n",
    "    - [Goals](#goals)\n",
    "  - [EDA](#eda)\n",
    "    - [Load the data](#load-the-data)\n",
    "    - [Check for missing and duplicate values](#check-for-missing-and-duplicate-values)\n",
    "      - [Drop rows with null values](#drop-rows-with-null-values)\n",
    "    - [Distribution of data](#distribution-of-data)\n",
    "  - [Findings](#findings)\n",
    "  - [Concerns and Questions](#concerns-and-questions)\n",
    "  - [Data Dictionary](#data-dictionary)\n",
    "  - [Drop columns and create a cleaned dataframe](#drop-columns-and-create-a-cleaned-dataframe)\n"
   ]
  },
  {
   "cell_type": "markdown",
   "id": "15288763",
   "metadata": {},
   "source": [
    "## Introduction"
   ]
  },
  {
   "cell_type": "markdown",
   "id": "33ddf920",
   "metadata": {},
   "source": [
    "### Dataset"
   ]
  },
  {
   "cell_type": "markdown",
   "id": "2439270d",
   "metadata": {},
   "source": [
    "In this notebook, we will be conducting an EDA for the data set downloaded from https://www.kaggle.com/datasets/hugodarwood/epirecipes. (This has Id = 2 in my [Datasets Shortlist](https://docs.google.com/spreadsheets/d/1ldHpPRw_h2igZUgrDVV3-4N8vYuZXxyOC60sUJlbb7E/)))  \n",
    "\n",
    "The downloaded folder contains 4 files:\n",
    "- full_format_recipes.json\n",
    "- recipe.py\n",
    "- utils.py\n",
    "- epi_r.csv\n",
    "\n",
    "Kaggle.com has the following information on the dataset:  \n",
    "*Over 20k recipes listed by recipe rating, nutritional information and assigned category (sparse).*  \n",
    "*Use the 'full_format_recipes.json' file to interact with all recipe data, 'epi_r.csv' drops ingredients and directions in favour of sparse category dummies.*"
   ]
  },
  {
   "cell_type": "markdown",
   "id": "ce81042a",
   "metadata": {},
   "source": [
    "### Goals"
   ]
  },
  {
   "cell_type": "markdown",
   "id": "f2e663c7",
   "metadata": {},
   "source": [
    "1. Find out whether the dataset contains the following things:\n",
    "    1. Ingredient lists\n",
    "    2. Calorie info / Nutrition info\n",
    "    3. Serving size\n",
    "    4. Ratings\n",
    "    5. Recipe steps / instructions\n",
    "    6. Quantity of each ingredient\n",
    "2. See cleanliness of data in terms of missing values.\n",
    "3. Check the distribution of relevant variables.\n",
    "4. Create a data dictionary."
   ]
  },
  {
   "cell_type": "markdown",
   "id": "1f832c91",
   "metadata": {},
   "source": [
    "## EDA"
   ]
  },
  {
   "cell_type": "markdown",
   "id": "b12bd709",
   "metadata": {},
   "source": [
    "### Load the data"
   ]
  },
  {
   "cell_type": "code",
   "execution_count": 5,
   "id": "0c3edf92-12a0-47e0-b443-acdb097fa1f9",
   "metadata": {},
   "outputs": [],
   "source": [
    "# import relevant libraries\n",
    "import numpy as np\n",
    "import pandas as pd\n",
    "import matplotlib.pyplot as plt\n",
    "import seaborn as sns"
   ]
  },
  {
   "cell_type": "code",
   "execution_count": 6,
   "id": "c0a53ae0-4899-42e8-bec7-27cb8bfe4592",
   "metadata": {},
   "outputs": [
    {
     "data": {
      "text/plain": [
       "'pandas version: 2.1.4'"
      ]
     },
     "execution_count": 6,
     "metadata": {},
     "output_type": "execute_result"
    }
   ],
   "source": [
    "f\"pandas version: {pd.__version__}\""
   ]
  },
  {
   "cell_type": "code",
   "execution_count": 7,
   "id": "ea8bbd57-9332-4878-b57c-10e3a4ad6609",
   "metadata": {},
   "outputs": [],
   "source": [
    "# Read epi_r.csv into a DataFrame\n",
    "#df_epi_r = pd.read_csv('../data/raw/epi_r.csv')\n",
    "#df_epi_r.shape"
   ]
  },
  {
   "cell_type": "markdown",
   "id": "550f2469",
   "metadata": {},
   "source": [
    "epi_r has 20052 rows and 680 columns."
   ]
  },
  {
   "cell_type": "code",
   "execution_count": 8,
   "id": "658c9c3a-00cc-446b-b00b-a035606d7a00",
   "metadata": {},
   "outputs": [
    {
     "data": {
      "text/plain": [
       "(20130, 11)"
      ]
     },
     "execution_count": 8,
     "metadata": {},
     "output_type": "execute_result"
    }
   ],
   "source": [
    "# Read full_format_recipes.json into a DataFrame\n",
    "df_epi_json = pd.read_json('../data/raw/full_format_recipes.json')\n",
    "df_epi_json.shape"
   ]
  },
  {
   "cell_type": "markdown",
   "id": "06066101",
   "metadata": {},
   "source": [
    "epi_json has 20130 rows and 11 columns. Let's look at the columns."
   ]
  },
  {
   "cell_type": "code",
   "execution_count": 9,
   "id": "40a846f1-601c-46d2-828c-b126656faa9c",
   "metadata": {},
   "outputs": [
    {
     "data": {
      "text/plain": [
       "Index(['directions', 'fat', 'date', 'categories', 'calories', 'desc',\n",
       "       'protein', 'rating', 'title', 'ingredients', 'sodium'],\n",
       "      dtype='object')"
      ]
     },
     "execution_count": 9,
     "metadata": {},
     "output_type": "execute_result"
    }
   ],
   "source": [
    "df_epi_json.columns"
   ]
  },
  {
   "cell_type": "markdown",
   "id": "d07d55df",
   "metadata": {},
   "source": [
    "Columns:  \n",
    "['directions', 'fat', 'date', 'categories', 'calories', 'desc', 'protein', 'rating', 'title', 'ingredients', 'sodium']\n",
    "\n",
    "Columns of interest to us:  \n",
    "['directions',  \n",
    "'calories',  \n",
    "'desc',  \n",
    "'rating',  \n",
    "'ingredients']"
   ]
  },
  {
   "cell_type": "code",
   "execution_count": 10,
   "id": "b0e280a8-e689-474e-9dcb-2db3b60b5a04",
   "metadata": {},
   "outputs": [
    {
     "data": {
      "text/html": [
       "<div>\n",
       "<style scoped>\n",
       "    .dataframe tbody tr th:only-of-type {\n",
       "        vertical-align: middle;\n",
       "    }\n",
       "\n",
       "    .dataframe tbody tr th {\n",
       "        vertical-align: top;\n",
       "    }\n",
       "\n",
       "    .dataframe thead th {\n",
       "        text-align: right;\n",
       "    }\n",
       "</style>\n",
       "<table border=\"1\" class=\"dataframe\">\n",
       "  <thead>\n",
       "    <tr style=\"text-align: right;\">\n",
       "      <th></th>\n",
       "      <th>directions</th>\n",
       "      <th>fat</th>\n",
       "      <th>date</th>\n",
       "      <th>categories</th>\n",
       "      <th>calories</th>\n",
       "      <th>desc</th>\n",
       "      <th>protein</th>\n",
       "      <th>rating</th>\n",
       "      <th>title</th>\n",
       "      <th>ingredients</th>\n",
       "      <th>sodium</th>\n",
       "    </tr>\n",
       "  </thead>\n",
       "  <tbody>\n",
       "    <tr>\n",
       "      <th>15862</th>\n",
       "      <td>[Scrape seeds from vanilla bean into heavy med...</td>\n",
       "      <td>NaN</td>\n",
       "      <td>2004-08-20 04:00:00+00:00</td>\n",
       "      <td>[Berry, Dairy, Egg, Fruit, Dessert, Freeze/Chi...</td>\n",
       "      <td>NaN</td>\n",
       "      <td>Make these with fresh rhubarb when it is in se...</td>\n",
       "      <td>NaN</td>\n",
       "      <td>5.000</td>\n",
       "      <td>Double-Decker Rhubarb Ice Cream Sandwiches</td>\n",
       "      <td>[1 vanilla bean, split lengthwise, 5 cups 1/2-...</td>\n",
       "      <td>NaN</td>\n",
       "    </tr>\n",
       "    <tr>\n",
       "      <th>16320</th>\n",
       "      <td>[Stir fennel seeds in large nonstick skillet o...</td>\n",
       "      <td>NaN</td>\n",
       "      <td>2007-10-30 14:37:17+00:00</td>\n",
       "      <td>[Sauté, Quick &amp; Easy, Low Cal, Dinner, Salmon,...</td>\n",
       "      <td>NaN</td>\n",
       "      <td>Fresh fennel and fennel seeds flavor this eleg...</td>\n",
       "      <td>NaN</td>\n",
       "      <td>5.000</td>\n",
       "      <td>Salmon with Fennel and Pernod</td>\n",
       "      <td>[1 1/2 teaspoons fennel seeds, crushed, 1/4 cu...</td>\n",
       "      <td>NaN</td>\n",
       "    </tr>\n",
       "    <tr>\n",
       "      <th>14554</th>\n",
       "      <td>[In a dry heavy saucepan (about 3-quart capaci...</td>\n",
       "      <td>0.0</td>\n",
       "      <td>2004-08-20 04:00:00+00:00</td>\n",
       "      <td>[Sauce, Dessert, Quick &amp; Easy, Low Sodium, Apr...</td>\n",
       "      <td>121.0</td>\n",
       "      <td>Can be prepared in 45 minutes or less.</td>\n",
       "      <td>1.0</td>\n",
       "      <td>3.750</td>\n",
       "      <td>Apricot Caramel Sauce</td>\n",
       "      <td>[1 cup sugar, 4 cups water, 1 cup firmly packe...</td>\n",
       "      <td>6.0</td>\n",
       "    </tr>\n",
       "    <tr>\n",
       "      <th>14614</th>\n",
       "      <td>[Combine all ingredients in a cocktail shaker ...</td>\n",
       "      <td>2.0</td>\n",
       "      <td>2004-08-20 20:58:12+00:00</td>\n",
       "      <td>[Gin, Milk/Cream, Alcoholic, Egg, Cocktail Par...</td>\n",
       "      <td>187.0</td>\n",
       "      <td>None</td>\n",
       "      <td>3.0</td>\n",
       "      <td>0.000</td>\n",
       "      <td>Café de Paris</td>\n",
       "      <td>[2 ounces gin, 3 dashes Pernod, 1 teaspoon hea...</td>\n",
       "      <td>47.0</td>\n",
       "    </tr>\n",
       "    <tr>\n",
       "      <th>17900</th>\n",
       "      <td>[Heat the vegetable oil in a Dutch oven. Stir ...</td>\n",
       "      <td>45.0</td>\n",
       "      <td>1999-01-22 04:00:00+00:00</td>\n",
       "      <td>[Soup/Stew, Bean, Beef, Olive, Pork, Rice, Tom...</td>\n",
       "      <td>913.0</td>\n",
       "      <td>None</td>\n",
       "      <td>60.0</td>\n",
       "      <td>4.375</td>\n",
       "      <td>Havana Moon Chili</td>\n",
       "      <td>[2 tablespoons vegetable oil, 1/2 cup chopped ...</td>\n",
       "      <td>1294.0</td>\n",
       "    </tr>\n",
       "  </tbody>\n",
       "</table>\n",
       "</div>"
      ],
      "text/plain": [
       "                                              directions   fat  \\\n",
       "15862  [Scrape seeds from vanilla bean into heavy med...   NaN   \n",
       "16320  [Stir fennel seeds in large nonstick skillet o...   NaN   \n",
       "14554  [In a dry heavy saucepan (about 3-quart capaci...   0.0   \n",
       "14614  [Combine all ingredients in a cocktail shaker ...   2.0   \n",
       "17900  [Heat the vegetable oil in a Dutch oven. Stir ...  45.0   \n",
       "\n",
       "                           date  \\\n",
       "15862 2004-08-20 04:00:00+00:00   \n",
       "16320 2007-10-30 14:37:17+00:00   \n",
       "14554 2004-08-20 04:00:00+00:00   \n",
       "14614 2004-08-20 20:58:12+00:00   \n",
       "17900 1999-01-22 04:00:00+00:00   \n",
       "\n",
       "                                              categories  calories  \\\n",
       "15862  [Berry, Dairy, Egg, Fruit, Dessert, Freeze/Chi...       NaN   \n",
       "16320  [Sauté, Quick & Easy, Low Cal, Dinner, Salmon,...       NaN   \n",
       "14554  [Sauce, Dessert, Quick & Easy, Low Sodium, Apr...     121.0   \n",
       "14614  [Gin, Milk/Cream, Alcoholic, Egg, Cocktail Par...     187.0   \n",
       "17900  [Soup/Stew, Bean, Beef, Olive, Pork, Rice, Tom...     913.0   \n",
       "\n",
       "                                                    desc  protein  rating  \\\n",
       "15862  Make these with fresh rhubarb when it is in se...      NaN   5.000   \n",
       "16320  Fresh fennel and fennel seeds flavor this eleg...      NaN   5.000   \n",
       "14554             Can be prepared in 45 minutes or less.      1.0   3.750   \n",
       "14614                                               None      3.0   0.000   \n",
       "17900                                               None     60.0   4.375   \n",
       "\n",
       "                                             title  \\\n",
       "15862  Double-Decker Rhubarb Ice Cream Sandwiches    \n",
       "16320               Salmon with Fennel and Pernod    \n",
       "14554                       Apricot Caramel Sauce    \n",
       "14614                               Café de Paris    \n",
       "17900                           Havana Moon Chili    \n",
       "\n",
       "                                             ingredients  sodium  \n",
       "15862  [1 vanilla bean, split lengthwise, 5 cups 1/2-...     NaN  \n",
       "16320  [1 1/2 teaspoons fennel seeds, crushed, 1/4 cu...     NaN  \n",
       "14554  [1 cup sugar, 4 cups water, 1 cup firmly packe...     6.0  \n",
       "14614  [2 ounces gin, 3 dashes Pernod, 1 teaspoon hea...    47.0  \n",
       "17900  [2 tablespoons vegetable oil, 1/2 cup chopped ...  1294.0  "
      ]
     },
     "execution_count": 10,
     "metadata": {},
     "output_type": "execute_result"
    }
   ],
   "source": [
    "# Let's see some sample rows for epi_json\n",
    "df_epi_json.sample(5)"
   ]
  },
  {
   "cell_type": "markdown",
   "id": "4af6db46",
   "metadata": {},
   "source": [
    "**Note**\n",
    "1. Contains calories.\n",
    "2. Does NOT contain serving size.\n",
    "3. Contains rating.\n",
    "4. `ingredients` has:\n",
    "    1. List of ingredients\n",
    "    2. Quantity of each ingredient\n",
    "    3. Measurement of each ingredient\n",
    "5. `directions` contains the steps for the recipe."
   ]
  },
  {
   "cell_type": "code",
   "execution_count": 11,
   "id": "7caf7bc4",
   "metadata": {},
   "outputs": [
    {
     "data": {
      "text/plain": [
       "array([list(['1. Place the stock, lentils, celery, carrot, thyme, and salt in a medium saucepan and bring to a boil. Reduce heat to low and simmer until the lentils are tender, about 30 minutes, depending on the lentils. (If they begin to dry out, add water as needed.) Remove and discard the thyme. Drain and transfer the mixture to a bowl; let cool.', '2. Fold in the tomato, apple, lemon juice, and olive oil. Season with the pepper.', '3. To assemble a wrap, place 1 lavash sheet on a clean work surface. Spread some of the lentil mixture on the end nearest you, leaving a 1-inch border. Top with several slices of turkey, then some of the lettuce. Roll up the lavash, slice crosswise, and serve. If using tortillas, spread the lentils in the center, top with the turkey and lettuce, and fold up the bottom, left side, and right side before rolling away from you.']),\n",
       "       7.0, Timestamp('2006-09-01 04:00:00+0000', tz='UTC'),\n",
       "       list(['Sandwich', 'Bean', 'Fruit', 'Tomato', 'turkey', 'Vegetable', 'Kid-Friendly', 'Apple', 'Lentil', 'Lettuce', 'Cookie']),\n",
       "       426.0, None, 30.0, 2.5, 'Lentil, Apple, and Turkey Wrap ',\n",
       "       list(['4 cups low-sodium vegetable or chicken stock', '1 cup dried brown lentils', '1/2 cup dried French green lentils', '2 stalks celery, chopped', '1 large carrot, peeled and chopped', '1 sprig fresh thyme', '1 teaspoon kosher salt', '1 medium tomato, cored, seeded, and diced', '1 small Fuji apple, cored and diced', '1 tablespoon freshly squeezed lemon juice', '2 teaspoons extra-virgin olive oil', 'Freshly ground black pepper to taste', '3 sheets whole-wheat lavash, cut in half crosswise, or 6 (12-inch) flour tortillas', '3/4 pound turkey breast, thinly sliced', '1/2 head Bibb lettuce']),\n",
       "       559.0], dtype=object)"
      ]
     },
     "execution_count": 11,
     "metadata": {},
     "output_type": "execute_result"
    }
   ],
   "source": [
    "# Let's look at one row in detail\n",
    "df_epi_json.loc[0,:].values"
   ]
  },
  {
   "cell_type": "code",
   "execution_count": 12,
   "id": "bb7d9ea4-9424-4e29-9231-04d337832c8a",
   "metadata": {},
   "outputs": [],
   "source": [
    "# Let's look at the one-hot encoded sample from epi_r\n",
    "#df_epi_r.sample(5)"
   ]
  },
  {
   "cell_type": "code",
   "execution_count": 13,
   "id": "1a883d4c-e62b-43d9-a70e-987ae24ca61f",
   "metadata": {},
   "outputs": [],
   "source": [
    "#df_epi_r.columns.values"
   ]
  },
  {
   "cell_type": "code",
   "execution_count": 14,
   "id": "a96a8eaf-1e2f-479a-b637-5a4711b9af36",
   "metadata": {},
   "outputs": [],
   "source": [
    "#\"title\" in df_epi_r.columns"
   ]
  },
  {
   "cell_type": "code",
   "execution_count": 15,
   "id": "fb1911e0-a34b-42a7-b959-24861fcf8734",
   "metadata": {},
   "outputs": [],
   "source": [
    "#\"rating\" in df_epi_r.columns"
   ]
  },
  {
   "cell_type": "code",
   "execution_count": 16,
   "id": "f9a4e14f-7302-4e9b-a684-c2a4ad9e920c",
   "metadata": {},
   "outputs": [],
   "source": [
    "#df_epi_r.rating.unique()"
   ]
  },
  {
   "cell_type": "code",
   "execution_count": 17,
   "id": "8de145f8-36b1-4fee-b026-704d2acbea11",
   "metadata": {},
   "outputs": [],
   "source": [
    "#df_epi_r.yogurt.unique() # we lose information about quantities in this one-hot encoded form"
   ]
  },
  {
   "cell_type": "markdown",
   "id": "eba4e09b",
   "metadata": {},
   "source": [
    "**Note**  \n",
    "We lose information about ingredient measurements in this one-hot encoded form."
   ]
  },
  {
   "cell_type": "markdown",
   "id": "11c91e28",
   "metadata": {},
   "source": [
    "### Check for missing and duplicate values"
   ]
  },
  {
   "cell_type": "markdown",
   "id": "462a9da0",
   "metadata": {},
   "source": [
    "Let's check for missing values in epi_json"
   ]
  },
  {
   "cell_type": "code",
   "execution_count": 18,
   "id": "5875ef9a-82ec-4cf8-b4df-e49766a4b0a7",
   "metadata": {},
   "outputs": [
    {
     "data": {
      "text/plain": [
       "directions       19\n",
       "fat            4222\n",
       "date             19\n",
       "categories       19\n",
       "calories       4154\n",
       "desc           6635\n",
       "protein        4201\n",
       "rating           30\n",
       "title            19\n",
       "ingredients      19\n",
       "sodium         4156\n",
       "dtype: int64"
      ]
     },
     "execution_count": 18,
     "metadata": {},
     "output_type": "execute_result"
    }
   ],
   "source": [
    "df_epi_json.isna().sum()"
   ]
  },
  {
   "cell_type": "markdown",
   "id": "220ae2a6",
   "metadata": {},
   "source": [
    "Many of our columns of interest have null values. Let's see the percentage of missing values."
   ]
  },
  {
   "cell_type": "code",
   "execution_count": 19,
   "id": "611ddf45",
   "metadata": {},
   "outputs": [
    {
     "data": {
      "text/plain": [
       "desc           32.960755\n",
       "fat            20.973671\n",
       "protein        20.869349\n",
       "sodium         20.645802\n",
       "calories       20.635867\n",
       "rating          0.149031\n",
       "directions      0.094386\n",
       "date            0.094386\n",
       "categories      0.094386\n",
       "title           0.094386\n",
       "ingredients     0.094386\n",
       "dtype: float64"
      ]
     },
     "execution_count": 19,
     "metadata": {},
     "output_type": "execute_result"
    }
   ],
   "source": [
    "(df_epi_json.isna().sum()/df_epi_json.shape[0]*100.0).sort_values(ascending=False)"
   ]
  },
  {
   "cell_type": "markdown",
   "id": "7d847c59",
   "metadata": {},
   "source": [
    "#### Drop rows with null values"
   ]
  },
  {
   "cell_type": "markdown",
   "id": "3e1865d2",
   "metadata": {},
   "source": [
    "Let's drop the rows with null values for `calories`, `rating`, `directions`,`title`, `ingredients` and see how many rows we are left with."
   ]
  },
  {
   "cell_type": "code",
   "execution_count": 20,
   "id": "52679084",
   "metadata": {},
   "outputs": [],
   "source": [
    "df_clean = df_epi_json.dropna(subset=['directions','calories','title','ingredients','rating'])"
   ]
  },
  {
   "cell_type": "code",
   "execution_count": 21,
   "id": "001f1d7c",
   "metadata": {},
   "outputs": [
    {
     "data": {
      "text/plain": [
       "directions        0\n",
       "fat              68\n",
       "date              0\n",
       "categories        0\n",
       "calories          0\n",
       "desc           5333\n",
       "protein          47\n",
       "rating            0\n",
       "title             0\n",
       "ingredients       0\n",
       "sodium            2\n",
       "dtype: int64"
      ]
     },
     "execution_count": 21,
     "metadata": {},
     "output_type": "execute_result"
    }
   ],
   "source": [
    "df_clean.isna().sum()"
   ]
  },
  {
   "cell_type": "code",
   "execution_count": 22,
   "id": "f67ba0fe",
   "metadata": {},
   "outputs": [
    {
     "data": {
      "text/plain": [
       "(15969, 11)"
      ]
     },
     "execution_count": 22,
     "metadata": {},
     "output_type": "execute_result"
    }
   ],
   "source": [
    "df_clean.shape"
   ]
  },
  {
   "cell_type": "markdown",
   "id": "71cedfd8",
   "metadata": {},
   "source": [
    "**Note**  \n",
    "The number of rows dropped from 20130 to 15969 after removing null values."
   ]
  },
  {
   "cell_type": "code",
   "execution_count": 23,
   "id": "642a5142",
   "metadata": {},
   "outputs": [
    {
     "name": "stdout",
     "output_type": "stream",
     "text": [
      "<class 'pandas.core.frame.DataFrame'>\n",
      "Index: 15969 entries, 0 to 20129\n",
      "Data columns (total 11 columns):\n",
      " #   Column       Non-Null Count  Dtype              \n",
      "---  ------       --------------  -----              \n",
      " 0   directions   15969 non-null  object             \n",
      " 1   fat          15901 non-null  float64            \n",
      " 2   date         15969 non-null  datetime64[ns, UTC]\n",
      " 3   categories   15969 non-null  object             \n",
      " 4   calories     15969 non-null  float64            \n",
      " 5   desc         10636 non-null  object             \n",
      " 6   protein      15922 non-null  float64            \n",
      " 7   rating       15969 non-null  float64            \n",
      " 8   title        15969 non-null  object             \n",
      " 9   ingredients  15969 non-null  object             \n",
      " 10  sodium       15967 non-null  float64            \n",
      "dtypes: datetime64[ns, UTC](1), float64(5), object(5)\n",
      "memory usage: 1.5+ MB\n"
     ]
    }
   ],
   "source": [
    "df_clean.info()"
   ]
  },
  {
   "cell_type": "markdown",
   "id": "b55ff5b2",
   "metadata": {},
   "source": [
    "### Distribution of data"
   ]
  },
  {
   "cell_type": "code",
   "execution_count": 24,
   "id": "c82a42a0",
   "metadata": {},
   "outputs": [
    {
     "data": {
      "text/plain": [
       "(array([1342.,    0.,  126.,   81.,    0.,  412., 1166., 4149., 6569.,\n",
       "        2124.]),\n",
       " array([0. , 0.5, 1. , 1.5, 2. , 2.5, 3. , 3.5, 4. , 4.5, 5. ]),\n",
       " <BarContainer object of 10 artists>)"
      ]
     },
     "execution_count": 24,
     "metadata": {},
     "output_type": "execute_result"
    },
    {
     "data": {
      "image/png": "[encoded data removed]",
      "text/plain": [
       "<Figure size 640x480 with 1 Axes>"
      ]
     },
     "metadata": {},
     "output_type": "display_data"
    }
   ],
   "source": [
    "plt.hist(df_clean.rating)"
   ]
  },
  {
   "cell_type": "code",
   "execution_count": 25,
   "id": "a1bd7dc0",
   "metadata": {},
   "outputs": [
    {
     "data": {
      "text/plain": [
       "array([2.5  , 4.375, 3.75 , 3.125, 1.875, 5.   , 0.   , 1.25 ])"
      ]
     },
     "execution_count": 25,
     "metadata": {},
     "output_type": "execute_result"
    }
   ],
   "source": [
    "df_clean.rating.unique()"
   ]
  },
  {
   "cell_type": "markdown",
   "id": "57c67df8",
   "metadata": {},
   "source": [
    "**Note**  \n",
    "`Rating` is a float with values ranging from 0 to 5. "
   ]
  },
  {
   "cell_type": "code",
   "execution_count": 26,
   "id": "21a1b87b",
   "metadata": {},
   "outputs": [
    {
     "data": {
      "text/plain": [
       "rating\n",
       "4.375    0.411360\n",
       "3.750    0.259816\n",
       "5.000    0.133008\n",
       "0.000    0.084038\n",
       "3.125    0.073016\n",
       "2.500    0.025800\n",
       "1.250    0.007890\n",
       "1.875    0.005072\n",
       "Name: proportion, dtype: float64"
      ]
     },
     "execution_count": 26,
     "metadata": {},
     "output_type": "execute_result"
    }
   ],
   "source": [
    "df_clean.rating.value_counts(normalize=True)"
   ]
  },
  {
   "cell_type": "markdown",
   "id": "44b4d5c0",
   "metadata": {},
   "source": [
    "**Note**  \n",
    "41% has 4.37 rating  \n",
    "25% has 3.75 rating  \n",
    "13% has 5.0 rating  \n",
    "\n",
    "54% of dataset has rating > 4.0."
   ]
  },
  {
   "cell_type": "code",
   "execution_count": 27,
   "id": "7eac0f05",
   "metadata": {},
   "outputs": [
    {
     "data": {
      "text/html": [
       "<div>\n",
       "<style scoped>\n",
       "    .dataframe tbody tr th:only-of-type {\n",
       "        vertical-align: middle;\n",
       "    }\n",
       "\n",
       "    .dataframe tbody tr th {\n",
       "        vertical-align: top;\n",
       "    }\n",
       "\n",
       "    .dataframe thead th {\n",
       "        text-align: right;\n",
       "    }\n",
       "</style>\n",
       "<table border=\"1\" class=\"dataframe\">\n",
       "  <thead>\n",
       "    <tr style=\"text-align: right;\">\n",
       "      <th></th>\n",
       "      <th>count</th>\n",
       "      <th>mean</th>\n",
       "      <th>std</th>\n",
       "      <th>min</th>\n",
       "      <th>25%</th>\n",
       "      <th>50%</th>\n",
       "      <th>75%</th>\n",
       "      <th>max</th>\n",
       "    </tr>\n",
       "  </thead>\n",
       "  <tbody>\n",
       "    <tr>\n",
       "      <th>fat</th>\n",
       "      <td>15901.0</td>\n",
       "      <td>346.240677</td>\n",
       "      <td>20435.516749</td>\n",
       "      <td>0.0</td>\n",
       "      <td>7.00</td>\n",
       "      <td>17.000</td>\n",
       "      <td>33.000</td>\n",
       "      <td>1722763.0</td>\n",
       "    </tr>\n",
       "    <tr>\n",
       "      <th>calories</th>\n",
       "      <td>15969.0</td>\n",
       "      <td>6310.443109</td>\n",
       "      <td>358663.690751</td>\n",
       "      <td>0.0</td>\n",
       "      <td>198.00</td>\n",
       "      <td>331.000</td>\n",
       "      <td>586.000</td>\n",
       "      <td>30111218.0</td>\n",
       "    </tr>\n",
       "    <tr>\n",
       "      <th>protein</th>\n",
       "      <td>15922.0</td>\n",
       "      <td>99.982665</td>\n",
       "      <td>3836.459371</td>\n",
       "      <td>0.0</td>\n",
       "      <td>3.00</td>\n",
       "      <td>8.000</td>\n",
       "      <td>27.000</td>\n",
       "      <td>236489.0</td>\n",
       "    </tr>\n",
       "    <tr>\n",
       "      <th>rating</th>\n",
       "      <td>15969.0</td>\n",
       "      <td>3.751096</td>\n",
       "      <td>1.298607</td>\n",
       "      <td>0.0</td>\n",
       "      <td>3.75</td>\n",
       "      <td>4.375</td>\n",
       "      <td>4.375</td>\n",
       "      <td>5.0</td>\n",
       "    </tr>\n",
       "    <tr>\n",
       "      <th>sodium</th>\n",
       "      <td>15967.0</td>\n",
       "      <td>6213.949208</td>\n",
       "      <td>332963.199777</td>\n",
       "      <td>0.0</td>\n",
       "      <td>80.00</td>\n",
       "      <td>294.000</td>\n",
       "      <td>711.000</td>\n",
       "      <td>27675110.0</td>\n",
       "    </tr>\n",
       "  </tbody>\n",
       "</table>\n",
       "</div>"
      ],
      "text/plain": [
       "            count         mean            std  min     25%      50%      75%  \\\n",
       "fat       15901.0   346.240677   20435.516749  0.0    7.00   17.000   33.000   \n",
       "calories  15969.0  6310.443109  358663.690751  0.0  198.00  331.000  586.000   \n",
       "protein   15922.0    99.982665    3836.459371  0.0    3.00    8.000   27.000   \n",
       "rating    15969.0     3.751096       1.298607  0.0    3.75    4.375    4.375   \n",
       "sodium    15967.0  6213.949208  332963.199777  0.0   80.00  294.000  711.000   \n",
       "\n",
       "                 max  \n",
       "fat        1722763.0  \n",
       "calories  30111218.0  \n",
       "protein     236489.0  \n",
       "rating           5.0  \n",
       "sodium    27675110.0  "
      ]
     },
     "execution_count": 27,
     "metadata": {},
     "output_type": "execute_result"
    }
   ],
   "source": [
    "df_clean.describe().T"
   ]
  },
  {
   "cell_type": "markdown",
   "id": "06e534a5",
   "metadata": {},
   "source": [
    "## Findings"
   ]
  },
  {
   "cell_type": "markdown",
   "id": "6fb47d17",
   "metadata": {},
   "source": [
    "\n",
    "1. `ingredients` has:\n",
    "    1. List of ingredients\n",
    "    2. Quantity of each ingredient\n",
    "    3. Measurement of each ingredient\n",
    "2. `directions` contains the steps for the recipe.\n",
    "3. We lose information about ingredient measurements in the one-hot encoded form of epi_r.csv.\n",
    "4. The number of rows dropped from 20130 to 15969 after removing null values.\n",
    "5. `Rating` is a float with values ranging from 0 to 5. \n",
    "6. 54% of dataset has rating > 4.0.\n",
    "7. Summary\n",
    "\n",
    "|                               |     |\n",
    "|-------------------------------|-----|\n",
    "| Ingredient lists              | Yes |\n",
    "| Calorie info / Nutrition info | Yes |\n",
    "| Serving size                  | No  |\n",
    "| Ratings                       | Yes |\n",
    "| Recipe steps / instructions   | Yes |\n",
    "| Quantity of each ingredient   | Yes |"
   ]
  },
  {
   "cell_type": "markdown",
   "id": "562e6723",
   "metadata": {},
   "source": [
    "## Concerns and Questions"
   ]
  },
  {
   "cell_type": "markdown",
   "id": "1e221034",
   "metadata": {},
   "source": [
    "1. The License for the dataset says 'Unknown' on Kaggle. Is this an issue?\n",
    "2. The size of the dataset seems small ~ 16000 rows.\n",
    "3. 54% of the dataset has rating > 4.0.\n",
    "4. One hot encoding lost ingredient amounts.\n",
    "5. Dataset contains calories but not serving size."
   ]
  },
  {
   "cell_type": "code",
   "execution_count": 28,
   "id": "232172f9",
   "metadata": {},
   "outputs": [
    {
     "data": {
      "text/plain": [
       "directions        0\n",
       "fat              68\n",
       "date              0\n",
       "categories        0\n",
       "calories          0\n",
       "desc           5333\n",
       "protein          47\n",
       "rating            0\n",
       "title             0\n",
       "ingredients       0\n",
       "sodium            2\n",
       "dtype: int64"
      ]
     },
     "execution_count": 28,
     "metadata": {},
     "output_type": "execute_result"
    }
   ],
   "source": [
    "df_clean.isna().sum()"
   ]
  },
  {
   "cell_type": "code",
   "execution_count": 29,
   "id": "29a4ea57",
   "metadata": {},
   "outputs": [
    {
     "name": "stdout",
     "output_type": "stream",
     "text": [
      "<class 'pandas.core.frame.DataFrame'>\n",
      "Index: 15969 entries, 0 to 20129\n",
      "Data columns (total 11 columns):\n",
      " #   Column       Non-Null Count  Dtype              \n",
      "---  ------       --------------  -----              \n",
      " 0   directions   15969 non-null  object             \n",
      " 1   fat          15901 non-null  float64            \n",
      " 2   date         15969 non-null  datetime64[ns, UTC]\n",
      " 3   categories   15969 non-null  object             \n",
      " 4   calories     15969 non-null  float64            \n",
      " 5   desc         10636 non-null  object             \n",
      " 6   protein      15922 non-null  float64            \n",
      " 7   rating       15969 non-null  float64            \n",
      " 8   title        15969 non-null  object             \n",
      " 9   ingredients  15969 non-null  object             \n",
      " 10  sodium       15967 non-null  float64            \n",
      "dtypes: datetime64[ns, UTC](1), float64(5), object(5)\n",
      "memory usage: 1.5+ MB\n"
     ]
    }
   ],
   "source": [
    "df_clean.info()"
   ]
  },
  {
   "cell_type": "code",
   "execution_count": 30,
   "id": "9d64beeb",
   "metadata": {},
   "outputs": [
    {
     "data": {
      "text/html": [
       "<div>\n",
       "<style scoped>\n",
       "    .dataframe tbody tr th:only-of-type {\n",
       "        vertical-align: middle;\n",
       "    }\n",
       "\n",
       "    .dataframe tbody tr th {\n",
       "        vertical-align: top;\n",
       "    }\n",
       "\n",
       "    .dataframe thead th {\n",
       "        text-align: right;\n",
       "    }\n",
       "</style>\n",
       "<table border=\"1\" class=\"dataframe\">\n",
       "  <thead>\n",
       "    <tr style=\"text-align: right;\">\n",
       "      <th></th>\n",
       "      <th>directions</th>\n",
       "      <th>fat</th>\n",
       "      <th>date</th>\n",
       "      <th>categories</th>\n",
       "      <th>calories</th>\n",
       "      <th>desc</th>\n",
       "      <th>protein</th>\n",
       "      <th>rating</th>\n",
       "      <th>title</th>\n",
       "      <th>ingredients</th>\n",
       "      <th>sodium</th>\n",
       "    </tr>\n",
       "  </thead>\n",
       "  <tbody>\n",
       "    <tr>\n",
       "      <th>603</th>\n",
       "      <td>[Char peppers over gas flame or in broiler unt...</td>\n",
       "      <td>59.0</td>\n",
       "      <td>2005-08-01 16:01:17+00:00</td>\n",
       "      <td>[Sandwich, Beef, Egg, Brie, Bell Pepper, Summe...</td>\n",
       "      <td>1080.0</td>\n",
       "      <td>None</td>\n",
       "      <td>55.0</td>\n",
       "      <td>3.750</td>\n",
       "      <td>Grilled Steak Sandwiches with Brie, Roasted Pe...</td>\n",
       "      <td>[3 large red bell peppers, 1 2-pound beef tend...</td>\n",
       "      <td>1168.0</td>\n",
       "    </tr>\n",
       "    <tr>\n",
       "      <th>15458</th>\n",
       "      <td>[Using smoothie or ice crush setting, purée ba...</td>\n",
       "      <td>4.0</td>\n",
       "      <td>2016-01-01 19:41:00+00:00</td>\n",
       "      <td>[Bon Appétit, Smoothie, Banana, Coffee, Date, ...</td>\n",
       "      <td>124.0</td>\n",
       "      <td>This power-breakfast smoothie will be extra sm...</td>\n",
       "      <td>3.0</td>\n",
       "      <td>5.000</td>\n",
       "      <td>Banana, Coffee, Cashew, and Cocoa Smoothie</td>\n",
       "      <td>[1 banana, preferably frozen, 2 Medjool dates,...</td>\n",
       "      <td>32.0</td>\n",
       "    </tr>\n",
       "    <tr>\n",
       "      <th>2917</th>\n",
       "      <td>[Melt butter in a large nonstick skillet over ...</td>\n",
       "      <td>14.0</td>\n",
       "      <td>2004-08-20 04:00:00+00:00</td>\n",
       "      <td>[Herb, Shellfish, Sauté, Quick &amp; Easy, Basil, ...</td>\n",
       "      <td>256.0</td>\n",
       "      <td>This American variation of a Chinese stir-fry—...</td>\n",
       "      <td>19.0</td>\n",
       "      <td>4.375</td>\n",
       "      <td>Shrimp and Corn with Basil</td>\n",
       "      <td>[2 tablespoons unsalted butter, Kernels from 2...</td>\n",
       "      <td>659.0</td>\n",
       "    </tr>\n",
       "  </tbody>\n",
       "</table>\n",
       "</div>"
      ],
      "text/plain": [
       "                                              directions   fat  \\\n",
       "603    [Char peppers over gas flame or in broiler unt...  59.0   \n",
       "15458  [Using smoothie or ice crush setting, purée ba...   4.0   \n",
       "2917   [Melt butter in a large nonstick skillet over ...  14.0   \n",
       "\n",
       "                           date  \\\n",
       "603   2005-08-01 16:01:17+00:00   \n",
       "15458 2016-01-01 19:41:00+00:00   \n",
       "2917  2004-08-20 04:00:00+00:00   \n",
       "\n",
       "                                              categories  calories  \\\n",
       "603    [Sandwich, Beef, Egg, Brie, Bell Pepper, Summe...    1080.0   \n",
       "15458  [Bon Appétit, Smoothie, Banana, Coffee, Date, ...     124.0   \n",
       "2917   [Herb, Shellfish, Sauté, Quick & Easy, Basil, ...     256.0   \n",
       "\n",
       "                                                    desc  protein  rating  \\\n",
       "603                                                 None     55.0   3.750   \n",
       "15458  This power-breakfast smoothie will be extra sm...      3.0   5.000   \n",
       "2917   This American variation of a Chinese stir-fry—...     19.0   4.375   \n",
       "\n",
       "                                                   title  \\\n",
       "603    Grilled Steak Sandwiches with Brie, Roasted Pe...   \n",
       "15458        Banana, Coffee, Cashew, and Cocoa Smoothie    \n",
       "2917                         Shrimp and Corn with Basil    \n",
       "\n",
       "                                             ingredients  sodium  \n",
       "603    [3 large red bell peppers, 1 2-pound beef tend...  1168.0  \n",
       "15458  [1 banana, preferably frozen, 2 Medjool dates,...    32.0  \n",
       "2917   [2 tablespoons unsalted butter, Kernels from 2...   659.0  "
      ]
     },
     "execution_count": 30,
     "metadata": {},
     "output_type": "execute_result"
    }
   ],
   "source": [
    "df_clean.sample(3)"
   ]
  },
  {
   "cell_type": "code",
   "execution_count": 31,
   "id": "de132c27",
   "metadata": {},
   "outputs": [
    {
     "data": {
      "text/plain": [
       "(15969, 11)"
      ]
     },
     "execution_count": 31,
     "metadata": {},
     "output_type": "execute_result"
    }
   ],
   "source": [
    "df_clean.shape"
   ]
  },
  {
   "cell_type": "markdown",
   "id": "af0c2b8c",
   "metadata": {},
   "source": [
    "## Data Dictionary\n",
    "\n",
    "| Column      | Non-Null Count | Dtype               | Description                                     |\n",
    "|-------------|----------------|---------------------|-------------------------------------------------|\n",
    "| ------      | -------------- | -----               | ------                                          |\n",
    "| title       | 15969 non-null | object              | Title of the recipe                             |\n",
    "| directions  | 15969 non-null | object              | Steps for the recipe                            |\n",
    "| ingredients | 15969 non-null | object              | Ingredients plus description of how to cut them |\n",
    "| categories  | 15969 non-null | object              | Array of categories                             |\n",
    "| calories    | 15969 non-null | float64             | Calories                                        |\n",
    "| rating      | 15969 non-null | float64             | Rating on a scale of 0 to 5                     |\n",
    "| desc        | 10636 non-null | object              | Extra tidbits about the recipe etc.             |\n",
    "| date        | 15969 non-null | datetime64[ns, UTC] | Date the recipe was created                     |\n",
    "| sodium      | 15967 non-null | float64             | Sodium content                                  |\n",
    "| fat         | 15901 non-null | float64             | Fat content                                     |\n",
    "| protein     | 15922 non-null | float64             | Protein content                                 |"
   ]
  },
  {
   "cell_type": "markdown",
   "id": "1f9be3fb",
   "metadata": {},
   "source": [
    "## Drop columns and create a cleaned dataframe"
   ]
  },
  {
   "cell_type": "markdown",
   "id": "485ecf6a",
   "metadata": {},
   "source": [
    "Columns that are relevant to us:\n",
    "\n",
    "`title`, `directions`, `ingredients`, `categories`, `calories`, `rating`\n",
    "\n",
    "We will drop the other columns"
   ]
  },
  {
   "cell_type": "code",
   "execution_count": 32,
   "id": "bdc7afba",
   "metadata": {},
   "outputs": [],
   "source": [
    "final_df = df_clean.drop(columns=[\"desc\",\"sodium\",\"fat\",\"protein\"])"
   ]
  },
  {
   "cell_type": "code",
   "execution_count": 33,
   "id": "707cf922",
   "metadata": {},
   "outputs": [
    {
     "name": "stdout",
     "output_type": "stream",
     "text": [
      "<class 'pandas.core.frame.DataFrame'>\n",
      "Index: 15969 entries, 0 to 20129\n",
      "Data columns (total 7 columns):\n",
      " #   Column       Non-Null Count  Dtype              \n",
      "---  ------       --------------  -----              \n",
      " 0   directions   15969 non-null  object             \n",
      " 1   date         15969 non-null  datetime64[ns, UTC]\n",
      " 2   categories   15969 non-null  object             \n",
      " 3   calories     15969 non-null  float64            \n",
      " 4   rating       15969 non-null  float64            \n",
      " 5   title        15969 non-null  object             \n",
      " 6   ingredients  15969 non-null  object             \n",
      "dtypes: datetime64[ns, UTC](1), float64(2), object(4)\n",
      "memory usage: 998.1+ KB\n"
     ]
    }
   ],
   "source": [
    "final_df.info()"
   ]
  },
  {
   "cell_type": "code",
   "execution_count": 34,
   "id": "863ddc7b",
   "metadata": {},
   "outputs": [
    {
     "data": {
      "text/plain": [
       "0"
      ]
     },
     "execution_count": 34,
     "metadata": {},
     "output_type": "execute_result"
    }
   ],
   "source": [
    "final_df.isna().sum().sum()"
   ]
  },
  {
   "cell_type": "code",
   "execution_count": 35,
   "id": "371d5218",
   "metadata": {},
   "outputs": [],
   "source": [
    "final_df.to_csv(\"../data/interim/full_format_recipes_cleaned.csv\")"
   ]
  }
 ],
 "metadata": {
  "kernelspec": {
   "display_name": "Python 3 (ipykernel)",
   "language": "python",
   "name": "python3"
  },
  "language_info": {
   "codemirror_mode": {
    "name": "ipython",
    "version": 3
   },
   "file_extension": ".py",
   "mimetype": "text/x-python",
   "name": "python",
   "nbconvert_exporter": "python",
   "pygments_lexer": "ipython3",
   "version": "3.11.7"
  }
 },
 "nbformat": 4,
 "nbformat_minor": 5
}
