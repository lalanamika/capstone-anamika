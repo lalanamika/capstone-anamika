{
 "cells": [
  {
   "cell_type": "code",
   "execution_count": 19,
   "metadata": {},
   "outputs": [],
   "source": [
    "# import relevant libraries\n",
    "import numpy as np\n",
    "import pandas as pd\n",
    "import matplotlib.pyplot as plt\n",
    "import seaborn as sns"
   ]
  },
  {
   "cell_type": "code",
   "execution_count": 20,
   "metadata": {},
   "outputs": [
    {
     "data": {
      "text/plain": [
       "(20130, 11)"
      ]
     },
     "execution_count": 20,
     "metadata": {},
     "output_type": "execute_result"
    }
   ],
   "source": [
    "df_json = pd.read_json('../data/raw/full_format_recipes.json')\n",
    "df_json.shape"
   ]
  },
  {
   "cell_type": "markdown",
   "metadata": {},
   "source": [
    "## Data Dictionary"
   ]
  },
  {
   "cell_type": "markdown",
   "metadata": {},
   "source": [
    "| Column      | Non-Null Count | Dtype               | Description                                     |\n",
    "|-------------|----------------|---------------------|-------------------------------------------------|\n",
    "| ------      | -------------- | -----               | ------                                          |\n",
    "| title       | 15969 non-null | object              | Title of the recipe                             |\n",
    "| directions  | 15969 non-null | object              | Steps for the recipe                            |\n",
    "| ingredients | 15969 non-null | object              | Ingredients plus description of how to cut them |\n",
    "| categories  | 15969 non-null | object              | Array of categories                             |\n",
    "| calories    | 15969 non-null | float64             | Calories                                        |\n",
    "| rating      | 15969 non-null | float64             | Rating on a scale of 0 to 5                     |\n",
    "| desc        | 10636 non-null | object              | Extra tidbits about the recipe etc.             |\n",
    "| date        | 15969 non-null | datetime64[ns, UTC] | Date the recipe was created                     |\n",
    "| sodium      | 15967 non-null | float64             | Sodium content                                  |\n",
    "| fat         | 15901 non-null | float64             | Fat content                                     |\n",
    "| protein     | 15922 non-null | float64             | Protein content                                 |"
   ]
  },
  {
   "cell_type": "code",
   "execution_count": 21,
   "metadata": {},
   "outputs": [],
   "source": [
    "cols_to_drop = [\"desc\",\n",
    "                \"date\",\n",
    "                \"sodium\",\n",
    "                \"fat\",\n",
    "                \"protein\"]\n",
    "\n",
    "df_small = df_json.drop(columns=cols_to_drop)"
   ]
  },
  {
   "cell_type": "code",
   "execution_count": 22,
   "metadata": {},
   "outputs": [
    {
     "data": {
      "text/plain": [
       "(20130, 6)"
      ]
     },
     "execution_count": 22,
     "metadata": {},
     "output_type": "execute_result"
    }
   ],
   "source": [
    "df_small.shape"
   ]
  },
  {
   "cell_type": "code",
   "execution_count": 23,
   "metadata": {},
   "outputs": [
    {
     "name": "stdout",
     "output_type": "stream",
     "text": [
      "<class 'pandas.core.frame.DataFrame'>\n",
      "RangeIndex: 20130 entries, 0 to 20129\n",
      "Data columns (total 6 columns):\n",
      " #   Column       Non-Null Count  Dtype  \n",
      "---  ------       --------------  -----  \n",
      " 0   directions   20111 non-null  object \n",
      " 1   categories   20111 non-null  object \n",
      " 2   calories     15976 non-null  float64\n",
      " 3   rating       20100 non-null  float64\n",
      " 4   title        20111 non-null  object \n",
      " 5   ingredients  20111 non-null  object \n",
      "dtypes: float64(2), object(4)\n",
      "memory usage: 943.7+ KB\n"
     ]
    }
   ],
   "source": [
    "df_small.info()"
   ]
  },
  {
   "cell_type": "code",
   "execution_count": 24,
   "metadata": {},
   "outputs": [
    {
     "data": {
      "text/html": [
       "<div>\n",
       "<style scoped>\n",
       "    .dataframe tbody tr th:only-of-type {\n",
       "        vertical-align: middle;\n",
       "    }\n",
       "\n",
       "    .dataframe tbody tr th {\n",
       "        vertical-align: top;\n",
       "    }\n",
       "\n",
       "    .dataframe thead th {\n",
       "        text-align: right;\n",
       "    }\n",
       "</style>\n",
       "<table border=\"1\" class=\"dataframe\">\n",
       "  <thead>\n",
       "    <tr style=\"text-align: right;\">\n",
       "      <th></th>\n",
       "      <th>directions</th>\n",
       "      <th>categories</th>\n",
       "      <th>calories</th>\n",
       "      <th>rating</th>\n",
       "      <th>title</th>\n",
       "      <th>ingredients</th>\n",
       "    </tr>\n",
       "  </thead>\n",
       "  <tbody>\n",
       "    <tr>\n",
       "      <th>19124</th>\n",
       "      <td>[Whisk lemon juice and mustard in small bowl. ...</td>\n",
       "      <td>[Broil, High Fiber, Dinner, Halibut, Asparagus...</td>\n",
       "      <td>NaN</td>\n",
       "      <td>4.375</td>\n",
       "      <td>Slow-Roasted Halibut with Shaved Asparagus and...</td>\n",
       "      <td>[4 1/2 teaspoons fresh lemon juice, 1 tablespo...</td>\n",
       "    </tr>\n",
       "    <tr>\n",
       "      <th>12345</th>\n",
       "      <td>[Preheat oven to 200°F. and oil a baking sheet...</td>\n",
       "      <td>[Egg, Fruit, Dessert, Bake, Cocktail Party, Pi...</td>\n",
       "      <td>327.0</td>\n",
       "      <td>3.750</td>\n",
       "      <td>Passion-Fruit Meringues</td>\n",
       "      <td>[2 large egg whites, 1/8 teaspoon cream of tar...</td>\n",
       "    </tr>\n",
       "    <tr>\n",
       "      <th>13157</th>\n",
       "      <td>[Bring sugar and 1/2 cup water to a boil in a ...</td>\n",
       "      <td>[Cake, Milk/Cream, Egg, Dessert, Bake, Valenti...</td>\n",
       "      <td>451.0</td>\n",
       "      <td>4.375</td>\n",
       "      <td>Caramel Pecan Cakes</td>\n",
       "      <td>[2 cups sugar, 1 1/2 cups water, divided, 1/2 ...</td>\n",
       "    </tr>\n",
       "    <tr>\n",
       "      <th>14530</th>\n",
       "      <td>[Puree the blueberries with the sugar and lemo...</td>\n",
       "      <td>[Ice Cream Machine, Berry, Fruit, Dessert, Fre...</td>\n",
       "      <td>288.0</td>\n",
       "      <td>3.125</td>\n",
       "      <td>Blues-Busting Blueberry Ice Cream</td>\n",
       "      <td>[2 1/2 cups fresh blueberries, rinsed, 1 cup s...</td>\n",
       "    </tr>\n",
       "    <tr>\n",
       "      <th>3159</th>\n",
       "      <td>[Line large bowl with kitchen towel. Coarsely ...</td>\n",
       "      <td>[Cheese, Potato, Vegetable, Side, Winter, Bon ...</td>\n",
       "      <td>303.0</td>\n",
       "      <td>3.750</td>\n",
       "      <td>Crispy Potato Galette</td>\n",
       "      <td>[1 1/2 pounds russet potatoes, peeled, 3 table...</td>\n",
       "    </tr>\n",
       "  </tbody>\n",
       "</table>\n",
       "</div>"
      ],
      "text/plain": [
       "                                              directions  \\\n",
       "19124  [Whisk lemon juice and mustard in small bowl. ...   \n",
       "12345  [Preheat oven to 200°F. and oil a baking sheet...   \n",
       "13157  [Bring sugar and 1/2 cup water to a boil in a ...   \n",
       "14530  [Puree the blueberries with the sugar and lemo...   \n",
       "3159   [Line large bowl with kitchen towel. Coarsely ...   \n",
       "\n",
       "                                              categories  calories  rating  \\\n",
       "19124  [Broil, High Fiber, Dinner, Halibut, Asparagus...       NaN   4.375   \n",
       "12345  [Egg, Fruit, Dessert, Bake, Cocktail Party, Pi...     327.0   3.750   \n",
       "13157  [Cake, Milk/Cream, Egg, Dessert, Bake, Valenti...     451.0   4.375   \n",
       "14530  [Ice Cream Machine, Berry, Fruit, Dessert, Fre...     288.0   3.125   \n",
       "3159   [Cheese, Potato, Vegetable, Side, Winter, Bon ...     303.0   3.750   \n",
       "\n",
       "                                                   title  \\\n",
       "19124  Slow-Roasted Halibut with Shaved Asparagus and...   \n",
       "12345                           Passion-Fruit Meringues    \n",
       "13157                               Caramel Pecan Cakes    \n",
       "14530                 Blues-Busting Blueberry Ice Cream    \n",
       "3159                              Crispy Potato Galette    \n",
       "\n",
       "                                             ingredients  \n",
       "19124  [4 1/2 teaspoons fresh lemon juice, 1 tablespo...  \n",
       "12345  [2 large egg whites, 1/8 teaspoon cream of tar...  \n",
       "13157  [2 cups sugar, 1 1/2 cups water, divided, 1/2 ...  \n",
       "14530  [2 1/2 cups fresh blueberries, rinsed, 1 cup s...  \n",
       "3159   [1 1/2 pounds russet potatoes, peeled, 3 table...  "
      ]
     },
     "execution_count": 24,
     "metadata": {},
     "output_type": "execute_result"
    }
   ],
   "source": [
    "df_small.sample(5)"
   ]
  },
  {
   "cell_type": "markdown",
   "metadata": {},
   "source": []
  },
  {
   "cell_type": "code",
   "execution_count": 25,
   "metadata": {},
   "outputs": [
    {
     "name": "stdout",
     "output_type": "stream",
     "text": [
      "Directions contains entries of type: <class 'list'>\n",
      "Categories contains entries of type: <class 'list'>\n",
      "Title contains entries of type: <class 'str'>\n",
      "Ingredients contains entries of type: <class 'list'>\n"
     ]
    }
   ],
   "source": [
    "print(f\"Directions contains entries of type: {type(df_small['directions'][0])}\")\n",
    "print(f\"Categories contains entries of type: {type(df_small['categories'][0])}\")\n",
    "print(f\"Title contains entries of type: {type(df_small['title'][0])}\")\n",
    "print(f\"Ingredients contains entries of type: {type(df_small['ingredients'][0])}\")"
   ]
  },
  {
   "cell_type": "markdown",
   "metadata": {},
   "source": [
    "Let's convert these list types into strings"
   ]
  },
  {
   "cell_type": "code",
   "execution_count": 26,
   "metadata": {},
   "outputs": [],
   "source": [
    "df_small['directionsStr'] = df_small['directions'].astype(str)\n",
    "df_small['categoriesStr'] = df_small['categories'].astype(str)\n",
    "df_small['ingredientsStr'] = df_small['ingredients'].astype(str)\n"
   ]
  },
  {
   "cell_type": "code",
   "execution_count": 27,
   "metadata": {},
   "outputs": [
    {
     "name": "stdout",
     "output_type": "stream",
     "text": [
      "Directions contains entries of type: <class 'str'>\n",
      "Categories contains entries of type: <class 'str'>\n",
      "Title contains entries of type: <class 'str'>\n",
      "Ingredients contains entries of type: <class 'str'>\n"
     ]
    }
   ],
   "source": [
    "print(f\"Directions contains entries of type: {type(df_small['directionsStr'][0])}\")\n",
    "print(f\"Categories contains entries of type: {type(df_small['categoriesStr'][0])}\")\n",
    "print(f\"Title contains entries of type: {type(df_small['title'][0])}\")\n",
    "print(f\"Ingredients contains entries of type: {type(df_small['ingredientsStr'][0])}\")"
   ]
  },
  {
   "cell_type": "code",
   "execution_count": 28,
   "metadata": {},
   "outputs": [
    {
     "data": {
      "text/plain": [
       "'Lentil, Apple, and Turkey Wrap '"
      ]
     },
     "execution_count": 28,
     "metadata": {},
     "output_type": "execute_result"
    }
   ],
   "source": [
    "df_small['title'][0]"
   ]
  },
  {
   "cell_type": "markdown",
   "metadata": {},
   "source": [
    "There is an extra space at the end of the titles, let's remove that."
   ]
  },
  {
   "cell_type": "code",
   "execution_count": 29,
   "metadata": {},
   "outputs": [],
   "source": [
    "# Remove extra space from the end of the titles\n",
    "df_small['title'] = df_small['title'].str.strip()"
   ]
  },
  {
   "cell_type": "code",
   "execution_count": 30,
   "metadata": {},
   "outputs": [
    {
     "data": {
      "text/plain": [
       "'Lentil, Apple, and Turkey Wrap'"
      ]
     },
     "execution_count": 30,
     "metadata": {},
     "output_type": "execute_result"
    }
   ],
   "source": [
    "# verify that the space was removed\n",
    "df_small['title'][0]"
   ]
  },
  {
   "cell_type": "code",
   "execution_count": 31,
   "metadata": {},
   "outputs": [],
   "source": [
    "# drop the original columns that contained list types\n",
    "df_small.drop(columns=['directions','categories','ingredients'], inplace=True)"
   ]
  },
  {
   "cell_type": "code",
   "execution_count": 32,
   "metadata": {},
   "outputs": [
    {
     "name": "stdout",
     "output_type": "stream",
     "text": [
      "<class 'pandas.core.frame.DataFrame'>\n",
      "RangeIndex: 20130 entries, 0 to 20129\n",
      "Data columns (total 6 columns):\n",
      " #   Column          Non-Null Count  Dtype  \n",
      "---  ------          --------------  -----  \n",
      " 0   calories        15976 non-null  float64\n",
      " 1   rating          20100 non-null  float64\n",
      " 2   title           20111 non-null  object \n",
      " 3   directionsStr   20130 non-null  object \n",
      " 4   categoriesStr   20130 non-null  object \n",
      " 5   ingredientsStr  20130 non-null  object \n",
      "dtypes: float64(2), object(4)\n",
      "memory usage: 943.7+ KB\n"
     ]
    }
   ],
   "source": [
    "df_small.info()"
   ]
  },
  {
   "cell_type": "markdown",
   "metadata": {},
   "source": [
    "# Let's check for null values"
   ]
  },
  {
   "cell_type": "code",
   "execution_count": 33,
   "metadata": {},
   "outputs": [
    {
     "data": {
      "text/plain": [
       "4203"
      ]
     },
     "execution_count": 33,
     "metadata": {},
     "output_type": "execute_result"
    }
   ],
   "source": [
    "df_small.isna().sum().sum()"
   ]
  },
  {
   "cell_type": "markdown",
   "metadata": {},
   "source": [
    "There are 4203 missing values."
   ]
  },
  {
   "cell_type": "code",
   "execution_count": 34,
   "metadata": {},
   "outputs": [
    {
     "data": {
      "text/plain": [
       "calories          4154\n",
       "rating              30\n",
       "title               19\n",
       "directionsStr        0\n",
       "categoriesStr        0\n",
       "ingredientsStr       0\n",
       "dtype: int64"
      ]
     },
     "execution_count": 34,
     "metadata": {},
     "output_type": "execute_result"
    }
   ],
   "source": [
    "df_small.isna().sum()"
   ]
  },
  {
   "cell_type": "markdown",
   "metadata": {},
   "source": [
    "Let's drop these rows that have null values"
   ]
  },
  {
   "cell_type": "code",
   "execution_count": 35,
   "metadata": {},
   "outputs": [],
   "source": [
    "df_small = df_small.dropna(axis=0)"
   ]
  },
  {
   "cell_type": "code",
   "execution_count": 36,
   "metadata": {},
   "outputs": [
    {
     "data": {
      "text/plain": [
       "calories          0\n",
       "rating            0\n",
       "title             0\n",
       "directionsStr     0\n",
       "categoriesStr     0\n",
       "ingredientsStr    0\n",
       "dtype: int64"
      ]
     },
     "execution_count": 36,
     "metadata": {},
     "output_type": "execute_result"
    }
   ],
   "source": [
    "df_small.isna().sum()"
   ]
  },
  {
   "cell_type": "code",
   "execution_count": 37,
   "metadata": {},
   "outputs": [
    {
     "data": {
      "text/plain": [
       "(15969, 6)"
      ]
     },
     "execution_count": 37,
     "metadata": {},
     "output_type": "execute_result"
    }
   ],
   "source": [
    "df_small.shape"
   ]
  },
  {
   "cell_type": "markdown",
   "metadata": {},
   "source": [
    "# check for duplicates"
   ]
  },
  {
   "cell_type": "code",
   "execution_count": 38,
   "metadata": {},
   "outputs": [
    {
     "data": {
      "text/plain": [
       "1443"
      ]
     },
     "execution_count": 38,
     "metadata": {},
     "output_type": "execute_result"
    }
   ],
   "source": [
    "df_small.duplicated().sum()"
   ]
  },
  {
   "cell_type": "code",
   "execution_count": 39,
   "metadata": {},
   "outputs": [],
   "source": [
    "df_small.drop_duplicates(keep='first', inplace=True)"
   ]
  },
  {
   "cell_type": "code",
   "execution_count": 40,
   "metadata": {},
   "outputs": [
    {
     "data": {
      "text/plain": [
       "0"
      ]
     },
     "execution_count": 40,
     "metadata": {},
     "output_type": "execute_result"
    }
   ],
   "source": [
    "df_small.duplicated().sum()"
   ]
  },
  {
   "cell_type": "code",
   "execution_count": 41,
   "metadata": {},
   "outputs": [
    {
     "data": {
      "text/plain": [
       "(14526, 6)"
      ]
     },
     "execution_count": 41,
     "metadata": {},
     "output_type": "execute_result"
    }
   ],
   "source": [
    "df_small.shape"
   ]
  },
  {
   "cell_type": "code",
   "execution_count": 42,
   "metadata": {},
   "outputs": [
    {
     "data": {
      "text/html": [
       "<div>\n",
       "<style scoped>\n",
       "    .dataframe tbody tr th:only-of-type {\n",
       "        vertical-align: middle;\n",
       "    }\n",
       "\n",
       "    .dataframe tbody tr th {\n",
       "        vertical-align: top;\n",
       "    }\n",
       "\n",
       "    .dataframe thead th {\n",
       "        text-align: right;\n",
       "    }\n",
       "</style>\n",
       "<table border=\"1\" class=\"dataframe\">\n",
       "  <thead>\n",
       "    <tr style=\"text-align: right;\">\n",
       "      <th></th>\n",
       "      <th>calories</th>\n",
       "      <th>rating</th>\n",
       "      <th>title</th>\n",
       "      <th>directionsStr</th>\n",
       "      <th>categoriesStr</th>\n",
       "      <th>ingredientsStr</th>\n",
       "    </tr>\n",
       "  </thead>\n",
       "  <tbody>\n",
       "    <tr>\n",
       "      <th>19703</th>\n",
       "      <td>2631.0</td>\n",
       "      <td>3.750</td>\n",
       "      <td>Baked Chicken with White Beans and Tomatoes</td>\n",
       "      <td>['Put oven rack in middle position and preheat...</td>\n",
       "      <td>['Bean', 'Chicken', 'Poultry', 'Tomato', 'Bake...</td>\n",
       "      <td>['6 bacon slices (1/4 lb total), cut into 1-in...</td>\n",
       "    </tr>\n",
       "    <tr>\n",
       "      <th>6207</th>\n",
       "      <td>226.0</td>\n",
       "      <td>0.000</td>\n",
       "      <td>\"Seethed\" Mussels with Parsley and Vinegar</td>\n",
       "      <td>['Place mussels in cold water and scrub them c...</td>\n",
       "      <td>['Garlic', 'Herb', 'Shellfish', 'Quick &amp; Easy'...</td>\n",
       "      <td>['4 pounds of mussels', '2 tablespoons butter'...</td>\n",
       "    </tr>\n",
       "    <tr>\n",
       "      <th>19526</th>\n",
       "      <td>330.0</td>\n",
       "      <td>4.375</td>\n",
       "      <td>Whipped Ricotta with Honey and Mixed Berries</td>\n",
       "      <td>['Blend ricotta, cream cheese, 2 tablespoons s...</td>\n",
       "      <td>['Berry', 'Dessert', 'Ricotta', 'Summer', 'Hon...</td>\n",
       "      <td>['2 cups whole-milk ricotta cheese', '4 ounces...</td>\n",
       "    </tr>\n",
       "    <tr>\n",
       "      <th>8261</th>\n",
       "      <td>620.0</td>\n",
       "      <td>3.750</td>\n",
       "      <td>Fish-and-Chips</td>\n",
       "      <td>['1. Peel the potatoes and cut them into strip...</td>\n",
       "      <td>['Egg', 'Potato', 'Vegetable', 'Kid-Friendly',...</td>\n",
       "      <td>['6 large russet potatoes', 'Vegetable oil, fo...</td>\n",
       "    </tr>\n",
       "    <tr>\n",
       "      <th>11534</th>\n",
       "      <td>299.0</td>\n",
       "      <td>3.750</td>\n",
       "      <td>Cauliflower with Bacon, Capers, Peppers, and R...</td>\n",
       "      <td>['Cook bacon in a 10- to 12-inch heavy skillet...</td>\n",
       "      <td>['Fruit', 'Pepper', 'Side', 'Quick &amp; Easy', 'R...</td>\n",
       "      <td>['3 oz bacon (3 or 4 slices), cut crosswise in...</td>\n",
       "    </tr>\n",
       "  </tbody>\n",
       "</table>\n",
       "</div>"
      ],
      "text/plain": [
       "       calories  rating                                              title  \\\n",
       "19703    2631.0   3.750        Baked Chicken with White Beans and Tomatoes   \n",
       "6207      226.0   0.000         \"Seethed\" Mussels with Parsley and Vinegar   \n",
       "19526     330.0   4.375       Whipped Ricotta with Honey and Mixed Berries   \n",
       "8261      620.0   3.750                                     Fish-and-Chips   \n",
       "11534     299.0   3.750  Cauliflower with Bacon, Capers, Peppers, and R...   \n",
       "\n",
       "                                           directionsStr  \\\n",
       "19703  ['Put oven rack in middle position and preheat...   \n",
       "6207   ['Place mussels in cold water and scrub them c...   \n",
       "19526  ['Blend ricotta, cream cheese, 2 tablespoons s...   \n",
       "8261   ['1. Peel the potatoes and cut them into strip...   \n",
       "11534  ['Cook bacon in a 10- to 12-inch heavy skillet...   \n",
       "\n",
       "                                           categoriesStr  \\\n",
       "19703  ['Bean', 'Chicken', 'Poultry', 'Tomato', 'Bake...   \n",
       "6207   ['Garlic', 'Herb', 'Shellfish', 'Quick & Easy'...   \n",
       "19526  ['Berry', 'Dessert', 'Ricotta', 'Summer', 'Hon...   \n",
       "8261   ['Egg', 'Potato', 'Vegetable', 'Kid-Friendly',...   \n",
       "11534  ['Fruit', 'Pepper', 'Side', 'Quick & Easy', 'R...   \n",
       "\n",
       "                                          ingredientsStr  \n",
       "19703  ['6 bacon slices (1/4 lb total), cut into 1-in...  \n",
       "6207   ['4 pounds of mussels', '2 tablespoons butter'...  \n",
       "19526  ['2 cups whole-milk ricotta cheese', '4 ounces...  \n",
       "8261   ['6 large russet potatoes', 'Vegetable oil, fo...  \n",
       "11534  ['3 oz bacon (3 or 4 slices), cut crosswise in...  "
      ]
     },
     "execution_count": 42,
     "metadata": {},
     "output_type": "execute_result"
    }
   ],
   "source": [
    "df_small.sample(5)"
   ]
  },
  {
   "cell_type": "code",
   "execution_count": 43,
   "metadata": {},
   "outputs": [],
   "source": [
    "df_small.to_csv(\"../data/interim/full_recipes_cleaned_2.csv\",index=True,index_label='recipeId')"
   ]
  }
 ],
 "metadata": {
  "kernelspec": {
   "display_name": "base",
   "language": "python",
   "name": "python3"
  },
  "language_info": {
   "codemirror_mode": {
    "name": "ipython",
    "version": 3
   },
   "file_extension": ".py",
   "mimetype": "text/x-python",
   "name": "python",
   "nbconvert_exporter": "python",
   "pygments_lexer": "ipython3",
   "version": "3.11.7"
  }
 },
 "nbformat": 4,
 "nbformat_minor": 2
}
