{
 "cells": [
  {
   "cell_type": "code",
   "execution_count": 107,
   "metadata": {},
   "outputs": [],
   "source": [
    "# import relevant libraries\n",
    "import numpy as np\n",
    "import pandas as pd\n",
    "import matplotlib.pyplot as plt\n",
    "import seaborn as sns"
   ]
  },
  {
   "cell_type": "code",
   "execution_count": 108,
   "metadata": {},
   "outputs": [
    {
     "data": {
      "text/plain": [
       "(20130, 11)"
      ]
     },
     "execution_count": 108,
     "metadata": {},
     "output_type": "execute_result"
    }
   ],
   "source": [
    "df_json = pd.read_json('../data/raw/full_format_recipes.json')\n",
    "df_json.shape"
   ]
  },
  {
   "cell_type": "markdown",
   "metadata": {},
   "source": [
    "## Data Dictionary"
   ]
  },
  {
   "cell_type": "markdown",
   "metadata": {},
   "source": [
    "| Column      | Non-Null Count | Dtype               | Description                                     |\n",
    "|-------------|----------------|---------------------|-------------------------------------------------|\n",
    "| ------      | -------------- | -----               | ------                                          |\n",
    "| title       | 15969 non-null | object              | Title of the recipe                             |\n",
    "| directions  | 15969 non-null | object              | Steps for the recipe                            |\n",
    "| ingredients | 15969 non-null | object              | Ingredients plus description of how to cut them |\n",
    "| categories  | 15969 non-null | object              | Array of categories                             |\n",
    "| calories    | 15969 non-null | float64             | Calories                                        |\n",
    "| rating      | 15969 non-null | float64             | Rating on a scale of 0 to 5                     |\n",
    "| desc        | 10636 non-null | object              | Extra tidbits about the recipe etc.             |\n",
    "| date        | 15969 non-null | datetime64[ns, UTC] | Date the recipe was created                     |\n",
    "| sodium      | 15967 non-null | float64             | Sodium content                                  |\n",
    "| fat         | 15901 non-null | float64             | Fat content                                     |\n",
    "| protein     | 15922 non-null | float64             | Protein content                                 |"
   ]
  },
  {
   "cell_type": "code",
   "execution_count": 109,
   "metadata": {},
   "outputs": [],
   "source": [
    "cols_to_drop = [\"desc\",\n",
    "                \"date\",\n",
    "                \"sodium\",\n",
    "                \"fat\",\n",
    "                \"protein\"]\n",
    "\n",
    "df_small = df_json.drop(columns=cols_to_drop)"
   ]
  },
  {
   "cell_type": "code",
   "execution_count": 110,
   "metadata": {},
   "outputs": [
    {
     "data": {
      "text/plain": [
       "(20130, 6)"
      ]
     },
     "execution_count": 110,
     "metadata": {},
     "output_type": "execute_result"
    }
   ],
   "source": [
    "df_small.shape"
   ]
  },
  {
   "cell_type": "code",
   "execution_count": 111,
   "metadata": {},
   "outputs": [
    {
     "name": "stdout",
     "output_type": "stream",
     "text": [
      "<class 'pandas.core.frame.DataFrame'>\n",
      "RangeIndex: 20130 entries, 0 to 20129\n",
      "Data columns (total 6 columns):\n",
      " #   Column       Non-Null Count  Dtype  \n",
      "---  ------       --------------  -----  \n",
      " 0   directions   20111 non-null  object \n",
      " 1   categories   20111 non-null  object \n",
      " 2   calories     15976 non-null  float64\n",
      " 3   rating       20100 non-null  float64\n",
      " 4   title        20111 non-null  object \n",
      " 5   ingredients  20111 non-null  object \n",
      "dtypes: float64(2), object(4)\n",
      "memory usage: 943.7+ KB\n"
     ]
    }
   ],
   "source": [
    "df_small.info()"
   ]
  },
  {
   "cell_type": "code",
   "execution_count": 112,
   "metadata": {},
   "outputs": [
    {
     "data": {
      "text/html": [
       "<div>\n",
       "<style scoped>\n",
       "    .dataframe tbody tr th:only-of-type {\n",
       "        vertical-align: middle;\n",
       "    }\n",
       "\n",
       "    .dataframe tbody tr th {\n",
       "        vertical-align: top;\n",
       "    }\n",
       "\n",
       "    .dataframe thead th {\n",
       "        text-align: right;\n",
       "    }\n",
       "</style>\n",
       "<table border=\"1\" class=\"dataframe\">\n",
       "  <thead>\n",
       "    <tr style=\"text-align: right;\">\n",
       "      <th></th>\n",
       "      <th>directions</th>\n",
       "      <th>categories</th>\n",
       "      <th>calories</th>\n",
       "      <th>rating</th>\n",
       "      <th>title</th>\n",
       "      <th>ingredients</th>\n",
       "    </tr>\n",
       "  </thead>\n",
       "  <tbody>\n",
       "    <tr>\n",
       "      <th>6399</th>\n",
       "      <td>[Heat oil in large skillet over medium-high he...</td>\n",
       "      <td>[Side, Sauté, Stir-Fry, Quick &amp; Easy, Low/No S...</td>\n",
       "      <td>57.0</td>\n",
       "      <td>3.750</td>\n",
       "      <td>Stir-Fried Vegetables</td>\n",
       "      <td>[1 1/2 tablespoons vegetable oil, 4 ounces gre...</td>\n",
       "    </tr>\n",
       "    <tr>\n",
       "      <th>3881</th>\n",
       "      <td>[Seed and dice 10 tomato halves; transfer to l...</td>\n",
       "      <td>[Condiment/Spread, Sauce, Blender, Onion, Toma...</td>\n",
       "      <td>38.0</td>\n",
       "      <td>3.750</td>\n",
       "      <td>Tomato, Onion, and Serrano Chile Salsa</td>\n",
       "      <td>[1 1/4 pounds plum tomatoes, cut in half, 1/3 ...</td>\n",
       "    </tr>\n",
       "    <tr>\n",
       "      <th>12120</th>\n",
       "      <td>[Pat neck, giblets, and wing tips dry, then co...</td>\n",
       "      <td>[turkey, Thanksgiving, Quick &amp; Easy, Gourmet]</td>\n",
       "      <td>59.0</td>\n",
       "      <td>4.375</td>\n",
       "      <td>Quick and Rich Turkey Stock</td>\n",
       "      <td>[Neck, giblets (excluding liver), and wing tip...</td>\n",
       "    </tr>\n",
       "    <tr>\n",
       "      <th>3259</th>\n",
       "      <td>[In a large (5-to 6-quart) kettle combine wate...</td>\n",
       "      <td>[Soup/Stew, Milk/Cream, Herb, Onion, Tomato, L...</td>\n",
       "      <td>214.0</td>\n",
       "      <td>4.375</td>\n",
       "      <td>Lobster and Shrimp Bisque</td>\n",
       "      <td>[16 cups water, 1 1/2 cups dry white wine, two...</td>\n",
       "    </tr>\n",
       "    <tr>\n",
       "      <th>19998</th>\n",
       "      <td>[Preheat oven to 450° F. and lightly coat a sh...</td>\n",
       "      <td>[Onion, Side, Roast, Low Fat, Low Sodium, Whea...</td>\n",
       "      <td>NaN</td>\n",
       "      <td>4.375</td>\n",
       "      <td>Roasted Balsamic Red Onions</td>\n",
       "      <td>[vegetable-oil cooking spray, 1 1/2 pounds red...</td>\n",
       "    </tr>\n",
       "  </tbody>\n",
       "</table>\n",
       "</div>"
      ],
      "text/plain": [
       "                                              directions  \\\n",
       "6399   [Heat oil in large skillet over medium-high he...   \n",
       "3881   [Seed and dice 10 tomato halves; transfer to l...   \n",
       "12120  [Pat neck, giblets, and wing tips dry, then co...   \n",
       "3259   [In a large (5-to 6-quart) kettle combine wate...   \n",
       "19998  [Preheat oven to 450° F. and lightly coat a sh...   \n",
       "\n",
       "                                              categories  calories  rating  \\\n",
       "6399   [Side, Sauté, Stir-Fry, Quick & Easy, Low/No S...      57.0   3.750   \n",
       "3881   [Condiment/Spread, Sauce, Blender, Onion, Toma...      38.0   3.750   \n",
       "12120      [turkey, Thanksgiving, Quick & Easy, Gourmet]      59.0   4.375   \n",
       "3259   [Soup/Stew, Milk/Cream, Herb, Onion, Tomato, L...     214.0   4.375   \n",
       "19998  [Onion, Side, Roast, Low Fat, Low Sodium, Whea...       NaN   4.375   \n",
       "\n",
       "                                         title  \\\n",
       "6399                    Stir-Fried Vegetables    \n",
       "3881   Tomato, Onion, and Serrano Chile Salsa    \n",
       "12120             Quick and Rich Turkey Stock    \n",
       "3259                Lobster and Shrimp Bisque    \n",
       "19998             Roasted Balsamic Red Onions    \n",
       "\n",
       "                                             ingredients  \n",
       "6399   [1 1/2 tablespoons vegetable oil, 4 ounces gre...  \n",
       "3881   [1 1/4 pounds plum tomatoes, cut in half, 1/3 ...  \n",
       "12120  [Neck, giblets (excluding liver), and wing tip...  \n",
       "3259   [16 cups water, 1 1/2 cups dry white wine, two...  \n",
       "19998  [vegetable-oil cooking spray, 1 1/2 pounds red...  "
      ]
     },
     "execution_count": 112,
     "metadata": {},
     "output_type": "execute_result"
    }
   ],
   "source": [
    "df_small.sample(5)"
   ]
  },
  {
   "cell_type": "markdown",
   "metadata": {},
   "source": []
  },
  {
   "cell_type": "code",
   "execution_count": 113,
   "metadata": {},
   "outputs": [
    {
     "name": "stdout",
     "output_type": "stream",
     "text": [
      "Directions contains entries of type: <class 'list'>\n",
      "Categories contains entries of type: <class 'list'>\n",
      "Title contains entries of type: <class 'str'>\n",
      "Ingredients contains entries of type: <class 'list'>\n"
     ]
    }
   ],
   "source": [
    "print(f\"Directions contains entries of type: {type(df_small['directions'][0])}\")\n",
    "print(f\"Categories contains entries of type: {type(df_small['categories'][0])}\")\n",
    "print(f\"Title contains entries of type: {type(df_small['title'][0])}\")\n",
    "print(f\"Ingredients contains entries of type: {type(df_small['ingredients'][0])}\")"
   ]
  },
  {
   "cell_type": "markdown",
   "metadata": {},
   "source": [
    "Let's convert these list types into strings"
   ]
  },
  {
   "cell_type": "code",
   "execution_count": 114,
   "metadata": {},
   "outputs": [],
   "source": [
    "df_small['directionsStr'] = df_small['directions'].astype(str)\n",
    "df_small['categoriesStr'] = df_small['categories'].astype(str)\n",
    "df_small['ingredientsStr'] = df_small['ingredients'].astype(str)\n"
   ]
  },
  {
   "cell_type": "code",
   "execution_count": 115,
   "metadata": {},
   "outputs": [
    {
     "name": "stdout",
     "output_type": "stream",
     "text": [
      "Directions contains entries of type: <class 'str'>\n",
      "Categories contains entries of type: <class 'str'>\n",
      "Title contains entries of type: <class 'str'>\n",
      "Ingredients contains entries of type: <class 'str'>\n"
     ]
    }
   ],
   "source": [
    "print(f\"Directions contains entries of type: {type(df_small['directionsStr'][0])}\")\n",
    "print(f\"Categories contains entries of type: {type(df_small['categoriesStr'][0])}\")\n",
    "print(f\"Title contains entries of type: {type(df_small['title'][0])}\")\n",
    "print(f\"Ingredients contains entries of type: {type(df_small['ingredientsStr'][0])}\")"
   ]
  },
  {
   "cell_type": "code",
   "execution_count": 116,
   "metadata": {},
   "outputs": [],
   "source": [
    "# drop the original columns that contained list types\n",
    "df_small.drop(columns=['directions','categories','ingredients'], inplace=True)"
   ]
  },
  {
   "cell_type": "code",
   "execution_count": 117,
   "metadata": {},
   "outputs": [
    {
     "name": "stdout",
     "output_type": "stream",
     "text": [
      "<class 'pandas.core.frame.DataFrame'>\n",
      "RangeIndex: 20130 entries, 0 to 20129\n",
      "Data columns (total 6 columns):\n",
      " #   Column          Non-Null Count  Dtype  \n",
      "---  ------          --------------  -----  \n",
      " 0   calories        15976 non-null  float64\n",
      " 1   rating          20100 non-null  float64\n",
      " 2   title           20111 non-null  object \n",
      " 3   directionsStr   20130 non-null  object \n",
      " 4   categoriesStr   20130 non-null  object \n",
      " 5   ingredientsStr  20130 non-null  object \n",
      "dtypes: float64(2), object(4)\n",
      "memory usage: 943.7+ KB\n"
     ]
    }
   ],
   "source": [
    "df_small.info()"
   ]
  },
  {
   "cell_type": "markdown",
   "metadata": {},
   "source": [
    "# Let's check for null values"
   ]
  },
  {
   "cell_type": "code",
   "execution_count": 118,
   "metadata": {},
   "outputs": [
    {
     "data": {
      "text/plain": [
       "4203"
      ]
     },
     "execution_count": 118,
     "metadata": {},
     "output_type": "execute_result"
    }
   ],
   "source": [
    "df_small.isna().sum().sum()"
   ]
  },
  {
   "cell_type": "markdown",
   "metadata": {},
   "source": [
    "There are 4203 missing values."
   ]
  },
  {
   "cell_type": "code",
   "execution_count": 119,
   "metadata": {},
   "outputs": [
    {
     "data": {
      "text/plain": [
       "calories          4154\n",
       "rating              30\n",
       "title               19\n",
       "directionsStr        0\n",
       "categoriesStr        0\n",
       "ingredientsStr       0\n",
       "dtype: int64"
      ]
     },
     "execution_count": 119,
     "metadata": {},
     "output_type": "execute_result"
    }
   ],
   "source": [
    "df_small.isna().sum()"
   ]
  },
  {
   "cell_type": "markdown",
   "metadata": {},
   "source": [
    "Let's drop these rows that have null values"
   ]
  },
  {
   "cell_type": "code",
   "execution_count": 120,
   "metadata": {},
   "outputs": [],
   "source": [
    "df_small = df_small.dropna(axis=0)"
   ]
  },
  {
   "cell_type": "code",
   "execution_count": 121,
   "metadata": {},
   "outputs": [
    {
     "data": {
      "text/plain": [
       "calories          0\n",
       "rating            0\n",
       "title             0\n",
       "directionsStr     0\n",
       "categoriesStr     0\n",
       "ingredientsStr    0\n",
       "dtype: int64"
      ]
     },
     "execution_count": 121,
     "metadata": {},
     "output_type": "execute_result"
    }
   ],
   "source": [
    "df_small.isna().sum()"
   ]
  },
  {
   "cell_type": "code",
   "execution_count": 122,
   "metadata": {},
   "outputs": [
    {
     "data": {
      "text/plain": [
       "(15969, 6)"
      ]
     },
     "execution_count": 122,
     "metadata": {},
     "output_type": "execute_result"
    }
   ],
   "source": [
    "df_small.shape"
   ]
  },
  {
   "cell_type": "markdown",
   "metadata": {},
   "source": [
    "# check for duplicates"
   ]
  },
  {
   "cell_type": "code",
   "execution_count": 123,
   "metadata": {},
   "outputs": [
    {
     "data": {
      "text/plain": [
       "1443"
      ]
     },
     "execution_count": 123,
     "metadata": {},
     "output_type": "execute_result"
    }
   ],
   "source": [
    "df_small.duplicated().sum()"
   ]
  },
  {
   "cell_type": "code",
   "execution_count": 124,
   "metadata": {},
   "outputs": [],
   "source": [
    "df_small.drop_duplicates(keep='first', inplace=True)"
   ]
  },
  {
   "cell_type": "code",
   "execution_count": 125,
   "metadata": {},
   "outputs": [
    {
     "data": {
      "text/plain": [
       "0"
      ]
     },
     "execution_count": 125,
     "metadata": {},
     "output_type": "execute_result"
    }
   ],
   "source": [
    "df_small.duplicated().sum()"
   ]
  },
  {
   "cell_type": "code",
   "execution_count": 126,
   "metadata": {},
   "outputs": [
    {
     "data": {
      "text/plain": [
       "(14526, 6)"
      ]
     },
     "execution_count": 126,
     "metadata": {},
     "output_type": "execute_result"
    }
   ],
   "source": [
    "df_small.shape"
   ]
  },
  {
   "cell_type": "code",
   "execution_count": 127,
   "metadata": {},
   "outputs": [
    {
     "data": {
      "text/html": [
       "<div>\n",
       "<style scoped>\n",
       "    .dataframe tbody tr th:only-of-type {\n",
       "        vertical-align: middle;\n",
       "    }\n",
       "\n",
       "    .dataframe tbody tr th {\n",
       "        vertical-align: top;\n",
       "    }\n",
       "\n",
       "    .dataframe thead th {\n",
       "        text-align: right;\n",
       "    }\n",
       "</style>\n",
       "<table border=\"1\" class=\"dataframe\">\n",
       "  <thead>\n",
       "    <tr style=\"text-align: right;\">\n",
       "      <th></th>\n",
       "      <th>calories</th>\n",
       "      <th>rating</th>\n",
       "      <th>title</th>\n",
       "      <th>directionsStr</th>\n",
       "      <th>categoriesStr</th>\n",
       "      <th>ingredientsStr</th>\n",
       "    </tr>\n",
       "  </thead>\n",
       "  <tbody>\n",
       "    <tr>\n",
       "      <th>9584</th>\n",
       "      <td>374.0</td>\n",
       "      <td>3.750</td>\n",
       "      <td>Clams with Fennel and Pernod</td>\n",
       "      <td>['Heat oil in heavy large pot over medium-high...</td>\n",
       "      <td>['Shellfish', 'Tomato', 'Appetizer', 'Sauté', ...</td>\n",
       "      <td>['1/4 cup olive oil', '2 cups chopped onions',...</td>\n",
       "    </tr>\n",
       "    <tr>\n",
       "      <th>19277</th>\n",
       "      <td>599.0</td>\n",
       "      <td>0.000</td>\n",
       "      <td>Pineapple Mango Chutney Dip with Curried Walnuts</td>\n",
       "      <td>['Stir together cream cheese, chutney, and may...</td>\n",
       "      <td>['Condiment/Spread', 'Cocktail Party', 'Quick ...</td>\n",
       "      <td>['8 ounces cream cheese, softened', '1/2 cup t...</td>\n",
       "    </tr>\n",
       "    <tr>\n",
       "      <th>16860</th>\n",
       "      <td>745.0</td>\n",
       "      <td>3.750</td>\n",
       "      <td>Hot Browns</td>\n",
       "      <td>['In a large heavy skillet cook bacon in batch...</td>\n",
       "      <td>['Sandwich', 'Milk/Cream', 'Cheese', 'turkey',...</td>\n",
       "      <td>['12 bacon slices (about 10 ounces)', '12 slic...</td>\n",
       "    </tr>\n",
       "    <tr>\n",
       "      <th>394</th>\n",
       "      <td>910.0</td>\n",
       "      <td>4.375</td>\n",
       "      <td>Spaghetti and Swiss Chard With Garlic Chips</td>\n",
       "      <td>['Heat oil in a 12-inch heavy skillet over med...</td>\n",
       "      <td>['Garlic', 'Pasta', 'Sauté', 'Vegetarian', 'Qu...</td>\n",
       "      <td>['1/3 cup extra-virgin olive oil', '1 head gar...</td>\n",
       "    </tr>\n",
       "    <tr>\n",
       "      <th>11552</th>\n",
       "      <td>1103.0</td>\n",
       "      <td>4.375</td>\n",
       "      <td>Pelau</td>\n",
       "      <td>['If using dried peas, soak them overnight in ...</td>\n",
       "      <td>['Milk/Cream', 'Chicken', 'Onion', 'Rice', 'Sa...</td>\n",
       "      <td>['1 cup dry or 1 (12-ounce) can pigeon peas, p...</td>\n",
       "    </tr>\n",
       "  </tbody>\n",
       "</table>\n",
       "</div>"
      ],
      "text/plain": [
       "       calories  rating                                              title  \\\n",
       "9584      374.0   3.750                      Clams with Fennel and Pernod    \n",
       "19277     599.0   0.000  Pineapple Mango Chutney Dip with Curried Walnuts    \n",
       "16860     745.0   3.750                                        Hot Browns    \n",
       "394       910.0   4.375       Spaghetti and Swiss Chard With Garlic Chips    \n",
       "11552    1103.0   4.375                                             Pelau    \n",
       "\n",
       "                                           directionsStr  \\\n",
       "9584   ['Heat oil in heavy large pot over medium-high...   \n",
       "19277  ['Stir together cream cheese, chutney, and may...   \n",
       "16860  ['In a large heavy skillet cook bacon in batch...   \n",
       "394    ['Heat oil in a 12-inch heavy skillet over med...   \n",
       "11552  ['If using dried peas, soak them overnight in ...   \n",
       "\n",
       "                                           categoriesStr  \\\n",
       "9584   ['Shellfish', 'Tomato', 'Appetizer', 'Sauté', ...   \n",
       "19277  ['Condiment/Spread', 'Cocktail Party', 'Quick ...   \n",
       "16860  ['Sandwich', 'Milk/Cream', 'Cheese', 'turkey',...   \n",
       "394    ['Garlic', 'Pasta', 'Sauté', 'Vegetarian', 'Qu...   \n",
       "11552  ['Milk/Cream', 'Chicken', 'Onion', 'Rice', 'Sa...   \n",
       "\n",
       "                                          ingredientsStr  \n",
       "9584   ['1/4 cup olive oil', '2 cups chopped onions',...  \n",
       "19277  ['8 ounces cream cheese, softened', '1/2 cup t...  \n",
       "16860  ['12 bacon slices (about 10 ounces)', '12 slic...  \n",
       "394    ['1/3 cup extra-virgin olive oil', '1 head gar...  \n",
       "11552  ['1 cup dry or 1 (12-ounce) can pigeon peas, p...  "
      ]
     },
     "execution_count": 127,
     "metadata": {},
     "output_type": "execute_result"
    }
   ],
   "source": [
    "df_small.sample(5)"
   ]
  },
  {
   "cell_type": "code",
   "execution_count": 129,
   "metadata": {},
   "outputs": [],
   "source": [
    "df_small.to_csv(\"../data/interim/full_recipes_cleaned_2.csv\",index=True,index_label='recipeId')"
   ]
  }
 ],
 "metadata": {
  "kernelspec": {
   "display_name": "base",
   "language": "python",
   "name": "python3"
  },
  "language_info": {
   "codemirror_mode": {
    "name": "ipython",
    "version": 3
   },
   "file_extension": ".py",
   "mimetype": "text/x-python",
   "name": "python",
   "nbconvert_exporter": "python",
   "pygments_lexer": "ipython3",
   "version": "3.11.7"
  }
 },
 "nbformat": 4,
 "nbformat_minor": 2
}
