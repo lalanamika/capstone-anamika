{
 "cells": [
  {
   "cell_type": "markdown",
   "metadata": {},
   "source": [
    "# Model and Evaluation for SmartRecipes (a recipe recommender)"
   ]
  },
  {
   "cell_type": "markdown",
   "metadata": {},
   "source": [
    "## Table of Contents\n",
    "- [Model and Evaluation for the SmartRecipes Recipe Recommender](#model-and-evaluation-for-the-smartrecipes-recipe-recommender)\n",
    "  - [Introduction](#introduction)\n",
    "  - [Goal](#goal)\n",
    "  - [Process](#process)\n",
    "    - [Load the cleaned dataset](#load-the-cleaned-dataset)\n",
    "    - [Feature Engineering `featuredCol` = `categories` + `ingredients`](#feature-engineering-featuredcol-=-categories-+-ingredients)\n",
    "    - [Vectorize `ingredientsStr` to get basic vocabulary](#vectorize-ingredientsstr-to-get-basic-vocabulary)\n",
    "    - [Create custom vocabulary](#create-custom-vocabulary)\n",
    "    - [Get the transformed sparse matrix by vectorizing `featuredCol`](#get-the-transformed-sparse-matrix-by-vectorizing-featuredcol)\n",
    "    - [Create the `NearestNeighbors` model](#create-the-nearestneighbors-model)\n",
    "    - [Test and Evaluate the model](#test-and-evaluate-the-model)\n",
    "    - [Save for Streamlit](#save-for-streamlit)\n",
    "  - [Next Steps](#next-steps)\n"
   ]
  },
  {
   "cell_type": "markdown",
   "metadata": {},
   "source": [
    "## Introduction"
   ]
  },
  {
   "cell_type": "markdown",
   "metadata": {},
   "source": [
    "1. So far we have cleaned the dataset\n",
    "2. Done some experimentation and iteration and figured out a custom tokenizer for or CountVectorizer.\n",
    "3. Figured out how to match for recipes based on a list of ingredients that the user has entered.\n",
    "4. Figured out that we will use a custom vocabulary to include 2 word ingredients, since using bigrams in the vectorizer's hyperparameters was not giving us satisfactory results.\n",
    "4. The results are returned in order of number of ingredients, which matches our reducing food waste goal.\n",
    "5. Figured out that we get better results if we include the categories string in the vectorization too.\n",
    "6. Shortlisted some categories that are of interest to us - []\"Drink\", \"Dairy Free\", \"Gluten free\", \"Dessert\", \"Vegetarian\"]. "
   ]
  },
  {
   "cell_type": "markdown",
   "metadata": {},
   "source": [
    "## Goal"
   ]
  },
  {
   "cell_type": "markdown",
   "metadata": {},
   "source": [
    "In this notebook our goal is to combine these various findings into a sequential series of steps:\n",
    "\n",
    "1. Feature engineering - Combine the `categoriesStr` and `ingredientsStr` column. Name it `featuredCol`\n",
    "2. Vectorize the `ingredientsStr` column using the custom tokenizer. We want most of the words from this column. This step will give us the vocabulary.\n",
    "3. Create the custom vocabulary `custom_vocab` by adding the two word ingredients like \"peanut butter\" and any category words of interest like \"vegetarian\".\n",
    "4. Get the ingredients + relevant categories sparse matrix by calling transform() on the `featuredCol` using a 2nd CountVectorizer that has the `custom_vocab` and custom tokenizer. Note: We will not call fit() on this 2nd vectorizer because we are passing a custom vocabulary. We will directly call transform().\n",
    "5. Create a model using NearestNeighbors and fit it using the sparse matrix got in the step above.\n",
    "6. Use the 2nd vectorizer to transform any input before giving it to the model.\n",
    "7. Call model.kneighbors() to get the results.\n",
    "8. For Streamlit usage.\n",
    "    1. Save the `custom_vocab`\n",
    "    2. Save the `custom tokenizer`\n",
    "    3. Save the 2nd vectorizer.\n",
    "    4. Save the NearestNeighbors model.\n",
    "    5. Save the dataset with the `featuredCol` "
   ]
  },
  {
   "cell_type": "markdown",
   "metadata": {},
   "source": [
    "## Process"
   ]
  },
  {
   "cell_type": "markdown",
   "metadata": {},
   "source": [
    "Let's start by loading the cleaned dataset."
   ]
  },
  {
   "cell_type": "markdown",
   "metadata": {},
   "source": [
    "### Load the cleaned dataset"
   ]
  },
  {
   "cell_type": "code",
   "execution_count": 1,
   "metadata": {},
   "outputs": [],
   "source": [
    "import numpy as np\n",
    "import pandas as pd\n",
    "import matplotlib.pyplot as plt\n",
    "# import seaborn as sns\n",
    "# import statsmodels.api as sm\n",
    "from sklearn.feature_extraction.text import CountVectorizer\n",
    "from sklearn.neighbors import NearestNeighbors\n",
    "\n",
    "#(NOTE: joblib had to be installed the first time I used it)\n",
    "import joblib\n",
    "# custom tokenizer (moved to a separate module due to Streamlit requirements)\n",
    "import cust_tokenizer\n"
   ]
  },
  {
   "cell_type": "code",
   "execution_count": 2,
   "metadata": {},
   "outputs": [
    {
     "data": {
      "text/plain": [
       "(14526, 7)"
      ]
     },
     "execution_count": 2,
     "metadata": {},
     "output_type": "execute_result"
    }
   ],
   "source": [
    "df = pd.read_csv('../data/interim/full_recipes_cleaned_2.csv')\n",
    "df.shape"
   ]
  },
  {
   "cell_type": "code",
   "execution_count": 3,
   "metadata": {},
   "outputs": [
    {
     "data": {
      "text/html": [
       "<div>\n",
       "<style scoped>\n",
       "    .dataframe tbody tr th:only-of-type {\n",
       "        vertical-align: middle;\n",
       "    }\n",
       "\n",
       "    .dataframe tbody tr th {\n",
       "        vertical-align: top;\n",
       "    }\n",
       "\n",
       "    .dataframe thead th {\n",
       "        text-align: right;\n",
       "    }\n",
       "</style>\n",
       "<table border=\"1\" class=\"dataframe\">\n",
       "  <thead>\n",
       "    <tr style=\"text-align: right;\">\n",
       "      <th></th>\n",
       "      <th>calories</th>\n",
       "      <th>rating</th>\n",
       "      <th>title</th>\n",
       "      <th>directionsStr</th>\n",
       "      <th>categoriesStr</th>\n",
       "      <th>ingredientsStr</th>\n",
       "    </tr>\n",
       "    <tr>\n",
       "      <th>recipeId</th>\n",
       "      <th></th>\n",
       "      <th></th>\n",
       "      <th></th>\n",
       "      <th></th>\n",
       "      <th></th>\n",
       "      <th></th>\n",
       "    </tr>\n",
       "  </thead>\n",
       "  <tbody>\n",
       "    <tr>\n",
       "      <th>0</th>\n",
       "      <td>426.0</td>\n",
       "      <td>2.500</td>\n",
       "      <td>Lentil, Apple, and Turkey Wrap</td>\n",
       "      <td>['1. Place the stock, lentils, celery, carrot,...</td>\n",
       "      <td>['Sandwich', 'Bean', 'Fruit', 'Tomato', 'turke...</td>\n",
       "      <td>['4 cups low-sodium vegetable or chicken stock...</td>\n",
       "    </tr>\n",
       "    <tr>\n",
       "      <th>1</th>\n",
       "      <td>403.0</td>\n",
       "      <td>4.375</td>\n",
       "      <td>Boudin Blanc Terrine with Red Onion Confit</td>\n",
       "      <td>['Combine first 9 ingredients in heavy medium ...</td>\n",
       "      <td>['Food Processor', 'Onion', 'Pork', 'Bake', 'B...</td>\n",
       "      <td>['1 1/2 cups whipping cream', '2 medium onions...</td>\n",
       "    </tr>\n",
       "    <tr>\n",
       "      <th>2</th>\n",
       "      <td>165.0</td>\n",
       "      <td>3.750</td>\n",
       "      <td>Potato and Fennel Soup Hodge</td>\n",
       "      <td>['In a large heavy saucepan cook diced fennel ...</td>\n",
       "      <td>['Soup/Stew', 'Dairy', 'Potato', 'Vegetable', ...</td>\n",
       "      <td>['1 fennel bulb (sometimes called anise), stal...</td>\n",
       "    </tr>\n",
       "    <tr>\n",
       "      <th>4</th>\n",
       "      <td>547.0</td>\n",
       "      <td>3.125</td>\n",
       "      <td>Spinach Noodle Casserole</td>\n",
       "      <td>['Preheat oven to 350°F. Lightly grease 8x8x2-...</td>\n",
       "      <td>['Cheese', 'Dairy', 'Pasta', 'Vegetable', 'Sid...</td>\n",
       "      <td>['1 12-ounce package frozen spinach soufflé, t...</td>\n",
       "    </tr>\n",
       "    <tr>\n",
       "      <th>5</th>\n",
       "      <td>948.0</td>\n",
       "      <td>4.375</td>\n",
       "      <td>The Best Blts</td>\n",
       "      <td>['Mix basil, mayonnaise and butter in processo...</td>\n",
       "      <td>['Sandwich', 'Food Processor', 'Tomato', 'Kid-...</td>\n",
       "      <td>['2 1/2 cups (lightly packed) fresh basil leav...</td>\n",
       "    </tr>\n",
       "    <tr>\n",
       "      <th>...</th>\n",
       "      <td>...</td>\n",
       "      <td>...</td>\n",
       "      <td>...</td>\n",
       "      <td>...</td>\n",
       "      <td>...</td>\n",
       "      <td>...</td>\n",
       "    </tr>\n",
       "    <tr>\n",
       "      <th>20125</th>\n",
       "      <td>28.0</td>\n",
       "      <td>3.125</td>\n",
       "      <td>Parmesan Puffs</td>\n",
       "      <td>['Beat whites in a bowl with an electric mixer...</td>\n",
       "      <td>['Mixer', 'Cheese', 'Egg', 'Fry', 'Cocktail Pa...</td>\n",
       "      <td>['2 large egg whites', '3 oz Parmigiano-Reggia...</td>\n",
       "    </tr>\n",
       "    <tr>\n",
       "      <th>20126</th>\n",
       "      <td>671.0</td>\n",
       "      <td>4.375</td>\n",
       "      <td>Artichoke and Parmesan Risotto</td>\n",
       "      <td>['Bring broth to simmer in saucepan.Remove fro...</td>\n",
       "      <td>['Side', 'Kid-Friendly', 'High Fiber', 'Dinner...</td>\n",
       "      <td>['5 1/2 cups (or more) low-salt chicken broth'...</td>\n",
       "    </tr>\n",
       "    <tr>\n",
       "      <th>20127</th>\n",
       "      <td>563.0</td>\n",
       "      <td>4.375</td>\n",
       "      <td>Turkey Cream Puff Pie</td>\n",
       "      <td>['Using a sharp knife, cut a shallow X in bott...</td>\n",
       "      <td>['Onion', 'Poultry', 'turkey', 'Vegetable', 'B...</td>\n",
       "      <td>['1 small tomato', '1 small onion, finely chop...</td>\n",
       "    </tr>\n",
       "    <tr>\n",
       "      <th>20128</th>\n",
       "      <td>631.0</td>\n",
       "      <td>4.375</td>\n",
       "      <td>Snapper on Angel Hair with Citrus Cream</td>\n",
       "      <td>['Heat 2 tablespoons oil in heavy medium skill...</td>\n",
       "      <td>['Milk/Cream', 'Citrus', 'Dairy', 'Fish', 'Gar...</td>\n",
       "      <td>['4 tablespoons olive oil', '4 shallots, thinl...</td>\n",
       "    </tr>\n",
       "    <tr>\n",
       "      <th>20129</th>\n",
       "      <td>560.0</td>\n",
       "      <td>4.375</td>\n",
       "      <td>Baked Ham with Marmalade-Horseradish Glaze</td>\n",
       "      <td>['Position rack in bottom third of oven and pr...</td>\n",
       "      <td>['Pork', 'Bake', 'Roast', 'Christmas', 'Ham', ...</td>\n",
       "      <td>['1 18-pound fully cooked bone-in smoked ham, ...</td>\n",
       "    </tr>\n",
       "  </tbody>\n",
       "</table>\n",
       "<p>14526 rows × 6 columns</p>\n",
       "</div>"
      ],
      "text/plain": [
       "          calories  rating                                       title  \\\n",
       "recipeId                                                                 \n",
       "0            426.0   2.500              Lentil, Apple, and Turkey Wrap   \n",
       "1            403.0   4.375  Boudin Blanc Terrine with Red Onion Confit   \n",
       "2            165.0   3.750                Potato and Fennel Soup Hodge   \n",
       "4            547.0   3.125                    Spinach Noodle Casserole   \n",
       "5            948.0   4.375                               The Best Blts   \n",
       "...            ...     ...                                         ...   \n",
       "20125         28.0   3.125                              Parmesan Puffs   \n",
       "20126        671.0   4.375              Artichoke and Parmesan Risotto   \n",
       "20127        563.0   4.375                       Turkey Cream Puff Pie   \n",
       "20128        631.0   4.375     Snapper on Angel Hair with Citrus Cream   \n",
       "20129        560.0   4.375  Baked Ham with Marmalade-Horseradish Glaze   \n",
       "\n",
       "                                              directionsStr  \\\n",
       "recipeId                                                      \n",
       "0         ['1. Place the stock, lentils, celery, carrot,...   \n",
       "1         ['Combine first 9 ingredients in heavy medium ...   \n",
       "2         ['In a large heavy saucepan cook diced fennel ...   \n",
       "4         ['Preheat oven to 350°F. Lightly grease 8x8x2-...   \n",
       "5         ['Mix basil, mayonnaise and butter in processo...   \n",
       "...                                                     ...   \n",
       "20125     ['Beat whites in a bowl with an electric mixer...   \n",
       "20126     ['Bring broth to simmer in saucepan.Remove fro...   \n",
       "20127     ['Using a sharp knife, cut a shallow X in bott...   \n",
       "20128     ['Heat 2 tablespoons oil in heavy medium skill...   \n",
       "20129     ['Position rack in bottom third of oven and pr...   \n",
       "\n",
       "                                              categoriesStr  \\\n",
       "recipeId                                                      \n",
       "0         ['Sandwich', 'Bean', 'Fruit', 'Tomato', 'turke...   \n",
       "1         ['Food Processor', 'Onion', 'Pork', 'Bake', 'B...   \n",
       "2         ['Soup/Stew', 'Dairy', 'Potato', 'Vegetable', ...   \n",
       "4         ['Cheese', 'Dairy', 'Pasta', 'Vegetable', 'Sid...   \n",
       "5         ['Sandwich', 'Food Processor', 'Tomato', 'Kid-...   \n",
       "...                                                     ...   \n",
       "20125     ['Mixer', 'Cheese', 'Egg', 'Fry', 'Cocktail Pa...   \n",
       "20126     ['Side', 'Kid-Friendly', 'High Fiber', 'Dinner...   \n",
       "20127     ['Onion', 'Poultry', 'turkey', 'Vegetable', 'B...   \n",
       "20128     ['Milk/Cream', 'Citrus', 'Dairy', 'Fish', 'Gar...   \n",
       "20129     ['Pork', 'Bake', 'Roast', 'Christmas', 'Ham', ...   \n",
       "\n",
       "                                             ingredientsStr  \n",
       "recipeId                                                     \n",
       "0         ['4 cups low-sodium vegetable or chicken stock...  \n",
       "1         ['1 1/2 cups whipping cream', '2 medium onions...  \n",
       "2         ['1 fennel bulb (sometimes called anise), stal...  \n",
       "4         ['1 12-ounce package frozen spinach soufflé, t...  \n",
       "5         ['2 1/2 cups (lightly packed) fresh basil leav...  \n",
       "...                                                     ...  \n",
       "20125     ['2 large egg whites', '3 oz Parmigiano-Reggia...  \n",
       "20126     ['5 1/2 cups (or more) low-salt chicken broth'...  \n",
       "20127     ['1 small tomato', '1 small onion, finely chop...  \n",
       "20128     ['4 tablespoons olive oil', '4 shallots, thinl...  \n",
       "20129     ['1 18-pound fully cooked bone-in smoked ham, ...  \n",
       "\n",
       "[14526 rows x 6 columns]"
      ]
     },
     "execution_count": 3,
     "metadata": {},
     "output_type": "execute_result"
    }
   ],
   "source": [
    "df.set_index('recipeId')"
   ]
  },
  {
   "cell_type": "code",
   "execution_count": 4,
   "metadata": {},
   "outputs": [
    {
     "name": "stdout",
     "output_type": "stream",
     "text": [
      "Null values: 0\n",
      "Duplicated rows: 0\n"
     ]
    }
   ],
   "source": [
    "# confirm that there are no null values or duplicated values\n",
    "print(f\"Null values: {df.isna().sum().sum()}\")\n",
    "print(f\"Duplicated rows: {df.duplicated().sum()}\")"
   ]
  },
  {
   "cell_type": "markdown",
   "metadata": {},
   "source": [
    "### Feature Engineering `featuredCol` = `categories` + `ingredients`"
   ]
  },
  {
   "cell_type": "code",
   "execution_count": 5,
   "metadata": {},
   "outputs": [],
   "source": [
    "df[\"featuredCol\"] = df['categoriesStr'] + df['ingredientsStr']"
   ]
  },
  {
   "cell_type": "code",
   "execution_count": 6,
   "metadata": {},
   "outputs": [
    {
     "data": {
      "text/plain": [
       "str"
      ]
     },
     "execution_count": 6,
     "metadata": {},
     "output_type": "execute_result"
    }
   ],
   "source": [
    "type(df.loc[0,['featuredCol']].values[0])"
   ]
  },
  {
   "cell_type": "markdown",
   "metadata": {},
   "source": [
    "### Vectorize `ingredientsStr` to get basic vocabulary"
   ]
  },
  {
   "cell_type": "markdown",
   "metadata": {},
   "source": [
    "Vectorize the ingredient list to get the vocab"
   ]
  },
  {
   "cell_type": "code",
   "execution_count": 7,
   "metadata": {},
   "outputs": [
    {
     "name": "stderr",
     "output_type": "stream",
     "text": [
      "c:\\Users\\anami\\anaconda3\\Lib\\site-packages\\sklearn\\feature_extraction\\text.py:528: UserWarning: The parameter 'token_pattern' will not be used since 'tokenizer' is not None'\n",
      "  warnings.warn(\n"
     ]
    }
   ],
   "source": [
    "from sklearn.feature_extraction.text import CountVectorizer\n",
    "\n",
    "vectorizer = CountVectorizer(tokenizer=(cust_tokenizer.my_tokenizer),\n",
    "                       min_df=5)\n",
    "ingredients_matrix = vectorizer.fit_transform(df['ingredientsStr'])\n"
   ]
  },
  {
   "cell_type": "markdown",
   "metadata": {},
   "source": [
    "### Create custom vocabulary"
   ]
  },
  {
   "cell_type": "markdown",
   "metadata": {},
   "source": [
    "Add 2 word ingredients and the categories you want to the custom vocab"
   ]
  },
  {
   "cell_type": "code",
   "execution_count": 8,
   "metadata": {},
   "outputs": [
    {
     "data": {
      "text/plain": [
       "2166"
      ]
     },
     "execution_count": 8,
     "metadata": {},
     "output_type": "execute_result"
    }
   ],
   "source": [
    "new_vocab_list = list(vectorizer.get_feature_names_out())\n",
    "new_vocab_list.append(\"Peanut butter\")\n",
    "new_vocab_list.extend([\"Drink\", \"Dairy Free\", \"Gluten free\", \"Dessert\", \"Vegetarian\"])\n",
    "len(new_vocab_list)"
   ]
  },
  {
   "cell_type": "markdown",
   "metadata": {},
   "source": [
    "### Get the transformed sparse matrix by vectorizing `featuredCol`"
   ]
  },
  {
   "cell_type": "markdown",
   "metadata": {},
   "source": [
    "Now transform the featuredCol"
   ]
  },
  {
   "cell_type": "code",
   "execution_count": 9,
   "metadata": {},
   "outputs": [],
   "source": [
    "# Let's set this new vocab as a hyperparameter of the vectorizer\n",
    "vectorizer_mod = CountVectorizer(tokenizer=(cust_tokenizer.my_tokenizer),\n",
    "                       min_df=5, vocabulary=new_vocab_list)\n",
    "# not calling fit because sending custom vocab..\n",
    "ingredients_matrix_mod = vectorizer_mod.transform(df['featuredCol'])\n"
   ]
  },
  {
   "cell_type": "code",
   "execution_count": 10,
   "metadata": {},
   "outputs": [],
   "source": [
    "# Adding a function to print the list of ingredients given a recipe title\n",
    "def printIngredients(recipeName):\n",
    "    sel = df['title'] == recipeName\n",
    "    print(recipeName)\n",
    "    print(df.loc[sel, ['featuredCol']].values)\n"
   ]
  },
  {
   "cell_type": "markdown",
   "metadata": {},
   "source": [
    "### Create the `NearestNeighbors` model"
   ]
  },
  {
   "cell_type": "code",
   "execution_count": 11,
   "metadata": {},
   "outputs": [
    {
     "data": {
      "text/html": [
       "<style>#sk-container-id-1 {color: black;background-color: white;}#sk-container-id-1 pre{padding: 0;}#sk-container-id-1 div.sk-toggleable {background-color: white;}#sk-container-id-1 label.sk-toggleable__label {cursor: pointer;display: block;width: 100%;margin-bottom: 0;padding: 0.3em;box-sizing: border-box;text-align: center;}#sk-container-id-1 label.sk-toggleable__label-arrow:before {content: \"▸\";float: left;margin-right: 0.25em;color: #696969;}#sk-container-id-1 label.sk-toggleable__label-arrow:hover:before {color: black;}#sk-container-id-1 div.sk-estimator:hover label.sk-toggleable__label-arrow:before {color: black;}#sk-container-id-1 div.sk-toggleable__content {max-height: 0;max-width: 0;overflow: hidden;text-align: left;background-color: #f0f8ff;}#sk-container-id-1 div.sk-toggleable__content pre {margin: 0.2em;color: black;border-radius: 0.25em;background-color: #f0f8ff;}#sk-container-id-1 input.sk-toggleable__control:checked~div.sk-toggleable__content {max-height: 200px;max-width: 100%;overflow: auto;}#sk-container-id-1 input.sk-toggleable__control:checked~label.sk-toggleable__label-arrow:before {content: \"▾\";}#sk-container-id-1 div.sk-estimator input.sk-toggleable__control:checked~label.sk-toggleable__label {background-color: #d4ebff;}#sk-container-id-1 div.sk-label input.sk-toggleable__control:checked~label.sk-toggleable__label {background-color: #d4ebff;}#sk-container-id-1 input.sk-hidden--visually {border: 0;clip: rect(1px 1px 1px 1px);clip: rect(1px, 1px, 1px, 1px);height: 1px;margin: -1px;overflow: hidden;padding: 0;position: absolute;width: 1px;}#sk-container-id-1 div.sk-estimator {font-family: monospace;background-color: #f0f8ff;border: 1px dotted black;border-radius: 0.25em;box-sizing: border-box;margin-bottom: 0.5em;}#sk-container-id-1 div.sk-estimator:hover {background-color: #d4ebff;}#sk-container-id-1 div.sk-parallel-item::after {content: \"\";width: 100%;border-bottom: 1px solid gray;flex-grow: 1;}#sk-container-id-1 div.sk-label:hover label.sk-toggleable__label {background-color: #d4ebff;}#sk-container-id-1 div.sk-serial::before {content: \"\";position: absolute;border-left: 1px solid gray;box-sizing: border-box;top: 0;bottom: 0;left: 50%;z-index: 0;}#sk-container-id-1 div.sk-serial {display: flex;flex-direction: column;align-items: center;background-color: white;padding-right: 0.2em;padding-left: 0.2em;position: relative;}#sk-container-id-1 div.sk-item {position: relative;z-index: 1;}#sk-container-id-1 div.sk-parallel {display: flex;align-items: stretch;justify-content: center;background-color: white;position: relative;}#sk-container-id-1 div.sk-item::before, #sk-container-id-1 div.sk-parallel-item::before {content: \"\";position: absolute;border-left: 1px solid gray;box-sizing: border-box;top: 0;bottom: 0;left: 50%;z-index: -1;}#sk-container-id-1 div.sk-parallel-item {display: flex;flex-direction: column;z-index: 1;position: relative;background-color: white;}#sk-container-id-1 div.sk-parallel-item:first-child::after {align-self: flex-end;width: 50%;}#sk-container-id-1 div.sk-parallel-item:last-child::after {align-self: flex-start;width: 50%;}#sk-container-id-1 div.sk-parallel-item:only-child::after {width: 0;}#sk-container-id-1 div.sk-dashed-wrapped {border: 1px dashed gray;margin: 0 0.4em 0.5em 0.4em;box-sizing: border-box;padding-bottom: 0.4em;background-color: white;}#sk-container-id-1 div.sk-label label {font-family: monospace;font-weight: bold;display: inline-block;line-height: 1.2em;}#sk-container-id-1 div.sk-label-container {text-align: center;}#sk-container-id-1 div.sk-container {/* jupyter's `normalize.less` sets `[hidden] { display: none; }` but bootstrap.min.css set `[hidden] { display: none !important; }` so we also need the `!important` here to be able to override the default hidden behavior on the sphinx rendered scikit-learn.org. See: https://github.com/scikit-learn/scikit-learn/issues/21755 */display: inline-block !important;position: relative;}#sk-container-id-1 div.sk-text-repr-fallback {display: none;}</style><div id=\"sk-container-id-1\" class=\"sk-top-container\"><div class=\"sk-text-repr-fallback\"><pre>NearestNeighbors(metric=&#x27;cosine&#x27;, n_neighbors=11)</pre><b>In a Jupyter environment, please rerun this cell to show the HTML representation or trust the notebook. <br />On GitHub, the HTML representation is unable to render, please try loading this page with nbviewer.org.</b></div><div class=\"sk-container\" hidden><div class=\"sk-item\"><div class=\"sk-estimator sk-toggleable\"><input class=\"sk-toggleable__control sk-hidden--visually\" id=\"sk-estimator-id-1\" type=\"checkbox\" checked><label for=\"sk-estimator-id-1\" class=\"sk-toggleable__label sk-toggleable__label-arrow\">NearestNeighbors</label><div class=\"sk-toggleable__content\"><pre>NearestNeighbors(metric=&#x27;cosine&#x27;, n_neighbors=11)</pre></div></div></div></div></div>"
      ],
      "text/plain": [
       "NearestNeighbors(metric='cosine', n_neighbors=11)"
      ]
     },
     "execution_count": 11,
     "metadata": {},
     "output_type": "execute_result"
    }
   ],
   "source": [
    "model = NearestNeighbors(n_neighbors=11, metric='cosine')\n",
    "model.fit(ingredients_matrix_mod)"
   ]
  },
  {
   "cell_type": "markdown",
   "metadata": {},
   "source": [
    "### Test and Evaluate the model"
   ]
  },
  {
   "cell_type": "code",
   "execution_count": 12,
   "metadata": {},
   "outputs": [
    {
     "name": "stdout",
     "output_type": "stream",
     "text": [
      "\n",
      " Input ingredients: Peanut butter\n",
      "\n",
      " Result\n",
      "Peanut Butter and Banana Sandwiches  :  0.333  :  3.75\n",
      "Peanut Punch  :  0.36  :  0.0\n",
      "Peanut Butter, Banana, and Jelly \"Ice Cream\"  :  0.368  :  0.0\n",
      "Frozen Peanut Butter Pie with Candied Bacon  :  0.452  :  0.0\n",
      "Peanut Butter and Jelly Bars  :  0.457  :  4.375\n",
      "Milk Chocolate Peanut Butter Sauce  :  0.475  :  2.5\n",
      "Peanut Butter and Jelly Layered Sandwiches  :  0.486  :  4.375\n",
      "Peanut Butter Chocolate Ripple Ice Cream  :  0.486  :  4.375\n",
      "Peanut Butter Chocolate Chip Breads  :  0.492  :  3.75\n",
      "Giant Chocolate Candy Bar With Peanuts and Nougat  :  0.5  :  5.0\n",
      "Indian Clarified Butter  :  0.5  :  5.0\n"
     ]
    }
   ],
   "source": [
    "# Using various ingredient lists to test the results\n",
    "\n",
    "ingInputList = [\n",
    "    # \"Chicken, Parmesan, Breadcrumbs\",  # something familiar\n",
    "    # \"Artichoke Pesto\",\n",
    "    # \"Chicken thighs, potatoes\",  # compare results of potatoes vs potato\n",
    "    # \"Chicken thighs, potato\",\n",
    "    # \"Okra\",  # single ingredient\n",
    "    # \"Bhindi\",  # unknown ingredient - does not exist in the vocabulary\n",
    "    \"Peanut butter\"  # This is a 2 word ingredient\n",
    "]\n",
    "\n",
    "for ingInput in ingInputList:\n",
    "    print(f\"\\n Input ingredients: {ingInput}\")\n",
    "    # Convert the string to a series\n",
    "    ingInputSeries = pd.Series(ingInput)\n",
    "\n",
    "    # Let's try to use the vectorizer on this\n",
    "    ingTransformed = vectorizer_mod.transform(ingInputSeries)\n",
    "\n",
    "    # pass this to NearestNeighbors trained model\n",
    "    distOfRes, indicesOfRes = model.kneighbors(ingTransformed)\n",
    "\n",
    "    # print the output\n",
    "    print(\"\\n Result\")\n",
    "\n",
    "    for i in range(0, 11):  # TODO: 11 should be made configurable and match the n-neighbors number\n",
    "        name = df.loc[indicesOfRes[0][i], ['title']].values[0]\n",
    "        distance = (distOfRes[0][i]).round(3)\n",
    "        rating = df.loc[indicesOfRes[0][i], ['rating']].values[0]\n",
    "\n",
    "        # print(f\"{name}  :  {distance}\")\n",
    "        print(f\"{name}  :  {distance}  :  {rating}\")\n"
   ]
  },
  {
   "cell_type": "code",
   "execution_count": 13,
   "metadata": {},
   "outputs": [
    {
     "name": "stdout",
     "output_type": "stream",
     "text": [
      "\n",
      " Input ingredients: Chicken thighs, potatoes\n",
      "\n",
      " Result\n",
      "Chicken Vegetable Soup with Lime and Cilantro  :  0.512  :  3.75\n",
      "Chicken with Baby Onions  :  0.538  :  3.75\n",
      "Roasted Chicken, Ramps, and Potatoes  :  0.547  :  4.375\n",
      "Greek Chicken and Potatoes  :  0.564  :  4.375\n",
      "Maple-Barbecued Chicken  :  0.564  :  4.375\n",
      "Cane Vinegar Chicken with Pearl Onions, Orange & Spinach  :  0.574  :  4.375\n",
      "Chicken Vindaloo  :  0.588  :  3.125\n",
      "Old-Fashioned Chicken and Corn Stew  :  0.588  :  4.375\n",
      "Chilled Corn Soup with Herbed Chicken  :  0.592  :  1.875\n",
      "Chicken Soup  :  0.594  :  3.75\n",
      "Tamales de Mole Poblano  :  0.604  :  0.0\n",
      "\n",
      " Input ingredients: Chicken thighs, potatoes, gluten free\n",
      "\n",
      " Result\n",
      "Cane Vinegar Chicken with Pearl Onions, Orange & Spinach  :  0.446  :  4.375\n",
      "Grilled Chicken Moroccan Style  :  0.462  :  4.375\n",
      "Southern-Style Fried Chicken  :  0.484  :  0.0\n",
      "Roast Chicken With Harissa And Schmaltz  :  0.489  :  5.0\n",
      "Chili and Honey Chicken Legs  :  0.489  :  3.75\n",
      "Chicken and Artichoke Fricassée with Morel Mushrooms  :  0.492  :  4.375\n",
      "Horseradish Mashed Potatoes  :  0.5  :  3.75\n",
      "Braised Chicken with Artichokes and Peas  :  0.504  :  3.75\n",
      "Chicken with Lots of Garlic  :  0.505  :  4.375\n",
      "Moroccan-Style Roast Chicken  :  0.51  :  3.75\n",
      "Lemon-Oregano Chicken  :  0.51  :  4.375\n",
      "\n",
      " Input ingredients: Okra\n",
      "\n",
      " Result\n",
      "Chicken, Sausage, and Okra Gumbo  :  0.636  :  2.5\n",
      "Creole Chicken and Okra Gumbo  :  0.676  :  3.75\n",
      "Okra Beignets with Cilantro Sour Cream Sauce  :  0.704  :  3.75\n",
      "Sauteed Okra with Tomato and Corn  :  0.708  :  4.375\n",
      "Okra with Scallion, Lime, and Ginger  :  0.714  :  3.75\n",
      "Stewed Corn and Tomatoes with Okra  :  0.72  :  4.375\n",
      "Broiled Tomato, Corn, and Okra  :  0.72  :  4.375\n",
      "Corn and Okra Stew  :  0.723  :  3.75\n",
      "Catfish and Okra with Pecan Butter Sauce  :  0.725  :  4.375\n",
      "Crisp Okra in Yogurt Sauce  :  0.733  :  0.0\n",
      "Spicy Gumbo-Laya  :  0.735  :  4.375\n",
      "\n",
      " Input ingredients: Okra, vegetarian\n",
      "\n",
      " Result\n",
      "Sauteed Okra with Tomato and Corn  :  0.691  :  4.375\n",
      "Okra with Scallion, Lime, and Ginger  :  0.697  :  3.75\n",
      "Broiled Tomato, Corn, and Okra  :  0.703  :  4.375\n",
      "Stewed Corn and Tomatoes with Okra  :  0.703  :  4.375\n",
      "Tostadas  :  0.711  :  0.0\n",
      "Crisp Okra in Yogurt Sauce  :  0.717  :  0.0\n",
      "Okra Beignets with Cilantro Sour Cream Sauce  :  0.721  :  3.75\n",
      "Onion Oil  :  0.733  :  0.0\n",
      "Chicken, Sausage, and Okra Gumbo  :  0.743  :  2.5\n",
      "Fresh Corn Sauté with Tomatoes, Squash, and Fried Okra  :  0.743  :  3.75\n",
      "Confit Cherry Tomatoes  :  0.75  :  0.0\n"
     ]
    }
   ],
   "source": [
    "ingInputList = [\n",
    "    # \"Chicken, Parmesan, Breadcrumbs\",  # something familiar\n",
    "    # \"Artichoke Pesto\",\n",
    "    \"Chicken thighs, potatoes\",  # compare results of potatoes vs potato\n",
    "    \"Chicken thighs, potatoes, gluten free\",  # compare results of potatoes vs potato\n",
    "    # \"Chicken thighs, potato\",\n",
    "    \"Okra\",  # single ingredient\n",
    "    \"Okra, vegetarian\",\n",
    "    # \"Bhindi\",  # unknown ingredient - does not exist in the vocabulary\n",
    "    # \"Peanut butter\"  # This is a 2 word ingredient\n",
    "]\n",
    "\n",
    "for ingInput in ingInputList:\n",
    "    print(f\"\\n Input ingredients: {ingInput}\")\n",
    "    # Convert the string to a series\n",
    "    ingInputSeries = pd.Series(ingInput)\n",
    "\n",
    "    # Let's try to use the vectorizer on this\n",
    "    ingTransformed = vectorizer_mod.transform(ingInputSeries)\n",
    "\n",
    "    # pass this to NearestNeighbors trained model\n",
    "    distOfRes, indicesOfRes = model.kneighbors(ingTransformed)\n",
    "\n",
    "    # print the output\n",
    "    print(\"\\n Result\")\n",
    "\n",
    "    for i in range(0, 11):  # TODO: 11 should be made configurable and match the n-neighbors number\n",
    "        name = df.loc[indicesOfRes[0][i], ['title']].values[0]\n",
    "        distance = (distOfRes[0][i]).round(3)\n",
    "        rating = df.loc[indicesOfRes[0][i], ['rating']].values[0]\n",
    "\n",
    "        # print(f\"{name}  :  {distance}\")\n",
    "        print(f\"{name}  :  {distance}  :  {rating}\")\n"
   ]
  },
  {
   "cell_type": "markdown",
   "metadata": {},
   "source": [
    "Results look satisfactory - Comparison of various runs is in https://docs.google.com/spreadsheets/d/1hkekdJCZBJqC5hkHKQFFM8sBONUf3CIsv9ekPxqa1AQ/edit?gid=0#gid=0"
   ]
  },
  {
   "cell_type": "code",
   "execution_count": null,
   "metadata": {},
   "outputs": [],
   "source": [
    "printIngredients(\"Chicken Vegetable Soup with Lime and Cilantro\")"
   ]
  },
  {
   "cell_type": "code",
   "execution_count": null,
   "metadata": {},
   "outputs": [],
   "source": [
    "printIngredients(\"Cane Vinegar Chicken with Pearl Onions, Orange & Spinach\")"
   ]
  },
  {
   "cell_type": "markdown",
   "metadata": {},
   "source": [
    "We can see that specifying \"Gluten-free\" changes the results."
   ]
  },
  {
   "cell_type": "code",
   "execution_count": 16,
   "metadata": {},
   "outputs": [
    {
     "name": "stdout",
     "output_type": "stream",
     "text": [
      "\n",
      " Result\n",
      "Broccoli and Broccoli Rabe with Roasted Red Peppers  :  0.667  :  3.125\n",
      "Creamy Broccoli and Carrot Slaw  :  0.705  :  3.75\n",
      "Broccoli Gratin with Mustard-Cheese Streusel  :  0.721  :  3.75\n",
      "Cream of Broccoli Soup with Wild Mushrooms  :  0.723  :  2.5\n",
      "Broccoli Rabe with Garlic and Pecorino Romano Cheese  :  0.731  :  4.375\n",
      "Broccoli Cheddar Cornbread  :  0.742  :  4.375\n",
      "Beef and Broccoli Stir Fry  :  0.742  :  3.75\n",
      "Linguine Primavera  :  0.743  :  3.75\n",
      "Italian Sausages with Broccoli Rabe and Polenta  :  0.746  :  3.75\n",
      "Spaghetti with Broccoli Rabe and Garlic  :  0.746  :  4.375\n",
      "Steamed Broccoli with Olive Oil and Parmesan  :  0.746  :  4.375\n"
     ]
    }
   ],
   "source": [
    "yes_ing_series = pd.Series(\"Broccoli\")\n",
    "no_ing_series = pd.Series(\"Asparagus\")\n",
    "# Results look a little strange for this combo.\n",
    "\n",
    "yes_ing_tx = vectorizer_mod.transform(yes_ing_series)\n",
    "no_ing_tx = (vectorizer_mod.transform(no_ing_series)) * -1  # try increasing to -10 and see what happens\n",
    "\n",
    "updated_ing_tx = yes_ing_tx + no_ing_tx\n",
    "\n",
    "distOfRes, indicesOfRes = model.kneighbors(updated_ing_tx)\n",
    "\n",
    "# print the output\n",
    "print(\"\\n Result\")\n",
    "\n",
    "for i in range(0, 11):  # TODO: 11 should be made configurable and match the n-neighbors number\n",
    "    name = df.loc[indicesOfRes[0][i], ['title']].values[0]\n",
    "    distance = (distOfRes[0][i]).round(3)\n",
    "    rating = df.loc[indicesOfRes[0][i], ['rating']].values[0]\n",
    "\n",
    "    # print(f\"{name}  :  {distance}\")\n",
    "    print(f\"{name}  :  {distance}  :  {rating}\")"
   ]
  },
  {
   "cell_type": "markdown",
   "metadata": {},
   "source": [
    "### Save for Streamlit"
   ]
  },
  {
   "cell_type": "markdown",
   "metadata": {},
   "source": [
    "1. Save the `custom_vocab`\n",
    "2. Save the `custom tokenizer` (done already as a module cust_tokenizer)\n",
    "3. Save the 2nd vectorizer.\n",
    "4. Save the NearestNeighbors model.\n",
    "5. Save the dataset with the `featuredCol`"
   ]
  },
  {
   "cell_type": "code",
   "execution_count": 17,
   "metadata": {},
   "outputs": [],
   "source": [
    "# Save the custom vocab\n",
    "joblib.dump(new_vocab_list, '../model/custom_vocab.pkl')\n",
    "\n",
    "# Save the 2nd vectorizer.\n",
    "joblib.dump(vectorizer_mod, \"../model/vect_mod.pkl\")\n",
    "\n",
    "# Save the NearestNeighbors model.\n",
    "joblib.dump(model, \"../model/model_final.pkl\")\n",
    "\n",
    "# Save the dataset with the featuredCol\n",
    "df.to_csv(\"../data/final/full_recipes.csv\",index=True,index_label='recipeId')"
   ]
  },
  {
   "cell_type": "markdown",
   "metadata": {},
   "source": [
    "## Next Steps"
   ]
  },
  {
   "cell_type": "markdown",
   "metadata": {},
   "source": [
    "- This was an unsupervised learning problem, so the results had to be evaluated manually.\n",
    "\n",
    "- Recipes with the least relevant ingredients show up in the top 5 results ~ 80% of the time.\n",
    "\n",
    "- Build a Streamlit app for the recipe recommender."
   ]
  }
 ],
 "metadata": {
  "kernelspec": {
   "display_name": "base",
   "language": "python",
   "name": "python3"
  },
  "language_info": {
   "codemirror_mode": {
    "name": "ipython",
    "version": 3
   },
   "file_extension": ".py",
   "mimetype": "text/x-python",
   "name": "python",
   "nbconvert_exporter": "python",
   "pygments_lexer": "ipython3",
   "version": "3.11.7"
  }
 },
 "nbformat": 4,
 "nbformat_minor": 2
}
